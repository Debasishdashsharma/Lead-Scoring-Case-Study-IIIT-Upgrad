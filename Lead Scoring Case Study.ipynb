{
 "cells": [
  {
   "cell_type": "markdown",
   "metadata": {},
   "source": [
    "# Lead Scoring Case Study"
   ]
  },
  {
   "cell_type": "markdown",
   "metadata": {},
   "source": [
    "## <a id=\"32\">1. Introduction and Objective of the Case Study</a>"
   ]
  },
  {
   "cell_type": "markdown",
   "metadata": {},
   "source": [
    "\n",
    "#### Problem Statement\n",
    "<b>X Education</b>  is an education company, that sells online courses to industry professionals. \n",
    "The company markets its courses on several websites and search engines like Google. Professionals, interested in the courses,  land on their website and might browse the courses or fill up a form for the course or watch some videos. Any people wo fills up a form providing theis/her email address or phone number, is classified as a lead to the company. Moreover, the company also gets leads through past referrals. Once these leads are acquired, the Sales Team employees reach out to these leads, through phone calls, emails etc. Through this process, some of the leads get converted into actual paying customers. \n",
    "\n",
    "<i>The typical lead conversion rate at X education is around <b>30%</b>.</i>\n",
    "\n",
    "Inspite of a lot of leads being generated in the initial stage, only a few of them get converted. In the intermediate stage, the potential leads need to be nurtured well (i.e. educating the leads about the product, constantly communicating etc. ) in order to get a higher lead conversion.\n",
    "\n",
    "The <b>purpose of this case study is <i>to identify the most promising leads </b>, i.e. the leads that are most likely to convert into paying customers.</i>\n",
    "\n",
    "We need to build a model wherein a lead score is assigned to each of the leads, so that the customers with higher lead score have a higher conversion chance and the customers with lower lead score have a lower conversion chance. \n",
    "\n",
    "<i><u>The ballpark of the target lead conversion rate has been set to be around 80%, by the CEO.</u></i>\n"
   ]
  },
  {
   "cell_type": "markdown",
   "metadata": {},
   "source": [
    "## <a id=\"32\">2. Import important libraries and other preliminary settings for EDA</a>"
   ]
  },
  {
   "cell_type": "code",
   "execution_count": 1,
   "metadata": {
    "execution": {
     "iopub.execute_input": "2023-04-17T13:26:12.616218Z",
     "iopub.status.busy": "2023-04-17T13:26:12.615776Z",
     "iopub.status.idle": "2023-04-17T13:26:13.321024Z",
     "shell.execute_reply": "2023-04-17T13:26:13.320046Z",
     "shell.execute_reply.started": "2023-04-17T13:26:12.616163Z"
    }
   },
   "outputs": [],
   "source": [
    "import numpy as np\n",
    "import pandas as pd\n",
    "import matplotlib.pyplot as plt\n",
    "import seaborn as sns\n",
    "\n",
    "import warnings\n",
    "warnings.filterwarnings('ignore')"
   ]
  },
  {
   "cell_type": "code",
   "execution_count": 2,
   "metadata": {
    "execution": {
     "iopub.execute_input": "2023-04-17T13:26:15.808541Z",
     "iopub.status.busy": "2023-04-17T13:26:15.808075Z",
     "iopub.status.idle": "2023-04-17T13:26:15.815554Z",
     "shell.execute_reply": "2023-04-17T13:26:15.814422Z",
     "shell.execute_reply.started": "2023-04-17T13:26:15.808483Z"
    }
   },
   "outputs": [],
   "source": [
    "#Setting the options to display max rows and max columns:\n",
    "pd.set_option('display.max_rows', 500)\n",
    "pd.set_option('display.max_columns', 100)\n",
    "pd.set_option('display.max_colwidth', 800)\n",
    "\n",
    "#Setting the options to convert scientific notations such as 4.225108e+11 to 422510842796.00\n",
    "pd.options.display.float_format = '{:.4f}'.format "
   ]
  },
  {
   "cell_type": "markdown",
   "metadata": {},
   "source": [
    "## <a id=\"32\">3. Read the data and create dataframe</a>"
   ]
  },
  {
   "cell_type": "code",
   "execution_count": 4,
   "metadata": {
    "collapsed": true,
    "execution": {
     "iopub.execute_input": "2023-04-17T13:27:45.975438Z",
     "iopub.status.busy": "2023-04-17T13:27:45.974978Z",
     "iopub.status.idle": "2023-04-17T13:27:46.024056Z",
     "shell.execute_reply": "2023-04-17T13:27:46.023124Z",
     "shell.execute_reply.started": "2023-04-17T13:27:45.975379Z"
    },
    "jupyter": {
     "outputs_hidden": true
    }
   },
   "outputs": [
    {
     "data": {
      "text/html": [
       "<div>\n",
       "<style scoped>\n",
       "    .dataframe tbody tr th:only-of-type {\n",
       "        vertical-align: middle;\n",
       "    }\n",
       "\n",
       "    .dataframe tbody tr th {\n",
       "        vertical-align: top;\n",
       "    }\n",
       "\n",
       "    .dataframe thead th {\n",
       "        text-align: right;\n",
       "    }\n",
       "</style>\n",
       "<table border=\"1\" class=\"dataframe\">\n",
       "  <thead>\n",
       "    <tr style=\"text-align: right;\">\n",
       "      <th></th>\n",
       "      <th>Unnamed: 0</th>\n",
       "      <th>Unnamed: 1</th>\n",
       "      <th>Unnamed: 2</th>\n",
       "    </tr>\n",
       "  </thead>\n",
       "  <tbody>\n",
       "    <tr>\n",
       "      <th>0</th>\n",
       "      <td>nan</td>\n",
       "      <td>Variables</td>\n",
       "      <td>Description</td>\n",
       "    </tr>\n",
       "    <tr>\n",
       "      <th>1</th>\n",
       "      <td>nan</td>\n",
       "      <td>Prospect ID</td>\n",
       "      <td>A unique ID with which the customer is identified.</td>\n",
       "    </tr>\n",
       "    <tr>\n",
       "      <th>2</th>\n",
       "      <td>nan</td>\n",
       "      <td>Lead Number</td>\n",
       "      <td>A lead number assigned to each lead procured.</td>\n",
       "    </tr>\n",
       "    <tr>\n",
       "      <th>3</th>\n",
       "      <td>nan</td>\n",
       "      <td>Lead Origin</td>\n",
       "      <td>The origin identifier with which the customer was identified to be a lead. Includes API, Landing Page Submission, etc.</td>\n",
       "    </tr>\n",
       "    <tr>\n",
       "      <th>4</th>\n",
       "      <td>nan</td>\n",
       "      <td>Lead Source</td>\n",
       "      <td>The source of the lead. Includes Google, Organic Search, Olark Chat, etc.</td>\n",
       "    </tr>\n",
       "    <tr>\n",
       "      <th>5</th>\n",
       "      <td>nan</td>\n",
       "      <td>Do Not Email</td>\n",
       "      <td>An indicator variable selected by the customer wherein they select whether of not they want to be emailed about the course or not.</td>\n",
       "    </tr>\n",
       "    <tr>\n",
       "      <th>6</th>\n",
       "      <td>nan</td>\n",
       "      <td>Do Not Call</td>\n",
       "      <td>An indicator variable selected by the customer wherein they select whether of not they want to be called about the course or not.</td>\n",
       "    </tr>\n",
       "    <tr>\n",
       "      <th>7</th>\n",
       "      <td>nan</td>\n",
       "      <td>Converted</td>\n",
       "      <td>The target variable. Indicates whether a lead has been successfully converted or not.</td>\n",
       "    </tr>\n",
       "    <tr>\n",
       "      <th>8</th>\n",
       "      <td>nan</td>\n",
       "      <td>TotalVisits</td>\n",
       "      <td>The total number of visits made by the customer on the website.</td>\n",
       "    </tr>\n",
       "    <tr>\n",
       "      <th>9</th>\n",
       "      <td>nan</td>\n",
       "      <td>Total Time Spent on Website</td>\n",
       "      <td>The total time spent by the customer on the website.</td>\n",
       "    </tr>\n",
       "    <tr>\n",
       "      <th>10</th>\n",
       "      <td>nan</td>\n",
       "      <td>Page Views Per Visit</td>\n",
       "      <td>Average number of pages on the website viewed during the visits.</td>\n",
       "    </tr>\n",
       "    <tr>\n",
       "      <th>11</th>\n",
       "      <td>nan</td>\n",
       "      <td>Last Activity</td>\n",
       "      <td>Last activity performed by the customer. Includes Email Opened, Olark Chat Conversation, etc.</td>\n",
       "    </tr>\n",
       "    <tr>\n",
       "      <th>12</th>\n",
       "      <td>nan</td>\n",
       "      <td>Country</td>\n",
       "      <td>The country of the customer.</td>\n",
       "    </tr>\n",
       "    <tr>\n",
       "      <th>13</th>\n",
       "      <td>nan</td>\n",
       "      <td>Specialization</td>\n",
       "      <td>The industry domain in which the customer worked before. Includes the level 'Select Specialization' which means the customer had not selected this option while filling the form.</td>\n",
       "    </tr>\n",
       "    <tr>\n",
       "      <th>14</th>\n",
       "      <td>nan</td>\n",
       "      <td>How did you hear about X Education</td>\n",
       "      <td>The source from which the customer heard about X Education.</td>\n",
       "    </tr>\n",
       "    <tr>\n",
       "      <th>15</th>\n",
       "      <td>nan</td>\n",
       "      <td>What is your current occupation</td>\n",
       "      <td>Indicates whether the customer is a student, umemployed or employed.</td>\n",
       "    </tr>\n",
       "    <tr>\n",
       "      <th>16</th>\n",
       "      <td>nan</td>\n",
       "      <td>What matters most to you in choosing this course</td>\n",
       "      <td>An option selected by the customer indicating what is their main motto behind doing this course.</td>\n",
       "    </tr>\n",
       "    <tr>\n",
       "      <th>17</th>\n",
       "      <td>nan</td>\n",
       "      <td>Search</td>\n",
       "      <td>Indicating whether the customer had seen the ad in any of the listed items.</td>\n",
       "    </tr>\n",
       "    <tr>\n",
       "      <th>18</th>\n",
       "      <td>nan</td>\n",
       "      <td>Magazine</td>\n",
       "      <td>NaN</td>\n",
       "    </tr>\n",
       "    <tr>\n",
       "      <th>19</th>\n",
       "      <td>nan</td>\n",
       "      <td>Newspaper Article</td>\n",
       "      <td>NaN</td>\n",
       "    </tr>\n",
       "    <tr>\n",
       "      <th>20</th>\n",
       "      <td>nan</td>\n",
       "      <td>X Education Forums</td>\n",
       "      <td>NaN</td>\n",
       "    </tr>\n",
       "    <tr>\n",
       "      <th>21</th>\n",
       "      <td>nan</td>\n",
       "      <td>Newspaper</td>\n",
       "      <td>NaN</td>\n",
       "    </tr>\n",
       "    <tr>\n",
       "      <th>22</th>\n",
       "      <td>nan</td>\n",
       "      <td>Digital Advertisement</td>\n",
       "      <td>NaN</td>\n",
       "    </tr>\n",
       "    <tr>\n",
       "      <th>23</th>\n",
       "      <td>nan</td>\n",
       "      <td>Through Recommendations</td>\n",
       "      <td>Indicates whether the customer came in through recommendations.</td>\n",
       "    </tr>\n",
       "    <tr>\n",
       "      <th>24</th>\n",
       "      <td>nan</td>\n",
       "      <td>Receive More Updates About Our Courses</td>\n",
       "      <td>Indicates whether the customer chose to receive more updates about the courses.</td>\n",
       "    </tr>\n",
       "    <tr>\n",
       "      <th>25</th>\n",
       "      <td>nan</td>\n",
       "      <td>Tags</td>\n",
       "      <td>Tags assigned to customers indicating the current status of the lead.</td>\n",
       "    </tr>\n",
       "    <tr>\n",
       "      <th>26</th>\n",
       "      <td>nan</td>\n",
       "      <td>Lead Quality</td>\n",
       "      <td>Indicates the quality of lead based on the data and intuition the the employee who has been assigned to the lead.</td>\n",
       "    </tr>\n",
       "    <tr>\n",
       "      <th>27</th>\n",
       "      <td>nan</td>\n",
       "      <td>Update me on Supply Chain Content</td>\n",
       "      <td>Indicates whether the customer wants updates on the Supply Chain Content.</td>\n",
       "    </tr>\n",
       "    <tr>\n",
       "      <th>28</th>\n",
       "      <td>nan</td>\n",
       "      <td>Get updates on DM Content</td>\n",
       "      <td>Indicates whether the customer wants updates on the DM Content.</td>\n",
       "    </tr>\n",
       "    <tr>\n",
       "      <th>29</th>\n",
       "      <td>nan</td>\n",
       "      <td>Lead Profile</td>\n",
       "      <td>A lead level assigned to each customer based on their profile.</td>\n",
       "    </tr>\n",
       "    <tr>\n",
       "      <th>30</th>\n",
       "      <td>nan</td>\n",
       "      <td>City</td>\n",
       "      <td>The city of the customer.</td>\n",
       "    </tr>\n",
       "    <tr>\n",
       "      <th>31</th>\n",
       "      <td>nan</td>\n",
       "      <td>Asymmetrique Activity Index</td>\n",
       "      <td>An index and score assigned to each customer based on their activity and their profile</td>\n",
       "    </tr>\n",
       "    <tr>\n",
       "      <th>32</th>\n",
       "      <td>nan</td>\n",
       "      <td>Asymmetrique Profile Index</td>\n",
       "      <td>NaN</td>\n",
       "    </tr>\n",
       "    <tr>\n",
       "      <th>33</th>\n",
       "      <td>nan</td>\n",
       "      <td>Asymmetrique Activity Score</td>\n",
       "      <td>NaN</td>\n",
       "    </tr>\n",
       "    <tr>\n",
       "      <th>34</th>\n",
       "      <td>nan</td>\n",
       "      <td>Asymmetrique Profile Score</td>\n",
       "      <td>NaN</td>\n",
       "    </tr>\n",
       "    <tr>\n",
       "      <th>35</th>\n",
       "      <td>nan</td>\n",
       "      <td>I agree to pay the amount through cheque</td>\n",
       "      <td>Indicates whether the customer has agreed to pay the amount through cheque or not.</td>\n",
       "    </tr>\n",
       "    <tr>\n",
       "      <th>36</th>\n",
       "      <td>nan</td>\n",
       "      <td>a free copy of Mastering The Interview</td>\n",
       "      <td>Indicates whether the customer wants a free copy of 'Mastering the Interview' or not.</td>\n",
       "    </tr>\n",
       "    <tr>\n",
       "      <th>37</th>\n",
       "      <td>nan</td>\n",
       "      <td>Last Notable Activity</td>\n",
       "      <td>The last notable acitivity performed by the student.</td>\n",
       "    </tr>\n",
       "  </tbody>\n",
       "</table>\n",
       "</div>"
      ],
      "text/plain": [
       "    Unnamed: 0                                        Unnamed: 1  \\\n",
       "0          nan                                         Variables   \n",
       "1          nan                                       Prospect ID   \n",
       "2          nan                                       Lead Number   \n",
       "3          nan                                       Lead Origin   \n",
       "4          nan                                       Lead Source   \n",
       "5          nan                                      Do Not Email   \n",
       "6          nan                                       Do Not Call   \n",
       "7          nan                                         Converted   \n",
       "8          nan                                       TotalVisits   \n",
       "9          nan                       Total Time Spent on Website   \n",
       "10         nan                              Page Views Per Visit   \n",
       "11         nan                                     Last Activity   \n",
       "12         nan                                           Country   \n",
       "13         nan                                    Specialization   \n",
       "14         nan                How did you hear about X Education   \n",
       "15         nan                   What is your current occupation   \n",
       "16         nan  What matters most to you in choosing this course   \n",
       "17         nan                                            Search   \n",
       "18         nan                                          Magazine   \n",
       "19         nan                                 Newspaper Article   \n",
       "20         nan                                X Education Forums   \n",
       "21         nan                                         Newspaper   \n",
       "22         nan                             Digital Advertisement   \n",
       "23         nan                           Through Recommendations   \n",
       "24         nan            Receive More Updates About Our Courses   \n",
       "25         nan                                              Tags   \n",
       "26         nan                                      Lead Quality   \n",
       "27         nan                 Update me on Supply Chain Content   \n",
       "28         nan                         Get updates on DM Content   \n",
       "29         nan                                      Lead Profile   \n",
       "30         nan                                              City   \n",
       "31         nan                       Asymmetrique Activity Index   \n",
       "32         nan                        Asymmetrique Profile Index   \n",
       "33         nan                       Asymmetrique Activity Score   \n",
       "34         nan                        Asymmetrique Profile Score   \n",
       "35         nan          I agree to pay the amount through cheque   \n",
       "36         nan            a free copy of Mastering The Interview   \n",
       "37         nan                             Last Notable Activity   \n",
       "\n",
       "                                                                                                                                                                           Unnamed: 2  \n",
       "0                                                                                                                                                                         Description  \n",
       "1                                                                                                                                  A unique ID with which the customer is identified.  \n",
       "2                                                                                                                                       A lead number assigned to each lead procured.  \n",
       "3                                                              The origin identifier with which the customer was identified to be a lead. Includes API, Landing Page Submission, etc.  \n",
       "4                                                                                                           The source of the lead. Includes Google, Organic Search, Olark Chat, etc.  \n",
       "5                                                  An indicator variable selected by the customer wherein they select whether of not they want to be emailed about the course or not.  \n",
       "6                                                   An indicator variable selected by the customer wherein they select whether of not they want to be called about the course or not.  \n",
       "7                                                                                               The target variable. Indicates whether a lead has been successfully converted or not.  \n",
       "8                                                                                                                     The total number of visits made by the customer on the website.  \n",
       "9                                                                                                                                The total time spent by the customer on the website.  \n",
       "10                                                                                                                   Average number of pages on the website viewed during the visits.  \n",
       "11                                                                                      Last activity performed by the customer. Includes Email Opened, Olark Chat Conversation, etc.  \n",
       "12                                                                                                                                                       The country of the customer.  \n",
       "13  The industry domain in which the customer worked before. Includes the level 'Select Specialization' which means the customer had not selected this option while filling the form.  \n",
       "14                                                                                                                        The source from which the customer heard about X Education.  \n",
       "15                                                                                                               Indicates whether the customer is a student, umemployed or employed.  \n",
       "16                                                                                   An option selected by the customer indicating what is their main motto behind doing this course.  \n",
       "17                                                                                                        Indicating whether the customer had seen the ad in any of the listed items.  \n",
       "18                                                                                                                                                                                NaN  \n",
       "19                                                                                                                                                                                NaN  \n",
       "20                                                                                                                                                                                NaN  \n",
       "21                                                                                                                                                                                NaN  \n",
       "22                                                                                                                                                                                NaN  \n",
       "23                                                                                                                    Indicates whether the customer came in through recommendations.  \n",
       "24                                                                                                    Indicates whether the customer chose to receive more updates about the courses.  \n",
       "25                                                                                                              Tags assigned to customers indicating the current status of the lead.  \n",
       "26                                                                  Indicates the quality of lead based on the data and intuition the the employee who has been assigned to the lead.  \n",
       "27                                                                                                          Indicates whether the customer wants updates on the Supply Chain Content.  \n",
       "28                                                                                                                    Indicates whether the customer wants updates on the DM Content.  \n",
       "29                                                                                                                     A lead level assigned to each customer based on their profile.  \n",
       "30                                                                                                                                                          The city of the customer.  \n",
       "31                                                                                             An index and score assigned to each customer based on their activity and their profile  \n",
       "32                                                                                                                                                                                NaN  \n",
       "33                                                                                                                                                                                NaN  \n",
       "34                                                                                                                                                                                NaN  \n",
       "35                                                                                                 Indicates whether the customer has agreed to pay the amount through cheque or not.  \n",
       "36                                                                                              Indicates whether the customer wants a free copy of 'Mastering the Interview' or not.  \n",
       "37                                                                                                                               The last notable acitivity performed by the student.  "
      ]
     },
     "execution_count": 4,
     "metadata": {},
     "output_type": "execute_result"
    }
   ],
   "source": [
    "#reading the data dictionary first to understand the variables\n",
    "dict = pd.read_excel(\"Leads Data Dictionary.xlsx\")\n",
    "dict.head(100)"
   ]
  },
  {
   "cell_type": "code",
   "execution_count": 5,
   "metadata": {
    "execution": {
     "iopub.execute_input": "2023-04-17T13:27:51.517860Z",
     "iopub.status.busy": "2023-04-17T13:27:51.517387Z",
     "iopub.status.idle": "2023-04-17T13:27:51.613990Z",
     "shell.execute_reply": "2023-04-17T13:27:51.613233Z",
     "shell.execute_reply.started": "2023-04-17T13:27:51.517798Z"
    }
   },
   "outputs": [
    {
     "name": "stdout",
     "output_type": "stream",
     "text": [
      "Data read into a pandas 'leads' dataframe!\n"
     ]
    }
   ],
   "source": [
    "#reading the lead data\n",
    "leads=pd.read_csv(\"Leads.csv\")\n",
    "print (\"Data read into a pandas 'leads' dataframe!\")"
   ]
  },
  {
   "cell_type": "code",
   "execution_count": 6,
   "metadata": {
    "execution": {
     "iopub.execute_input": "2023-04-17T13:27:56.619052Z",
     "iopub.status.busy": "2023-04-17T13:27:56.618560Z",
     "iopub.status.idle": "2023-04-17T13:27:56.694805Z",
     "shell.execute_reply": "2023-04-17T13:27:56.693813Z",
     "shell.execute_reply.started": "2023-04-17T13:27:56.618992Z"
    }
   },
   "outputs": [
    {
     "data": {
      "text/html": [
       "<div>\n",
       "<style scoped>\n",
       "    .dataframe tbody tr th:only-of-type {\n",
       "        vertical-align: middle;\n",
       "    }\n",
       "\n",
       "    .dataframe tbody tr th {\n",
       "        vertical-align: top;\n",
       "    }\n",
       "\n",
       "    .dataframe thead th {\n",
       "        text-align: right;\n",
       "    }\n",
       "</style>\n",
       "<table border=\"1\" class=\"dataframe\">\n",
       "  <thead>\n",
       "    <tr style=\"text-align: right;\">\n",
       "      <th></th>\n",
       "      <th>Prospect ID</th>\n",
       "      <th>Lead Number</th>\n",
       "      <th>Lead Origin</th>\n",
       "      <th>Lead Source</th>\n",
       "      <th>Do Not Email</th>\n",
       "      <th>Do Not Call</th>\n",
       "      <th>Converted</th>\n",
       "      <th>TotalVisits</th>\n",
       "      <th>Total Time Spent on Website</th>\n",
       "      <th>Page Views Per Visit</th>\n",
       "      <th>Last Activity</th>\n",
       "      <th>Country</th>\n",
       "      <th>Specialization</th>\n",
       "      <th>How did you hear about X Education</th>\n",
       "      <th>What is your current occupation</th>\n",
       "      <th>What matters most to you in choosing a course</th>\n",
       "      <th>Search</th>\n",
       "      <th>Magazine</th>\n",
       "      <th>Newspaper Article</th>\n",
       "      <th>X Education Forums</th>\n",
       "      <th>Newspaper</th>\n",
       "      <th>Digital Advertisement</th>\n",
       "      <th>Through Recommendations</th>\n",
       "      <th>Receive More Updates About Our Courses</th>\n",
       "      <th>Tags</th>\n",
       "      <th>Lead Quality</th>\n",
       "      <th>Update me on Supply Chain Content</th>\n",
       "      <th>Get updates on DM Content</th>\n",
       "      <th>Lead Profile</th>\n",
       "      <th>City</th>\n",
       "      <th>Asymmetrique Activity Index</th>\n",
       "      <th>Asymmetrique Profile Index</th>\n",
       "      <th>Asymmetrique Activity Score</th>\n",
       "      <th>Asymmetrique Profile Score</th>\n",
       "      <th>I agree to pay the amount through cheque</th>\n",
       "      <th>A free copy of Mastering The Interview</th>\n",
       "      <th>Last Notable Activity</th>\n",
       "    </tr>\n",
       "  </thead>\n",
       "  <tbody>\n",
       "    <tr>\n",
       "      <th>0</th>\n",
       "      <td>7927b2df-8bba-4d29-b9a2-b6e0beafe620</td>\n",
       "      <td>660737</td>\n",
       "      <td>API</td>\n",
       "      <td>Olark Chat</td>\n",
       "      <td>No</td>\n",
       "      <td>No</td>\n",
       "      <td>0</td>\n",
       "      <td>0.0000</td>\n",
       "      <td>0</td>\n",
       "      <td>0.0000</td>\n",
       "      <td>Page Visited on Website</td>\n",
       "      <td>NaN</td>\n",
       "      <td>Select</td>\n",
       "      <td>Select</td>\n",
       "      <td>Unemployed</td>\n",
       "      <td>Better Career Prospects</td>\n",
       "      <td>No</td>\n",
       "      <td>No</td>\n",
       "      <td>No</td>\n",
       "      <td>No</td>\n",
       "      <td>No</td>\n",
       "      <td>No</td>\n",
       "      <td>No</td>\n",
       "      <td>No</td>\n",
       "      <td>Interested in other courses</td>\n",
       "      <td>Low in Relevance</td>\n",
       "      <td>No</td>\n",
       "      <td>No</td>\n",
       "      <td>Select</td>\n",
       "      <td>Select</td>\n",
       "      <td>02.Medium</td>\n",
       "      <td>02.Medium</td>\n",
       "      <td>15.0000</td>\n",
       "      <td>15.0000</td>\n",
       "      <td>No</td>\n",
       "      <td>No</td>\n",
       "      <td>Modified</td>\n",
       "    </tr>\n",
       "    <tr>\n",
       "      <th>1</th>\n",
       "      <td>2a272436-5132-4136-86fa-dcc88c88f482</td>\n",
       "      <td>660728</td>\n",
       "      <td>API</td>\n",
       "      <td>Organic Search</td>\n",
       "      <td>No</td>\n",
       "      <td>No</td>\n",
       "      <td>0</td>\n",
       "      <td>5.0000</td>\n",
       "      <td>674</td>\n",
       "      <td>2.5000</td>\n",
       "      <td>Email Opened</td>\n",
       "      <td>India</td>\n",
       "      <td>Select</td>\n",
       "      <td>Select</td>\n",
       "      <td>Unemployed</td>\n",
       "      <td>Better Career Prospects</td>\n",
       "      <td>No</td>\n",
       "      <td>No</td>\n",
       "      <td>No</td>\n",
       "      <td>No</td>\n",
       "      <td>No</td>\n",
       "      <td>No</td>\n",
       "      <td>No</td>\n",
       "      <td>No</td>\n",
       "      <td>Ringing</td>\n",
       "      <td>NaN</td>\n",
       "      <td>No</td>\n",
       "      <td>No</td>\n",
       "      <td>Select</td>\n",
       "      <td>Select</td>\n",
       "      <td>02.Medium</td>\n",
       "      <td>02.Medium</td>\n",
       "      <td>15.0000</td>\n",
       "      <td>15.0000</td>\n",
       "      <td>No</td>\n",
       "      <td>No</td>\n",
       "      <td>Email Opened</td>\n",
       "    </tr>\n",
       "    <tr>\n",
       "      <th>2</th>\n",
       "      <td>8cc8c611-a219-4f35-ad23-fdfd2656bd8a</td>\n",
       "      <td>660727</td>\n",
       "      <td>Landing Page Submission</td>\n",
       "      <td>Direct Traffic</td>\n",
       "      <td>No</td>\n",
       "      <td>No</td>\n",
       "      <td>1</td>\n",
       "      <td>2.0000</td>\n",
       "      <td>1532</td>\n",
       "      <td>2.0000</td>\n",
       "      <td>Email Opened</td>\n",
       "      <td>India</td>\n",
       "      <td>Business Administration</td>\n",
       "      <td>Select</td>\n",
       "      <td>Student</td>\n",
       "      <td>Better Career Prospects</td>\n",
       "      <td>No</td>\n",
       "      <td>No</td>\n",
       "      <td>No</td>\n",
       "      <td>No</td>\n",
       "      <td>No</td>\n",
       "      <td>No</td>\n",
       "      <td>No</td>\n",
       "      <td>No</td>\n",
       "      <td>Will revert after reading the email</td>\n",
       "      <td>Might be</td>\n",
       "      <td>No</td>\n",
       "      <td>No</td>\n",
       "      <td>Potential Lead</td>\n",
       "      <td>Mumbai</td>\n",
       "      <td>02.Medium</td>\n",
       "      <td>01.High</td>\n",
       "      <td>14.0000</td>\n",
       "      <td>20.0000</td>\n",
       "      <td>No</td>\n",
       "      <td>Yes</td>\n",
       "      <td>Email Opened</td>\n",
       "    </tr>\n",
       "    <tr>\n",
       "      <th>3</th>\n",
       "      <td>0cc2df48-7cf4-4e39-9de9-19797f9b38cc</td>\n",
       "      <td>660719</td>\n",
       "      <td>Landing Page Submission</td>\n",
       "      <td>Direct Traffic</td>\n",
       "      <td>No</td>\n",
       "      <td>No</td>\n",
       "      <td>0</td>\n",
       "      <td>1.0000</td>\n",
       "      <td>305</td>\n",
       "      <td>1.0000</td>\n",
       "      <td>Unreachable</td>\n",
       "      <td>India</td>\n",
       "      <td>Media and Advertising</td>\n",
       "      <td>Word Of Mouth</td>\n",
       "      <td>Unemployed</td>\n",
       "      <td>Better Career Prospects</td>\n",
       "      <td>No</td>\n",
       "      <td>No</td>\n",
       "      <td>No</td>\n",
       "      <td>No</td>\n",
       "      <td>No</td>\n",
       "      <td>No</td>\n",
       "      <td>No</td>\n",
       "      <td>No</td>\n",
       "      <td>Ringing</td>\n",
       "      <td>Not Sure</td>\n",
       "      <td>No</td>\n",
       "      <td>No</td>\n",
       "      <td>Select</td>\n",
       "      <td>Mumbai</td>\n",
       "      <td>02.Medium</td>\n",
       "      <td>01.High</td>\n",
       "      <td>13.0000</td>\n",
       "      <td>17.0000</td>\n",
       "      <td>No</td>\n",
       "      <td>No</td>\n",
       "      <td>Modified</td>\n",
       "    </tr>\n",
       "    <tr>\n",
       "      <th>4</th>\n",
       "      <td>3256f628-e534-4826-9d63-4a8b88782852</td>\n",
       "      <td>660681</td>\n",
       "      <td>Landing Page Submission</td>\n",
       "      <td>Google</td>\n",
       "      <td>No</td>\n",
       "      <td>No</td>\n",
       "      <td>1</td>\n",
       "      <td>2.0000</td>\n",
       "      <td>1428</td>\n",
       "      <td>1.0000</td>\n",
       "      <td>Converted to Lead</td>\n",
       "      <td>India</td>\n",
       "      <td>Select</td>\n",
       "      <td>Other</td>\n",
       "      <td>Unemployed</td>\n",
       "      <td>Better Career Prospects</td>\n",
       "      <td>No</td>\n",
       "      <td>No</td>\n",
       "      <td>No</td>\n",
       "      <td>No</td>\n",
       "      <td>No</td>\n",
       "      <td>No</td>\n",
       "      <td>No</td>\n",
       "      <td>No</td>\n",
       "      <td>Will revert after reading the email</td>\n",
       "      <td>Might be</td>\n",
       "      <td>No</td>\n",
       "      <td>No</td>\n",
       "      <td>Select</td>\n",
       "      <td>Mumbai</td>\n",
       "      <td>02.Medium</td>\n",
       "      <td>01.High</td>\n",
       "      <td>15.0000</td>\n",
       "      <td>18.0000</td>\n",
       "      <td>No</td>\n",
       "      <td>No</td>\n",
       "      <td>Modified</td>\n",
       "    </tr>\n",
       "  </tbody>\n",
       "</table>\n",
       "</div>"
      ],
      "text/plain": [
       "                            Prospect ID  Lead Number              Lead Origin  \\\n",
       "0  7927b2df-8bba-4d29-b9a2-b6e0beafe620       660737                      API   \n",
       "1  2a272436-5132-4136-86fa-dcc88c88f482       660728                      API   \n",
       "2  8cc8c611-a219-4f35-ad23-fdfd2656bd8a       660727  Landing Page Submission   \n",
       "3  0cc2df48-7cf4-4e39-9de9-19797f9b38cc       660719  Landing Page Submission   \n",
       "4  3256f628-e534-4826-9d63-4a8b88782852       660681  Landing Page Submission   \n",
       "\n",
       "      Lead Source Do Not Email Do Not Call  Converted  TotalVisits  \\\n",
       "0      Olark Chat           No          No          0       0.0000   \n",
       "1  Organic Search           No          No          0       5.0000   \n",
       "2  Direct Traffic           No          No          1       2.0000   \n",
       "3  Direct Traffic           No          No          0       1.0000   \n",
       "4          Google           No          No          1       2.0000   \n",
       "\n",
       "   Total Time Spent on Website  Page Views Per Visit            Last Activity  \\\n",
       "0                            0                0.0000  Page Visited on Website   \n",
       "1                          674                2.5000             Email Opened   \n",
       "2                         1532                2.0000             Email Opened   \n",
       "3                          305                1.0000              Unreachable   \n",
       "4                         1428                1.0000        Converted to Lead   \n",
       "\n",
       "  Country           Specialization How did you hear about X Education  \\\n",
       "0     NaN                   Select                             Select   \n",
       "1   India                   Select                             Select   \n",
       "2   India  Business Administration                             Select   \n",
       "3   India    Media and Advertising                      Word Of Mouth   \n",
       "4   India                   Select                              Other   \n",
       "\n",
       "  What is your current occupation  \\\n",
       "0                      Unemployed   \n",
       "1                      Unemployed   \n",
       "2                         Student   \n",
       "3                      Unemployed   \n",
       "4                      Unemployed   \n",
       "\n",
       "  What matters most to you in choosing a course Search Magazine  \\\n",
       "0                       Better Career Prospects     No       No   \n",
       "1                       Better Career Prospects     No       No   \n",
       "2                       Better Career Prospects     No       No   \n",
       "3                       Better Career Prospects     No       No   \n",
       "4                       Better Career Prospects     No       No   \n",
       "\n",
       "  Newspaper Article X Education Forums Newspaper Digital Advertisement  \\\n",
       "0                No                 No        No                    No   \n",
       "1                No                 No        No                    No   \n",
       "2                No                 No        No                    No   \n",
       "3                No                 No        No                    No   \n",
       "4                No                 No        No                    No   \n",
       "\n",
       "  Through Recommendations Receive More Updates About Our Courses  \\\n",
       "0                      No                                     No   \n",
       "1                      No                                     No   \n",
       "2                      No                                     No   \n",
       "3                      No                                     No   \n",
       "4                      No                                     No   \n",
       "\n",
       "                                  Tags      Lead Quality  \\\n",
       "0          Interested in other courses  Low in Relevance   \n",
       "1                              Ringing               NaN   \n",
       "2  Will revert after reading the email          Might be   \n",
       "3                              Ringing          Not Sure   \n",
       "4  Will revert after reading the email          Might be   \n",
       "\n",
       "  Update me on Supply Chain Content Get updates on DM Content    Lead Profile  \\\n",
       "0                                No                        No          Select   \n",
       "1                                No                        No          Select   \n",
       "2                                No                        No  Potential Lead   \n",
       "3                                No                        No          Select   \n",
       "4                                No                        No          Select   \n",
       "\n",
       "     City Asymmetrique Activity Index Asymmetrique Profile Index  \\\n",
       "0  Select                   02.Medium                  02.Medium   \n",
       "1  Select                   02.Medium                  02.Medium   \n",
       "2  Mumbai                   02.Medium                    01.High   \n",
       "3  Mumbai                   02.Medium                    01.High   \n",
       "4  Mumbai                   02.Medium                    01.High   \n",
       "\n",
       "   Asymmetrique Activity Score  Asymmetrique Profile Score  \\\n",
       "0                      15.0000                     15.0000   \n",
       "1                      15.0000                     15.0000   \n",
       "2                      14.0000                     20.0000   \n",
       "3                      13.0000                     17.0000   \n",
       "4                      15.0000                     18.0000   \n",
       "\n",
       "  I agree to pay the amount through cheque  \\\n",
       "0                                       No   \n",
       "1                                       No   \n",
       "2                                       No   \n",
       "3                                       No   \n",
       "4                                       No   \n",
       "\n",
       "  A free copy of Mastering The Interview Last Notable Activity  \n",
       "0                                     No              Modified  \n",
       "1                                     No          Email Opened  \n",
       "2                                    Yes          Email Opened  \n",
       "3                                     No              Modified  \n",
       "4                                     No              Modified  "
      ]
     },
     "execution_count": 6,
     "metadata": {},
     "output_type": "execute_result"
    }
   ],
   "source": [
    "#read 5 rows of df\n",
    "leads.head()"
   ]
  },
  {
   "cell_type": "code",
   "execution_count": 7,
   "metadata": {
    "execution": {
     "iopub.execute_input": "2023-04-17T13:28:05.482217Z",
     "iopub.status.busy": "2023-04-17T13:28:05.481732Z",
     "iopub.status.idle": "2023-04-17T13:28:05.489670Z",
     "shell.execute_reply": "2023-04-17T13:28:05.488339Z",
     "shell.execute_reply.started": "2023-04-17T13:28:05.482158Z"
    }
   },
   "outputs": [
    {
     "data": {
      "text/plain": [
       "(9240, 37)"
      ]
     },
     "execution_count": 7,
     "metadata": {},
     "output_type": "execute_result"
    }
   ],
   "source": [
    "#check the shape\n",
    "leads.shape"
   ]
  },
  {
   "cell_type": "code",
   "execution_count": 8,
   "metadata": {
    "execution": {
     "iopub.execute_input": "2023-04-17T13:28:05.492086Z",
     "iopub.status.busy": "2023-04-17T13:28:05.491590Z",
     "iopub.status.idle": "2023-04-17T13:28:05.530110Z",
     "shell.execute_reply": "2023-04-17T13:28:05.528930Z",
     "shell.execute_reply.started": "2023-04-17T13:28:05.492033Z"
    }
   },
   "outputs": [
    {
     "name": "stdout",
     "output_type": "stream",
     "text": [
      "<class 'pandas.core.frame.DataFrame'>\n",
      "RangeIndex: 9240 entries, 0 to 9239\n",
      "Data columns (total 37 columns):\n",
      "Prospect ID                                      9240 non-null object\n",
      "Lead Number                                      9240 non-null int64\n",
      "Lead Origin                                      9240 non-null object\n",
      "Lead Source                                      9204 non-null object\n",
      "Do Not Email                                     9240 non-null object\n",
      "Do Not Call                                      9240 non-null object\n",
      "Converted                                        9240 non-null int64\n",
      "TotalVisits                                      9103 non-null float64\n",
      "Total Time Spent on Website                      9240 non-null int64\n",
      "Page Views Per Visit                             9103 non-null float64\n",
      "Last Activity                                    9137 non-null object\n",
      "Country                                          6779 non-null object\n",
      "Specialization                                   7802 non-null object\n",
      "How did you hear about X Education               7033 non-null object\n",
      "What is your current occupation                  6550 non-null object\n",
      "What matters most to you in choosing a course    6531 non-null object\n",
      "Search                                           9240 non-null object\n",
      "Magazine                                         9240 non-null object\n",
      "Newspaper Article                                9240 non-null object\n",
      "X Education Forums                               9240 non-null object\n",
      "Newspaper                                        9240 non-null object\n",
      "Digital Advertisement                            9240 non-null object\n",
      "Through Recommendations                          9240 non-null object\n",
      "Receive More Updates About Our Courses           9240 non-null object\n",
      "Tags                                             5887 non-null object\n",
      "Lead Quality                                     4473 non-null object\n",
      "Update me on Supply Chain Content                9240 non-null object\n",
      "Get updates on DM Content                        9240 non-null object\n",
      "Lead Profile                                     6531 non-null object\n",
      "City                                             7820 non-null object\n",
      "Asymmetrique Activity Index                      5022 non-null object\n",
      "Asymmetrique Profile Index                       5022 non-null object\n",
      "Asymmetrique Activity Score                      5022 non-null float64\n",
      "Asymmetrique Profile Score                       5022 non-null float64\n",
      "I agree to pay the amount through cheque         9240 non-null object\n",
      "A free copy of Mastering The Interview           9240 non-null object\n",
      "Last Notable Activity                            9240 non-null object\n",
      "dtypes: float64(4), int64(3), object(30)\n",
      "memory usage: 2.6+ MB\n"
     ]
    }
   ],
   "source": [
    "#check dataframe for missing data and datatypes \n",
    "leads.info()"
   ]
  },
  {
   "cell_type": "markdown",
   "metadata": {},
   "source": [
    "<div class=\"alert alert-block alert-info\">\n",
    "    There are multiple columns with missing values.<br>\n",
    "    <i>We need to review them and  treat the missing data in Data Cleaning phase.</i>\n",
    "</div> "
   ]
  },
  {
   "cell_type": "code",
   "execution_count": 9,
   "metadata": {
    "execution": {
     "iopub.execute_input": "2023-04-17T13:28:05.532136Z",
     "iopub.status.busy": "2023-04-17T13:28:05.531826Z",
     "iopub.status.idle": "2023-04-17T13:28:05.575603Z",
     "shell.execute_reply": "2023-04-17T13:28:05.574788Z",
     "shell.execute_reply.started": "2023-04-17T13:28:05.532094Z"
    }
   },
   "outputs": [
    {
     "data": {
      "text/html": [
       "<div>\n",
       "<style scoped>\n",
       "    .dataframe tbody tr th:only-of-type {\n",
       "        vertical-align: middle;\n",
       "    }\n",
       "\n",
       "    .dataframe tbody tr th {\n",
       "        vertical-align: top;\n",
       "    }\n",
       "\n",
       "    .dataframe thead th {\n",
       "        text-align: right;\n",
       "    }\n",
       "</style>\n",
       "<table border=\"1\" class=\"dataframe\">\n",
       "  <thead>\n",
       "    <tr style=\"text-align: right;\">\n",
       "      <th></th>\n",
       "      <th>Lead Number</th>\n",
       "      <th>Converted</th>\n",
       "      <th>TotalVisits</th>\n",
       "      <th>Total Time Spent on Website</th>\n",
       "      <th>Page Views Per Visit</th>\n",
       "      <th>Asymmetrique Activity Score</th>\n",
       "      <th>Asymmetrique Profile Score</th>\n",
       "    </tr>\n",
       "  </thead>\n",
       "  <tbody>\n",
       "    <tr>\n",
       "      <th>count</th>\n",
       "      <td>9240.0000</td>\n",
       "      <td>9240.0000</td>\n",
       "      <td>9103.0000</td>\n",
       "      <td>9240.0000</td>\n",
       "      <td>9103.0000</td>\n",
       "      <td>5022.0000</td>\n",
       "      <td>5022.0000</td>\n",
       "    </tr>\n",
       "    <tr>\n",
       "      <th>mean</th>\n",
       "      <td>617188.4356</td>\n",
       "      <td>0.3854</td>\n",
       "      <td>3.4452</td>\n",
       "      <td>487.6983</td>\n",
       "      <td>2.3628</td>\n",
       "      <td>14.3063</td>\n",
       "      <td>16.3449</td>\n",
       "    </tr>\n",
       "    <tr>\n",
       "      <th>std</th>\n",
       "      <td>23405.9957</td>\n",
       "      <td>0.4867</td>\n",
       "      <td>4.8549</td>\n",
       "      <td>548.0215</td>\n",
       "      <td>2.1614</td>\n",
       "      <td>1.3867</td>\n",
       "      <td>1.8114</td>\n",
       "    </tr>\n",
       "    <tr>\n",
       "      <th>min</th>\n",
       "      <td>579533.0000</td>\n",
       "      <td>0.0000</td>\n",
       "      <td>0.0000</td>\n",
       "      <td>0.0000</td>\n",
       "      <td>0.0000</td>\n",
       "      <td>7.0000</td>\n",
       "      <td>11.0000</td>\n",
       "    </tr>\n",
       "    <tr>\n",
       "      <th>25%</th>\n",
       "      <td>596484.5000</td>\n",
       "      <td>0.0000</td>\n",
       "      <td>1.0000</td>\n",
       "      <td>12.0000</td>\n",
       "      <td>1.0000</td>\n",
       "      <td>14.0000</td>\n",
       "      <td>15.0000</td>\n",
       "    </tr>\n",
       "    <tr>\n",
       "      <th>50%</th>\n",
       "      <td>615479.0000</td>\n",
       "      <td>0.0000</td>\n",
       "      <td>3.0000</td>\n",
       "      <td>248.0000</td>\n",
       "      <td>2.0000</td>\n",
       "      <td>14.0000</td>\n",
       "      <td>16.0000</td>\n",
       "    </tr>\n",
       "    <tr>\n",
       "      <th>75%</th>\n",
       "      <td>637387.2500</td>\n",
       "      <td>1.0000</td>\n",
       "      <td>5.0000</td>\n",
       "      <td>936.0000</td>\n",
       "      <td>3.0000</td>\n",
       "      <td>15.0000</td>\n",
       "      <td>18.0000</td>\n",
       "    </tr>\n",
       "    <tr>\n",
       "      <th>max</th>\n",
       "      <td>660737.0000</td>\n",
       "      <td>1.0000</td>\n",
       "      <td>251.0000</td>\n",
       "      <td>2272.0000</td>\n",
       "      <td>55.0000</td>\n",
       "      <td>18.0000</td>\n",
       "      <td>20.0000</td>\n",
       "    </tr>\n",
       "  </tbody>\n",
       "</table>\n",
       "</div>"
      ],
      "text/plain": [
       "       Lead Number  Converted  TotalVisits  Total Time Spent on Website  \\\n",
       "count    9240.0000  9240.0000    9103.0000                    9240.0000   \n",
       "mean   617188.4356     0.3854       3.4452                     487.6983   \n",
       "std     23405.9957     0.4867       4.8549                     548.0215   \n",
       "min    579533.0000     0.0000       0.0000                       0.0000   \n",
       "25%    596484.5000     0.0000       1.0000                      12.0000   \n",
       "50%    615479.0000     0.0000       3.0000                     248.0000   \n",
       "75%    637387.2500     1.0000       5.0000                     936.0000   \n",
       "max    660737.0000     1.0000     251.0000                    2272.0000   \n",
       "\n",
       "       Page Views Per Visit  Asymmetrique Activity Score  \\\n",
       "count             9103.0000                    5022.0000   \n",
       "mean                 2.3628                      14.3063   \n",
       "std                  2.1614                       1.3867   \n",
       "min                  0.0000                       7.0000   \n",
       "25%                  1.0000                      14.0000   \n",
       "50%                  2.0000                      14.0000   \n",
       "75%                  3.0000                      15.0000   \n",
       "max                 55.0000                      18.0000   \n",
       "\n",
       "       Asymmetrique Profile Score  \n",
       "count                   5022.0000  \n",
       "mean                      16.3449  \n",
       "std                        1.8114  \n",
       "min                       11.0000  \n",
       "25%                       15.0000  \n",
       "50%                       16.0000  \n",
       "75%                       18.0000  \n",
       "max                       20.0000  "
      ]
     },
     "execution_count": 9,
     "metadata": {},
     "output_type": "execute_result"
    }
   ],
   "source": [
    "#check the details of numerical data\n",
    "leads.describe()"
   ]
  },
  {
   "cell_type": "markdown",
   "metadata": {},
   "source": [
    "## <a id=\"32\">4. Exploratory Data Analysis</a>\n",
    "<h4><font color = purple > 4.1 Data Cleaning and Treatment</font></h4>"
   ]
  },
  {
   "cell_type": "code",
   "execution_count": 10,
   "metadata": {
    "execution": {
     "iopub.execute_input": "2023-04-17T13:28:05.577284Z",
     "iopub.status.busy": "2023-04-17T13:28:05.577045Z",
     "iopub.status.idle": "2023-04-17T13:28:05.585492Z",
     "shell.execute_reply": "2023-04-17T13:28:05.584632Z",
     "shell.execute_reply.started": "2023-04-17T13:28:05.577251Z"
    }
   },
   "outputs": [
    {
     "data": {
      "text/plain": [
       "True"
      ]
     },
     "execution_count": 10,
     "metadata": {},
     "output_type": "execute_result"
    }
   ],
   "source": [
    "#check for duplicates\n",
    "sum(leads.duplicated(subset = 'Prospect ID')) == 0"
   ]
  },
  {
   "cell_type": "code",
   "execution_count": 11,
   "metadata": {
    "execution": {
     "iopub.execute_input": "2023-04-17T13:28:05.587191Z",
     "iopub.status.busy": "2023-04-17T13:28:05.586830Z",
     "iopub.status.idle": "2023-04-17T13:28:05.594169Z",
     "shell.execute_reply": "2023-04-17T13:28:05.593071Z",
     "shell.execute_reply.started": "2023-04-17T13:28:05.587156Z"
    }
   },
   "outputs": [
    {
     "data": {
      "text/plain": [
       "True"
      ]
     },
     "execution_count": 11,
     "metadata": {},
     "output_type": "execute_result"
    }
   ],
   "source": [
    "#check for duplicates\n",
    "sum(leads.duplicated(subset = 'Lead Number')) == 0"
   ]
  },
  {
   "cell_type": "markdown",
   "metadata": {},
   "source": [
    "<div class=\"alert alert-block alert-info\"><b>Inference</b><br>\n",
    "    There are no duplicate values for 'Prospect ID' and 'Lead Number'\n",
    "</div>"
   ]
  },
  {
   "cell_type": "code",
   "execution_count": 12,
   "metadata": {
    "execution": {
     "iopub.execute_input": "2023-04-17T13:28:05.595691Z",
     "iopub.status.busy": "2023-04-17T13:28:05.595336Z",
     "iopub.status.idle": "2023-04-17T13:28:05.603311Z",
     "shell.execute_reply": "2023-04-17T13:28:05.602427Z",
     "shell.execute_reply.started": "2023-04-17T13:28:05.595656Z"
    }
   },
   "outputs": [],
   "source": [
    "#dropping Lead Number and Prospect ID since they have all unique values\n",
    "\n",
    "leads.drop(['Prospect ID', 'Lead Number'], 1, inplace = True)"
   ]
  },
  {
   "cell_type": "code",
   "execution_count": 13,
   "metadata": {
    "execution": {
     "iopub.execute_input": "2023-04-17T13:28:05.604851Z",
     "iopub.status.busy": "2023-04-17T13:28:05.604646Z",
     "iopub.status.idle": "2023-04-17T13:28:05.646895Z",
     "shell.execute_reply": "2023-04-17T13:28:05.646042Z",
     "shell.execute_reply.started": "2023-04-17T13:28:05.604825Z"
    }
   },
   "outputs": [
    {
     "data": {
      "text/html": [
       "<div>\n",
       "<style scoped>\n",
       "    .dataframe tbody tr th:only-of-type {\n",
       "        vertical-align: middle;\n",
       "    }\n",
       "\n",
       "    .dataframe tbody tr th {\n",
       "        vertical-align: top;\n",
       "    }\n",
       "\n",
       "    .dataframe thead th {\n",
       "        text-align: right;\n",
       "    }\n",
       "</style>\n",
       "<table border=\"1\" class=\"dataframe\">\n",
       "  <thead>\n",
       "    <tr style=\"text-align: right;\">\n",
       "      <th></th>\n",
       "      <th>Lead Origin</th>\n",
       "      <th>Lead Source</th>\n",
       "      <th>Do Not Email</th>\n",
       "      <th>Do Not Call</th>\n",
       "      <th>Converted</th>\n",
       "      <th>TotalVisits</th>\n",
       "      <th>Total Time Spent on Website</th>\n",
       "      <th>Page Views Per Visit</th>\n",
       "      <th>Last Activity</th>\n",
       "      <th>Country</th>\n",
       "      <th>Specialization</th>\n",
       "      <th>How did you hear about X Education</th>\n",
       "      <th>What is your current occupation</th>\n",
       "      <th>What matters most to you in choosing a course</th>\n",
       "      <th>Search</th>\n",
       "      <th>Magazine</th>\n",
       "      <th>Newspaper Article</th>\n",
       "      <th>X Education Forums</th>\n",
       "      <th>Newspaper</th>\n",
       "      <th>Digital Advertisement</th>\n",
       "      <th>Through Recommendations</th>\n",
       "      <th>Receive More Updates About Our Courses</th>\n",
       "      <th>Tags</th>\n",
       "      <th>Lead Quality</th>\n",
       "      <th>Update me on Supply Chain Content</th>\n",
       "      <th>Get updates on DM Content</th>\n",
       "      <th>Lead Profile</th>\n",
       "      <th>City</th>\n",
       "      <th>Asymmetrique Activity Index</th>\n",
       "      <th>Asymmetrique Profile Index</th>\n",
       "      <th>Asymmetrique Activity Score</th>\n",
       "      <th>Asymmetrique Profile Score</th>\n",
       "      <th>I agree to pay the amount through cheque</th>\n",
       "      <th>A free copy of Mastering The Interview</th>\n",
       "      <th>Last Notable Activity</th>\n",
       "    </tr>\n",
       "  </thead>\n",
       "  <tbody>\n",
       "    <tr>\n",
       "      <th>0</th>\n",
       "      <td>API</td>\n",
       "      <td>Olark Chat</td>\n",
       "      <td>No</td>\n",
       "      <td>No</td>\n",
       "      <td>0</td>\n",
       "      <td>0.0000</td>\n",
       "      <td>0</td>\n",
       "      <td>0.0000</td>\n",
       "      <td>Page Visited on Website</td>\n",
       "      <td>NaN</td>\n",
       "      <td>Select</td>\n",
       "      <td>Select</td>\n",
       "      <td>Unemployed</td>\n",
       "      <td>Better Career Prospects</td>\n",
       "      <td>No</td>\n",
       "      <td>No</td>\n",
       "      <td>No</td>\n",
       "      <td>No</td>\n",
       "      <td>No</td>\n",
       "      <td>No</td>\n",
       "      <td>No</td>\n",
       "      <td>No</td>\n",
       "      <td>Interested in other courses</td>\n",
       "      <td>Low in Relevance</td>\n",
       "      <td>No</td>\n",
       "      <td>No</td>\n",
       "      <td>Select</td>\n",
       "      <td>Select</td>\n",
       "      <td>02.Medium</td>\n",
       "      <td>02.Medium</td>\n",
       "      <td>15.0000</td>\n",
       "      <td>15.0000</td>\n",
       "      <td>No</td>\n",
       "      <td>No</td>\n",
       "      <td>Modified</td>\n",
       "    </tr>\n",
       "    <tr>\n",
       "      <th>1</th>\n",
       "      <td>API</td>\n",
       "      <td>Organic Search</td>\n",
       "      <td>No</td>\n",
       "      <td>No</td>\n",
       "      <td>0</td>\n",
       "      <td>5.0000</td>\n",
       "      <td>674</td>\n",
       "      <td>2.5000</td>\n",
       "      <td>Email Opened</td>\n",
       "      <td>India</td>\n",
       "      <td>Select</td>\n",
       "      <td>Select</td>\n",
       "      <td>Unemployed</td>\n",
       "      <td>Better Career Prospects</td>\n",
       "      <td>No</td>\n",
       "      <td>No</td>\n",
       "      <td>No</td>\n",
       "      <td>No</td>\n",
       "      <td>No</td>\n",
       "      <td>No</td>\n",
       "      <td>No</td>\n",
       "      <td>No</td>\n",
       "      <td>Ringing</td>\n",
       "      <td>NaN</td>\n",
       "      <td>No</td>\n",
       "      <td>No</td>\n",
       "      <td>Select</td>\n",
       "      <td>Select</td>\n",
       "      <td>02.Medium</td>\n",
       "      <td>02.Medium</td>\n",
       "      <td>15.0000</td>\n",
       "      <td>15.0000</td>\n",
       "      <td>No</td>\n",
       "      <td>No</td>\n",
       "      <td>Email Opened</td>\n",
       "    </tr>\n",
       "    <tr>\n",
       "      <th>2</th>\n",
       "      <td>Landing Page Submission</td>\n",
       "      <td>Direct Traffic</td>\n",
       "      <td>No</td>\n",
       "      <td>No</td>\n",
       "      <td>1</td>\n",
       "      <td>2.0000</td>\n",
       "      <td>1532</td>\n",
       "      <td>2.0000</td>\n",
       "      <td>Email Opened</td>\n",
       "      <td>India</td>\n",
       "      <td>Business Administration</td>\n",
       "      <td>Select</td>\n",
       "      <td>Student</td>\n",
       "      <td>Better Career Prospects</td>\n",
       "      <td>No</td>\n",
       "      <td>No</td>\n",
       "      <td>No</td>\n",
       "      <td>No</td>\n",
       "      <td>No</td>\n",
       "      <td>No</td>\n",
       "      <td>No</td>\n",
       "      <td>No</td>\n",
       "      <td>Will revert after reading the email</td>\n",
       "      <td>Might be</td>\n",
       "      <td>No</td>\n",
       "      <td>No</td>\n",
       "      <td>Potential Lead</td>\n",
       "      <td>Mumbai</td>\n",
       "      <td>02.Medium</td>\n",
       "      <td>01.High</td>\n",
       "      <td>14.0000</td>\n",
       "      <td>20.0000</td>\n",
       "      <td>No</td>\n",
       "      <td>Yes</td>\n",
       "      <td>Email Opened</td>\n",
       "    </tr>\n",
       "    <tr>\n",
       "      <th>3</th>\n",
       "      <td>Landing Page Submission</td>\n",
       "      <td>Direct Traffic</td>\n",
       "      <td>No</td>\n",
       "      <td>No</td>\n",
       "      <td>0</td>\n",
       "      <td>1.0000</td>\n",
       "      <td>305</td>\n",
       "      <td>1.0000</td>\n",
       "      <td>Unreachable</td>\n",
       "      <td>India</td>\n",
       "      <td>Media and Advertising</td>\n",
       "      <td>Word Of Mouth</td>\n",
       "      <td>Unemployed</td>\n",
       "      <td>Better Career Prospects</td>\n",
       "      <td>No</td>\n",
       "      <td>No</td>\n",
       "      <td>No</td>\n",
       "      <td>No</td>\n",
       "      <td>No</td>\n",
       "      <td>No</td>\n",
       "      <td>No</td>\n",
       "      <td>No</td>\n",
       "      <td>Ringing</td>\n",
       "      <td>Not Sure</td>\n",
       "      <td>No</td>\n",
       "      <td>No</td>\n",
       "      <td>Select</td>\n",
       "      <td>Mumbai</td>\n",
       "      <td>02.Medium</td>\n",
       "      <td>01.High</td>\n",
       "      <td>13.0000</td>\n",
       "      <td>17.0000</td>\n",
       "      <td>No</td>\n",
       "      <td>No</td>\n",
       "      <td>Modified</td>\n",
       "    </tr>\n",
       "    <tr>\n",
       "      <th>4</th>\n",
       "      <td>Landing Page Submission</td>\n",
       "      <td>Google</td>\n",
       "      <td>No</td>\n",
       "      <td>No</td>\n",
       "      <td>1</td>\n",
       "      <td>2.0000</td>\n",
       "      <td>1428</td>\n",
       "      <td>1.0000</td>\n",
       "      <td>Converted to Lead</td>\n",
       "      <td>India</td>\n",
       "      <td>Select</td>\n",
       "      <td>Other</td>\n",
       "      <td>Unemployed</td>\n",
       "      <td>Better Career Prospects</td>\n",
       "      <td>No</td>\n",
       "      <td>No</td>\n",
       "      <td>No</td>\n",
       "      <td>No</td>\n",
       "      <td>No</td>\n",
       "      <td>No</td>\n",
       "      <td>No</td>\n",
       "      <td>No</td>\n",
       "      <td>Will revert after reading the email</td>\n",
       "      <td>Might be</td>\n",
       "      <td>No</td>\n",
       "      <td>No</td>\n",
       "      <td>Select</td>\n",
       "      <td>Mumbai</td>\n",
       "      <td>02.Medium</td>\n",
       "      <td>01.High</td>\n",
       "      <td>15.0000</td>\n",
       "      <td>18.0000</td>\n",
       "      <td>No</td>\n",
       "      <td>No</td>\n",
       "      <td>Modified</td>\n",
       "    </tr>\n",
       "  </tbody>\n",
       "</table>\n",
       "</div>"
      ],
      "text/plain": [
       "               Lead Origin     Lead Source Do Not Email Do Not Call  \\\n",
       "0                      API      Olark Chat           No          No   \n",
       "1                      API  Organic Search           No          No   \n",
       "2  Landing Page Submission  Direct Traffic           No          No   \n",
       "3  Landing Page Submission  Direct Traffic           No          No   \n",
       "4  Landing Page Submission          Google           No          No   \n",
       "\n",
       "   Converted  TotalVisits  Total Time Spent on Website  Page Views Per Visit  \\\n",
       "0          0       0.0000                            0                0.0000   \n",
       "1          0       5.0000                          674                2.5000   \n",
       "2          1       2.0000                         1532                2.0000   \n",
       "3          0       1.0000                          305                1.0000   \n",
       "4          1       2.0000                         1428                1.0000   \n",
       "\n",
       "             Last Activity Country           Specialization  \\\n",
       "0  Page Visited on Website     NaN                   Select   \n",
       "1             Email Opened   India                   Select   \n",
       "2             Email Opened   India  Business Administration   \n",
       "3              Unreachable   India    Media and Advertising   \n",
       "4        Converted to Lead   India                   Select   \n",
       "\n",
       "  How did you hear about X Education What is your current occupation  \\\n",
       "0                             Select                      Unemployed   \n",
       "1                             Select                      Unemployed   \n",
       "2                             Select                         Student   \n",
       "3                      Word Of Mouth                      Unemployed   \n",
       "4                              Other                      Unemployed   \n",
       "\n",
       "  What matters most to you in choosing a course Search Magazine  \\\n",
       "0                       Better Career Prospects     No       No   \n",
       "1                       Better Career Prospects     No       No   \n",
       "2                       Better Career Prospects     No       No   \n",
       "3                       Better Career Prospects     No       No   \n",
       "4                       Better Career Prospects     No       No   \n",
       "\n",
       "  Newspaper Article X Education Forums Newspaper Digital Advertisement  \\\n",
       "0                No                 No        No                    No   \n",
       "1                No                 No        No                    No   \n",
       "2                No                 No        No                    No   \n",
       "3                No                 No        No                    No   \n",
       "4                No                 No        No                    No   \n",
       "\n",
       "  Through Recommendations Receive More Updates About Our Courses  \\\n",
       "0                      No                                     No   \n",
       "1                      No                                     No   \n",
       "2                      No                                     No   \n",
       "3                      No                                     No   \n",
       "4                      No                                     No   \n",
       "\n",
       "                                  Tags      Lead Quality  \\\n",
       "0          Interested in other courses  Low in Relevance   \n",
       "1                              Ringing               NaN   \n",
       "2  Will revert after reading the email          Might be   \n",
       "3                              Ringing          Not Sure   \n",
       "4  Will revert after reading the email          Might be   \n",
       "\n",
       "  Update me on Supply Chain Content Get updates on DM Content    Lead Profile  \\\n",
       "0                                No                        No          Select   \n",
       "1                                No                        No          Select   \n",
       "2                                No                        No  Potential Lead   \n",
       "3                                No                        No          Select   \n",
       "4                                No                        No          Select   \n",
       "\n",
       "     City Asymmetrique Activity Index Asymmetrique Profile Index  \\\n",
       "0  Select                   02.Medium                  02.Medium   \n",
       "1  Select                   02.Medium                  02.Medium   \n",
       "2  Mumbai                   02.Medium                    01.High   \n",
       "3  Mumbai                   02.Medium                    01.High   \n",
       "4  Mumbai                   02.Medium                    01.High   \n",
       "\n",
       "   Asymmetrique Activity Score  Asymmetrique Profile Score  \\\n",
       "0                      15.0000                     15.0000   \n",
       "1                      15.0000                     15.0000   \n",
       "2                      14.0000                     20.0000   \n",
       "3                      13.0000                     17.0000   \n",
       "4                      15.0000                     18.0000   \n",
       "\n",
       "  I agree to pay the amount through cheque  \\\n",
       "0                                       No   \n",
       "1                                       No   \n",
       "2                                       No   \n",
       "3                                       No   \n",
       "4                                       No   \n",
       "\n",
       "  A free copy of Mastering The Interview Last Notable Activity  \n",
       "0                                     No              Modified  \n",
       "1                                     No          Email Opened  \n",
       "2                                    Yes          Email Opened  \n",
       "3                                     No              Modified  \n",
       "4                                     No              Modified  "
      ]
     },
     "execution_count": 13,
     "metadata": {},
     "output_type": "execute_result"
    }
   ],
   "source": [
    "leads.head()"
   ]
  },
  {
   "cell_type": "code",
   "execution_count": 14,
   "metadata": {
    "execution": {
     "iopub.execute_input": "2023-04-17T13:28:05.648141Z",
     "iopub.status.busy": "2023-04-17T13:28:05.647938Z",
     "iopub.status.idle": "2023-04-17T13:28:05.672761Z",
     "shell.execute_reply": "2023-04-17T13:28:05.671806Z",
     "shell.execute_reply.started": "2023-04-17T13:28:05.648115Z"
    }
   },
   "outputs": [
    {
     "name": "stdout",
     "output_type": "stream",
     "text": [
      "['Specialization', 'How did you hear about X Education', 'Lead Profile', 'City']\n"
     ]
    }
   ],
   "source": [
    "# There are 'Select' values for many columns. This seems to be because the customer did not select any option from the list.\n",
    "# Identify the columns with 'Select' values\n",
    "\n",
    "cols=list(leads.columns)\n",
    "test=['Select']\n",
    "text=[]\n",
    "for i in range(len(cols)):\n",
    "    if len(leads[cols[i]].isin(test).unique())>1:\n",
    "        text.append(cols[i])\n",
    "print(text)"
   ]
  },
  {
   "cell_type": "code",
   "execution_count": 15,
   "metadata": {
    "execution": {
     "iopub.execute_input": "2023-04-17T13:28:05.673834Z",
     "iopub.status.busy": "2023-04-17T13:28:05.673663Z",
     "iopub.status.idle": "2023-04-17T13:28:05.684837Z",
     "shell.execute_reply": "2023-04-17T13:28:05.683927Z",
     "shell.execute_reply.started": "2023-04-17T13:28:05.673810Z"
    }
   },
   "outputs": [],
   "source": [
    "# Since these 'Select' values are as good as NULL, converting them to NaN\n",
    "leads[text] = leads[text].replace('Select', np.nan)"
   ]
  },
  {
   "cell_type": "code",
   "execution_count": 16,
   "metadata": {
    "execution": {
     "iopub.execute_input": "2023-04-17T13:28:05.685848Z",
     "iopub.status.busy": "2023-04-17T13:28:05.685680Z",
     "iopub.status.idle": "2023-04-17T13:28:05.729350Z",
     "shell.execute_reply": "2023-04-17T13:28:05.728383Z",
     "shell.execute_reply.started": "2023-04-17T13:28:05.685825Z"
    }
   },
   "outputs": [
    {
     "data": {
      "text/html": [
       "<div>\n",
       "<style scoped>\n",
       "    .dataframe tbody tr th:only-of-type {\n",
       "        vertical-align: middle;\n",
       "    }\n",
       "\n",
       "    .dataframe tbody tr th {\n",
       "        vertical-align: top;\n",
       "    }\n",
       "\n",
       "    .dataframe thead th {\n",
       "        text-align: right;\n",
       "    }\n",
       "</style>\n",
       "<table border=\"1\" class=\"dataframe\">\n",
       "  <thead>\n",
       "    <tr style=\"text-align: right;\">\n",
       "      <th></th>\n",
       "      <th>Lead Origin</th>\n",
       "      <th>Lead Source</th>\n",
       "      <th>Do Not Email</th>\n",
       "      <th>Do Not Call</th>\n",
       "      <th>Converted</th>\n",
       "      <th>TotalVisits</th>\n",
       "      <th>Total Time Spent on Website</th>\n",
       "      <th>Page Views Per Visit</th>\n",
       "      <th>Last Activity</th>\n",
       "      <th>Country</th>\n",
       "      <th>Specialization</th>\n",
       "      <th>How did you hear about X Education</th>\n",
       "      <th>What is your current occupation</th>\n",
       "      <th>What matters most to you in choosing a course</th>\n",
       "      <th>Search</th>\n",
       "      <th>Magazine</th>\n",
       "      <th>Newspaper Article</th>\n",
       "      <th>X Education Forums</th>\n",
       "      <th>Newspaper</th>\n",
       "      <th>Digital Advertisement</th>\n",
       "      <th>Through Recommendations</th>\n",
       "      <th>Receive More Updates About Our Courses</th>\n",
       "      <th>Tags</th>\n",
       "      <th>Lead Quality</th>\n",
       "      <th>Update me on Supply Chain Content</th>\n",
       "      <th>Get updates on DM Content</th>\n",
       "      <th>Lead Profile</th>\n",
       "      <th>City</th>\n",
       "      <th>Asymmetrique Activity Index</th>\n",
       "      <th>Asymmetrique Profile Index</th>\n",
       "      <th>Asymmetrique Activity Score</th>\n",
       "      <th>Asymmetrique Profile Score</th>\n",
       "      <th>I agree to pay the amount through cheque</th>\n",
       "      <th>A free copy of Mastering The Interview</th>\n",
       "      <th>Last Notable Activity</th>\n",
       "    </tr>\n",
       "  </thead>\n",
       "  <tbody>\n",
       "    <tr>\n",
       "      <th>0</th>\n",
       "      <td>API</td>\n",
       "      <td>Olark Chat</td>\n",
       "      <td>No</td>\n",
       "      <td>No</td>\n",
       "      <td>0</td>\n",
       "      <td>0.0000</td>\n",
       "      <td>0</td>\n",
       "      <td>0.0000</td>\n",
       "      <td>Page Visited on Website</td>\n",
       "      <td>NaN</td>\n",
       "      <td>NaN</td>\n",
       "      <td>NaN</td>\n",
       "      <td>Unemployed</td>\n",
       "      <td>Better Career Prospects</td>\n",
       "      <td>No</td>\n",
       "      <td>No</td>\n",
       "      <td>No</td>\n",
       "      <td>No</td>\n",
       "      <td>No</td>\n",
       "      <td>No</td>\n",
       "      <td>No</td>\n",
       "      <td>No</td>\n",
       "      <td>Interested in other courses</td>\n",
       "      <td>Low in Relevance</td>\n",
       "      <td>No</td>\n",
       "      <td>No</td>\n",
       "      <td>NaN</td>\n",
       "      <td>NaN</td>\n",
       "      <td>02.Medium</td>\n",
       "      <td>02.Medium</td>\n",
       "      <td>15.0000</td>\n",
       "      <td>15.0000</td>\n",
       "      <td>No</td>\n",
       "      <td>No</td>\n",
       "      <td>Modified</td>\n",
       "    </tr>\n",
       "    <tr>\n",
       "      <th>1</th>\n",
       "      <td>API</td>\n",
       "      <td>Organic Search</td>\n",
       "      <td>No</td>\n",
       "      <td>No</td>\n",
       "      <td>0</td>\n",
       "      <td>5.0000</td>\n",
       "      <td>674</td>\n",
       "      <td>2.5000</td>\n",
       "      <td>Email Opened</td>\n",
       "      <td>India</td>\n",
       "      <td>NaN</td>\n",
       "      <td>NaN</td>\n",
       "      <td>Unemployed</td>\n",
       "      <td>Better Career Prospects</td>\n",
       "      <td>No</td>\n",
       "      <td>No</td>\n",
       "      <td>No</td>\n",
       "      <td>No</td>\n",
       "      <td>No</td>\n",
       "      <td>No</td>\n",
       "      <td>No</td>\n",
       "      <td>No</td>\n",
       "      <td>Ringing</td>\n",
       "      <td>NaN</td>\n",
       "      <td>No</td>\n",
       "      <td>No</td>\n",
       "      <td>NaN</td>\n",
       "      <td>NaN</td>\n",
       "      <td>02.Medium</td>\n",
       "      <td>02.Medium</td>\n",
       "      <td>15.0000</td>\n",
       "      <td>15.0000</td>\n",
       "      <td>No</td>\n",
       "      <td>No</td>\n",
       "      <td>Email Opened</td>\n",
       "    </tr>\n",
       "    <tr>\n",
       "      <th>2</th>\n",
       "      <td>Landing Page Submission</td>\n",
       "      <td>Direct Traffic</td>\n",
       "      <td>No</td>\n",
       "      <td>No</td>\n",
       "      <td>1</td>\n",
       "      <td>2.0000</td>\n",
       "      <td>1532</td>\n",
       "      <td>2.0000</td>\n",
       "      <td>Email Opened</td>\n",
       "      <td>India</td>\n",
       "      <td>Business Administration</td>\n",
       "      <td>NaN</td>\n",
       "      <td>Student</td>\n",
       "      <td>Better Career Prospects</td>\n",
       "      <td>No</td>\n",
       "      <td>No</td>\n",
       "      <td>No</td>\n",
       "      <td>No</td>\n",
       "      <td>No</td>\n",
       "      <td>No</td>\n",
       "      <td>No</td>\n",
       "      <td>No</td>\n",
       "      <td>Will revert after reading the email</td>\n",
       "      <td>Might be</td>\n",
       "      <td>No</td>\n",
       "      <td>No</td>\n",
       "      <td>Potential Lead</td>\n",
       "      <td>Mumbai</td>\n",
       "      <td>02.Medium</td>\n",
       "      <td>01.High</td>\n",
       "      <td>14.0000</td>\n",
       "      <td>20.0000</td>\n",
       "      <td>No</td>\n",
       "      <td>Yes</td>\n",
       "      <td>Email Opened</td>\n",
       "    </tr>\n",
       "    <tr>\n",
       "      <th>3</th>\n",
       "      <td>Landing Page Submission</td>\n",
       "      <td>Direct Traffic</td>\n",
       "      <td>No</td>\n",
       "      <td>No</td>\n",
       "      <td>0</td>\n",
       "      <td>1.0000</td>\n",
       "      <td>305</td>\n",
       "      <td>1.0000</td>\n",
       "      <td>Unreachable</td>\n",
       "      <td>India</td>\n",
       "      <td>Media and Advertising</td>\n",
       "      <td>Word Of Mouth</td>\n",
       "      <td>Unemployed</td>\n",
       "      <td>Better Career Prospects</td>\n",
       "      <td>No</td>\n",
       "      <td>No</td>\n",
       "      <td>No</td>\n",
       "      <td>No</td>\n",
       "      <td>No</td>\n",
       "      <td>No</td>\n",
       "      <td>No</td>\n",
       "      <td>No</td>\n",
       "      <td>Ringing</td>\n",
       "      <td>Not Sure</td>\n",
       "      <td>No</td>\n",
       "      <td>No</td>\n",
       "      <td>NaN</td>\n",
       "      <td>Mumbai</td>\n",
       "      <td>02.Medium</td>\n",
       "      <td>01.High</td>\n",
       "      <td>13.0000</td>\n",
       "      <td>17.0000</td>\n",
       "      <td>No</td>\n",
       "      <td>No</td>\n",
       "      <td>Modified</td>\n",
       "    </tr>\n",
       "    <tr>\n",
       "      <th>4</th>\n",
       "      <td>Landing Page Submission</td>\n",
       "      <td>Google</td>\n",
       "      <td>No</td>\n",
       "      <td>No</td>\n",
       "      <td>1</td>\n",
       "      <td>2.0000</td>\n",
       "      <td>1428</td>\n",
       "      <td>1.0000</td>\n",
       "      <td>Converted to Lead</td>\n",
       "      <td>India</td>\n",
       "      <td>NaN</td>\n",
       "      <td>Other</td>\n",
       "      <td>Unemployed</td>\n",
       "      <td>Better Career Prospects</td>\n",
       "      <td>No</td>\n",
       "      <td>No</td>\n",
       "      <td>No</td>\n",
       "      <td>No</td>\n",
       "      <td>No</td>\n",
       "      <td>No</td>\n",
       "      <td>No</td>\n",
       "      <td>No</td>\n",
       "      <td>Will revert after reading the email</td>\n",
       "      <td>Might be</td>\n",
       "      <td>No</td>\n",
       "      <td>No</td>\n",
       "      <td>NaN</td>\n",
       "      <td>Mumbai</td>\n",
       "      <td>02.Medium</td>\n",
       "      <td>01.High</td>\n",
       "      <td>15.0000</td>\n",
       "      <td>18.0000</td>\n",
       "      <td>No</td>\n",
       "      <td>No</td>\n",
       "      <td>Modified</td>\n",
       "    </tr>\n",
       "  </tbody>\n",
       "</table>\n",
       "</div>"
      ],
      "text/plain": [
       "               Lead Origin     Lead Source Do Not Email Do Not Call  \\\n",
       "0                      API      Olark Chat           No          No   \n",
       "1                      API  Organic Search           No          No   \n",
       "2  Landing Page Submission  Direct Traffic           No          No   \n",
       "3  Landing Page Submission  Direct Traffic           No          No   \n",
       "4  Landing Page Submission          Google           No          No   \n",
       "\n",
       "   Converted  TotalVisits  Total Time Spent on Website  Page Views Per Visit  \\\n",
       "0          0       0.0000                            0                0.0000   \n",
       "1          0       5.0000                          674                2.5000   \n",
       "2          1       2.0000                         1532                2.0000   \n",
       "3          0       1.0000                          305                1.0000   \n",
       "4          1       2.0000                         1428                1.0000   \n",
       "\n",
       "             Last Activity Country           Specialization  \\\n",
       "0  Page Visited on Website     NaN                      NaN   \n",
       "1             Email Opened   India                      NaN   \n",
       "2             Email Opened   India  Business Administration   \n",
       "3              Unreachable   India    Media and Advertising   \n",
       "4        Converted to Lead   India                      NaN   \n",
       "\n",
       "  How did you hear about X Education What is your current occupation  \\\n",
       "0                                NaN                      Unemployed   \n",
       "1                                NaN                      Unemployed   \n",
       "2                                NaN                         Student   \n",
       "3                      Word Of Mouth                      Unemployed   \n",
       "4                              Other                      Unemployed   \n",
       "\n",
       "  What matters most to you in choosing a course Search Magazine  \\\n",
       "0                       Better Career Prospects     No       No   \n",
       "1                       Better Career Prospects     No       No   \n",
       "2                       Better Career Prospects     No       No   \n",
       "3                       Better Career Prospects     No       No   \n",
       "4                       Better Career Prospects     No       No   \n",
       "\n",
       "  Newspaper Article X Education Forums Newspaper Digital Advertisement  \\\n",
       "0                No                 No        No                    No   \n",
       "1                No                 No        No                    No   \n",
       "2                No                 No        No                    No   \n",
       "3                No                 No        No                    No   \n",
       "4                No                 No        No                    No   \n",
       "\n",
       "  Through Recommendations Receive More Updates About Our Courses  \\\n",
       "0                      No                                     No   \n",
       "1                      No                                     No   \n",
       "2                      No                                     No   \n",
       "3                      No                                     No   \n",
       "4                      No                                     No   \n",
       "\n",
       "                                  Tags      Lead Quality  \\\n",
       "0          Interested in other courses  Low in Relevance   \n",
       "1                              Ringing               NaN   \n",
       "2  Will revert after reading the email          Might be   \n",
       "3                              Ringing          Not Sure   \n",
       "4  Will revert after reading the email          Might be   \n",
       "\n",
       "  Update me on Supply Chain Content Get updates on DM Content    Lead Profile  \\\n",
       "0                                No                        No             NaN   \n",
       "1                                No                        No             NaN   \n",
       "2                                No                        No  Potential Lead   \n",
       "3                                No                        No             NaN   \n",
       "4                                No                        No             NaN   \n",
       "\n",
       "     City Asymmetrique Activity Index Asymmetrique Profile Index  \\\n",
       "0     NaN                   02.Medium                  02.Medium   \n",
       "1     NaN                   02.Medium                  02.Medium   \n",
       "2  Mumbai                   02.Medium                    01.High   \n",
       "3  Mumbai                   02.Medium                    01.High   \n",
       "4  Mumbai                   02.Medium                    01.High   \n",
       "\n",
       "   Asymmetrique Activity Score  Asymmetrique Profile Score  \\\n",
       "0                      15.0000                     15.0000   \n",
       "1                      15.0000                     15.0000   \n",
       "2                      14.0000                     20.0000   \n",
       "3                      13.0000                     17.0000   \n",
       "4                      15.0000                     18.0000   \n",
       "\n",
       "  I agree to pay the amount through cheque  \\\n",
       "0                                       No   \n",
       "1                                       No   \n",
       "2                                       No   \n",
       "3                                       No   \n",
       "4                                       No   \n",
       "\n",
       "  A free copy of Mastering The Interview Last Notable Activity  \n",
       "0                                     No              Modified  \n",
       "1                                     No          Email Opened  \n",
       "2                                    Yes          Email Opened  \n",
       "3                                     No              Modified  \n",
       "4                                     No              Modified  "
      ]
     },
     "execution_count": 16,
     "metadata": {},
     "output_type": "execute_result"
    }
   ],
   "source": [
    "leads.head()"
   ]
  },
  {
   "cell_type": "code",
   "execution_count": 17,
   "metadata": {
    "execution": {
     "iopub.execute_input": "2023-04-17T13:28:05.730518Z",
     "iopub.status.busy": "2023-04-17T13:28:05.730285Z",
     "iopub.status.idle": "2023-04-17T13:28:05.750071Z",
     "shell.execute_reply": "2023-04-17T13:28:05.749137Z",
     "shell.execute_reply.started": "2023-04-17T13:28:05.730491Z"
    }
   },
   "outputs": [
    {
     "data": {
      "text/plain": [
       "Lead Origin                                         0\n",
       "Lead Source                                        36\n",
       "Do Not Email                                        0\n",
       "Do Not Call                                         0\n",
       "Converted                                           0\n",
       "TotalVisits                                       137\n",
       "Total Time Spent on Website                         0\n",
       "Page Views Per Visit                              137\n",
       "Last Activity                                     103\n",
       "Country                                          2461\n",
       "Specialization                                   3380\n",
       "How did you hear about X Education               7250\n",
       "What is your current occupation                  2690\n",
       "What matters most to you in choosing a course    2709\n",
       "Search                                              0\n",
       "Magazine                                            0\n",
       "Newspaper Article                                   0\n",
       "X Education Forums                                  0\n",
       "Newspaper                                           0\n",
       "Digital Advertisement                               0\n",
       "Through Recommendations                             0\n",
       "Receive More Updates About Our Courses              0\n",
       "Tags                                             3353\n",
       "Lead Quality                                     4767\n",
       "Update me on Supply Chain Content                   0\n",
       "Get updates on DM Content                           0\n",
       "Lead Profile                                     6855\n",
       "City                                             3669\n",
       "Asymmetrique Activity Index                      4218\n",
       "Asymmetrique Profile Index                       4218\n",
       "Asymmetrique Activity Score                      4218\n",
       "Asymmetrique Profile Score                       4218\n",
       "I agree to pay the amount through cheque            0\n",
       "A free copy of Mastering The Interview              0\n",
       "Last Notable Activity                               0\n",
       "dtype: int64"
      ]
     },
     "execution_count": 17,
     "metadata": {},
     "output_type": "execute_result"
    }
   ],
   "source": [
    "#checking null values in each column\n",
    "\n",
    "leads.isnull().sum()"
   ]
  },
  {
   "cell_type": "code",
   "execution_count": 18,
   "metadata": {
    "execution": {
     "iopub.execute_input": "2023-04-17T13:28:05.751005Z",
     "iopub.status.busy": "2023-04-17T13:28:05.750832Z",
     "iopub.status.idle": "2023-04-17T13:28:05.800262Z",
     "shell.execute_reply": "2023-04-17T13:28:05.799362Z",
     "shell.execute_reply.started": "2023-04-17T13:28:05.750982Z"
    }
   },
   "outputs": [
    {
     "data": {
      "text/plain": [
       "Lead Origin                                      0.0000\n",
       "Lead Source                                      0.3900\n",
       "Do Not Email                                     0.0000\n",
       "Do Not Call                                      0.0000\n",
       "Converted                                        0.0000\n",
       "TotalVisits                                      1.4800\n",
       "Total Time Spent on Website                      0.0000\n",
       "Page Views Per Visit                             1.4800\n",
       "Last Activity                                    1.1100\n",
       "Country                                         26.6300\n",
       "Specialization                                  36.5800\n",
       "How did you hear about X Education              78.4600\n",
       "What is your current occupation                 29.1100\n",
       "What matters most to you in choosing a course   29.3200\n",
       "Search                                           0.0000\n",
       "Magazine                                         0.0000\n",
       "Newspaper Article                                0.0000\n",
       "X Education Forums                               0.0000\n",
       "Newspaper                                        0.0000\n",
       "Digital Advertisement                            0.0000\n",
       "Through Recommendations                          0.0000\n",
       "Receive More Updates About Our Courses           0.0000\n",
       "Tags                                            36.2900\n",
       "Lead Quality                                    51.5900\n",
       "Update me on Supply Chain Content                0.0000\n",
       "Get updates on DM Content                        0.0000\n",
       "Lead Profile                                    74.1900\n",
       "City                                            39.7100\n",
       "Asymmetrique Activity Index                     45.6500\n",
       "Asymmetrique Profile Index                      45.6500\n",
       "Asymmetrique Activity Score                     45.6500\n",
       "Asymmetrique Profile Score                      45.6500\n",
       "I agree to pay the amount through cheque         0.0000\n",
       "A free copy of Mastering The Interview           0.0000\n",
       "Last Notable Activity                            0.0000\n",
       "dtype: float64"
      ]
     },
     "execution_count": 18,
     "metadata": {},
     "output_type": "execute_result"
    }
   ],
   "source": [
    "#checking percentage of null values in each column\n",
    "\n",
    "round(100*(leads.isnull().sum()/len(leads.index)), 2)"
   ]
  },
  {
   "cell_type": "code",
   "execution_count": 19,
   "metadata": {
    "execution": {
     "iopub.execute_input": "2023-04-17T13:28:05.801714Z",
     "iopub.status.busy": "2023-04-17T13:28:05.801515Z",
     "iopub.status.idle": "2023-04-17T13:28:05.847181Z",
     "shell.execute_reply": "2023-04-17T13:28:05.846237Z",
     "shell.execute_reply.started": "2023-04-17T13:28:05.801687Z"
    }
   },
   "outputs": [],
   "source": [
    "#dropping columns with more than 40% missing values\n",
    "\n",
    "cols=leads.columns\n",
    "\n",
    "for i in cols:\n",
    "    if((100*(leads[i].isnull().sum()/len(leads.index))) >= 40):\n",
    "        leads.drop(i, 1, inplace = True)"
   ]
  },
  {
   "cell_type": "code",
   "execution_count": 20,
   "metadata": {
    "execution": {
     "iopub.execute_input": "2023-04-17T13:28:05.848274Z",
     "iopub.status.busy": "2023-04-17T13:28:05.848105Z",
     "iopub.status.idle": "2023-04-17T13:28:05.877784Z",
     "shell.execute_reply": "2023-04-17T13:28:05.876702Z",
     "shell.execute_reply.started": "2023-04-17T13:28:05.848251Z"
    }
   },
   "outputs": [
    {
     "data": {
      "text/plain": [
       "Lead Origin                                      0.0000\n",
       "Lead Source                                      0.3900\n",
       "Do Not Email                                     0.0000\n",
       "Do Not Call                                      0.0000\n",
       "Converted                                        0.0000\n",
       "TotalVisits                                      1.4800\n",
       "Total Time Spent on Website                      0.0000\n",
       "Page Views Per Visit                             1.4800\n",
       "Last Activity                                    1.1100\n",
       "Country                                         26.6300\n",
       "Specialization                                  36.5800\n",
       "What is your current occupation                 29.1100\n",
       "What matters most to you in choosing a course   29.3200\n",
       "Search                                           0.0000\n",
       "Magazine                                         0.0000\n",
       "Newspaper Article                                0.0000\n",
       "X Education Forums                               0.0000\n",
       "Newspaper                                        0.0000\n",
       "Digital Advertisement                            0.0000\n",
       "Through Recommendations                          0.0000\n",
       "Receive More Updates About Our Courses           0.0000\n",
       "Tags                                            36.2900\n",
       "Update me on Supply Chain Content                0.0000\n",
       "Get updates on DM Content                        0.0000\n",
       "City                                            39.7100\n",
       "I agree to pay the amount through cheque         0.0000\n",
       "A free copy of Mastering The Interview           0.0000\n",
       "Last Notable Activity                            0.0000\n",
       "dtype: float64"
      ]
     },
     "execution_count": 20,
     "metadata": {},
     "output_type": "execute_result"
    }
   ],
   "source": [
    "#re-checking percentage of null values in each column\n",
    "\n",
    "round(100*(leads.isnull().sum()/len(leads.index)), 2)"
   ]
  },
  {
   "cell_type": "markdown",
   "metadata": {},
   "source": [
    "\n",
    "<h4><font color = purple > 4.2 Categorical Attribute Analysis</font></h4>"
   ]
  },
  {
   "cell_type": "code",
   "execution_count": 21,
   "metadata": {
    "execution": {
     "iopub.execute_input": "2023-04-17T13:28:05.879989Z",
     "iopub.status.busy": "2023-04-17T13:28:05.879771Z",
     "iopub.status.idle": "2023-04-17T13:28:05.906483Z",
     "shell.execute_reply": "2023-04-17T13:28:05.905584Z",
     "shell.execute_reply.started": "2023-04-17T13:28:05.879963Z"
    }
   },
   "outputs": [
    {
     "name": "stdout",
     "output_type": "stream",
     "text": [
      "<class 'pandas.core.frame.DataFrame'>\n",
      "RangeIndex: 9240 entries, 0 to 9239\n",
      "Data columns (total 28 columns):\n",
      "Lead Origin                                      9240 non-null object\n",
      "Lead Source                                      9204 non-null object\n",
      "Do Not Email                                     9240 non-null object\n",
      "Do Not Call                                      9240 non-null object\n",
      "Converted                                        9240 non-null int64\n",
      "TotalVisits                                      9103 non-null float64\n",
      "Total Time Spent on Website                      9240 non-null int64\n",
      "Page Views Per Visit                             9103 non-null float64\n",
      "Last Activity                                    9137 non-null object\n",
      "Country                                          6779 non-null object\n",
      "Specialization                                   5860 non-null object\n",
      "What is your current occupation                  6550 non-null object\n",
      "What matters most to you in choosing a course    6531 non-null object\n",
      "Search                                           9240 non-null object\n",
      "Magazine                                         9240 non-null object\n",
      "Newspaper Article                                9240 non-null object\n",
      "X Education Forums                               9240 non-null object\n",
      "Newspaper                                        9240 non-null object\n",
      "Digital Advertisement                            9240 non-null object\n",
      "Through Recommendations                          9240 non-null object\n",
      "Receive More Updates About Our Courses           9240 non-null object\n",
      "Tags                                             5887 non-null object\n",
      "Update me on Supply Chain Content                9240 non-null object\n",
      "Get updates on DM Content                        9240 non-null object\n",
      "City                                             5571 non-null object\n",
      "I agree to pay the amount through cheque         9240 non-null object\n",
      "A free copy of Mastering The Interview           9240 non-null object\n",
      "Last Notable Activity                            9240 non-null object\n",
      "dtypes: float64(2), int64(2), object(24)\n",
      "memory usage: 2.0+ MB\n"
     ]
    }
   ],
   "source": [
    "leads.info()"
   ]
  },
  {
   "cell_type": "code",
   "execution_count": 22,
   "metadata": {
    "execution": {
     "iopub.execute_input": "2023-04-17T13:28:05.907665Z",
     "iopub.status.busy": "2023-04-17T13:28:05.907492Z",
     "iopub.status.idle": "2023-04-17T13:28:05.916177Z",
     "shell.execute_reply": "2023-04-17T13:28:05.915300Z",
     "shell.execute_reply.started": "2023-04-17T13:28:05.907641Z"
    }
   },
   "outputs": [
    {
     "data": {
      "text/plain": [
       "India                   6492\n",
       "NaN                     2461\n",
       "United States             69\n",
       "United Arab Emirates      53\n",
       "Singapore                 24\n",
       "Saudi Arabia              21\n",
       "United Kingdom            15\n",
       "Australia                 13\n",
       "Qatar                     10\n",
       "Hong Kong                  7\n",
       "Bahrain                    7\n",
       "Oman                       6\n",
       "France                     6\n",
       "unknown                    5\n",
       "Nigeria                    4\n",
       "Germany                    4\n",
       "South Africa               4\n",
       "Canada                     4\n",
       "Kuwait                     4\n",
       "Sweden                     3\n",
       "Philippines                2\n",
       "Italy                      2\n",
       "Uganda                     2\n",
       "China                      2\n",
       "Asia/Pacific Region        2\n",
       "Belgium                    2\n",
       "Ghana                      2\n",
       "Bangladesh                 2\n",
       "Netherlands                2\n",
       "Switzerland                1\n",
       "Malaysia                   1\n",
       "Vietnam                    1\n",
       "Sri Lanka                  1\n",
       "Tanzania                   1\n",
       "Kenya                      1\n",
       "Indonesia                  1\n",
       "Liberia                    1\n",
       "Russia                     1\n",
       "Denmark                    1\n",
       "Name: Country, dtype: int64"
      ]
     },
     "execution_count": 22,
     "metadata": {},
     "output_type": "execute_result"
    }
   ],
   "source": [
    "#checking value counts of Country column\n",
    "\n",
    "leads['Country'].value_counts(dropna=False)"
   ]
  },
  {
   "cell_type": "code",
   "execution_count": 23,
   "metadata": {
    "execution": {
     "iopub.execute_input": "2023-04-17T13:28:05.917796Z",
     "iopub.status.busy": "2023-04-17T13:28:05.917556Z",
     "iopub.status.idle": "2023-04-17T13:28:06.528991Z",
     "shell.execute_reply": "2023-04-17T13:28:06.528034Z",
     "shell.execute_reply.started": "2023-04-17T13:28:05.917755Z"
    }
   },
   "outputs": [
    {
     "data": {
      "image/png": "[encoded data removed]",
      "text/plain": [
       "<Figure size 1080x360 with 1 Axes>"
      ]
     },
     "metadata": {
      "needs_background": "light"
     },
     "output_type": "display_data"
    }
   ],
   "source": [
    "#plotting spread of Country columnn \n",
    "plt.figure(figsize=(15,5))\n",
    "s1=sns.countplot(leads.Country, hue=leads.Converted)\n",
    "s1.set_xticklabels(s1.get_xticklabels(),rotation=90)\n",
    "plt.show()"
   ]
  },
  {
   "cell_type": "code",
   "execution_count": 24,
   "metadata": {
    "execution": {
     "iopub.execute_input": "2023-04-17T13:28:06.530161Z",
     "iopub.status.busy": "2023-04-17T13:28:06.529983Z",
     "iopub.status.idle": "2023-04-17T13:28:06.542236Z",
     "shell.execute_reply": "2023-04-17T13:28:06.541424Z",
     "shell.execute_reply.started": "2023-04-17T13:28:06.530135Z"
    }
   },
   "outputs": [
    {
     "name": "stdout",
     "output_type": "stream",
     "text": [
      "70.26\n"
     ]
    }
   ],
   "source": [
    "# check the percentage of India as value in the country column\n",
    "\n",
    "country_percentage = round(100*len(leads[leads['Country'] == 'India'])/len(leads['Country']),2)\n",
    "print(country_percentage)"
   ]
  },
  {
   "cell_type": "code",
   "execution_count": 25,
   "metadata": {
    "execution": {
     "iopub.execute_input": "2023-04-17T13:28:06.544543Z",
     "iopub.status.busy": "2023-04-17T13:28:06.544233Z",
     "iopub.status.idle": "2023-04-17T13:28:06.551825Z",
     "shell.execute_reply": "2023-04-17T13:28:06.550890Z",
     "shell.execute_reply.started": "2023-04-17T13:28:06.544514Z"
    }
   },
   "outputs": [],
   "source": [
    "# Since 70% of the lead data comes from the country 'India' and a significant 27% of the records has missing values for Country detail, \n",
    "# we shall go ahead and drop the column\n",
    "\n",
    "leads = leads.drop(['Country'], axis=1)"
   ]
  },
  {
   "cell_type": "code",
   "execution_count": 26,
   "metadata": {
    "execution": {
     "iopub.execute_input": "2023-04-17T13:28:06.553456Z",
     "iopub.status.busy": "2023-04-17T13:28:06.553253Z",
     "iopub.status.idle": "2023-04-17T13:28:06.559167Z",
     "shell.execute_reply": "2023-04-17T13:28:06.558467Z",
     "shell.execute_reply.started": "2023-04-17T13:28:06.553415Z"
    }
   },
   "outputs": [
    {
     "data": {
      "text/plain": [
       "(9240, 27)"
      ]
     },
     "execution_count": 26,
     "metadata": {},
     "output_type": "execute_result"
    }
   ],
   "source": [
    "leads.shape"
   ]
  },
  {
   "cell_type": "code",
   "execution_count": 27,
   "metadata": {
    "execution": {
     "iopub.execute_input": "2023-04-17T13:28:06.560458Z",
     "iopub.status.busy": "2023-04-17T13:28:06.560259Z",
     "iopub.status.idle": "2023-04-17T13:28:06.571494Z",
     "shell.execute_reply": "2023-04-17T13:28:06.570581Z",
     "shell.execute_reply.started": "2023-04-17T13:28:06.560432Z"
    }
   },
   "outputs": [
    {
     "data": {
      "text/plain": [
       "NaN                            3669\n",
       "Mumbai                         3222\n",
       "Thane & Outskirts               752\n",
       "Other Cities                    686\n",
       "Other Cities of Maharashtra     457\n",
       "Other Metro Cities              380\n",
       "Tier II Cities                   74\n",
       "Name: City, dtype: int64"
      ]
     },
     "execution_count": 27,
     "metadata": {},
     "output_type": "execute_result"
    }
   ],
   "source": [
    "#checking value counts of \"City\" column\n",
    "\n",
    "leads['City'].value_counts(dropna=False)"
   ]
  },
  {
   "cell_type": "code",
   "execution_count": 28,
   "metadata": {
    "execution": {
     "iopub.execute_input": "2023-04-17T13:28:06.572997Z",
     "iopub.status.busy": "2023-04-17T13:28:06.572661Z",
     "iopub.status.idle": "2023-04-17T13:28:06.578149Z",
     "shell.execute_reply": "2023-04-17T13:28:06.577203Z",
     "shell.execute_reply.started": "2023-04-17T13:28:06.572958Z"
    }
   },
   "outputs": [],
   "source": [
    "# replacing the null values with Mumbai as city.\n",
    "\n",
    "leads['City'] = leads['City'].replace(np.nan,'Mumbai')"
   ]
  },
  {
   "cell_type": "code",
   "execution_count": 29,
   "metadata": {
    "execution": {
     "iopub.execute_input": "2023-04-17T13:28:06.579391Z",
     "iopub.status.busy": "2023-04-17T13:28:06.579220Z",
     "iopub.status.idle": "2023-04-17T13:28:06.862229Z",
     "shell.execute_reply": "2023-04-17T13:28:06.861290Z",
     "shell.execute_reply.started": "2023-04-17T13:28:06.579368Z"
    }
   },
   "outputs": [
    {
     "data": {
      "image/png": "[encoded data removed]",
      "text/plain": [
       "<Figure size 1080x360 with 1 Axes>"
      ]
     },
     "metadata": {
      "needs_background": "light"
     },
     "output_type": "display_data"
    }
   ],
   "source": [
    "#plotting spread of Country columnn \n",
    "plt.figure(figsize=(15,5))\n",
    "s1=sns.countplot(leads.City, hue=leads.Converted)\n",
    "s1.set_xticklabels(s1.get_xticklabels(),rotation=90)\n",
    "plt.show()"
   ]
  },
  {
   "cell_type": "code",
   "execution_count": 30,
   "metadata": {
    "execution": {
     "iopub.execute_input": "2023-04-17T13:28:06.863961Z",
     "iopub.status.busy": "2023-04-17T13:28:06.863598Z",
     "iopub.status.idle": "2023-04-17T13:28:06.874140Z",
     "shell.execute_reply": "2023-04-17T13:28:06.872973Z",
     "shell.execute_reply.started": "2023-04-17T13:28:06.863914Z"
    }
   },
   "outputs": [
    {
     "name": "stdout",
     "output_type": "stream",
     "text": [
      "74.58\n"
     ]
    }
   ],
   "source": [
    "# check the percentage of India as value in the City column\n",
    "\n",
    "city_percentage = round(100*len(leads[leads['City'] == 'Mumbai'])/len(leads['City']),2)\n",
    "print(city_percentage)"
   ]
  },
  {
   "cell_type": "code",
   "execution_count": 31,
   "metadata": {
    "execution": {
     "iopub.execute_input": "2023-04-17T13:28:06.876749Z",
     "iopub.status.busy": "2023-04-17T13:28:06.876313Z",
     "iopub.status.idle": "2023-04-17T13:28:06.888258Z",
     "shell.execute_reply": "2023-04-17T13:28:06.887264Z",
     "shell.execute_reply.started": "2023-04-17T13:28:06.876677Z"
    }
   },
   "outputs": [],
   "source": [
    "# Since \"Mumbai\" occurs around 75% of times in the City column. \n",
    "# we shall go ahead and drop the column.\n",
    "\n",
    "leads = leads.drop(['City'], axis=1)"
   ]
  },
  {
   "cell_type": "code",
   "execution_count": 32,
   "metadata": {
    "execution": {
     "iopub.execute_input": "2023-04-17T13:28:06.890356Z",
     "iopub.status.busy": "2023-04-17T13:28:06.889745Z",
     "iopub.status.idle": "2023-04-17T13:28:06.902174Z",
     "shell.execute_reply": "2023-04-17T13:28:06.901223Z",
     "shell.execute_reply.started": "2023-04-17T13:28:06.890305Z"
    }
   },
   "outputs": [
    {
     "data": {
      "text/plain": [
       "NaN                                  3380\n",
       "Finance Management                    976\n",
       "Human Resource Management             848\n",
       "Marketing Management                  838\n",
       "Operations Management                 503\n",
       "Business Administration               403\n",
       "IT Projects Management                366\n",
       "Supply Chain Management               349\n",
       "Banking, Investment And Insurance     338\n",
       "Media and Advertising                 203\n",
       "Travel and Tourism                    203\n",
       "International Business                178\n",
       "Healthcare Management                 159\n",
       "Hospitality Management                114\n",
       "E-COMMERCE                            112\n",
       "Retail Management                     100\n",
       "Rural and Agribusiness                 73\n",
       "E-Business                             57\n",
       "Services Excellence                    40\n",
       "Name: Specialization, dtype: int64"
      ]
     },
     "execution_count": 32,
     "metadata": {},
     "output_type": "execute_result"
    }
   ],
   "source": [
    "#checking value counts of Specialization column\n",
    "\n",
    "leads['Specialization'].value_counts(dropna=False)"
   ]
  },
  {
   "cell_type": "code",
   "execution_count": 33,
   "metadata": {
    "execution": {
     "iopub.execute_input": "2023-04-17T13:28:06.903879Z",
     "iopub.status.busy": "2023-04-17T13:28:06.903541Z",
     "iopub.status.idle": "2023-04-17T13:28:06.909733Z",
     "shell.execute_reply": "2023-04-17T13:28:06.908857Z",
     "shell.execute_reply.started": "2023-04-17T13:28:06.903821Z"
    }
   },
   "outputs": [],
   "source": [
    "# Some leads may not have mentioned specialization because it was not in the list of options, or maybe they are students \n",
    "#and don't have a specialization yet. So we will replace NaN values here with 'Not Specified'\n",
    "\n",
    "leads['Specialization'] = leads['Specialization'].fillna('Not Specified')"
   ]
  },
  {
   "cell_type": "code",
   "execution_count": 34,
   "metadata": {
    "execution": {
     "iopub.execute_input": "2023-04-17T13:28:06.911466Z",
     "iopub.status.busy": "2023-04-17T13:28:06.911102Z",
     "iopub.status.idle": "2023-04-17T13:28:06.924103Z",
     "shell.execute_reply": "2023-04-17T13:28:06.923285Z",
     "shell.execute_reply.started": "2023-04-17T13:28:06.911423Z"
    }
   },
   "outputs": [
    {
     "data": {
      "text/plain": [
       "Not Specified                        3380\n",
       "Finance Management                    976\n",
       "Human Resource Management             848\n",
       "Marketing Management                  838\n",
       "Operations Management                 503\n",
       "Business Administration               403\n",
       "IT Projects Management                366\n",
       "Supply Chain Management               349\n",
       "Banking, Investment And Insurance     338\n",
       "Media and Advertising                 203\n",
       "Travel and Tourism                    203\n",
       "International Business                178\n",
       "Healthcare Management                 159\n",
       "Hospitality Management                114\n",
       "E-COMMERCE                            112\n",
       "Retail Management                     100\n",
       "Rural and Agribusiness                 73\n",
       "E-Business                             57\n",
       "Services Excellence                    40\n",
       "Name: Specialization, dtype: int64"
      ]
     },
     "execution_count": 34,
     "metadata": {},
     "output_type": "execute_result"
    }
   ],
   "source": [
    "leads['Specialization'].value_counts(dropna=False)"
   ]
  },
  {
   "cell_type": "code",
   "execution_count": 35,
   "metadata": {
    "execution": {
     "iopub.execute_input": "2023-04-17T13:28:06.925774Z",
     "iopub.status.busy": "2023-04-17T13:28:06.925475Z",
     "iopub.status.idle": "2023-04-17T13:28:07.363713Z",
     "shell.execute_reply": "2023-04-17T13:28:07.362966Z",
     "shell.execute_reply.started": "2023-04-17T13:28:06.925734Z"
    },
    "scrolled": true
   },
   "outputs": [
    {
     "data": {
      "image/png": "[encoded data removed]",
      "text/plain": [
       "<Figure size 1080x360 with 1 Axes>"
      ]
     },
     "metadata": {
      "needs_background": "light"
     },
     "output_type": "display_data"
    }
   ],
   "source": [
    "#plotting spread of Specialization columnn \n",
    "\n",
    "plt.figure(figsize=(15,5))\n",
    "s1=sns.countplot(leads.Specialization, hue=leads.Converted)\n",
    "s1.set_xticklabels(s1.get_xticklabels(),rotation=90)\n",
    "plt.show()"
   ]
  },
  {
   "cell_type": "code",
   "execution_count": 36,
   "metadata": {
    "execution": {
     "iopub.execute_input": "2023-04-17T13:28:07.365024Z",
     "iopub.status.busy": "2023-04-17T13:28:07.364740Z",
     "iopub.status.idle": "2023-04-17T13:28:07.371985Z",
     "shell.execute_reply": "2023-04-17T13:28:07.371111Z",
     "shell.execute_reply.started": "2023-04-17T13:28:07.364995Z"
    }
   },
   "outputs": [],
   "source": [
    "#combining all the Management related Specializations under Management_Specializations bucket\n",
    "\n",
    "leads['Specialization']=leads['Specialization'].replace(['Finance Management','Human Resource Management',\n",
    "'Marketing Management','Operations Management','IT Projects Management','Supply Chain Management',\n",
    "'Healthcare Management','Hospitality Management', 'Retail Management'] ,'Management_Specializations') "
   ]
  },
  {
   "cell_type": "code",
   "execution_count": 37,
   "metadata": {
    "execution": {
     "iopub.execute_input": "2023-04-17T13:28:07.373322Z",
     "iopub.status.busy": "2023-04-17T13:28:07.373075Z",
     "iopub.status.idle": "2023-04-17T13:28:07.744285Z",
     "shell.execute_reply": "2023-04-17T13:28:07.743360Z",
     "shell.execute_reply.started": "2023-04-17T13:28:07.373296Z"
    }
   },
   "outputs": [
    {
     "data": {
      "image/png": "[encoded data removed]",
      "text/plain": [
       "<Figure size 1080x360 with 1 Axes>"
      ]
     },
     "metadata": {
      "needs_background": "light"
     },
     "output_type": "display_data"
    }
   ],
   "source": [
    "#visualizing Converted vs Not-Converted leads fro each specialization\n",
    "\n",
    "plt.figure(figsize=(15,5))\n",
    "s1=sns.countplot(leads.Specialization, hue=leads.Converted)\n",
    "s1.set_xticklabels(s1.get_xticklabels(),rotation=90)\n",
    "plt.show()"
   ]
  },
  {
   "cell_type": "markdown",
   "metadata": {},
   "source": [
    " <div class=\"alert alert-block alert-info\"><b>Inference</b><br>\n",
    "    <li>A major section of leads have not specified the specialization. This may imply that the company is mostly being able to reach to customers who have no or bare minimum work domain knowledge.</li>\n",
    "    <li>It may also imply that the other domains are not available in the options provided in th eform. Company may itself need to expand its options in other domains a</li>\n",
    "    <li>Out of the specializations mentioned, a major percentage of leads come from Management sector and their conversion rate is quite high, but yet not as much as non-conversion. Comnpany may focus on this domain and try to apply better marketing stretegies to convince learners from Manangement related domain</li>\n",
    "    <li>Banking, Investment and Assurance has a very minimum percentage of leads but the conversion rate among them is very high. Company can try to reach out to more people from this domain.</li>\n",
    "    \n",
    "</div>"
   ]
  },
  {
   "cell_type": "code",
   "execution_count": 38,
   "metadata": {
    "execution": {
     "iopub.execute_input": "2023-04-17T13:28:07.745737Z",
     "iopub.status.busy": "2023-04-17T13:28:07.745496Z",
     "iopub.status.idle": "2023-04-17T13:28:07.754707Z",
     "shell.execute_reply": "2023-04-17T13:28:07.753694Z",
     "shell.execute_reply.started": "2023-04-17T13:28:07.745692Z"
    }
   },
   "outputs": [
    {
     "data": {
      "text/plain": [
       "Unemployed              5600\n",
       "NaN                     2690\n",
       "Working Professional     706\n",
       "Student                  210\n",
       "Other                     16\n",
       "Housewife                 10\n",
       "Businessman                8\n",
       "Name: What is your current occupation, dtype: int64"
      ]
     },
     "execution_count": 38,
     "metadata": {},
     "output_type": "execute_result"
    }
   ],
   "source": [
    "#Inspecting data from 'What is your current occupation' column\n",
    "\n",
    "leads['What is your current occupation'].value_counts(dropna=False)"
   ]
  },
  {
   "cell_type": "code",
   "execution_count": 39,
   "metadata": {
    "execution": {
     "iopub.execute_input": "2023-04-17T13:28:07.755991Z",
     "iopub.status.busy": "2023-04-17T13:28:07.755777Z",
     "iopub.status.idle": "2023-04-17T13:28:07.761485Z",
     "shell.execute_reply": "2023-04-17T13:28:07.760603Z",
     "shell.execute_reply.started": "2023-04-17T13:28:07.755966Z"
    }
   },
   "outputs": [],
   "source": [
    "# Lead may not have mentioned 'What is your current occupation' because it was not in the list or maybe they are \n",
    "# Unemployed. So we will replace NaN values here with 'Not Specified'\n",
    "\n",
    "leads['What is your current occupation'] = leads['What is your current occupation'].fillna('Not Specified')"
   ]
  },
  {
   "cell_type": "code",
   "execution_count": 40,
   "metadata": {
    "execution": {
     "iopub.execute_input": "2023-04-17T13:28:07.762965Z",
     "iopub.status.busy": "2023-04-17T13:28:07.762740Z",
     "iopub.status.idle": "2023-04-17T13:28:08.182730Z",
     "shell.execute_reply": "2023-04-17T13:28:08.181663Z",
     "shell.execute_reply.started": "2023-04-17T13:28:07.762941Z"
    }
   },
   "outputs": [
    {
     "data": {
      "image/png": "[encoded data removed]",
      "text/plain": [
       "<Figure size 432x288 with 1 Axes>"
      ]
     },
     "metadata": {
      "needs_background": "light"
     },
     "output_type": "display_data"
    }
   ],
   "source": [
    "#visualizing count of Variable based on Converted value\n",
    "\n",
    "s1=sns.countplot(leads['What is your current occupation'], hue=leads.Converted)\n",
    "s1.set_xticklabels(s1.get_xticklabels(),rotation=90)\n",
    "plt.show()"
   ]
  },
  {
   "cell_type": "markdown",
   "metadata": {},
   "source": [
    "<div class=\"alert alert-block alert-info\"><b>Inference</b><br>\n",
    "    <li>Working Professionals going for the course have high chances of joining it..</li>\n",
    "    <li>The highest number of leads are acquired from the Unemployed section, but their conversion rate needs to be significantly improved. Company can think of implementing promotional offers and discounts to engage the Unemployed and get them converted</li>\n",
    "    \n",
    "</div>"
   ]
  },
  {
   "cell_type": "code",
   "execution_count": 41,
   "metadata": {
    "execution": {
     "iopub.execute_input": "2023-04-17T13:28:08.184479Z",
     "iopub.status.busy": "2023-04-17T13:28:08.184235Z",
     "iopub.status.idle": "2023-04-17T13:28:08.193168Z",
     "shell.execute_reply": "2023-04-17T13:28:08.192398Z",
     "shell.execute_reply.started": "2023-04-17T13:28:08.184452Z"
    }
   },
   "outputs": [
    {
     "data": {
      "text/plain": [
       "Better Career Prospects      6528\n",
       "Flexibility & Convenience       2\n",
       "Other                           1\n",
       "Name: What matters most to you in choosing a course, dtype: int64"
      ]
     },
     "execution_count": 41,
     "metadata": {},
     "output_type": "execute_result"
    }
   ],
   "source": [
    "#checking data for 'What matters most to you in choosing a course'\n",
    "\n",
    "leads['What matters most to you in choosing a course'].value_counts()"
   ]
  },
  {
   "cell_type": "code",
   "execution_count": 42,
   "metadata": {
    "execution": {
     "iopub.execute_input": "2023-04-17T13:28:08.194649Z",
     "iopub.status.busy": "2023-04-17T13:28:08.194453Z",
     "iopub.status.idle": "2023-04-17T13:28:08.365524Z",
     "shell.execute_reply": "2023-04-17T13:28:08.364541Z",
     "shell.execute_reply.started": "2023-04-17T13:28:08.194624Z"
    }
   },
   "outputs": [
    {
     "data": {
      "image/png": "[encoded data removed]",
      "text/plain": [
       "<Figure size 432x288 with 1 Axes>"
      ]
     },
     "metadata": {
      "needs_background": "light"
     },
     "output_type": "display_data"
    }
   ],
   "source": [
    "#visualizing count of Variable based on Converted value\n",
    "\n",
    "s1=sns.countplot(leads['What matters most to you in choosing a course'], hue=leads.Converted)\n",
    "s1.set_xticklabels(s1.get_xticklabels(),rotation=90)\n",
    "plt.show()"
   ]
  },
  {
   "cell_type": "code",
   "execution_count": 43,
   "metadata": {
    "execution": {
     "iopub.execute_input": "2023-04-17T13:28:08.367314Z",
     "iopub.status.busy": "2023-04-17T13:28:08.367138Z",
     "iopub.status.idle": "2023-04-17T13:28:08.377098Z",
     "shell.execute_reply": "2023-04-17T13:28:08.376185Z",
     "shell.execute_reply.started": "2023-04-17T13:28:08.367290Z"
    }
   },
   "outputs": [
    {
     "name": "stdout",
     "output_type": "stream",
     "text": [
      "70.65\n"
     ]
    }
   ],
   "source": [
    "# check the percentage of Better Career Prospects  as value in the 'What matters most to you in choosing a course' column\n",
    "\n",
    "course_percentage = round(100*len(leads[leads['What matters most to you in choosing a course'] == 'Better Career Prospects'])/len(leads['What matters most to you in choosing a course']),2)\n",
    "print(course_percentage)"
   ]
  },
  {
   "cell_type": "markdown",
   "metadata": {},
   "source": [
    "<div class=\"alert alert-block alert-info\"><b>Inference</b><br>\n",
    "    <li>A major 71 % of leads arelooking for a better job prspect, whereas a significant 29% of leads havenot specified anything at all. The job market being so volatile and competitive, the company can strategise to tie up with companies and promote job placement help features </li>\n",
    "    \n",
    "</div>"
   ]
  },
  {
   "cell_type": "code",
   "execution_count": 44,
   "metadata": {
    "execution": {
     "iopub.execute_input": "2023-04-17T13:28:08.378548Z",
     "iopub.status.busy": "2023-04-17T13:28:08.378350Z",
     "iopub.status.idle": "2023-04-17T13:28:08.385679Z",
     "shell.execute_reply": "2023-04-17T13:28:08.384782Z",
     "shell.execute_reply.started": "2023-04-17T13:28:08.378525Z"
    }
   },
   "outputs": [],
   "source": [
    "# Since \"Better Career Prospects\" occurs around 70% of times in the column, and also has around 29% as missing values, \n",
    "# we shall go ahead and drop the column\n",
    "\n",
    "leads = leads.drop(['What matters most to you in choosing a course'], axis=1)"
   ]
  },
  {
   "cell_type": "code",
   "execution_count": 45,
   "metadata": {
    "execution": {
     "iopub.execute_input": "2023-04-17T13:28:08.387297Z",
     "iopub.status.busy": "2023-04-17T13:28:08.387108Z",
     "iopub.status.idle": "2023-04-17T13:28:08.395719Z",
     "shell.execute_reply": "2023-04-17T13:28:08.394852Z",
     "shell.execute_reply.started": "2023-04-17T13:28:08.387274Z"
    }
   },
   "outputs": [
    {
     "data": {
      "text/plain": [
       "NaN                                                  3353\n",
       "Will revert after reading the email                  2072\n",
       "Ringing                                              1203\n",
       "Interested in other courses                           513\n",
       "Already a student                                     465\n",
       "Closed by Horizzon                                    358\n",
       "switched off                                          240\n",
       "Busy                                                  186\n",
       "Lost to EINS                                          175\n",
       "Not doing further education                           145\n",
       "Interested  in full time MBA                          117\n",
       "Graduation in progress                                111\n",
       "invalid number                                         83\n",
       "Diploma holder (Not Eligible)                          63\n",
       "wrong number given                                     47\n",
       "opp hangup                                             33\n",
       "number not provided                                    27\n",
       "in touch with EINS                                     12\n",
       "Lost to Others                                          7\n",
       "Want to take admission but has financial problems       6\n",
       "Still Thinking                                          6\n",
       "Interested in Next batch                                5\n",
       "In confusion whether part time or DLP                   5\n",
       "Lateral student                                         3\n",
       "Shall take in the next coming month                     2\n",
       "University not recognized                               2\n",
       "Recognition issue (DEC approval)                        1\n",
       "Name: Tags, dtype: int64"
      ]
     },
     "execution_count": 45,
     "metadata": {},
     "output_type": "execute_result"
    }
   ],
   "source": [
    "#checking value counts of Tag variable\n",
    "leads['Tags'].value_counts(dropna=False)"
   ]
  },
  {
   "cell_type": "code",
   "execution_count": 46,
   "metadata": {
    "execution": {
     "iopub.execute_input": "2023-04-17T13:28:08.397104Z",
     "iopub.status.busy": "2023-04-17T13:28:08.396876Z",
     "iopub.status.idle": "2023-04-17T13:28:08.402281Z",
     "shell.execute_reply": "2023-04-17T13:28:08.401375Z",
     "shell.execute_reply.started": "2023-04-17T13:28:08.397079Z"
    }
   },
   "outputs": [],
   "source": [
    "#replacing Nan values with \"Not Specified\"\n",
    "leads['Tags'] = leads['Tags'].replace(np.nan,'Not Specified')"
   ]
  },
  {
   "cell_type": "code",
   "execution_count": 47,
   "metadata": {
    "execution": {
     "iopub.execute_input": "2023-04-17T13:28:08.403915Z",
     "iopub.status.busy": "2023-04-17T13:28:08.403707Z",
     "iopub.status.idle": "2023-04-17T13:28:08.868095Z",
     "shell.execute_reply": "2023-04-17T13:28:08.867345Z",
     "shell.execute_reply.started": "2023-04-17T13:28:08.403889Z"
    }
   },
   "outputs": [
    {
     "data": {
      "image/png": "[encoded data removed]",
      "text/plain": [
       "<Figure size 1080x360 with 1 Axes>"
      ]
     },
     "metadata": {
      "needs_background": "light"
     },
     "output_type": "display_data"
    }
   ],
   "source": [
    "#visualizing Converted vs Non-converted leads per Tag\n",
    "\n",
    "plt.figure(figsize=(15,5))\n",
    "s1=sns.countplot(leads['Tags'], hue=leads.Converted)\n",
    "s1.set_xticklabels(s1.get_xticklabels(),rotation=90)\n",
    "plt.show()"
   ]
  },
  {
   "cell_type": "code",
   "execution_count": 48,
   "metadata": {
    "execution": {
     "iopub.execute_input": "2023-04-17T13:28:08.869404Z",
     "iopub.status.busy": "2023-04-17T13:28:08.869212Z",
     "iopub.status.idle": "2023-04-17T13:28:08.878752Z",
     "shell.execute_reply": "2023-04-17T13:28:08.877767Z",
     "shell.execute_reply.started": "2023-04-17T13:28:08.869379Z"
    }
   },
   "outputs": [],
   "source": [
    "#replacing tags with low frequency with \"Other Tags\"\n",
    "\n",
    "leads['Tags'] = leads['Tags'].replace(['In confusion whether part time or DLP', 'in touch with EINS','Diploma holder (Not Eligible)',\n",
    "                                     'Approached upfront','Graduation in progress','number not provided', 'opp hangup','Still Thinking',\n",
    "                                    'Lost to Others','Shall take in the next coming month','Lateral student','Interested in Next batch',\n",
    "                                    'Recognition issue (DEC approval)','Want to take admission but has financial problems',\n",
    "                                    'University not recognized'], 'Other_Tags')\n",
    "\n",
    "leads['Tags'] = leads['Tags'].replace(['switched off',\n",
    "                                      'Already a student',\n",
    "                                       'Not doing further education',\n",
    "                                       'invalid number',\n",
    "                                       'wrong number given',\n",
    "                                       'Interested  in full time MBA'] , 'Other_Tags')"
   ]
  },
  {
   "cell_type": "code",
   "execution_count": 49,
   "metadata": {
    "execution": {
     "iopub.execute_input": "2023-04-17T13:28:08.880424Z",
     "iopub.status.busy": "2023-04-17T13:28:08.880178Z",
     "iopub.status.idle": "2023-04-17T13:28:09.154943Z",
     "shell.execute_reply": "2023-04-17T13:28:09.153877Z",
     "shell.execute_reply.started": "2023-04-17T13:28:08.880398Z"
    }
   },
   "outputs": [
    {
     "data": {
      "image/png": "[encoded data removed]",
      "text/plain": [
       "<Figure size 1080x360 with 1 Axes>"
      ]
     },
     "metadata": {
      "needs_background": "light"
     },
     "output_type": "display_data"
    }
   ],
   "source": [
    "#visualizing count of Variable based on Converted value\n",
    "\n",
    "plt.figure(figsize=(15,5))\n",
    "s1=sns.countplot(leads['Tags'], hue=leads.Converted)\n",
    "s1.set_xticklabels(s1.get_xticklabels(),rotation=90)\n",
    "plt.show()"
   ]
  },
  {
   "cell_type": "markdown",
   "metadata": {},
   "source": [
    "<div class=\"alert alert-block alert-info\"><b>Inference</b>\n",
    "<br><li>Leads who committed to revert after reading the email, have a very successful conversion rate, with mostly around 95% of the leads being actually converted to paying customers. Email may be a preferred way of communicatio nof the offers and courses by the company </li>\n",
    "    <li>'Lost to EINs' and 'Closed by Horizzon' tags have very less number of leads but outof those, almost all converted. Company can focus on those channels </li>\n",
    "    \n",
    "</div>"
   ]
  },
  {
   "cell_type": "code",
   "execution_count": 50,
   "metadata": {
    "execution": {
     "iopub.execute_input": "2023-04-17T13:28:09.156794Z",
     "iopub.status.busy": "2023-04-17T13:28:09.156500Z",
     "iopub.status.idle": "2023-04-17T13:28:09.174384Z",
     "shell.execute_reply": "2023-04-17T13:28:09.173623Z",
     "shell.execute_reply.started": "2023-04-17T13:28:09.156762Z"
    }
   },
   "outputs": [
    {
     "data": {
      "text/plain": [
       "Lead Origin                                0.0000\n",
       "Lead Source                                0.3900\n",
       "Do Not Email                               0.0000\n",
       "Do Not Call                                0.0000\n",
       "Converted                                  0.0000\n",
       "TotalVisits                                1.4800\n",
       "Total Time Spent on Website                0.0000\n",
       "Page Views Per Visit                       1.4800\n",
       "Last Activity                              1.1100\n",
       "Specialization                             0.0000\n",
       "What is your current occupation            0.0000\n",
       "Search                                     0.0000\n",
       "Magazine                                   0.0000\n",
       "Newspaper Article                          0.0000\n",
       "X Education Forums                         0.0000\n",
       "Newspaper                                  0.0000\n",
       "Digital Advertisement                      0.0000\n",
       "Through Recommendations                    0.0000\n",
       "Receive More Updates About Our Courses     0.0000\n",
       "Tags                                       0.0000\n",
       "Update me on Supply Chain Content          0.0000\n",
       "Get updates on DM Content                  0.0000\n",
       "I agree to pay the amount through cheque   0.0000\n",
       "A free copy of Mastering The Interview     0.0000\n",
       "Last Notable Activity                      0.0000\n",
       "dtype: float64"
      ]
     },
     "execution_count": 50,
     "metadata": {},
     "output_type": "execute_result"
    }
   ],
   "source": [
    "#checking percentage of missing values\n",
    "round(100*(leads.isnull().sum()/len(leads.index)), 2)"
   ]
  },
  {
   "cell_type": "code",
   "execution_count": 51,
   "metadata": {
    "execution": {
     "iopub.execute_input": "2023-04-17T13:28:09.175826Z",
     "iopub.status.busy": "2023-04-17T13:28:09.175488Z",
     "iopub.status.idle": "2023-04-17T13:28:09.184146Z",
     "shell.execute_reply": "2023-04-17T13:28:09.183388Z",
     "shell.execute_reply.started": "2023-04-17T13:28:09.175796Z"
    }
   },
   "outputs": [
    {
     "data": {
      "text/plain": [
       "Google               2868\n",
       "Direct Traffic       2543\n",
       "Olark Chat           1755\n",
       "Organic Search       1154\n",
       "Reference             534\n",
       "Welingak Website      142\n",
       "Referral Sites        125\n",
       "Facebook               55\n",
       "NaN                    36\n",
       "bing                    6\n",
       "google                  5\n",
       "Click2call              4\n",
       "Social Media            2\n",
       "Live Chat               2\n",
       "Press_Release           2\n",
       "Pay per Click Ads       1\n",
       "testone                 1\n",
       "youtubechannel          1\n",
       "NC_EDM                  1\n",
       "blog                    1\n",
       "welearnblog_Home        1\n",
       "WeLearn                 1\n",
       "Name: Lead Source, dtype: int64"
      ]
     },
     "execution_count": 51,
     "metadata": {},
     "output_type": "execute_result"
    }
   ],
   "source": [
    "#checking value counts of Lead Source column\n",
    "\n",
    "leads['Lead Source'].value_counts(dropna=False)"
   ]
  },
  {
   "cell_type": "code",
   "execution_count": 52,
   "metadata": {
    "execution": {
     "iopub.execute_input": "2023-04-17T13:28:09.185585Z",
     "iopub.status.busy": "2023-04-17T13:28:09.185291Z",
     "iopub.status.idle": "2023-04-17T13:28:09.196330Z",
     "shell.execute_reply": "2023-04-17T13:28:09.195586Z",
     "shell.execute_reply.started": "2023-04-17T13:28:09.185556Z"
    }
   },
   "outputs": [],
   "source": [
    "#replacing Nan Values and combining low frequency values\n",
    "\n",
    "leads['Lead Source'] = leads['Lead Source'].replace(np.nan,'Others')\n",
    "leads['Lead Source'] = leads['Lead Source'].replace('google','Google')\n",
    "leads['Lead Source'] = leads['Lead Source'].replace('Facebook','Social Media')\n",
    "leads['Lead Source'] = leads['Lead Source'].replace(['bing','Click2call','Press_Release',\n",
    "                                                     'youtubechannel','welearnblog_Home',\n",
    "                                                     'WeLearn','blog','Pay per Click Ads',\n",
    "                                                     'testone','NC_EDM','Live Chat'] ,'Others')"
   ]
  },
  {
   "cell_type": "code",
   "execution_count": 53,
   "metadata": {
    "execution": {
     "iopub.execute_input": "2023-04-17T13:28:09.197676Z",
     "iopub.status.busy": "2023-04-17T13:28:09.197391Z",
     "iopub.status.idle": "2023-04-17T13:28:09.488724Z",
     "shell.execute_reply": "2023-04-17T13:28:09.487930Z",
     "shell.execute_reply.started": "2023-04-17T13:28:09.197649Z"
    }
   },
   "outputs": [
    {
     "data": {
      "image/png": "[encoded data removed]",
      "text/plain": [
       "<Figure size 1080x360 with 1 Axes>"
      ]
     },
     "metadata": {
      "needs_background": "light"
     },
     "output_type": "display_data"
    }
   ],
   "source": [
    "#visualizing count of Variable based on Converted value\n",
    "plt.figure(figsize=(15,5))\n",
    "s1=sns.countplot(leads['Lead Source'], hue=leads.Converted)\n",
    "s1.set_xticklabels(s1.get_xticklabels(),rotation=90)\n",
    "plt.show()"
   ]
  },
  {
   "cell_type": "markdown",
   "metadata": {},
   "source": [
    "<div class=\"alert alert-block alert-info\"><b>Inference</b>\n",
    "<br><li>Maximum number of leads are generated by Google and Direct traffic. But their conversion rate has to significantly improved. Clearly these are to most common channels to attract the prospective customers but company needs to strategise well to actually convert them to customers </li>\n",
    "    <li>Conversion Rate of reference leads and leads through welingak website is high, but number of leads acquired is very low. </li>\n",
    "    \n",
    "</div>\n",
    "\n"
   ]
  },
  {
   "cell_type": "code",
   "execution_count": 54,
   "metadata": {
    "execution": {
     "iopub.execute_input": "2023-04-17T13:28:09.490009Z",
     "iopub.status.busy": "2023-04-17T13:28:09.489760Z",
     "iopub.status.idle": "2023-04-17T13:28:09.498422Z",
     "shell.execute_reply": "2023-04-17T13:28:09.497559Z",
     "shell.execute_reply.started": "2023-04-17T13:28:09.489980Z"
    }
   },
   "outputs": [
    {
     "data": {
      "text/plain": [
       "Email Opened                    3437\n",
       "SMS Sent                        2745\n",
       "Olark Chat Conversation          973\n",
       "Page Visited on Website          640\n",
       "Converted to Lead                428\n",
       "Email Bounced                    326\n",
       "Email Link Clicked               267\n",
       "Form Submitted on Website        116\n",
       "NaN                              103\n",
       "Unreachable                       93\n",
       "Unsubscribed                      61\n",
       "Had a Phone Conversation          30\n",
       "Approached upfront                 9\n",
       "View in browser link Clicked       6\n",
       "Email Received                     2\n",
       "Email Marked Spam                  2\n",
       "Visited Booth in Tradeshow         1\n",
       "Resubscribed to emails             1\n",
       "Name: Last Activity, dtype: int64"
      ]
     },
     "execution_count": 54,
     "metadata": {},
     "output_type": "execute_result"
    }
   ],
   "source": [
    "# Last Activity:\n",
    "\n",
    "leads['Last Activity'].value_counts(dropna=False)"
   ]
  },
  {
   "cell_type": "code",
   "execution_count": 55,
   "metadata": {
    "execution": {
     "iopub.execute_input": "2023-04-17T13:28:09.499546Z",
     "iopub.status.busy": "2023-04-17T13:28:09.499339Z",
     "iopub.status.idle": "2023-04-17T13:28:09.507414Z",
     "shell.execute_reply": "2023-04-17T13:28:09.506619Z",
     "shell.execute_reply.started": "2023-04-17T13:28:09.499520Z"
    }
   },
   "outputs": [],
   "source": [
    "#replacing Nan Values and combining low frequency values\n",
    "\n",
    "leads['Last Activity'] = leads['Last Activity'].replace(np.nan,'Others')\n",
    "leads['Last Activity'] = leads['Last Activity'].replace(['Unreachable','Unsubscribed',\n",
    "                                                        'Had a Phone Conversation', \n",
    "                                                        'Approached upfront',\n",
    "                                                        'View in browser link Clicked',       \n",
    "                                                        'Email Marked Spam',                  \n",
    "                                                        'Email Received','Resubscribed to emails',\n",
    "                                                         'Visited Booth in Tradeshow'],'Others')"
   ]
  },
  {
   "cell_type": "code",
   "execution_count": 56,
   "metadata": {
    "execution": {
     "iopub.execute_input": "2023-04-17T13:28:09.508799Z",
     "iopub.status.busy": "2023-04-17T13:28:09.508528Z",
     "iopub.status.idle": "2023-04-17T13:28:09.792335Z",
     "shell.execute_reply": "2023-04-17T13:28:09.791404Z",
     "shell.execute_reply.started": "2023-04-17T13:28:09.508772Z"
    },
    "scrolled": true
   },
   "outputs": [
    {
     "data": {
      "image/png": "[encoded data removed]",
      "text/plain": [
       "<Figure size 720x576 with 1 Axes>"
      ]
     },
     "metadata": {
      "needs_background": "light"
     },
     "output_type": "display_data"
    }
   ],
   "source": [
    "#visualizing count of Variable based on Converted value\n",
    "plt.figure(figsize=(10,8))\n",
    "s1=sns.countplot(leads['Last Activity'], hue=leads.Converted)\n",
    "s1.set_xticklabels(s1.get_xticklabels(),rotation=90)\n",
    "plt.show()"
   ]
  },
  {
   "cell_type": "markdown",
   "metadata": {},
   "source": [
    "<div class=\"alert alert-block alert-info\"><b>Inference</b>\n",
    "<br><li>Email and SMS are clearly the channels that attract most number of prospects.</li><li>Interested folks are actually opening the emails. BUt after going through the details in the emails, the prospects are not convinced enough to get converted to customers.</li>\n",
    "    <li>On the contrary, people going through teh details in SMS, are more likely to get converted.</li>\n",
    "    \n",
    "</div>"
   ]
  },
  {
   "cell_type": "code",
   "execution_count": 57,
   "metadata": {
    "execution": {
     "iopub.execute_input": "2023-04-17T13:28:09.793644Z",
     "iopub.status.busy": "2023-04-17T13:28:09.793399Z",
     "iopub.status.idle": "2023-04-17T13:28:09.809881Z",
     "shell.execute_reply": "2023-04-17T13:28:09.809032Z",
     "shell.execute_reply.started": "2023-04-17T13:28:09.793615Z"
    }
   },
   "outputs": [
    {
     "data": {
      "text/plain": [
       "Lead Origin                                0.0000\n",
       "Lead Source                                0.0000\n",
       "Do Not Email                               0.0000\n",
       "Do Not Call                                0.0000\n",
       "Converted                                  0.0000\n",
       "TotalVisits                                1.4800\n",
       "Total Time Spent on Website                0.0000\n",
       "Page Views Per Visit                       1.4800\n",
       "Last Activity                              0.0000\n",
       "Specialization                             0.0000\n",
       "What is your current occupation            0.0000\n",
       "Search                                     0.0000\n",
       "Magazine                                   0.0000\n",
       "Newspaper Article                          0.0000\n",
       "X Education Forums                         0.0000\n",
       "Newspaper                                  0.0000\n",
       "Digital Advertisement                      0.0000\n",
       "Through Recommendations                    0.0000\n",
       "Receive More Updates About Our Courses     0.0000\n",
       "Tags                                       0.0000\n",
       "Update me on Supply Chain Content          0.0000\n",
       "Get updates on DM Content                  0.0000\n",
       "I agree to pay the amount through cheque   0.0000\n",
       "A free copy of Mastering The Interview     0.0000\n",
       "Last Notable Activity                      0.0000\n",
       "dtype: float64"
      ]
     },
     "execution_count": 57,
     "metadata": {},
     "output_type": "execute_result"
    }
   ],
   "source": [
    "#Check the Null Values in All Columns:\n",
    "\n",
    "round(100*(leads.isnull().sum()/len(leads.index)), 2)"
   ]
  },
  {
   "cell_type": "code",
   "execution_count": 58,
   "metadata": {
    "execution": {
     "iopub.execute_input": "2023-04-17T13:28:09.811121Z",
     "iopub.status.busy": "2023-04-17T13:28:09.810821Z",
     "iopub.status.idle": "2023-04-17T13:28:09.826774Z",
     "shell.execute_reply": "2023-04-17T13:28:09.826132Z",
     "shell.execute_reply.started": "2023-04-17T13:28:09.811093Z"
    }
   },
   "outputs": [],
   "source": [
    "#Drop all rows which have Nan Values. Since the number of Dropped rows is less than 2%,it will not affect the model\n",
    "\n",
    "leads = leads.dropna()"
   ]
  },
  {
   "cell_type": "code",
   "execution_count": 59,
   "metadata": {
    "execution": {
     "iopub.execute_input": "2023-04-17T13:28:09.828021Z",
     "iopub.status.busy": "2023-04-17T13:28:09.827769Z",
     "iopub.status.idle": "2023-04-17T13:28:09.842749Z",
     "shell.execute_reply": "2023-04-17T13:28:09.842062Z",
     "shell.execute_reply.started": "2023-04-17T13:28:09.827994Z"
    }
   },
   "outputs": [
    {
     "data": {
      "text/plain": [
       "Lead Origin                                0.0000\n",
       "Lead Source                                0.0000\n",
       "Do Not Email                               0.0000\n",
       "Do Not Call                                0.0000\n",
       "Converted                                  0.0000\n",
       "TotalVisits                                0.0000\n",
       "Total Time Spent on Website                0.0000\n",
       "Page Views Per Visit                       0.0000\n",
       "Last Activity                              0.0000\n",
       "Specialization                             0.0000\n",
       "What is your current occupation            0.0000\n",
       "Search                                     0.0000\n",
       "Magazine                                   0.0000\n",
       "Newspaper Article                          0.0000\n",
       "X Education Forums                         0.0000\n",
       "Newspaper                                  0.0000\n",
       "Digital Advertisement                      0.0000\n",
       "Through Recommendations                    0.0000\n",
       "Receive More Updates About Our Courses     0.0000\n",
       "Tags                                       0.0000\n",
       "Update me on Supply Chain Content          0.0000\n",
       "Get updates on DM Content                  0.0000\n",
       "I agree to pay the amount through cheque   0.0000\n",
       "A free copy of Mastering The Interview     0.0000\n",
       "Last Notable Activity                      0.0000\n",
       "dtype: float64"
      ]
     },
     "execution_count": 59,
     "metadata": {},
     "output_type": "execute_result"
    }
   ],
   "source": [
    "#Checking percentage of Null Values in All Columns:\n",
    "\n",
    "round(100*(leads.isnull().sum()/len(leads.index)), 2)"
   ]
  },
  {
   "cell_type": "code",
   "execution_count": 60,
   "metadata": {
    "execution": {
     "iopub.execute_input": "2023-04-17T13:28:09.844008Z",
     "iopub.status.busy": "2023-04-17T13:28:09.843789Z",
     "iopub.status.idle": "2023-04-17T13:28:09.851371Z",
     "shell.execute_reply": "2023-04-17T13:28:09.850642Z",
     "shell.execute_reply.started": "2023-04-17T13:28:09.843982Z"
    }
   },
   "outputs": [
    {
     "data": {
      "text/plain": [
       "Landing Page Submission    4886\n",
       "API                        3578\n",
       "Lead Add Form               608\n",
       "Lead Import                  31\n",
       "Name: Lead Origin, dtype: int64"
      ]
     },
     "execution_count": 60,
     "metadata": {},
     "output_type": "execute_result"
    }
   ],
   "source": [
    "#Lead Origin\n",
    "\n",
    "leads['Lead Origin'].value_counts(dropna=False)"
   ]
  },
  {
   "cell_type": "code",
   "execution_count": 61,
   "metadata": {
    "execution": {
     "iopub.execute_input": "2023-04-17T13:28:09.852713Z",
     "iopub.status.busy": "2023-04-17T13:28:09.852425Z",
     "iopub.status.idle": "2023-04-17T13:28:10.039040Z",
     "shell.execute_reply": "2023-04-17T13:28:10.037940Z",
     "shell.execute_reply.started": "2023-04-17T13:28:09.852683Z"
    }
   },
   "outputs": [
    {
     "data": {
      "image/png": "[encoded data removed]",
      "text/plain": [
       "<Figure size 576x360 with 1 Axes>"
      ]
     },
     "metadata": {
      "needs_background": "light"
     },
     "output_type": "display_data"
    }
   ],
   "source": [
    "#visualizing count of Converted and Non- Converted based on Lead Origin\n",
    "\n",
    "plt.figure(figsize=(8,5))\n",
    "s1=sns.countplot(leads['Lead Origin'], hue=leads.Converted)\n",
    "s1.set_xticklabels(s1.get_xticklabels(),rotation=90)\n",
    "plt.show()"
   ]
  },
  {
   "cell_type": "markdown",
   "metadata": {},
   "source": [
    "<div class=\"alert alert-block alert-info\"><b>Inference</b>\n",
    "<br><li> API and Landing Page Submission bring higher number of leads as well as conversion.</li>\n",
    "<li>Lead Add Form has a very high conversion rate but count of leads are not very high.</li>\n",
    "<li>Lead Import and Lead Add Form get very few leads.</li>\n",
    "<li>In order to improve overall lead conversion rate, we have to improve lead converion of API and Landing Page Submission origin and generate more leads from Lead Add Form.</li>\n",
    "</div>\n",
    "\n"
   ]
  },
  {
   "cell_type": "code",
   "execution_count": 62,
   "metadata": {
    "execution": {
     "iopub.execute_input": "2023-04-17T13:28:10.040394Z",
     "iopub.status.busy": "2023-04-17T13:28:10.040169Z",
     "iopub.status.idle": "2023-04-17T13:28:10.348438Z",
     "shell.execute_reply": "2023-04-17T13:28:10.347402Z",
     "shell.execute_reply.started": "2023-04-17T13:28:10.040368Z"
    }
   },
   "outputs": [
    {
     "data": {
      "image/png": "[encoded data removed]",
      "text/plain": [
       "<Figure size 1080x360 with 2 Axes>"
      ]
     },
     "metadata": {
      "needs_background": "light"
     },
     "output_type": "display_data"
    }
   ],
   "source": [
    "#Do Not Email & Do Not Call\n",
    "#visualizing count of Variable based on Converted value\n",
    "\n",
    "plt.figure(figsize=(15,5))\n",
    "\n",
    "ax1=plt.subplot(1, 2, 1)\n",
    "ax1=sns.countplot(leads['Do Not Call'], hue=leads.Converted)\n",
    "ax1.set_xticklabels(ax1.get_xticklabels(),rotation=90)\n",
    "\n",
    "ax2=plt.subplot(1, 2, 2)\n",
    "ax2=sns.countplot(leads['Do Not Email'], hue=leads.Converted)\n",
    "ax2.set_xticklabels(ax2.get_xticklabels(),rotation=90)\n",
    "plt.show()"
   ]
  },
  {
   "cell_type": "code",
   "execution_count": 63,
   "metadata": {
    "execution": {
     "iopub.execute_input": "2023-04-17T13:28:10.350094Z",
     "iopub.status.busy": "2023-04-17T13:28:10.349843Z",
     "iopub.status.idle": "2023-04-17T13:28:10.358290Z",
     "shell.execute_reply": "2023-04-17T13:28:10.357364Z",
     "shell.execute_reply.started": "2023-04-17T13:28:10.350064Z"
    }
   },
   "outputs": [
    {
     "data": {
      "text/plain": [
       "No     9101\n",
       "Yes       2\n",
       "Name: Do Not Call, dtype: int64"
      ]
     },
     "execution_count": 63,
     "metadata": {},
     "output_type": "execute_result"
    }
   ],
   "source": [
    "#checking value counts for Do Not Call\n",
    "\n",
    "leads['Do Not Call'].value_counts(dropna=False)"
   ]
  },
  {
   "cell_type": "code",
   "execution_count": 64,
   "metadata": {
    "execution": {
     "iopub.execute_input": "2023-04-17T13:28:10.359647Z",
     "iopub.status.busy": "2023-04-17T13:28:10.359330Z",
     "iopub.status.idle": "2023-04-17T13:28:10.367779Z",
     "shell.execute_reply": "2023-04-17T13:28:10.366984Z",
     "shell.execute_reply.started": "2023-04-17T13:28:10.359617Z"
    }
   },
   "outputs": [
    {
     "data": {
      "text/plain": [
       "No     8379\n",
       "Yes     724\n",
       "Name: Do Not Email, dtype: int64"
      ]
     },
     "execution_count": 64,
     "metadata": {},
     "output_type": "execute_result"
    }
   ],
   "source": [
    "#checking value counts for Do Not Email\n",
    "\n",
    "leads['Do Not Email'].value_counts(dropna=False)"
   ]
  },
  {
   "cell_type": "code",
   "execution_count": 65,
   "metadata": {
    "execution": {
     "iopub.execute_input": "2023-04-17T13:28:10.369131Z",
     "iopub.status.busy": "2023-04-17T13:28:10.368810Z",
     "iopub.status.idle": "2023-04-17T13:28:10.379642Z",
     "shell.execute_reply": "2023-04-17T13:28:10.378825Z",
     "shell.execute_reply.started": "2023-04-17T13:28:10.369101Z"
    }
   },
   "outputs": [],
   "source": [
    "# We Can drop the Do Not Call Column to the list of Column since it's No count value is greater than 99%.\n",
    "\n",
    "leads = leads.drop(['Do Not Call'], axis=1)"
   ]
  },
  {
   "cell_type": "code",
   "execution_count": 66,
   "metadata": {
    "execution": {
     "iopub.execute_input": "2023-04-17T13:28:10.381033Z",
     "iopub.status.busy": "2023-04-17T13:28:10.380758Z",
     "iopub.status.idle": "2023-04-17T13:28:10.390651Z",
     "shell.execute_reply": "2023-04-17T13:28:10.390011Z",
     "shell.execute_reply.started": "2023-04-17T13:28:10.381003Z"
    }
   },
   "outputs": [
    {
     "data": {
      "text/plain": [
       "No     9089\n",
       "Yes      14\n",
       "Name: Search, dtype: int64"
      ]
     },
     "execution_count": 66,
     "metadata": {},
     "output_type": "execute_result"
    }
   ],
   "source": [
    "leads['Search'].value_counts(dropna=False)"
   ]
  },
  {
   "cell_type": "code",
   "execution_count": 67,
   "metadata": {
    "execution": {
     "iopub.execute_input": "2023-04-17T13:28:10.392306Z",
     "iopub.status.busy": "2023-04-17T13:28:10.391993Z",
     "iopub.status.idle": "2023-04-17T13:28:10.400957Z",
     "shell.execute_reply": "2023-04-17T13:28:10.400228Z",
     "shell.execute_reply.started": "2023-04-17T13:28:10.392279Z"
    }
   },
   "outputs": [
    {
     "data": {
      "text/plain": [
       "No    9103\n",
       "Name: Magazine, dtype: int64"
      ]
     },
     "execution_count": 67,
     "metadata": {},
     "output_type": "execute_result"
    }
   ],
   "source": [
    "leads['Magazine'].value_counts(dropna=False)"
   ]
  },
  {
   "cell_type": "code",
   "execution_count": 68,
   "metadata": {
    "execution": {
     "iopub.execute_input": "2023-04-17T13:28:10.402499Z",
     "iopub.status.busy": "2023-04-17T13:28:10.402196Z",
     "iopub.status.idle": "2023-04-17T13:28:10.412920Z",
     "shell.execute_reply": "2023-04-17T13:28:10.412236Z",
     "shell.execute_reply.started": "2023-04-17T13:28:10.402473Z"
    }
   },
   "outputs": [
    {
     "data": {
      "text/plain": [
       "No     9101\n",
       "Yes       2\n",
       "Name: Newspaper Article, dtype: int64"
      ]
     },
     "execution_count": 68,
     "metadata": {},
     "output_type": "execute_result"
    }
   ],
   "source": [
    "leads['Newspaper Article'].value_counts(dropna=False)"
   ]
  },
  {
   "cell_type": "code",
   "execution_count": 69,
   "metadata": {
    "execution": {
     "iopub.execute_input": "2023-04-17T13:28:10.414395Z",
     "iopub.status.busy": "2023-04-17T13:28:10.414049Z",
     "iopub.status.idle": "2023-04-17T13:28:10.424741Z",
     "shell.execute_reply": "2023-04-17T13:28:10.424020Z",
     "shell.execute_reply.started": "2023-04-17T13:28:10.414352Z"
    }
   },
   "outputs": [
    {
     "data": {
      "text/plain": [
       "No     9102\n",
       "Yes       1\n",
       "Name: X Education Forums, dtype: int64"
      ]
     },
     "execution_count": 69,
     "metadata": {},
     "output_type": "execute_result"
    }
   ],
   "source": [
    "leads['X Education Forums'].value_counts(dropna=False)"
   ]
  },
  {
   "cell_type": "code",
   "execution_count": 70,
   "metadata": {
    "execution": {
     "iopub.execute_input": "2023-04-17T13:28:10.426215Z",
     "iopub.status.busy": "2023-04-17T13:28:10.425918Z",
     "iopub.status.idle": "2023-04-17T13:28:10.433774Z",
     "shell.execute_reply": "2023-04-17T13:28:10.433087Z",
     "shell.execute_reply.started": "2023-04-17T13:28:10.426187Z"
    }
   },
   "outputs": [
    {
     "data": {
      "text/plain": [
       "No     9102\n",
       "Yes       1\n",
       "Name: Newspaper, dtype: int64"
      ]
     },
     "execution_count": 70,
     "metadata": {},
     "output_type": "execute_result"
    }
   ],
   "source": [
    "leads['Newspaper'].value_counts(dropna=False)"
   ]
  },
  {
   "cell_type": "code",
   "execution_count": 71,
   "metadata": {
    "execution": {
     "iopub.execute_input": "2023-04-17T13:28:10.435307Z",
     "iopub.status.busy": "2023-04-17T13:28:10.434981Z",
     "iopub.status.idle": "2023-04-17T13:28:10.445145Z",
     "shell.execute_reply": "2023-04-17T13:28:10.444466Z",
     "shell.execute_reply.started": "2023-04-17T13:28:10.435280Z"
    }
   },
   "outputs": [
    {
     "data": {
      "text/plain": [
       "No     9099\n",
       "Yes       4\n",
       "Name: Digital Advertisement, dtype: int64"
      ]
     },
     "execution_count": 71,
     "metadata": {},
     "output_type": "execute_result"
    }
   ],
   "source": [
    "leads['Digital Advertisement'].value_counts(dropna=False)"
   ]
  },
  {
   "cell_type": "code",
   "execution_count": 72,
   "metadata": {
    "execution": {
     "iopub.execute_input": "2023-04-17T13:28:10.446461Z",
     "iopub.status.busy": "2023-04-17T13:28:10.446253Z",
     "iopub.status.idle": "2023-04-17T13:28:10.456821Z",
     "shell.execute_reply": "2023-04-17T13:28:10.456190Z",
     "shell.execute_reply.started": "2023-04-17T13:28:10.446435Z"
    }
   },
   "outputs": [
    {
     "data": {
      "text/plain": [
       "No     9096\n",
       "Yes       7\n",
       "Name: Through Recommendations, dtype: int64"
      ]
     },
     "execution_count": 72,
     "metadata": {},
     "output_type": "execute_result"
    }
   ],
   "source": [
    "leads['Through Recommendations'].value_counts(dropna=False)"
   ]
  },
  {
   "cell_type": "code",
   "execution_count": 73,
   "metadata": {
    "execution": {
     "iopub.execute_input": "2023-04-17T13:28:10.458324Z",
     "iopub.status.busy": "2023-04-17T13:28:10.458012Z",
     "iopub.status.idle": "2023-04-17T13:28:10.467095Z",
     "shell.execute_reply": "2023-04-17T13:28:10.466289Z",
     "shell.execute_reply.started": "2023-04-17T13:28:10.458297Z"
    }
   },
   "outputs": [
    {
     "data": {
      "text/plain": [
       "No    9103\n",
       "Name: Receive More Updates About Our Courses, dtype: int64"
      ]
     },
     "execution_count": 73,
     "metadata": {},
     "output_type": "execute_result"
    }
   ],
   "source": [
    "leads['Receive More Updates About Our Courses'].value_counts(dropna=False)"
   ]
  },
  {
   "cell_type": "code",
   "execution_count": 74,
   "metadata": {
    "execution": {
     "iopub.execute_input": "2023-04-17T13:28:10.468504Z",
     "iopub.status.busy": "2023-04-17T13:28:10.468205Z",
     "iopub.status.idle": "2023-04-17T13:28:10.476361Z",
     "shell.execute_reply": "2023-04-17T13:28:10.475679Z",
     "shell.execute_reply.started": "2023-04-17T13:28:10.468474Z"
    }
   },
   "outputs": [
    {
     "data": {
      "text/plain": [
       "No    9103\n",
       "Name: Update me on Supply Chain Content, dtype: int64"
      ]
     },
     "execution_count": 74,
     "metadata": {},
     "output_type": "execute_result"
    }
   ],
   "source": [
    "leads['Update me on Supply Chain Content'].value_counts(dropna=False)"
   ]
  },
  {
   "cell_type": "code",
   "execution_count": 75,
   "metadata": {
    "execution": {
     "iopub.execute_input": "2023-04-17T13:28:10.478051Z",
     "iopub.status.busy": "2023-04-17T13:28:10.477790Z",
     "iopub.status.idle": "2023-04-17T13:28:10.486405Z",
     "shell.execute_reply": "2023-04-17T13:28:10.485658Z",
     "shell.execute_reply.started": "2023-04-17T13:28:10.478008Z"
    }
   },
   "outputs": [
    {
     "data": {
      "text/plain": [
       "No    9103\n",
       "Name: Get updates on DM Content, dtype: int64"
      ]
     },
     "execution_count": 75,
     "metadata": {},
     "output_type": "execute_result"
    }
   ],
   "source": [
    "leads['Get updates on DM Content'].value_counts(dropna=False)"
   ]
  },
  {
   "cell_type": "code",
   "execution_count": 76,
   "metadata": {
    "execution": {
     "iopub.execute_input": "2023-04-17T13:28:10.487972Z",
     "iopub.status.busy": "2023-04-17T13:28:10.487587Z",
     "iopub.status.idle": "2023-04-17T13:28:10.497994Z",
     "shell.execute_reply": "2023-04-17T13:28:10.497274Z",
     "shell.execute_reply.started": "2023-04-17T13:28:10.487941Z"
    }
   },
   "outputs": [
    {
     "data": {
      "text/plain": [
       "No    9103\n",
       "Name: I agree to pay the amount through cheque, dtype: int64"
      ]
     },
     "execution_count": 76,
     "metadata": {},
     "output_type": "execute_result"
    }
   ],
   "source": [
    "leads['I agree to pay the amount through cheque'].value_counts(dropna=False)"
   ]
  },
  {
   "cell_type": "code",
   "execution_count": 77,
   "metadata": {
    "execution": {
     "iopub.execute_input": "2023-04-17T13:28:10.499360Z",
     "iopub.status.busy": "2023-04-17T13:28:10.499056Z",
     "iopub.status.idle": "2023-04-17T13:28:10.507050Z",
     "shell.execute_reply": "2023-04-17T13:28:10.506402Z",
     "shell.execute_reply.started": "2023-04-17T13:28:10.499319Z"
    }
   },
   "outputs": [
    {
     "data": {
      "text/plain": [
       "No     6215\n",
       "Yes    2888\n",
       "Name: A free copy of Mastering The Interview, dtype: int64"
      ]
     },
     "execution_count": 77,
     "metadata": {},
     "output_type": "execute_result"
    }
   ],
   "source": [
    "leads['A free copy of Mastering The Interview'].value_counts(dropna=False)"
   ]
  },
  {
   "cell_type": "code",
   "execution_count": 78,
   "metadata": {
    "execution": {
     "iopub.execute_input": "2023-04-17T13:28:10.508592Z",
     "iopub.status.busy": "2023-04-17T13:28:10.508313Z",
     "iopub.status.idle": "2023-04-17T13:28:10.516227Z",
     "shell.execute_reply": "2023-04-17T13:28:10.515573Z",
     "shell.execute_reply.started": "2023-04-17T13:28:10.508566Z"
    }
   },
   "outputs": [
    {
     "data": {
      "text/plain": [
       "(9103, 24)"
      ]
     },
     "execution_count": 78,
     "metadata": {},
     "output_type": "execute_result"
    }
   ],
   "source": [
    "leads.shape"
   ]
  },
  {
   "cell_type": "code",
   "execution_count": 79,
   "metadata": {
    "execution": {
     "iopub.execute_input": "2023-04-17T13:28:10.517542Z",
     "iopub.status.busy": "2023-04-17T13:28:10.517320Z",
     "iopub.status.idle": "2023-04-17T13:28:10.526745Z",
     "shell.execute_reply": "2023-04-17T13:28:10.525958Z",
     "shell.execute_reply.started": "2023-04-17T13:28:10.517515Z"
    }
   },
   "outputs": [],
   "source": [
    "leads = leads.drop(['Search','Magazine','Newspaper Article','X Education Forums','Newspaper',\n",
    "                 'Digital Advertisement','Through Recommendations','Receive More Updates About Our Courses',\n",
    "                 'Update me on Supply Chain Content',\n",
    "                 'Get updates on DM Content','I agree to pay the amount through cheque'], axis=1)"
   ]
  },
  {
   "cell_type": "code",
   "execution_count": 80,
   "metadata": {
    "execution": {
     "iopub.execute_input": "2023-04-17T13:28:10.528053Z",
     "iopub.status.busy": "2023-04-17T13:28:10.527847Z",
     "iopub.status.idle": "2023-04-17T13:28:10.533309Z",
     "shell.execute_reply": "2023-04-17T13:28:10.532576Z",
     "shell.execute_reply.started": "2023-04-17T13:28:10.528027Z"
    }
   },
   "outputs": [
    {
     "data": {
      "text/plain": [
       "(9103, 13)"
      ]
     },
     "execution_count": 80,
     "metadata": {},
     "output_type": "execute_result"
    }
   ],
   "source": [
    "leads.shape"
   ]
  },
  {
   "cell_type": "code",
   "execution_count": 81,
   "metadata": {
    "execution": {
     "iopub.execute_input": "2023-04-17T13:28:10.534794Z",
     "iopub.status.busy": "2023-04-17T13:28:10.534531Z",
     "iopub.status.idle": "2023-04-17T13:28:10.543652Z",
     "shell.execute_reply": "2023-04-17T13:28:10.542721Z",
     "shell.execute_reply.started": "2023-04-17T13:28:10.534765Z"
    }
   },
   "outputs": [
    {
     "data": {
      "text/plain": [
       "Modified                        3270\n",
       "Email Opened                    2827\n",
       "SMS Sent                        2172\n",
       "Page Visited on Website          318\n",
       "Olark Chat Conversation          183\n",
       "Email Link Clicked               173\n",
       "Email Bounced                     60\n",
       "Unsubscribed                      47\n",
       "Unreachable                       32\n",
       "Had a Phone Conversation          14\n",
       "Email Marked Spam                  2\n",
       "Form Submitted on Website          1\n",
       "Approached upfront                 1\n",
       "View in browser link Clicked       1\n",
       "Email Received                     1\n",
       "Resubscribed to emails             1\n",
       "Name: Last Notable Activity, dtype: int64"
      ]
     },
     "execution_count": 81,
     "metadata": {},
     "output_type": "execute_result"
    }
   ],
   "source": [
    "#checking value counts of last Notable Activity\n",
    "leads['Last Notable Activity'].value_counts()"
   ]
  },
  {
   "cell_type": "code",
   "execution_count": 82,
   "metadata": {
    "execution": {
     "iopub.execute_input": "2023-04-17T13:28:10.545107Z",
     "iopub.status.busy": "2023-04-17T13:28:10.544847Z",
     "iopub.status.idle": "2023-04-17T13:28:10.552714Z",
     "shell.execute_reply": "2023-04-17T13:28:10.552073Z",
     "shell.execute_reply.started": "2023-04-17T13:28:10.545078Z"
    }
   },
   "outputs": [],
   "source": [
    "#clubbing lower frequency values\n",
    "\n",
    "leads['Last Notable Activity'] = leads['Last Notable Activity'].replace(['Had a Phone Conversation',\n",
    "                                                                       'Email Marked Spam',\n",
    "                                                                         'Unreachable',\n",
    "                                                                         'Unsubscribed',\n",
    "                                                                         'Email Bounced',                                                                    \n",
    "                                                                       'Resubscribed to emails',\n",
    "                                                                       'View in browser link Clicked',\n",
    "                                                                       'Approached upfront', \n",
    "                                                                       'Form Submitted on Website', \n",
    "                                                                       'Email Received'],'Other_Notable_activity')"
   ]
  },
  {
   "cell_type": "code",
   "execution_count": 83,
   "metadata": {
    "execution": {
     "iopub.execute_input": "2023-04-17T13:28:10.554073Z",
     "iopub.status.busy": "2023-04-17T13:28:10.553808Z",
     "iopub.status.idle": "2023-04-17T13:28:10.807722Z",
     "shell.execute_reply": "2023-04-17T13:28:10.806821Z",
     "shell.execute_reply.started": "2023-04-17T13:28:10.554047Z"
    }
   },
   "outputs": [
    {
     "data": {
      "image/png": "[encoded data removed]",
      "text/plain": [
       "<Figure size 1008x360 with 1 Axes>"
      ]
     },
     "metadata": {
      "needs_background": "light"
     },
     "output_type": "display_data"
    }
   ],
   "source": [
    "#visualizing count of Variable based on Converted value\n",
    "\n",
    "plt.figure(figsize = (14,5))\n",
    "ax1=sns.countplot(x = \"Last Notable Activity\", hue = \"Converted\", data = leads)\n",
    "ax1.set_xticklabels(ax1.get_xticklabels(),rotation=90)\n",
    "plt.show()"
   ]
  },
  {
   "cell_type": "markdown",
   "metadata": {},
   "source": [
    "<div class=\"alert alert-block alert-info\"><b>Inference</b>\n",
    "<br><li> The last noted activity of most leads are either modified, or opened an email or a SMS had been sent to them.</li>\n",
    "<li>We can once again observe that the highest successful conversion rate is among those to whom SMS was sent.</li>\n",
    "</div>"
   ]
  },
  {
   "cell_type": "code",
   "execution_count": 84,
   "metadata": {
    "execution": {
     "iopub.execute_input": "2023-04-17T13:28:10.808931Z",
     "iopub.status.busy": "2023-04-17T13:28:10.808681Z",
     "iopub.status.idle": "2023-04-17T13:28:10.821632Z",
     "shell.execute_reply": "2023-04-17T13:28:10.820885Z",
     "shell.execute_reply.started": "2023-04-17T13:28:10.808904Z"
    }
   },
   "outputs": [
    {
     "name": "stdout",
     "output_type": "stream",
     "text": [
      "<class 'pandas.core.frame.DataFrame'>\n",
      "Int64Index: 9103 entries, 0 to 9239\n",
      "Data columns (total 13 columns):\n",
      "Lead Origin                               9103 non-null object\n",
      "Lead Source                               9103 non-null object\n",
      "Do Not Email                              9103 non-null object\n",
      "Converted                                 9103 non-null int64\n",
      "TotalVisits                               9103 non-null float64\n",
      "Total Time Spent on Website               9103 non-null int64\n",
      "Page Views Per Visit                      9103 non-null float64\n",
      "Last Activity                             9103 non-null object\n",
      "Specialization                            9103 non-null object\n",
      "What is your current occupation           9103 non-null object\n",
      "Tags                                      9103 non-null object\n",
      "A free copy of Mastering The Interview    9103 non-null object\n",
      "Last Notable Activity                     9103 non-null object\n",
      "dtypes: float64(2), int64(2), object(9)\n",
      "memory usage: 1.3+ MB\n"
     ]
    }
   ],
   "source": [
    "leads.info()"
   ]
  },
  {
   "cell_type": "markdown",
   "metadata": {},
   "source": [
    "<h4><font color = purple > 4.3 Numerical Attribute Analysis</font></h4>"
   ]
  },
  {
   "cell_type": "code",
   "execution_count": 85,
   "metadata": {
    "execution": {
     "iopub.execute_input": "2023-04-17T13:28:10.823080Z",
     "iopub.status.busy": "2023-04-17T13:28:10.822784Z",
     "iopub.status.idle": "2023-04-17T13:28:10.828720Z",
     "shell.execute_reply": "2023-04-17T13:28:10.827802Z",
     "shell.execute_reply.started": "2023-04-17T13:28:10.823051Z"
    }
   },
   "outputs": [
    {
     "data": {
      "text/plain": [
       "38.02043282434362"
      ]
     },
     "execution_count": 85,
     "metadata": {},
     "output_type": "execute_result"
    }
   ],
   "source": [
    "#Check the % of Data that has Converted Values = 1:\n",
    "\n",
    "Converted = (sum(leads['Converted'])/len(leads['Converted'].index))*100\n",
    "Converted"
   ]
  },
  {
   "cell_type": "code",
   "execution_count": 86,
   "metadata": {
    "execution": {
     "iopub.execute_input": "2023-04-17T13:28:10.830150Z",
     "iopub.status.busy": "2023-04-17T13:28:10.829839Z",
     "iopub.status.idle": "2023-04-17T13:28:11.120072Z",
     "shell.execute_reply": "2023-04-17T13:28:11.119054Z",
     "shell.execute_reply.started": "2023-04-17T13:28:10.830121Z"
    }
   },
   "outputs": [
    {
     "data": {
      "image/png": "[encoded data removed]",
      "text/plain": [
       "<Figure size 720x720 with 2 Axes>"
      ]
     },
     "metadata": {
      "needs_background": "light"
     },
     "output_type": "display_data"
    }
   ],
   "source": [
    "#Checking correlations of numeric values\n",
    "\n",
    "mask = np.array(leads.corr())\n",
    "mask[np.tril_indices_from(mask)] = False\n",
    "fig,ax = plt.subplots()\n",
    "fig.set_size_inches(10,10)\n",
    "sns.heatmap(leads.corr(), cmap=\"YlGnBu\",mask=mask,vmax=0.8,square=True, annot = True)\n",
    "plt.show()"
   ]
  },
  {
   "cell_type": "markdown",
   "metadata": {},
   "source": [
    "<div class=\"alert alert-block alert-info\"><b>Inference</b>\n",
    "<br><li> We can observe that total time spent on website has a pretty significant relation with conversion, than other aspects</li>\n",
    "<li> Website being a good indicator, company may invest to make the website more lucrative to attract customers</li>\n",
    "</div>"
   ]
  },
  {
   "cell_type": "code",
   "execution_count": 87,
   "metadata": {
    "execution": {
     "iopub.execute_input": "2023-04-17T13:28:11.121365Z",
     "iopub.status.busy": "2023-04-17T13:28:11.121144Z",
     "iopub.status.idle": "2023-04-17T13:28:11.237836Z",
     "shell.execute_reply": "2023-04-17T13:28:11.237004Z",
     "shell.execute_reply.started": "2023-04-17T13:28:11.121338Z"
    }
   },
   "outputs": [
    {
     "data": {
      "image/png": "[encoded data removed]",
      "text/plain": [
       "<Figure size 432x288 with 1 Axes>"
      ]
     },
     "metadata": {
      "needs_background": "light"
     },
     "output_type": "display_data"
    }
   ],
   "source": [
    "#visualizing spread of variable #Total Visits\n",
    "\n",
    "plt.figure(figsize=(6,4))\n",
    "sns.boxplot(y=leads['TotalVisits'])\n",
    "plt.show()"
   ]
  },
  {
   "cell_type": "code",
   "execution_count": 88,
   "metadata": {
    "execution": {
     "iopub.execute_input": "2023-04-17T13:28:11.239431Z",
     "iopub.status.busy": "2023-04-17T13:28:11.239230Z",
     "iopub.status.idle": "2023-04-17T13:28:11.253983Z",
     "shell.execute_reply": "2023-04-17T13:28:11.253272Z",
     "shell.execute_reply.started": "2023-04-17T13:28:11.239404Z"
    }
   },
   "outputs": [
    {
     "data": {
      "text/plain": [
       "count   9103.0000\n",
       "mean       3.4452\n",
       "std        4.8549\n",
       "min        0.0000\n",
       "5%         0.0000\n",
       "25%        1.0000\n",
       "50%        3.0000\n",
       "75%        5.0000\n",
       "90%        7.0000\n",
       "95%       10.0000\n",
       "99%       17.0000\n",
       "max      251.0000\n",
       "Name: TotalVisits, dtype: float64"
      ]
     },
     "execution_count": 88,
     "metadata": {},
     "output_type": "execute_result"
    }
   ],
   "source": [
    "#checking percentile values for \"Total Visits\"\n",
    "\n",
    "leads['TotalVisits'].describe(percentiles=[0.05,.25, .5, .75, .90, .95, .99])\n"
   ]
  },
  {
   "cell_type": "code",
   "execution_count": 89,
   "metadata": {
    "execution": {
     "iopub.execute_input": "2023-04-17T13:28:11.255292Z",
     "iopub.status.busy": "2023-04-17T13:28:11.255047Z",
     "iopub.status.idle": "2023-04-17T13:28:11.381434Z",
     "shell.execute_reply": "2023-04-17T13:28:11.380548Z",
     "shell.execute_reply.started": "2023-04-17T13:28:11.255266Z"
    }
   },
   "outputs": [
    {
     "data": {
      "image/png": "[encoded data removed]",
      "text/plain": [
       "<Figure size 432x288 with 1 Axes>"
      ]
     },
     "metadata": {
      "needs_background": "light"
     },
     "output_type": "display_data"
    }
   ],
   "source": [
    "#Outlier Treatment: Remove top & bottom 1% of the Column Outlier values\n",
    "\n",
    "Q3 = leads.TotalVisits.quantile(0.99)\n",
    "leads = leads[(leads.TotalVisits <= Q3)]\n",
    "Q1 = leads.TotalVisits.quantile(0.01)\n",
    "leads = leads[(leads.TotalVisits >= Q1)]\n",
    "sns.boxplot(y=leads['TotalVisits'])\n",
    "plt.show()"
   ]
  },
  {
   "cell_type": "code",
   "execution_count": 90,
   "metadata": {
    "execution": {
     "iopub.execute_input": "2023-04-17T13:28:11.382736Z",
     "iopub.status.busy": "2023-04-17T13:28:11.382514Z",
     "iopub.status.idle": "2023-04-17T13:28:11.394696Z",
     "shell.execute_reply": "2023-04-17T13:28:11.394005Z",
     "shell.execute_reply.started": "2023-04-17T13:28:11.382709Z"
    }
   },
   "outputs": [
    {
     "data": {
      "text/plain": [
       "count   9020.0000\n",
       "mean       3.2070\n",
       "std        2.9901\n",
       "min        0.0000\n",
       "5%         0.0000\n",
       "25%        1.0000\n",
       "50%        3.0000\n",
       "75%        5.0000\n",
       "90%        7.0000\n",
       "95%        9.0000\n",
       "99%       13.8100\n",
       "max       17.0000\n",
       "Name: TotalVisits, dtype: float64"
      ]
     },
     "execution_count": 90,
     "metadata": {},
     "output_type": "execute_result"
    }
   ],
   "source": [
    "#checking percentile values for \"Total Visits\"\n",
    "\n",
    "leads['TotalVisits'].describe(percentiles=[0.05,.25, .5, .75, .90, .95, .99])"
   ]
  },
  {
   "cell_type": "code",
   "execution_count": 91,
   "metadata": {
    "execution": {
     "iopub.execute_input": "2023-04-17T13:28:11.395993Z",
     "iopub.status.busy": "2023-04-17T13:28:11.395764Z",
     "iopub.status.idle": "2023-04-17T13:28:11.400431Z",
     "shell.execute_reply": "2023-04-17T13:28:11.399753Z",
     "shell.execute_reply.started": "2023-04-17T13:28:11.395965Z"
    }
   },
   "outputs": [
    {
     "data": {
      "text/plain": [
       "(9020, 13)"
      ]
     },
     "execution_count": 91,
     "metadata": {},
     "output_type": "execute_result"
    }
   ],
   "source": [
    "leads.shape"
   ]
  },
  {
   "cell_type": "code",
   "execution_count": 92,
   "metadata": {
    "execution": {
     "iopub.execute_input": "2023-04-17T13:28:11.401757Z",
     "iopub.status.busy": "2023-04-17T13:28:11.401550Z",
     "iopub.status.idle": "2023-04-17T13:28:11.509730Z",
     "shell.execute_reply": "2023-04-17T13:28:11.508867Z",
     "shell.execute_reply.started": "2023-04-17T13:28:11.401717Z"
    }
   },
   "outputs": [
    {
     "data": {
      "image/png": "[encoded data removed]",
      "text/plain": [
       "<Figure size 432x288 with 1 Axes>"
      ]
     },
     "metadata": {
      "needs_background": "light"
     },
     "output_type": "display_data"
    }
   ],
   "source": [
    "#visualizing spread of variable #Total Time Spent on Website\n",
    "\n",
    "plt.figure(figsize=(6,4))\n",
    "sns.boxplot(y=leads['Total Time Spent on Website'])\n",
    "plt.show()"
   ]
  },
  {
   "cell_type": "code",
   "execution_count": 93,
   "metadata": {
    "execution": {
     "iopub.execute_input": "2023-04-17T13:28:11.511565Z",
     "iopub.status.busy": "2023-04-17T13:28:11.511199Z",
     "iopub.status.idle": "2023-04-17T13:28:11.525532Z",
     "shell.execute_reply": "2023-04-17T13:28:11.524765Z",
     "shell.execute_reply.started": "2023-04-17T13:28:11.511525Z"
    }
   },
   "outputs": [
    {
     "data": {
      "text/plain": [
       "count   9020.0000\n",
       "mean     479.7595\n",
       "std      544.6882\n",
       "min        0.0000\n",
       "5%         0.0000\n",
       "25%        7.0000\n",
       "50%      243.0000\n",
       "75%      915.2500\n",
       "90%     1371.0000\n",
       "95%     1554.0500\n",
       "99%     1836.6200\n",
       "max     2272.0000\n",
       "Name: Total Time Spent on Website, dtype: float64"
      ]
     },
     "execution_count": 93,
     "metadata": {},
     "output_type": "execute_result"
    }
   ],
   "source": [
    "#checking percentiles for \"Total Time Spent on Website\"\n",
    "\n",
    "leads['Total Time Spent on Website'].describe(percentiles=[0.05,.25, .5, .75, .90, .95, .99])"
   ]
  },
  {
   "cell_type": "markdown",
   "metadata": {},
   "source": [
    "<div class=\"alert alert-block alert-info\"><b>Inference</b>\n",
    "<br>Since there are no major Outliers for the above variable we don't do any Outlier Treatment for this above Column</li>\n",
    "</div>"
   ]
  },
  {
   "cell_type": "code",
   "execution_count": 94,
   "metadata": {
    "execution": {
     "iopub.execute_input": "2023-04-17T13:28:11.527296Z",
     "iopub.status.busy": "2023-04-17T13:28:11.526912Z",
     "iopub.status.idle": "2023-04-17T13:28:11.694976Z",
     "shell.execute_reply": "2023-04-17T13:28:11.694175Z",
     "shell.execute_reply.started": "2023-04-17T13:28:11.527254Z"
    }
   },
   "outputs": [
    {
     "data": {
      "image/png": "[encoded data removed]",
      "text/plain": [
       "<Figure size 432x288 with 1 Axes>"
      ]
     },
     "metadata": {
      "needs_background": "light"
     },
     "output_type": "display_data"
    }
   ],
   "source": [
    "#visualizing spread of variable #Page Views Per Visit\n",
    "\n",
    "plt.figure(figsize=(6,4))\n",
    "sns.boxplot(y=leads['Page Views Per Visit'])\n",
    "plt.show()"
   ]
  },
  {
   "cell_type": "code",
   "execution_count": 95,
   "metadata": {
    "execution": {
     "iopub.execute_input": "2023-04-17T13:28:11.696338Z",
     "iopub.status.busy": "2023-04-17T13:28:11.696096Z",
     "iopub.status.idle": "2023-04-17T13:28:11.708498Z",
     "shell.execute_reply": "2023-04-17T13:28:11.707544Z",
     "shell.execute_reply.started": "2023-04-17T13:28:11.696309Z"
    }
   },
   "outputs": [
    {
     "data": {
      "text/plain": [
       "count   9020.0000\n",
       "mean       2.3373\n",
       "std        2.0624\n",
       "min        0.0000\n",
       "5%         0.0000\n",
       "25%        1.0000\n",
       "50%        2.0000\n",
       "75%        3.0000\n",
       "90%        5.0000\n",
       "95%        6.0000\n",
       "99%        9.0000\n",
       "max       16.0000\n",
       "Name: Page Views Per Visit, dtype: float64"
      ]
     },
     "execution_count": 95,
     "metadata": {},
     "output_type": "execute_result"
    }
   ],
   "source": [
    "#checking percentiles for \"Page Views Per Visit\"\n",
    "\n",
    "leads['Page Views Per Visit'].describe(percentiles=[0.05,.25, .5, .75, .90, .95, .99])"
   ]
  },
  {
   "cell_type": "code",
   "execution_count": 96,
   "metadata": {
    "execution": {
     "iopub.execute_input": "2023-04-17T13:28:11.709905Z",
     "iopub.status.busy": "2023-04-17T13:28:11.709609Z",
     "iopub.status.idle": "2023-04-17T13:28:11.819827Z",
     "shell.execute_reply": "2023-04-17T13:28:11.818973Z",
     "shell.execute_reply.started": "2023-04-17T13:28:11.709857Z"
    }
   },
   "outputs": [
    {
     "data": {
      "image/png": "[encoded data removed]",
      "text/plain": [
       "<Figure size 432x288 with 1 Axes>"
      ]
     },
     "metadata": {
      "needs_background": "light"
     },
     "output_type": "display_data"
    }
   ],
   "source": [
    "#Outlier Treatment: Remove top & bottom 1% of the Column Outlier values\n",
    "\n",
    "Q3 = leads['Page Views Per Visit'].quantile(0.99)\n",
    "leads = leads[(leads['Page Views Per Visit'] <= Q3)]\n",
    "Q1 = leads['Page Views Per Visit'].quantile(0.01)\n",
    "leads = leads[(leads['Page Views Per Visit'] >= Q1)]\n",
    "sns.boxplot(y=leads['Page Views Per Visit'])\n",
    "plt.show()"
   ]
  },
  {
   "cell_type": "code",
   "execution_count": 97,
   "metadata": {
    "execution": {
     "iopub.execute_input": "2023-04-17T13:28:11.821128Z",
     "iopub.status.busy": "2023-04-17T13:28:11.820902Z",
     "iopub.status.idle": "2023-04-17T13:28:11.827251Z",
     "shell.execute_reply": "2023-04-17T13:28:11.825893Z",
     "shell.execute_reply.started": "2023-04-17T13:28:11.821100Z"
    }
   },
   "outputs": [
    {
     "data": {
      "text/plain": [
       "(8953, 13)"
      ]
     },
     "execution_count": 97,
     "metadata": {},
     "output_type": "execute_result"
    }
   ],
   "source": [
    "leads.shape"
   ]
  },
  {
   "cell_type": "code",
   "execution_count": 98,
   "metadata": {
    "execution": {
     "iopub.execute_input": "2023-04-17T13:28:11.830360Z",
     "iopub.status.busy": "2023-04-17T13:28:11.829964Z",
     "iopub.status.idle": "2023-04-17T13:28:12.007546Z",
     "shell.execute_reply": "2023-04-17T13:28:12.006585Z",
     "shell.execute_reply.started": "2023-04-17T13:28:11.830307Z"
    }
   },
   "outputs": [
    {
     "data": {
      "image/png": "[encoded data removed]",
      "text/plain": [
       "<Figure size 432x288 with 1 Axes>"
      ]
     },
     "metadata": {
      "needs_background": "light"
     },
     "output_type": "display_data"
    }
   ],
   "source": [
    "#checking Spread of \"Total Visits\" vs Converted variable\n",
    "sns.boxplot(y = 'TotalVisits', x = 'Converted', data = leads)\n",
    "plt.show()"
   ]
  },
  {
   "cell_type": "code",
   "execution_count": 99,
   "metadata": {
    "execution": {
     "iopub.execute_input": "2023-04-17T13:28:12.008894Z",
     "iopub.status.busy": "2023-04-17T13:28:12.008620Z",
     "iopub.status.idle": "2023-04-17T13:28:12.147330Z",
     "shell.execute_reply": "2023-04-17T13:28:12.146541Z",
     "shell.execute_reply.started": "2023-04-17T13:28:12.008858Z"
    }
   },
   "outputs": [
    {
     "data": {
      "image/png": "[encoded data removed]",
      "text/plain": [
       "<Figure size 432x288 with 1 Axes>"
      ]
     },
     "metadata": {
      "needs_background": "light"
     },
     "output_type": "display_data"
    }
   ],
   "source": [
    "#checking Spread of \"Total Time Spent on Website\" vs Converted variable\n",
    "\n",
    "sns.boxplot(x='Converted', y='Total Time Spent on Website', data = leads)\n",
    "plt.show()"
   ]
  },
  {
   "cell_type": "markdown",
   "metadata": {},
   "source": [
    "<div class=\"alert alert-block alert-info\"><b>Inference</b>\n",
    "<br>We got a reconfirmation that Leads spending more time on the website are more likely to be converted.\n",
    "Website should be made more engaging to make leads spend more time./li>\n",
    "</div>"
   ]
  },
  {
   "cell_type": "code",
   "execution_count": 100,
   "metadata": {
    "execution": {
     "iopub.execute_input": "2023-04-17T13:28:12.148851Z",
     "iopub.status.busy": "2023-04-17T13:28:12.148567Z",
     "iopub.status.idle": "2023-04-17T13:28:12.531086Z",
     "shell.execute_reply": "2023-04-17T13:28:12.529980Z",
     "shell.execute_reply.started": "2023-04-17T13:28:12.148820Z"
    }
   },
   "outputs": [
    {
     "data": {
      "image/png": "[encoded data removed]",
      "text/plain": [
       "<Figure size 432x288 with 1 Axes>"
      ]
     },
     "metadata": {
      "needs_background": "light"
     },
     "output_type": "display_data"
    }
   ],
   "source": [
    "#checking Spread of \"Page Views Per Visit\" vs Converted variable\n",
    "\n",
    "sns.boxplot(x=leads.Converted,y=leads['Page Views Per Visit'])\n",
    "plt.show()"
   ]
  },
  {
   "cell_type": "code",
   "execution_count": 101,
   "metadata": {
    "execution": {
     "iopub.execute_input": "2023-04-17T13:28:12.532466Z",
     "iopub.status.busy": "2023-04-17T13:28:12.532258Z",
     "iopub.status.idle": "2023-04-17T13:28:12.546149Z",
     "shell.execute_reply": "2023-04-17T13:28:12.544838Z",
     "shell.execute_reply.started": "2023-04-17T13:28:12.532439Z"
    }
   },
   "outputs": [
    {
     "data": {
      "text/plain": [
       "Lead Origin                              0.0000\n",
       "Lead Source                              0.0000\n",
       "Do Not Email                             0.0000\n",
       "Converted                                0.0000\n",
       "TotalVisits                              0.0000\n",
       "Total Time Spent on Website              0.0000\n",
       "Page Views Per Visit                     0.0000\n",
       "Last Activity                            0.0000\n",
       "Specialization                           0.0000\n",
       "What is your current occupation          0.0000\n",
       "Tags                                     0.0000\n",
       "A free copy of Mastering The Interview   0.0000\n",
       "Last Notable Activity                    0.0000\n",
       "dtype: float64"
      ]
     },
     "execution_count": 101,
     "metadata": {},
     "output_type": "execute_result"
    }
   ],
   "source": [
    "#checking missing values in leftover columns/\n",
    "\n",
    "round(100*(leads.isnull().sum()/len(leads.index)),2)"
   ]
  },
  {
   "cell_type": "code",
   "execution_count": 102,
   "metadata": {
    "execution": {
     "iopub.execute_input": "2023-04-17T13:28:12.547287Z",
     "iopub.status.busy": "2023-04-17T13:28:12.547087Z",
     "iopub.status.idle": "2023-04-17T13:28:12.561129Z",
     "shell.execute_reply": "2023-04-17T13:28:12.560056Z",
     "shell.execute_reply.started": "2023-04-17T13:28:12.547262Z"
    }
   },
   "outputs": [
    {
     "name": "stdout",
     "output_type": "stream",
     "text": [
      "<class 'pandas.core.frame.DataFrame'>\n",
      "Int64Index: 8953 entries, 0 to 9239\n",
      "Data columns (total 13 columns):\n",
      "Lead Origin                               8953 non-null object\n",
      "Lead Source                               8953 non-null object\n",
      "Do Not Email                              8953 non-null object\n",
      "Converted                                 8953 non-null int64\n",
      "TotalVisits                               8953 non-null float64\n",
      "Total Time Spent on Website               8953 non-null int64\n",
      "Page Views Per Visit                      8953 non-null float64\n",
      "Last Activity                             8953 non-null object\n",
      "Specialization                            8953 non-null object\n",
      "What is your current occupation           8953 non-null object\n",
      "Tags                                      8953 non-null object\n",
      "A free copy of Mastering The Interview    8953 non-null object\n",
      "Last Notable Activity                     8953 non-null object\n",
      "dtypes: float64(2), int64(2), object(9)\n",
      "memory usage: 1.3+ MB\n"
     ]
    }
   ],
   "source": [
    "leads.info()"
   ]
  },
  {
   "cell_type": "markdown",
   "metadata": {},
   "source": [
    "## <a id=\"32\">5. Logistic Regression Modelling</a>\n",
    "<h4><font color = purple > 5.1 Dummy Variable Creation for Data Modelling</font></h4>"
   ]
  },
  {
   "cell_type": "code",
   "execution_count": 103,
   "metadata": {
    "execution": {
     "iopub.execute_input": "2023-04-17T13:28:12.562355Z",
     "iopub.status.busy": "2023-04-17T13:28:12.562166Z",
     "iopub.status.idle": "2023-04-17T13:28:12.571091Z",
     "shell.execute_reply": "2023-04-17T13:28:12.570058Z",
     "shell.execute_reply.started": "2023-04-17T13:28:12.562329Z"
    }
   },
   "outputs": [
    {
     "data": {
      "text/plain": [
       "Index(['Lead Origin', 'Lead Source', 'Do Not Email', 'Last Activity',\n",
       "       'Specialization', 'What is your current occupation', 'Tags',\n",
       "       'A free copy of Mastering The Interview', 'Last Notable Activity'],\n",
       "      dtype='object')"
      ]
     },
     "execution_count": 103,
     "metadata": {},
     "output_type": "execute_result"
    }
   ],
   "source": [
    "#getting a list of categorical columns\n",
    "\n",
    "cat_cols= leads.select_dtypes(include=['object']).columns\n",
    "cat_cols"
   ]
  },
  {
   "cell_type": "code",
   "execution_count": 104,
   "metadata": {
    "execution": {
     "iopub.execute_input": "2023-04-17T13:28:12.572420Z",
     "iopub.status.busy": "2023-04-17T13:28:12.572199Z",
     "iopub.status.idle": "2023-04-17T13:28:12.592886Z",
     "shell.execute_reply": "2023-04-17T13:28:12.591920Z",
     "shell.execute_reply.started": "2023-04-17T13:28:12.572394Z"
    }
   },
   "outputs": [
    {
     "data": {
      "text/html": [
       "<div>\n",
       "<style scoped>\n",
       "    .dataframe tbody tr th:only-of-type {\n",
       "        vertical-align: middle;\n",
       "    }\n",
       "\n",
       "    .dataframe tbody tr th {\n",
       "        vertical-align: top;\n",
       "    }\n",
       "\n",
       "    .dataframe thead th {\n",
       "        text-align: right;\n",
       "    }\n",
       "</style>\n",
       "<table border=\"1\" class=\"dataframe\">\n",
       "  <thead>\n",
       "    <tr style=\"text-align: right;\">\n",
       "      <th></th>\n",
       "      <th>Lead Origin</th>\n",
       "      <th>Lead Source</th>\n",
       "      <th>Do Not Email</th>\n",
       "      <th>Converted</th>\n",
       "      <th>TotalVisits</th>\n",
       "      <th>Total Time Spent on Website</th>\n",
       "      <th>Page Views Per Visit</th>\n",
       "      <th>Last Activity</th>\n",
       "      <th>Specialization</th>\n",
       "      <th>What is your current occupation</th>\n",
       "      <th>Tags</th>\n",
       "      <th>A free copy of Mastering The Interview</th>\n",
       "      <th>Last Notable Activity</th>\n",
       "    </tr>\n",
       "  </thead>\n",
       "  <tbody>\n",
       "    <tr>\n",
       "      <th>0</th>\n",
       "      <td>API</td>\n",
       "      <td>Olark Chat</td>\n",
       "      <td>No</td>\n",
       "      <td>0</td>\n",
       "      <td>0.0000</td>\n",
       "      <td>0</td>\n",
       "      <td>0.0000</td>\n",
       "      <td>Page Visited on Website</td>\n",
       "      <td>Not Specified</td>\n",
       "      <td>Unemployed</td>\n",
       "      <td>Interested in other courses</td>\n",
       "      <td>No</td>\n",
       "      <td>Modified</td>\n",
       "    </tr>\n",
       "    <tr>\n",
       "      <th>1</th>\n",
       "      <td>API</td>\n",
       "      <td>Organic Search</td>\n",
       "      <td>No</td>\n",
       "      <td>0</td>\n",
       "      <td>5.0000</td>\n",
       "      <td>674</td>\n",
       "      <td>2.5000</td>\n",
       "      <td>Email Opened</td>\n",
       "      <td>Not Specified</td>\n",
       "      <td>Unemployed</td>\n",
       "      <td>Ringing</td>\n",
       "      <td>No</td>\n",
       "      <td>Email Opened</td>\n",
       "    </tr>\n",
       "    <tr>\n",
       "      <th>2</th>\n",
       "      <td>Landing Page Submission</td>\n",
       "      <td>Direct Traffic</td>\n",
       "      <td>No</td>\n",
       "      <td>1</td>\n",
       "      <td>2.0000</td>\n",
       "      <td>1532</td>\n",
       "      <td>2.0000</td>\n",
       "      <td>Email Opened</td>\n",
       "      <td>Business Administration</td>\n",
       "      <td>Student</td>\n",
       "      <td>Will revert after reading the email</td>\n",
       "      <td>Yes</td>\n",
       "      <td>Email Opened</td>\n",
       "    </tr>\n",
       "    <tr>\n",
       "      <th>3</th>\n",
       "      <td>Landing Page Submission</td>\n",
       "      <td>Direct Traffic</td>\n",
       "      <td>No</td>\n",
       "      <td>0</td>\n",
       "      <td>1.0000</td>\n",
       "      <td>305</td>\n",
       "      <td>1.0000</td>\n",
       "      <td>Others</td>\n",
       "      <td>Media and Advertising</td>\n",
       "      <td>Unemployed</td>\n",
       "      <td>Ringing</td>\n",
       "      <td>No</td>\n",
       "      <td>Modified</td>\n",
       "    </tr>\n",
       "    <tr>\n",
       "      <th>4</th>\n",
       "      <td>Landing Page Submission</td>\n",
       "      <td>Google</td>\n",
       "      <td>No</td>\n",
       "      <td>1</td>\n",
       "      <td>2.0000</td>\n",
       "      <td>1428</td>\n",
       "      <td>1.0000</td>\n",
       "      <td>Converted to Lead</td>\n",
       "      <td>Not Specified</td>\n",
       "      <td>Unemployed</td>\n",
       "      <td>Will revert after reading the email</td>\n",
       "      <td>No</td>\n",
       "      <td>Modified</td>\n",
       "    </tr>\n",
       "  </tbody>\n",
       "</table>\n",
       "</div>"
      ],
      "text/plain": [
       "               Lead Origin     Lead Source Do Not Email  Converted  \\\n",
       "0                      API      Olark Chat           No          0   \n",
       "1                      API  Organic Search           No          0   \n",
       "2  Landing Page Submission  Direct Traffic           No          1   \n",
       "3  Landing Page Submission  Direct Traffic           No          0   \n",
       "4  Landing Page Submission          Google           No          1   \n",
       "\n",
       "   TotalVisits  Total Time Spent on Website  Page Views Per Visit  \\\n",
       "0       0.0000                            0                0.0000   \n",
       "1       5.0000                          674                2.5000   \n",
       "2       2.0000                         1532                2.0000   \n",
       "3       1.0000                          305                1.0000   \n",
       "4       2.0000                         1428                1.0000   \n",
       "\n",
       "             Last Activity           Specialization  \\\n",
       "0  Page Visited on Website            Not Specified   \n",
       "1             Email Opened            Not Specified   \n",
       "2             Email Opened  Business Administration   \n",
       "3                   Others    Media and Advertising   \n",
       "4        Converted to Lead            Not Specified   \n",
       "\n",
       "  What is your current occupation                                 Tags  \\\n",
       "0                      Unemployed          Interested in other courses   \n",
       "1                      Unemployed                              Ringing   \n",
       "2                         Student  Will revert after reading the email   \n",
       "3                      Unemployed                              Ringing   \n",
       "4                      Unemployed  Will revert after reading the email   \n",
       "\n",
       "  A free copy of Mastering The Interview Last Notable Activity  \n",
       "0                                     No              Modified  \n",
       "1                                     No          Email Opened  \n",
       "2                                    Yes          Email Opened  \n",
       "3                                     No              Modified  \n",
       "4                                     No              Modified  "
      ]
     },
     "execution_count": 104,
     "metadata": {},
     "output_type": "execute_result"
    }
   ],
   "source": [
    "leads.head()"
   ]
  },
  {
   "cell_type": "code",
   "execution_count": 105,
   "metadata": {
    "execution": {
     "iopub.execute_input": "2023-04-17T13:28:12.594411Z",
     "iopub.status.busy": "2023-04-17T13:28:12.594186Z",
     "iopub.status.idle": "2023-04-17T13:28:12.608920Z",
     "shell.execute_reply": "2023-04-17T13:28:12.608013Z",
     "shell.execute_reply.started": "2023-04-17T13:28:12.594385Z"
    }
   },
   "outputs": [],
   "source": [
    "# List of variables to map\n",
    "\n",
    "varlist =  ['A free copy of Mastering The Interview','Do Not Email']\n",
    "\n",
    "# Defining the map function\n",
    "def binary_map(x):\n",
    "    return x.map({'Yes': 1, \"No\": 0})\n",
    "\n",
    "# Applying the function to the housing list\n",
    "leads[varlist] = leads[varlist].apply(binary_map)"
   ]
  },
  {
   "cell_type": "code",
   "execution_count": 106,
   "metadata": {
    "execution": {
     "iopub.execute_input": "2023-04-17T13:28:12.610403Z",
     "iopub.status.busy": "2023-04-17T13:28:12.610203Z",
     "iopub.status.idle": "2023-04-17T13:28:12.629187Z",
     "shell.execute_reply": "2023-04-17T13:28:12.628183Z",
     "shell.execute_reply.started": "2023-04-17T13:28:12.610378Z"
    }
   },
   "outputs": [
    {
     "data": {
      "text/html": [
       "<div>\n",
       "<style scoped>\n",
       "    .dataframe tbody tr th:only-of-type {\n",
       "        vertical-align: middle;\n",
       "    }\n",
       "\n",
       "    .dataframe tbody tr th {\n",
       "        vertical-align: top;\n",
       "    }\n",
       "\n",
       "    .dataframe thead th {\n",
       "        text-align: right;\n",
       "    }\n",
       "</style>\n",
       "<table border=\"1\" class=\"dataframe\">\n",
       "  <thead>\n",
       "    <tr style=\"text-align: right;\">\n",
       "      <th></th>\n",
       "      <th>Lead Origin</th>\n",
       "      <th>Lead Source</th>\n",
       "      <th>Do Not Email</th>\n",
       "      <th>Converted</th>\n",
       "      <th>TotalVisits</th>\n",
       "      <th>Total Time Spent on Website</th>\n",
       "      <th>Page Views Per Visit</th>\n",
       "      <th>Last Activity</th>\n",
       "      <th>Specialization</th>\n",
       "      <th>What is your current occupation</th>\n",
       "      <th>Tags</th>\n",
       "      <th>A free copy of Mastering The Interview</th>\n",
       "      <th>Last Notable Activity</th>\n",
       "    </tr>\n",
       "  </thead>\n",
       "  <tbody>\n",
       "    <tr>\n",
       "      <th>0</th>\n",
       "      <td>API</td>\n",
       "      <td>Olark Chat</td>\n",
       "      <td>0</td>\n",
       "      <td>0</td>\n",
       "      <td>0.0000</td>\n",
       "      <td>0</td>\n",
       "      <td>0.0000</td>\n",
       "      <td>Page Visited on Website</td>\n",
       "      <td>Not Specified</td>\n",
       "      <td>Unemployed</td>\n",
       "      <td>Interested in other courses</td>\n",
       "      <td>0</td>\n",
       "      <td>Modified</td>\n",
       "    </tr>\n",
       "    <tr>\n",
       "      <th>1</th>\n",
       "      <td>API</td>\n",
       "      <td>Organic Search</td>\n",
       "      <td>0</td>\n",
       "      <td>0</td>\n",
       "      <td>5.0000</td>\n",
       "      <td>674</td>\n",
       "      <td>2.5000</td>\n",
       "      <td>Email Opened</td>\n",
       "      <td>Not Specified</td>\n",
       "      <td>Unemployed</td>\n",
       "      <td>Ringing</td>\n",
       "      <td>0</td>\n",
       "      <td>Email Opened</td>\n",
       "    </tr>\n",
       "    <tr>\n",
       "      <th>2</th>\n",
       "      <td>Landing Page Submission</td>\n",
       "      <td>Direct Traffic</td>\n",
       "      <td>0</td>\n",
       "      <td>1</td>\n",
       "      <td>2.0000</td>\n",
       "      <td>1532</td>\n",
       "      <td>2.0000</td>\n",
       "      <td>Email Opened</td>\n",
       "      <td>Business Administration</td>\n",
       "      <td>Student</td>\n",
       "      <td>Will revert after reading the email</td>\n",
       "      <td>1</td>\n",
       "      <td>Email Opened</td>\n",
       "    </tr>\n",
       "    <tr>\n",
       "      <th>3</th>\n",
       "      <td>Landing Page Submission</td>\n",
       "      <td>Direct Traffic</td>\n",
       "      <td>0</td>\n",
       "      <td>0</td>\n",
       "      <td>1.0000</td>\n",
       "      <td>305</td>\n",
       "      <td>1.0000</td>\n",
       "      <td>Others</td>\n",
       "      <td>Media and Advertising</td>\n",
       "      <td>Unemployed</td>\n",
       "      <td>Ringing</td>\n",
       "      <td>0</td>\n",
       "      <td>Modified</td>\n",
       "    </tr>\n",
       "    <tr>\n",
       "      <th>4</th>\n",
       "      <td>Landing Page Submission</td>\n",
       "      <td>Google</td>\n",
       "      <td>0</td>\n",
       "      <td>1</td>\n",
       "      <td>2.0000</td>\n",
       "      <td>1428</td>\n",
       "      <td>1.0000</td>\n",
       "      <td>Converted to Lead</td>\n",
       "      <td>Not Specified</td>\n",
       "      <td>Unemployed</td>\n",
       "      <td>Will revert after reading the email</td>\n",
       "      <td>0</td>\n",
       "      <td>Modified</td>\n",
       "    </tr>\n",
       "  </tbody>\n",
       "</table>\n",
       "</div>"
      ],
      "text/plain": [
       "               Lead Origin     Lead Source  Do Not Email  Converted  \\\n",
       "0                      API      Olark Chat             0          0   \n",
       "1                      API  Organic Search             0          0   \n",
       "2  Landing Page Submission  Direct Traffic             0          1   \n",
       "3  Landing Page Submission  Direct Traffic             0          0   \n",
       "4  Landing Page Submission          Google             0          1   \n",
       "\n",
       "   TotalVisits  Total Time Spent on Website  Page Views Per Visit  \\\n",
       "0       0.0000                            0                0.0000   \n",
       "1       5.0000                          674                2.5000   \n",
       "2       2.0000                         1532                2.0000   \n",
       "3       1.0000                          305                1.0000   \n",
       "4       2.0000                         1428                1.0000   \n",
       "\n",
       "             Last Activity           Specialization  \\\n",
       "0  Page Visited on Website            Not Specified   \n",
       "1             Email Opened            Not Specified   \n",
       "2             Email Opened  Business Administration   \n",
       "3                   Others    Media and Advertising   \n",
       "4        Converted to Lead            Not Specified   \n",
       "\n",
       "  What is your current occupation                                 Tags  \\\n",
       "0                      Unemployed          Interested in other courses   \n",
       "1                      Unemployed                              Ringing   \n",
       "2                         Student  Will revert after reading the email   \n",
       "3                      Unemployed                              Ringing   \n",
       "4                      Unemployed  Will revert after reading the email   \n",
       "\n",
       "   A free copy of Mastering The Interview Last Notable Activity  \n",
       "0                                       0              Modified  \n",
       "1                                       0          Email Opened  \n",
       "2                                       1          Email Opened  \n",
       "3                                       0              Modified  \n",
       "4                                       0              Modified  "
      ]
     },
     "execution_count": 106,
     "metadata": {},
     "output_type": "execute_result"
    }
   ],
   "source": [
    "leads.head()"
   ]
  },
  {
   "cell_type": "code",
   "execution_count": 107,
   "metadata": {
    "execution": {
     "iopub.execute_input": "2023-04-17T13:28:12.630696Z",
     "iopub.status.busy": "2023-04-17T13:28:12.630525Z",
     "iopub.status.idle": "2023-04-17T13:28:12.639364Z",
     "shell.execute_reply": "2023-04-17T13:28:12.638329Z",
     "shell.execute_reply.started": "2023-04-17T13:28:12.630673Z"
    }
   },
   "outputs": [
    {
     "data": {
      "text/plain": [
       "Index(['Lead Origin', 'Lead Source', 'Do Not Email', 'Last Activity',\n",
       "       'Specialization', 'What is your current occupation', 'Tags',\n",
       "       'A free copy of Mastering The Interview', 'Last Notable Activity'],\n",
       "      dtype='object')"
      ]
     },
     "execution_count": 107,
     "metadata": {},
     "output_type": "execute_result"
    }
   ],
   "source": [
    "cat_cols"
   ]
  },
  {
   "cell_type": "code",
   "execution_count": 108,
   "metadata": {
    "execution": {
     "iopub.execute_input": "2023-04-17T13:28:12.641042Z",
     "iopub.status.busy": "2023-04-17T13:28:12.640778Z",
     "iopub.status.idle": "2023-04-17T13:28:12.651409Z",
     "shell.execute_reply": "2023-04-17T13:28:12.650199Z",
     "shell.execute_reply.started": "2023-04-17T13:28:12.641015Z"
    }
   },
   "outputs": [],
   "source": [
    "#getting dummies and dropping the first column and adding the results to the master dataframe\n",
    "dummy = pd.get_dummies(leads['Lead Origin'],prefix  = 'Lead_Origin', drop_first=True)\n",
    "leads = pd.concat([leads,dummy],axis = 1)"
   ]
  },
  {
   "cell_type": "code",
   "execution_count": 109,
   "metadata": {
    "execution": {
     "iopub.execute_input": "2023-04-17T13:28:12.653087Z",
     "iopub.status.busy": "2023-04-17T13:28:12.652830Z",
     "iopub.status.idle": "2023-04-17T13:28:12.664779Z",
     "shell.execute_reply": "2023-04-17T13:28:12.664061Z",
     "shell.execute_reply.started": "2023-04-17T13:28:12.653058Z"
    }
   },
   "outputs": [],
   "source": [
    "dummy = pd.get_dummies(leads['Lead Source'], prefix  = 'Lead Source')\n",
    "dummy = dummy.drop(['Lead Source_Others'], 1)\n",
    "leads = pd.concat([leads, dummy], axis = 1)"
   ]
  },
  {
   "cell_type": "code",
   "execution_count": 110,
   "metadata": {
    "execution": {
     "iopub.execute_input": "2023-04-17T13:28:12.666146Z",
     "iopub.status.busy": "2023-04-17T13:28:12.665767Z",
     "iopub.status.idle": "2023-04-17T13:28:12.675273Z",
     "shell.execute_reply": "2023-04-17T13:28:12.674495Z",
     "shell.execute_reply.started": "2023-04-17T13:28:12.666107Z"
    }
   },
   "outputs": [],
   "source": [
    "dummy = pd.get_dummies(leads['Do Not Email'], prefix  = 'Do Not Email_' , drop_first=True)\n",
    "leads = pd.concat([leads,dummy],axis = 1)"
   ]
  },
  {
   "cell_type": "code",
   "execution_count": 111,
   "metadata": {
    "execution": {
     "iopub.execute_input": "2023-04-17T13:28:12.676633Z",
     "iopub.status.busy": "2023-04-17T13:28:12.676436Z",
     "iopub.status.idle": "2023-04-17T13:28:12.687920Z",
     "shell.execute_reply": "2023-04-17T13:28:12.686928Z",
     "shell.execute_reply.started": "2023-04-17T13:28:12.676609Z"
    }
   },
   "outputs": [],
   "source": [
    "dummy = pd.get_dummies(leads['Last Activity'], prefix  = 'Last Activity')\n",
    "dummy = dummy.drop(['Last Activity_Others'], 1)\n",
    "leads = pd.concat([leads, dummy], axis = 1)"
   ]
  },
  {
   "cell_type": "code",
   "execution_count": 112,
   "metadata": {
    "execution": {
     "iopub.execute_input": "2023-04-17T13:28:12.689084Z",
     "iopub.status.busy": "2023-04-17T13:28:12.688898Z",
     "iopub.status.idle": "2023-04-17T13:28:12.699702Z",
     "shell.execute_reply": "2023-04-17T13:28:12.698949Z",
     "shell.execute_reply.started": "2023-04-17T13:28:12.689059Z"
    }
   },
   "outputs": [],
   "source": [
    "dummy = pd.get_dummies(leads['Specialization'], prefix  = 'Specialize')\n",
    "dummy = dummy.drop(['Specialize_Not Specified'], 1)\n",
    "leads = pd.concat([leads, dummy], axis = 1)"
   ]
  },
  {
   "cell_type": "code",
   "execution_count": 113,
   "metadata": {
    "execution": {
     "iopub.execute_input": "2023-04-17T13:28:12.700891Z",
     "iopub.status.busy": "2023-04-17T13:28:12.700693Z",
     "iopub.status.idle": "2023-04-17T13:28:12.711486Z",
     "shell.execute_reply": "2023-04-17T13:28:12.710753Z",
     "shell.execute_reply.started": "2023-04-17T13:28:12.700843Z"
    }
   },
   "outputs": [],
   "source": [
    "dummy = pd.get_dummies(leads['What is your current occupation'], prefix  = 'Current Occupation')\n",
    "dummy = dummy.drop(['Current Occupation_Not Specified'], 1)\n",
    "leads = pd.concat([leads, dummy], axis = 1)"
   ]
  },
  {
   "cell_type": "code",
   "execution_count": 114,
   "metadata": {
    "execution": {
     "iopub.execute_input": "2023-04-17T13:28:12.712629Z",
     "iopub.status.busy": "2023-04-17T13:28:12.712460Z",
     "iopub.status.idle": "2023-04-17T13:28:12.723385Z",
     "shell.execute_reply": "2023-04-17T13:28:12.722639Z",
     "shell.execute_reply.started": "2023-04-17T13:28:12.712606Z"
    }
   },
   "outputs": [],
   "source": [
    "dummy = pd.get_dummies(leads['Tags'], prefix  = 'Tags')\n",
    "dummy = dummy.drop(['Tags_Not Specified'], 1)\n",
    "leads = pd.concat([leads, dummy], axis = 1)"
   ]
  },
  {
   "cell_type": "code",
   "execution_count": 115,
   "metadata": {
    "execution": {
     "iopub.execute_input": "2023-04-17T13:28:12.724569Z",
     "iopub.status.busy": "2023-04-17T13:28:12.724397Z",
     "iopub.status.idle": "2023-04-17T13:28:12.734174Z",
     "shell.execute_reply": "2023-04-17T13:28:12.733328Z",
     "shell.execute_reply.started": "2023-04-17T13:28:12.724545Z"
    }
   },
   "outputs": [],
   "source": [
    "dummy = pd.get_dummies(leads['A free copy of Mastering The Interview'],prefix  = 'A free copy of Mastering The Interview_', drop_first=True)\n",
    "leads = pd.concat([leads,dummy],axis = 1)"
   ]
  },
  {
   "cell_type": "code",
   "execution_count": 116,
   "metadata": {
    "execution": {
     "iopub.execute_input": "2023-04-17T13:28:12.735409Z",
     "iopub.status.busy": "2023-04-17T13:28:12.735149Z",
     "iopub.status.idle": "2023-04-17T13:28:12.745525Z",
     "shell.execute_reply": "2023-04-17T13:28:12.744735Z",
     "shell.execute_reply.started": "2023-04-17T13:28:12.735368Z"
    }
   },
   "outputs": [],
   "source": [
    "dummy = pd.get_dummies(leads['Last Notable Activity'], prefix  = 'Last Notable Activity')\n",
    "dummy = dummy.drop(['Last Notable Activity_Other_Notable_activity'], 1)\n",
    "leads = pd.concat([leads, dummy], axis = 1)"
   ]
  },
  {
   "cell_type": "code",
   "execution_count": 117,
   "metadata": {
    "execution": {
     "iopub.execute_input": "2023-04-17T13:28:12.746771Z",
     "iopub.status.busy": "2023-04-17T13:28:12.746600Z",
     "iopub.status.idle": "2023-04-17T13:28:12.751536Z",
     "shell.execute_reply": "2023-04-17T13:28:12.750731Z",
     "shell.execute_reply.started": "2023-04-17T13:28:12.746748Z"
    }
   },
   "outputs": [
    {
     "data": {
      "text/plain": [
       "(8953, 63)"
      ]
     },
     "execution_count": 117,
     "metadata": {},
     "output_type": "execute_result"
    }
   ],
   "source": [
    "leads.shape"
   ]
  },
  {
   "cell_type": "code",
   "execution_count": 118,
   "metadata": {
    "execution": {
     "iopub.execute_input": "2023-04-17T13:28:12.752848Z",
     "iopub.status.busy": "2023-04-17T13:28:12.752576Z",
     "iopub.status.idle": "2023-04-17T13:28:12.810215Z",
     "shell.execute_reply": "2023-04-17T13:28:12.809414Z",
     "shell.execute_reply.started": "2023-04-17T13:28:12.752821Z"
    }
   },
   "outputs": [
    {
     "data": {
      "text/html": [
       "<div>\n",
       "<style scoped>\n",
       "    .dataframe tbody tr th:only-of-type {\n",
       "        vertical-align: middle;\n",
       "    }\n",
       "\n",
       "    .dataframe tbody tr th {\n",
       "        vertical-align: top;\n",
       "    }\n",
       "\n",
       "    .dataframe thead th {\n",
       "        text-align: right;\n",
       "    }\n",
       "</style>\n",
       "<table border=\"1\" class=\"dataframe\">\n",
       "  <thead>\n",
       "    <tr style=\"text-align: right;\">\n",
       "      <th></th>\n",
       "      <th>Lead Origin</th>\n",
       "      <th>Lead Source</th>\n",
       "      <th>Do Not Email</th>\n",
       "      <th>Converted</th>\n",
       "      <th>TotalVisits</th>\n",
       "      <th>Total Time Spent on Website</th>\n",
       "      <th>Page Views Per Visit</th>\n",
       "      <th>Last Activity</th>\n",
       "      <th>Specialization</th>\n",
       "      <th>What is your current occupation</th>\n",
       "      <th>Tags</th>\n",
       "      <th>A free copy of Mastering The Interview</th>\n",
       "      <th>Last Notable Activity</th>\n",
       "      <th>Lead_Origin_Landing Page Submission</th>\n",
       "      <th>Lead_Origin_Lead Add Form</th>\n",
       "      <th>Lead_Origin_Lead Import</th>\n",
       "      <th>Lead Source_Direct Traffic</th>\n",
       "      <th>Lead Source_Google</th>\n",
       "      <th>Lead Source_Olark Chat</th>\n",
       "      <th>Lead Source_Organic Search</th>\n",
       "      <th>Lead Source_Reference</th>\n",
       "      <th>Lead Source_Referral Sites</th>\n",
       "      <th>Lead Source_Social Media</th>\n",
       "      <th>Lead Source_Welingak Website</th>\n",
       "      <th>Do Not Email__1</th>\n",
       "      <th>Last Activity_Converted to Lead</th>\n",
       "      <th>Last Activity_Email Bounced</th>\n",
       "      <th>Last Activity_Email Link Clicked</th>\n",
       "      <th>Last Activity_Email Opened</th>\n",
       "      <th>Last Activity_Form Submitted on Website</th>\n",
       "      <th>Last Activity_Olark Chat Conversation</th>\n",
       "      <th>Last Activity_Page Visited on Website</th>\n",
       "      <th>Last Activity_SMS Sent</th>\n",
       "      <th>Specialize_Banking, Investment And Insurance</th>\n",
       "      <th>Specialize_Business Administration</th>\n",
       "      <th>Specialize_E-Business</th>\n",
       "      <th>Specialize_E-COMMERCE</th>\n",
       "      <th>Specialize_International Business</th>\n",
       "      <th>Specialize_Management_Specializations</th>\n",
       "      <th>Specialize_Media and Advertising</th>\n",
       "      <th>Specialize_Rural and Agribusiness</th>\n",
       "      <th>Specialize_Services Excellence</th>\n",
       "      <th>Specialize_Travel and Tourism</th>\n",
       "      <th>Current Occupation_Businessman</th>\n",
       "      <th>Current Occupation_Housewife</th>\n",
       "      <th>Current Occupation_Other</th>\n",
       "      <th>Current Occupation_Student</th>\n",
       "      <th>Current Occupation_Unemployed</th>\n",
       "      <th>Current Occupation_Working Professional</th>\n",
       "      <th>Tags_Busy</th>\n",
       "      <th>Tags_Closed by Horizzon</th>\n",
       "      <th>Tags_Interested in other courses</th>\n",
       "      <th>Tags_Lost to EINS</th>\n",
       "      <th>Tags_Other_Tags</th>\n",
       "      <th>Tags_Ringing</th>\n",
       "      <th>Tags_Will revert after reading the email</th>\n",
       "      <th>A free copy of Mastering The Interview__1</th>\n",
       "      <th>Last Notable Activity_Email Link Clicked</th>\n",
       "      <th>Last Notable Activity_Email Opened</th>\n",
       "      <th>Last Notable Activity_Modified</th>\n",
       "      <th>Last Notable Activity_Olark Chat Conversation</th>\n",
       "      <th>Last Notable Activity_Page Visited on Website</th>\n",
       "      <th>Last Notable Activity_SMS Sent</th>\n",
       "    </tr>\n",
       "  </thead>\n",
       "  <tbody>\n",
       "    <tr>\n",
       "      <th>0</th>\n",
       "      <td>API</td>\n",
       "      <td>Olark Chat</td>\n",
       "      <td>0</td>\n",
       "      <td>0</td>\n",
       "      <td>0.0000</td>\n",
       "      <td>0</td>\n",
       "      <td>0.0000</td>\n",
       "      <td>Page Visited on Website</td>\n",
       "      <td>Not Specified</td>\n",
       "      <td>Unemployed</td>\n",
       "      <td>Interested in other courses</td>\n",
       "      <td>0</td>\n",
       "      <td>Modified</td>\n",
       "      <td>0</td>\n",
       "      <td>0</td>\n",
       "      <td>0</td>\n",
       "      <td>0</td>\n",
       "      <td>0</td>\n",
       "      <td>1</td>\n",
       "      <td>0</td>\n",
       "      <td>0</td>\n",
       "      <td>0</td>\n",
       "      <td>0</td>\n",
       "      <td>0</td>\n",
       "      <td>0</td>\n",
       "      <td>0</td>\n",
       "      <td>0</td>\n",
       "      <td>0</td>\n",
       "      <td>0</td>\n",
       "      <td>0</td>\n",
       "      <td>0</td>\n",
       "      <td>1</td>\n",
       "      <td>0</td>\n",
       "      <td>0</td>\n",
       "      <td>0</td>\n",
       "      <td>0</td>\n",
       "      <td>0</td>\n",
       "      <td>0</td>\n",
       "      <td>0</td>\n",
       "      <td>0</td>\n",
       "      <td>0</td>\n",
       "      <td>0</td>\n",
       "      <td>0</td>\n",
       "      <td>0</td>\n",
       "      <td>0</td>\n",
       "      <td>0</td>\n",
       "      <td>0</td>\n",
       "      <td>1</td>\n",
       "      <td>0</td>\n",
       "      <td>0</td>\n",
       "      <td>0</td>\n",
       "      <td>1</td>\n",
       "      <td>0</td>\n",
       "      <td>0</td>\n",
       "      <td>0</td>\n",
       "      <td>0</td>\n",
       "      <td>0</td>\n",
       "      <td>0</td>\n",
       "      <td>0</td>\n",
       "      <td>1</td>\n",
       "      <td>0</td>\n",
       "      <td>0</td>\n",
       "      <td>0</td>\n",
       "    </tr>\n",
       "    <tr>\n",
       "      <th>1</th>\n",
       "      <td>API</td>\n",
       "      <td>Organic Search</td>\n",
       "      <td>0</td>\n",
       "      <td>0</td>\n",
       "      <td>5.0000</td>\n",
       "      <td>674</td>\n",
       "      <td>2.5000</td>\n",
       "      <td>Email Opened</td>\n",
       "      <td>Not Specified</td>\n",
       "      <td>Unemployed</td>\n",
       "      <td>Ringing</td>\n",
       "      <td>0</td>\n",
       "      <td>Email Opened</td>\n",
       "      <td>0</td>\n",
       "      <td>0</td>\n",
       "      <td>0</td>\n",
       "      <td>0</td>\n",
       "      <td>0</td>\n",
       "      <td>0</td>\n",
       "      <td>1</td>\n",
       "      <td>0</td>\n",
       "      <td>0</td>\n",
       "      <td>0</td>\n",
       "      <td>0</td>\n",
       "      <td>0</td>\n",
       "      <td>0</td>\n",
       "      <td>0</td>\n",
       "      <td>0</td>\n",
       "      <td>1</td>\n",
       "      <td>0</td>\n",
       "      <td>0</td>\n",
       "      <td>0</td>\n",
       "      <td>0</td>\n",
       "      <td>0</td>\n",
       "      <td>0</td>\n",
       "      <td>0</td>\n",
       "      <td>0</td>\n",
       "      <td>0</td>\n",
       "      <td>0</td>\n",
       "      <td>0</td>\n",
       "      <td>0</td>\n",
       "      <td>0</td>\n",
       "      <td>0</td>\n",
       "      <td>0</td>\n",
       "      <td>0</td>\n",
       "      <td>0</td>\n",
       "      <td>0</td>\n",
       "      <td>1</td>\n",
       "      <td>0</td>\n",
       "      <td>0</td>\n",
       "      <td>0</td>\n",
       "      <td>0</td>\n",
       "      <td>0</td>\n",
       "      <td>0</td>\n",
       "      <td>1</td>\n",
       "      <td>0</td>\n",
       "      <td>0</td>\n",
       "      <td>0</td>\n",
       "      <td>1</td>\n",
       "      <td>0</td>\n",
       "      <td>0</td>\n",
       "      <td>0</td>\n",
       "      <td>0</td>\n",
       "    </tr>\n",
       "    <tr>\n",
       "      <th>2</th>\n",
       "      <td>Landing Page Submission</td>\n",
       "      <td>Direct Traffic</td>\n",
       "      <td>0</td>\n",
       "      <td>1</td>\n",
       "      <td>2.0000</td>\n",
       "      <td>1532</td>\n",
       "      <td>2.0000</td>\n",
       "      <td>Email Opened</td>\n",
       "      <td>Business Administration</td>\n",
       "      <td>Student</td>\n",
       "      <td>Will revert after reading the email</td>\n",
       "      <td>1</td>\n",
       "      <td>Email Opened</td>\n",
       "      <td>1</td>\n",
       "      <td>0</td>\n",
       "      <td>0</td>\n",
       "      <td>1</td>\n",
       "      <td>0</td>\n",
       "      <td>0</td>\n",
       "      <td>0</td>\n",
       "      <td>0</td>\n",
       "      <td>0</td>\n",
       "      <td>0</td>\n",
       "      <td>0</td>\n",
       "      <td>0</td>\n",
       "      <td>0</td>\n",
       "      <td>0</td>\n",
       "      <td>0</td>\n",
       "      <td>1</td>\n",
       "      <td>0</td>\n",
       "      <td>0</td>\n",
       "      <td>0</td>\n",
       "      <td>0</td>\n",
       "      <td>0</td>\n",
       "      <td>1</td>\n",
       "      <td>0</td>\n",
       "      <td>0</td>\n",
       "      <td>0</td>\n",
       "      <td>0</td>\n",
       "      <td>0</td>\n",
       "      <td>0</td>\n",
       "      <td>0</td>\n",
       "      <td>0</td>\n",
       "      <td>0</td>\n",
       "      <td>0</td>\n",
       "      <td>0</td>\n",
       "      <td>1</td>\n",
       "      <td>0</td>\n",
       "      <td>0</td>\n",
       "      <td>0</td>\n",
       "      <td>0</td>\n",
       "      <td>0</td>\n",
       "      <td>0</td>\n",
       "      <td>0</td>\n",
       "      <td>0</td>\n",
       "      <td>1</td>\n",
       "      <td>1</td>\n",
       "      <td>0</td>\n",
       "      <td>1</td>\n",
       "      <td>0</td>\n",
       "      <td>0</td>\n",
       "      <td>0</td>\n",
       "      <td>0</td>\n",
       "    </tr>\n",
       "    <tr>\n",
       "      <th>3</th>\n",
       "      <td>Landing Page Submission</td>\n",
       "      <td>Direct Traffic</td>\n",
       "      <td>0</td>\n",
       "      <td>0</td>\n",
       "      <td>1.0000</td>\n",
       "      <td>305</td>\n",
       "      <td>1.0000</td>\n",
       "      <td>Others</td>\n",
       "      <td>Media and Advertising</td>\n",
       "      <td>Unemployed</td>\n",
       "      <td>Ringing</td>\n",
       "      <td>0</td>\n",
       "      <td>Modified</td>\n",
       "      <td>1</td>\n",
       "      <td>0</td>\n",
       "      <td>0</td>\n",
       "      <td>1</td>\n",
       "      <td>0</td>\n",
       "      <td>0</td>\n",
       "      <td>0</td>\n",
       "      <td>0</td>\n",
       "      <td>0</td>\n",
       "      <td>0</td>\n",
       "      <td>0</td>\n",
       "      <td>0</td>\n",
       "      <td>0</td>\n",
       "      <td>0</td>\n",
       "      <td>0</td>\n",
       "      <td>0</td>\n",
       "      <td>0</td>\n",
       "      <td>0</td>\n",
       "      <td>0</td>\n",
       "      <td>0</td>\n",
       "      <td>0</td>\n",
       "      <td>0</td>\n",
       "      <td>0</td>\n",
       "      <td>0</td>\n",
       "      <td>0</td>\n",
       "      <td>0</td>\n",
       "      <td>1</td>\n",
       "      <td>0</td>\n",
       "      <td>0</td>\n",
       "      <td>0</td>\n",
       "      <td>0</td>\n",
       "      <td>0</td>\n",
       "      <td>0</td>\n",
       "      <td>0</td>\n",
       "      <td>1</td>\n",
       "      <td>0</td>\n",
       "      <td>0</td>\n",
       "      <td>0</td>\n",
       "      <td>0</td>\n",
       "      <td>0</td>\n",
       "      <td>0</td>\n",
       "      <td>1</td>\n",
       "      <td>0</td>\n",
       "      <td>0</td>\n",
       "      <td>0</td>\n",
       "      <td>0</td>\n",
       "      <td>1</td>\n",
       "      <td>0</td>\n",
       "      <td>0</td>\n",
       "      <td>0</td>\n",
       "    </tr>\n",
       "    <tr>\n",
       "      <th>4</th>\n",
       "      <td>Landing Page Submission</td>\n",
       "      <td>Google</td>\n",
       "      <td>0</td>\n",
       "      <td>1</td>\n",
       "      <td>2.0000</td>\n",
       "      <td>1428</td>\n",
       "      <td>1.0000</td>\n",
       "      <td>Converted to Lead</td>\n",
       "      <td>Not Specified</td>\n",
       "      <td>Unemployed</td>\n",
       "      <td>Will revert after reading the email</td>\n",
       "      <td>0</td>\n",
       "      <td>Modified</td>\n",
       "      <td>1</td>\n",
       "      <td>0</td>\n",
       "      <td>0</td>\n",
       "      <td>0</td>\n",
       "      <td>1</td>\n",
       "      <td>0</td>\n",
       "      <td>0</td>\n",
       "      <td>0</td>\n",
       "      <td>0</td>\n",
       "      <td>0</td>\n",
       "      <td>0</td>\n",
       "      <td>0</td>\n",
       "      <td>1</td>\n",
       "      <td>0</td>\n",
       "      <td>0</td>\n",
       "      <td>0</td>\n",
       "      <td>0</td>\n",
       "      <td>0</td>\n",
       "      <td>0</td>\n",
       "      <td>0</td>\n",
       "      <td>0</td>\n",
       "      <td>0</td>\n",
       "      <td>0</td>\n",
       "      <td>0</td>\n",
       "      <td>0</td>\n",
       "      <td>0</td>\n",
       "      <td>0</td>\n",
       "      <td>0</td>\n",
       "      <td>0</td>\n",
       "      <td>0</td>\n",
       "      <td>0</td>\n",
       "      <td>0</td>\n",
       "      <td>0</td>\n",
       "      <td>0</td>\n",
       "      <td>1</td>\n",
       "      <td>0</td>\n",
       "      <td>0</td>\n",
       "      <td>0</td>\n",
       "      <td>0</td>\n",
       "      <td>0</td>\n",
       "      <td>0</td>\n",
       "      <td>0</td>\n",
       "      <td>1</td>\n",
       "      <td>0</td>\n",
       "      <td>0</td>\n",
       "      <td>0</td>\n",
       "      <td>1</td>\n",
       "      <td>0</td>\n",
       "      <td>0</td>\n",
       "      <td>0</td>\n",
       "    </tr>\n",
       "  </tbody>\n",
       "</table>\n",
       "</div>"
      ],
      "text/plain": [
       "               Lead Origin     Lead Source  Do Not Email  Converted  \\\n",
       "0                      API      Olark Chat             0          0   \n",
       "1                      API  Organic Search             0          0   \n",
       "2  Landing Page Submission  Direct Traffic             0          1   \n",
       "3  Landing Page Submission  Direct Traffic             0          0   \n",
       "4  Landing Page Submission          Google             0          1   \n",
       "\n",
       "   TotalVisits  Total Time Spent on Website  Page Views Per Visit  \\\n",
       "0       0.0000                            0                0.0000   \n",
       "1       5.0000                          674                2.5000   \n",
       "2       2.0000                         1532                2.0000   \n",
       "3       1.0000                          305                1.0000   \n",
       "4       2.0000                         1428                1.0000   \n",
       "\n",
       "             Last Activity           Specialization  \\\n",
       "0  Page Visited on Website            Not Specified   \n",
       "1             Email Opened            Not Specified   \n",
       "2             Email Opened  Business Administration   \n",
       "3                   Others    Media and Advertising   \n",
       "4        Converted to Lead            Not Specified   \n",
       "\n",
       "  What is your current occupation                                 Tags  \\\n",
       "0                      Unemployed          Interested in other courses   \n",
       "1                      Unemployed                              Ringing   \n",
       "2                         Student  Will revert after reading the email   \n",
       "3                      Unemployed                              Ringing   \n",
       "4                      Unemployed  Will revert after reading the email   \n",
       "\n",
       "   A free copy of Mastering The Interview Last Notable Activity  \\\n",
       "0                                       0              Modified   \n",
       "1                                       0          Email Opened   \n",
       "2                                       1          Email Opened   \n",
       "3                                       0              Modified   \n",
       "4                                       0              Modified   \n",
       "\n",
       "   Lead_Origin_Landing Page Submission  Lead_Origin_Lead Add Form  \\\n",
       "0                                    0                          0   \n",
       "1                                    0                          0   \n",
       "2                                    1                          0   \n",
       "3                                    1                          0   \n",
       "4                                    1                          0   \n",
       "\n",
       "   Lead_Origin_Lead Import  Lead Source_Direct Traffic  Lead Source_Google  \\\n",
       "0                        0                           0                   0   \n",
       "1                        0                           0                   0   \n",
       "2                        0                           1                   0   \n",
       "3                        0                           1                   0   \n",
       "4                        0                           0                   1   \n",
       "\n",
       "   Lead Source_Olark Chat  Lead Source_Organic Search  Lead Source_Reference  \\\n",
       "0                       1                           0                      0   \n",
       "1                       0                           1                      0   \n",
       "2                       0                           0                      0   \n",
       "3                       0                           0                      0   \n",
       "4                       0                           0                      0   \n",
       "\n",
       "   Lead Source_Referral Sites  Lead Source_Social Media  \\\n",
       "0                           0                         0   \n",
       "1                           0                         0   \n",
       "2                           0                         0   \n",
       "3                           0                         0   \n",
       "4                           0                         0   \n",
       "\n",
       "   Lead Source_Welingak Website  Do Not Email__1  \\\n",
       "0                             0                0   \n",
       "1                             0                0   \n",
       "2                             0                0   \n",
       "3                             0                0   \n",
       "4                             0                0   \n",
       "\n",
       "   Last Activity_Converted to Lead  Last Activity_Email Bounced  \\\n",
       "0                                0                            0   \n",
       "1                                0                            0   \n",
       "2                                0                            0   \n",
       "3                                0                            0   \n",
       "4                                1                            0   \n",
       "\n",
       "   Last Activity_Email Link Clicked  Last Activity_Email Opened  \\\n",
       "0                                 0                           0   \n",
       "1                                 0                           1   \n",
       "2                                 0                           1   \n",
       "3                                 0                           0   \n",
       "4                                 0                           0   \n",
       "\n",
       "   Last Activity_Form Submitted on Website  \\\n",
       "0                                        0   \n",
       "1                                        0   \n",
       "2                                        0   \n",
       "3                                        0   \n",
       "4                                        0   \n",
       "\n",
       "   Last Activity_Olark Chat Conversation  \\\n",
       "0                                      0   \n",
       "1                                      0   \n",
       "2                                      0   \n",
       "3                                      0   \n",
       "4                                      0   \n",
       "\n",
       "   Last Activity_Page Visited on Website  Last Activity_SMS Sent  \\\n",
       "0                                      1                       0   \n",
       "1                                      0                       0   \n",
       "2                                      0                       0   \n",
       "3                                      0                       0   \n",
       "4                                      0                       0   \n",
       "\n",
       "   Specialize_Banking, Investment And Insurance  \\\n",
       "0                                             0   \n",
       "1                                             0   \n",
       "2                                             0   \n",
       "3                                             0   \n",
       "4                                             0   \n",
       "\n",
       "   Specialize_Business Administration  Specialize_E-Business  \\\n",
       "0                                   0                      0   \n",
       "1                                   0                      0   \n",
       "2                                   1                      0   \n",
       "3                                   0                      0   \n",
       "4                                   0                      0   \n",
       "\n",
       "   Specialize_E-COMMERCE  Specialize_International Business  \\\n",
       "0                      0                                  0   \n",
       "1                      0                                  0   \n",
       "2                      0                                  0   \n",
       "3                      0                                  0   \n",
       "4                      0                                  0   \n",
       "\n",
       "   Specialize_Management_Specializations  Specialize_Media and Advertising  \\\n",
       "0                                      0                                 0   \n",
       "1                                      0                                 0   \n",
       "2                                      0                                 0   \n",
       "3                                      0                                 1   \n",
       "4                                      0                                 0   \n",
       "\n",
       "   Specialize_Rural and Agribusiness  Specialize_Services Excellence  \\\n",
       "0                                  0                               0   \n",
       "1                                  0                               0   \n",
       "2                                  0                               0   \n",
       "3                                  0                               0   \n",
       "4                                  0                               0   \n",
       "\n",
       "   Specialize_Travel and Tourism  Current Occupation_Businessman  \\\n",
       "0                              0                               0   \n",
       "1                              0                               0   \n",
       "2                              0                               0   \n",
       "3                              0                               0   \n",
       "4                              0                               0   \n",
       "\n",
       "   Current Occupation_Housewife  Current Occupation_Other  \\\n",
       "0                             0                         0   \n",
       "1                             0                         0   \n",
       "2                             0                         0   \n",
       "3                             0                         0   \n",
       "4                             0                         0   \n",
       "\n",
       "   Current Occupation_Student  Current Occupation_Unemployed  \\\n",
       "0                           0                              1   \n",
       "1                           0                              1   \n",
       "2                           1                              0   \n",
       "3                           0                              1   \n",
       "4                           0                              1   \n",
       "\n",
       "   Current Occupation_Working Professional  Tags_Busy  \\\n",
       "0                                        0          0   \n",
       "1                                        0          0   \n",
       "2                                        0          0   \n",
       "3                                        0          0   \n",
       "4                                        0          0   \n",
       "\n",
       "   Tags_Closed by Horizzon  Tags_Interested in other courses  \\\n",
       "0                        0                                 1   \n",
       "1                        0                                 0   \n",
       "2                        0                                 0   \n",
       "3                        0                                 0   \n",
       "4                        0                                 0   \n",
       "\n",
       "   Tags_Lost to EINS  Tags_Other_Tags  Tags_Ringing  \\\n",
       "0                  0                0             0   \n",
       "1                  0                0             1   \n",
       "2                  0                0             0   \n",
       "3                  0                0             1   \n",
       "4                  0                0             0   \n",
       "\n",
       "   Tags_Will revert after reading the email  \\\n",
       "0                                         0   \n",
       "1                                         0   \n",
       "2                                         1   \n",
       "3                                         0   \n",
       "4                                         1   \n",
       "\n",
       "   A free copy of Mastering The Interview__1  \\\n",
       "0                                          0   \n",
       "1                                          0   \n",
       "2                                          1   \n",
       "3                                          0   \n",
       "4                                          0   \n",
       "\n",
       "   Last Notable Activity_Email Link Clicked  \\\n",
       "0                                         0   \n",
       "1                                         0   \n",
       "2                                         0   \n",
       "3                                         0   \n",
       "4                                         0   \n",
       "\n",
       "   Last Notable Activity_Email Opened  Last Notable Activity_Modified  \\\n",
       "0                                   0                               1   \n",
       "1                                   1                               0   \n",
       "2                                   1                               0   \n",
       "3                                   0                               1   \n",
       "4                                   0                               1   \n",
       "\n",
       "   Last Notable Activity_Olark Chat Conversation  \\\n",
       "0                                              0   \n",
       "1                                              0   \n",
       "2                                              0   \n",
       "3                                              0   \n",
       "4                                              0   \n",
       "\n",
       "   Last Notable Activity_Page Visited on Website  \\\n",
       "0                                              0   \n",
       "1                                              0   \n",
       "2                                              0   \n",
       "3                                              0   \n",
       "4                                              0   \n",
       "\n",
       "   Last Notable Activity_SMS Sent  \n",
       "0                               0  \n",
       "1                               0  \n",
       "2                               0  \n",
       "3                               0  \n",
       "4                               0  "
      ]
     },
     "execution_count": 118,
     "metadata": {},
     "output_type": "execute_result"
    }
   ],
   "source": [
    "leads.head()"
   ]
  },
  {
   "cell_type": "code",
   "execution_count": 119,
   "metadata": {
    "execution": {
     "iopub.execute_input": "2023-04-17T13:28:12.811797Z",
     "iopub.status.busy": "2023-04-17T13:28:12.811624Z",
     "iopub.status.idle": "2023-04-17T13:28:12.819647Z",
     "shell.execute_reply": "2023-04-17T13:28:12.818832Z",
     "shell.execute_reply.started": "2023-04-17T13:28:12.811774Z"
    }
   },
   "outputs": [],
   "source": [
    "#dropping the original columns after dummy variable creation\n",
    "\n",
    "leads.drop(cat_cols,1,inplace = True)"
   ]
  },
  {
   "cell_type": "code",
   "execution_count": 120,
   "metadata": {
    "execution": {
     "iopub.execute_input": "2023-04-17T13:28:12.820830Z",
     "iopub.status.busy": "2023-04-17T13:28:12.820654Z",
     "iopub.status.idle": "2023-04-17T13:28:12.864122Z",
     "shell.execute_reply": "2023-04-17T13:28:12.863176Z",
     "shell.execute_reply.started": "2023-04-17T13:28:12.820806Z"
    }
   },
   "outputs": [
    {
     "data": {
      "text/html": [
       "<div>\n",
       "<style scoped>\n",
       "    .dataframe tbody tr th:only-of-type {\n",
       "        vertical-align: middle;\n",
       "    }\n",
       "\n",
       "    .dataframe tbody tr th {\n",
       "        vertical-align: top;\n",
       "    }\n",
       "\n",
       "    .dataframe thead th {\n",
       "        text-align: right;\n",
       "    }\n",
       "</style>\n",
       "<table border=\"1\" class=\"dataframe\">\n",
       "  <thead>\n",
       "    <tr style=\"text-align: right;\">\n",
       "      <th></th>\n",
       "      <th>Converted</th>\n",
       "      <th>TotalVisits</th>\n",
       "      <th>Total Time Spent on Website</th>\n",
       "      <th>Page Views Per Visit</th>\n",
       "      <th>Lead_Origin_Landing Page Submission</th>\n",
       "      <th>Lead_Origin_Lead Add Form</th>\n",
       "      <th>Lead_Origin_Lead Import</th>\n",
       "      <th>Lead Source_Direct Traffic</th>\n",
       "      <th>Lead Source_Google</th>\n",
       "      <th>Lead Source_Olark Chat</th>\n",
       "      <th>Lead Source_Organic Search</th>\n",
       "      <th>Lead Source_Reference</th>\n",
       "      <th>Lead Source_Referral Sites</th>\n",
       "      <th>Lead Source_Social Media</th>\n",
       "      <th>Lead Source_Welingak Website</th>\n",
       "      <th>Do Not Email__1</th>\n",
       "      <th>Last Activity_Converted to Lead</th>\n",
       "      <th>Last Activity_Email Bounced</th>\n",
       "      <th>Last Activity_Email Link Clicked</th>\n",
       "      <th>Last Activity_Email Opened</th>\n",
       "      <th>Last Activity_Form Submitted on Website</th>\n",
       "      <th>Last Activity_Olark Chat Conversation</th>\n",
       "      <th>Last Activity_Page Visited on Website</th>\n",
       "      <th>Last Activity_SMS Sent</th>\n",
       "      <th>Specialize_Banking, Investment And Insurance</th>\n",
       "      <th>Specialize_Business Administration</th>\n",
       "      <th>Specialize_E-Business</th>\n",
       "      <th>Specialize_E-COMMERCE</th>\n",
       "      <th>Specialize_International Business</th>\n",
       "      <th>Specialize_Management_Specializations</th>\n",
       "      <th>Specialize_Media and Advertising</th>\n",
       "      <th>Specialize_Rural and Agribusiness</th>\n",
       "      <th>Specialize_Services Excellence</th>\n",
       "      <th>Specialize_Travel and Tourism</th>\n",
       "      <th>Current Occupation_Businessman</th>\n",
       "      <th>Current Occupation_Housewife</th>\n",
       "      <th>Current Occupation_Other</th>\n",
       "      <th>Current Occupation_Student</th>\n",
       "      <th>Current Occupation_Unemployed</th>\n",
       "      <th>Current Occupation_Working Professional</th>\n",
       "      <th>Tags_Busy</th>\n",
       "      <th>Tags_Closed by Horizzon</th>\n",
       "      <th>Tags_Interested in other courses</th>\n",
       "      <th>Tags_Lost to EINS</th>\n",
       "      <th>Tags_Other_Tags</th>\n",
       "      <th>Tags_Ringing</th>\n",
       "      <th>Tags_Will revert after reading the email</th>\n",
       "      <th>A free copy of Mastering The Interview__1</th>\n",
       "      <th>Last Notable Activity_Email Link Clicked</th>\n",
       "      <th>Last Notable Activity_Email Opened</th>\n",
       "      <th>Last Notable Activity_Modified</th>\n",
       "      <th>Last Notable Activity_Olark Chat Conversation</th>\n",
       "      <th>Last Notable Activity_Page Visited on Website</th>\n",
       "      <th>Last Notable Activity_SMS Sent</th>\n",
       "    </tr>\n",
       "  </thead>\n",
       "  <tbody>\n",
       "    <tr>\n",
       "      <th>0</th>\n",
       "      <td>0</td>\n",
       "      <td>0.0000</td>\n",
       "      <td>0</td>\n",
       "      <td>0.0000</td>\n",
       "      <td>0</td>\n",
       "      <td>0</td>\n",
       "      <td>0</td>\n",
       "      <td>0</td>\n",
       "      <td>0</td>\n",
       "      <td>1</td>\n",
       "      <td>0</td>\n",
       "      <td>0</td>\n",
       "      <td>0</td>\n",
       "      <td>0</td>\n",
       "      <td>0</td>\n",
       "      <td>0</td>\n",
       "      <td>0</td>\n",
       "      <td>0</td>\n",
       "      <td>0</td>\n",
       "      <td>0</td>\n",
       "      <td>0</td>\n",
       "      <td>0</td>\n",
       "      <td>1</td>\n",
       "      <td>0</td>\n",
       "      <td>0</td>\n",
       "      <td>0</td>\n",
       "      <td>0</td>\n",
       "      <td>0</td>\n",
       "      <td>0</td>\n",
       "      <td>0</td>\n",
       "      <td>0</td>\n",
       "      <td>0</td>\n",
       "      <td>0</td>\n",
       "      <td>0</td>\n",
       "      <td>0</td>\n",
       "      <td>0</td>\n",
       "      <td>0</td>\n",
       "      <td>0</td>\n",
       "      <td>1</td>\n",
       "      <td>0</td>\n",
       "      <td>0</td>\n",
       "      <td>0</td>\n",
       "      <td>1</td>\n",
       "      <td>0</td>\n",
       "      <td>0</td>\n",
       "      <td>0</td>\n",
       "      <td>0</td>\n",
       "      <td>0</td>\n",
       "      <td>0</td>\n",
       "      <td>0</td>\n",
       "      <td>1</td>\n",
       "      <td>0</td>\n",
       "      <td>0</td>\n",
       "      <td>0</td>\n",
       "    </tr>\n",
       "    <tr>\n",
       "      <th>1</th>\n",
       "      <td>0</td>\n",
       "      <td>5.0000</td>\n",
       "      <td>674</td>\n",
       "      <td>2.5000</td>\n",
       "      <td>0</td>\n",
       "      <td>0</td>\n",
       "      <td>0</td>\n",
       "      <td>0</td>\n",
       "      <td>0</td>\n",
       "      <td>0</td>\n",
       "      <td>1</td>\n",
       "      <td>0</td>\n",
       "      <td>0</td>\n",
       "      <td>0</td>\n",
       "      <td>0</td>\n",
       "      <td>0</td>\n",
       "      <td>0</td>\n",
       "      <td>0</td>\n",
       "      <td>0</td>\n",
       "      <td>1</td>\n",
       "      <td>0</td>\n",
       "      <td>0</td>\n",
       "      <td>0</td>\n",
       "      <td>0</td>\n",
       "      <td>0</td>\n",
       "      <td>0</td>\n",
       "      <td>0</td>\n",
       "      <td>0</td>\n",
       "      <td>0</td>\n",
       "      <td>0</td>\n",
       "      <td>0</td>\n",
       "      <td>0</td>\n",
       "      <td>0</td>\n",
       "      <td>0</td>\n",
       "      <td>0</td>\n",
       "      <td>0</td>\n",
       "      <td>0</td>\n",
       "      <td>0</td>\n",
       "      <td>1</td>\n",
       "      <td>0</td>\n",
       "      <td>0</td>\n",
       "      <td>0</td>\n",
       "      <td>0</td>\n",
       "      <td>0</td>\n",
       "      <td>0</td>\n",
       "      <td>1</td>\n",
       "      <td>0</td>\n",
       "      <td>0</td>\n",
       "      <td>0</td>\n",
       "      <td>1</td>\n",
       "      <td>0</td>\n",
       "      <td>0</td>\n",
       "      <td>0</td>\n",
       "      <td>0</td>\n",
       "    </tr>\n",
       "    <tr>\n",
       "      <th>2</th>\n",
       "      <td>1</td>\n",
       "      <td>2.0000</td>\n",
       "      <td>1532</td>\n",
       "      <td>2.0000</td>\n",
       "      <td>1</td>\n",
       "      <td>0</td>\n",
       "      <td>0</td>\n",
       "      <td>1</td>\n",
       "      <td>0</td>\n",
       "      <td>0</td>\n",
       "      <td>0</td>\n",
       "      <td>0</td>\n",
       "      <td>0</td>\n",
       "      <td>0</td>\n",
       "      <td>0</td>\n",
       "      <td>0</td>\n",
       "      <td>0</td>\n",
       "      <td>0</td>\n",
       "      <td>0</td>\n",
       "      <td>1</td>\n",
       "      <td>0</td>\n",
       "      <td>0</td>\n",
       "      <td>0</td>\n",
       "      <td>0</td>\n",
       "      <td>0</td>\n",
       "      <td>1</td>\n",
       "      <td>0</td>\n",
       "      <td>0</td>\n",
       "      <td>0</td>\n",
       "      <td>0</td>\n",
       "      <td>0</td>\n",
       "      <td>0</td>\n",
       "      <td>0</td>\n",
       "      <td>0</td>\n",
       "      <td>0</td>\n",
       "      <td>0</td>\n",
       "      <td>0</td>\n",
       "      <td>1</td>\n",
       "      <td>0</td>\n",
       "      <td>0</td>\n",
       "      <td>0</td>\n",
       "      <td>0</td>\n",
       "      <td>0</td>\n",
       "      <td>0</td>\n",
       "      <td>0</td>\n",
       "      <td>0</td>\n",
       "      <td>1</td>\n",
       "      <td>1</td>\n",
       "      <td>0</td>\n",
       "      <td>1</td>\n",
       "      <td>0</td>\n",
       "      <td>0</td>\n",
       "      <td>0</td>\n",
       "      <td>0</td>\n",
       "    </tr>\n",
       "    <tr>\n",
       "      <th>3</th>\n",
       "      <td>0</td>\n",
       "      <td>1.0000</td>\n",
       "      <td>305</td>\n",
       "      <td>1.0000</td>\n",
       "      <td>1</td>\n",
       "      <td>0</td>\n",
       "      <td>0</td>\n",
       "      <td>1</td>\n",
       "      <td>0</td>\n",
       "      <td>0</td>\n",
       "      <td>0</td>\n",
       "      <td>0</td>\n",
       "      <td>0</td>\n",
       "      <td>0</td>\n",
       "      <td>0</td>\n",
       "      <td>0</td>\n",
       "      <td>0</td>\n",
       "      <td>0</td>\n",
       "      <td>0</td>\n",
       "      <td>0</td>\n",
       "      <td>0</td>\n",
       "      <td>0</td>\n",
       "      <td>0</td>\n",
       "      <td>0</td>\n",
       "      <td>0</td>\n",
       "      <td>0</td>\n",
       "      <td>0</td>\n",
       "      <td>0</td>\n",
       "      <td>0</td>\n",
       "      <td>0</td>\n",
       "      <td>1</td>\n",
       "      <td>0</td>\n",
       "      <td>0</td>\n",
       "      <td>0</td>\n",
       "      <td>0</td>\n",
       "      <td>0</td>\n",
       "      <td>0</td>\n",
       "      <td>0</td>\n",
       "      <td>1</td>\n",
       "      <td>0</td>\n",
       "      <td>0</td>\n",
       "      <td>0</td>\n",
       "      <td>0</td>\n",
       "      <td>0</td>\n",
       "      <td>0</td>\n",
       "      <td>1</td>\n",
       "      <td>0</td>\n",
       "      <td>0</td>\n",
       "      <td>0</td>\n",
       "      <td>0</td>\n",
       "      <td>1</td>\n",
       "      <td>0</td>\n",
       "      <td>0</td>\n",
       "      <td>0</td>\n",
       "    </tr>\n",
       "    <tr>\n",
       "      <th>4</th>\n",
       "      <td>1</td>\n",
       "      <td>2.0000</td>\n",
       "      <td>1428</td>\n",
       "      <td>1.0000</td>\n",
       "      <td>1</td>\n",
       "      <td>0</td>\n",
       "      <td>0</td>\n",
       "      <td>0</td>\n",
       "      <td>1</td>\n",
       "      <td>0</td>\n",
       "      <td>0</td>\n",
       "      <td>0</td>\n",
       "      <td>0</td>\n",
       "      <td>0</td>\n",
       "      <td>0</td>\n",
       "      <td>0</td>\n",
       "      <td>1</td>\n",
       "      <td>0</td>\n",
       "      <td>0</td>\n",
       "      <td>0</td>\n",
       "      <td>0</td>\n",
       "      <td>0</td>\n",
       "      <td>0</td>\n",
       "      <td>0</td>\n",
       "      <td>0</td>\n",
       "      <td>0</td>\n",
       "      <td>0</td>\n",
       "      <td>0</td>\n",
       "      <td>0</td>\n",
       "      <td>0</td>\n",
       "      <td>0</td>\n",
       "      <td>0</td>\n",
       "      <td>0</td>\n",
       "      <td>0</td>\n",
       "      <td>0</td>\n",
       "      <td>0</td>\n",
       "      <td>0</td>\n",
       "      <td>0</td>\n",
       "      <td>1</td>\n",
       "      <td>0</td>\n",
       "      <td>0</td>\n",
       "      <td>0</td>\n",
       "      <td>0</td>\n",
       "      <td>0</td>\n",
       "      <td>0</td>\n",
       "      <td>0</td>\n",
       "      <td>1</td>\n",
       "      <td>0</td>\n",
       "      <td>0</td>\n",
       "      <td>0</td>\n",
       "      <td>1</td>\n",
       "      <td>0</td>\n",
       "      <td>0</td>\n",
       "      <td>0</td>\n",
       "    </tr>\n",
       "  </tbody>\n",
       "</table>\n",
       "</div>"
      ],
      "text/plain": [
       "   Converted  TotalVisits  Total Time Spent on Website  Page Views Per Visit  \\\n",
       "0          0       0.0000                            0                0.0000   \n",
       "1          0       5.0000                          674                2.5000   \n",
       "2          1       2.0000                         1532                2.0000   \n",
       "3          0       1.0000                          305                1.0000   \n",
       "4          1       2.0000                         1428                1.0000   \n",
       "\n",
       "   Lead_Origin_Landing Page Submission  Lead_Origin_Lead Add Form  \\\n",
       "0                                    0                          0   \n",
       "1                                    0                          0   \n",
       "2                                    1                          0   \n",
       "3                                    1                          0   \n",
       "4                                    1                          0   \n",
       "\n",
       "   Lead_Origin_Lead Import  Lead Source_Direct Traffic  Lead Source_Google  \\\n",
       "0                        0                           0                   0   \n",
       "1                        0                           0                   0   \n",
       "2                        0                           1                   0   \n",
       "3                        0                           1                   0   \n",
       "4                        0                           0                   1   \n",
       "\n",
       "   Lead Source_Olark Chat  Lead Source_Organic Search  Lead Source_Reference  \\\n",
       "0                       1                           0                      0   \n",
       "1                       0                           1                      0   \n",
       "2                       0                           0                      0   \n",
       "3                       0                           0                      0   \n",
       "4                       0                           0                      0   \n",
       "\n",
       "   Lead Source_Referral Sites  Lead Source_Social Media  \\\n",
       "0                           0                         0   \n",
       "1                           0                         0   \n",
       "2                           0                         0   \n",
       "3                           0                         0   \n",
       "4                           0                         0   \n",
       "\n",
       "   Lead Source_Welingak Website  Do Not Email__1  \\\n",
       "0                             0                0   \n",
       "1                             0                0   \n",
       "2                             0                0   \n",
       "3                             0                0   \n",
       "4                             0                0   \n",
       "\n",
       "   Last Activity_Converted to Lead  Last Activity_Email Bounced  \\\n",
       "0                                0                            0   \n",
       "1                                0                            0   \n",
       "2                                0                            0   \n",
       "3                                0                            0   \n",
       "4                                1                            0   \n",
       "\n",
       "   Last Activity_Email Link Clicked  Last Activity_Email Opened  \\\n",
       "0                                 0                           0   \n",
       "1                                 0                           1   \n",
       "2                                 0                           1   \n",
       "3                                 0                           0   \n",
       "4                                 0                           0   \n",
       "\n",
       "   Last Activity_Form Submitted on Website  \\\n",
       "0                                        0   \n",
       "1                                        0   \n",
       "2                                        0   \n",
       "3                                        0   \n",
       "4                                        0   \n",
       "\n",
       "   Last Activity_Olark Chat Conversation  \\\n",
       "0                                      0   \n",
       "1                                      0   \n",
       "2                                      0   \n",
       "3                                      0   \n",
       "4                                      0   \n",
       "\n",
       "   Last Activity_Page Visited on Website  Last Activity_SMS Sent  \\\n",
       "0                                      1                       0   \n",
       "1                                      0                       0   \n",
       "2                                      0                       0   \n",
       "3                                      0                       0   \n",
       "4                                      0                       0   \n",
       "\n",
       "   Specialize_Banking, Investment And Insurance  \\\n",
       "0                                             0   \n",
       "1                                             0   \n",
       "2                                             0   \n",
       "3                                             0   \n",
       "4                                             0   \n",
       "\n",
       "   Specialize_Business Administration  Specialize_E-Business  \\\n",
       "0                                   0                      0   \n",
       "1                                   0                      0   \n",
       "2                                   1                      0   \n",
       "3                                   0                      0   \n",
       "4                                   0                      0   \n",
       "\n",
       "   Specialize_E-COMMERCE  Specialize_International Business  \\\n",
       "0                      0                                  0   \n",
       "1                      0                                  0   \n",
       "2                      0                                  0   \n",
       "3                      0                                  0   \n",
       "4                      0                                  0   \n",
       "\n",
       "   Specialize_Management_Specializations  Specialize_Media and Advertising  \\\n",
       "0                                      0                                 0   \n",
       "1                                      0                                 0   \n",
       "2                                      0                                 0   \n",
       "3                                      0                                 1   \n",
       "4                                      0                                 0   \n",
       "\n",
       "   Specialize_Rural and Agribusiness  Specialize_Services Excellence  \\\n",
       "0                                  0                               0   \n",
       "1                                  0                               0   \n",
       "2                                  0                               0   \n",
       "3                                  0                               0   \n",
       "4                                  0                               0   \n",
       "\n",
       "   Specialize_Travel and Tourism  Current Occupation_Businessman  \\\n",
       "0                              0                               0   \n",
       "1                              0                               0   \n",
       "2                              0                               0   \n",
       "3                              0                               0   \n",
       "4                              0                               0   \n",
       "\n",
       "   Current Occupation_Housewife  Current Occupation_Other  \\\n",
       "0                             0                         0   \n",
       "1                             0                         0   \n",
       "2                             0                         0   \n",
       "3                             0                         0   \n",
       "4                             0                         0   \n",
       "\n",
       "   Current Occupation_Student  Current Occupation_Unemployed  \\\n",
       "0                           0                              1   \n",
       "1                           0                              1   \n",
       "2                           1                              0   \n",
       "3                           0                              1   \n",
       "4                           0                              1   \n",
       "\n",
       "   Current Occupation_Working Professional  Tags_Busy  \\\n",
       "0                                        0          0   \n",
       "1                                        0          0   \n",
       "2                                        0          0   \n",
       "3                                        0          0   \n",
       "4                                        0          0   \n",
       "\n",
       "   Tags_Closed by Horizzon  Tags_Interested in other courses  \\\n",
       "0                        0                                 1   \n",
       "1                        0                                 0   \n",
       "2                        0                                 0   \n",
       "3                        0                                 0   \n",
       "4                        0                                 0   \n",
       "\n",
       "   Tags_Lost to EINS  Tags_Other_Tags  Tags_Ringing  \\\n",
       "0                  0                0             0   \n",
       "1                  0                0             1   \n",
       "2                  0                0             0   \n",
       "3                  0                0             1   \n",
       "4                  0                0             0   \n",
       "\n",
       "   Tags_Will revert after reading the email  \\\n",
       "0                                         0   \n",
       "1                                         0   \n",
       "2                                         1   \n",
       "3                                         0   \n",
       "4                                         1   \n",
       "\n",
       "   A free copy of Mastering The Interview__1  \\\n",
       "0                                          0   \n",
       "1                                          0   \n",
       "2                                          1   \n",
       "3                                          0   \n",
       "4                                          0   \n",
       "\n",
       "   Last Notable Activity_Email Link Clicked  \\\n",
       "0                                         0   \n",
       "1                                         0   \n",
       "2                                         0   \n",
       "3                                         0   \n",
       "4                                         0   \n",
       "\n",
       "   Last Notable Activity_Email Opened  Last Notable Activity_Modified  \\\n",
       "0                                   0                               1   \n",
       "1                                   1                               0   \n",
       "2                                   1                               0   \n",
       "3                                   0                               1   \n",
       "4                                   0                               1   \n",
       "\n",
       "   Last Notable Activity_Olark Chat Conversation  \\\n",
       "0                                              0   \n",
       "1                                              0   \n",
       "2                                              0   \n",
       "3                                              0   \n",
       "4                                              0   \n",
       "\n",
       "   Last Notable Activity_Page Visited on Website  \\\n",
       "0                                              0   \n",
       "1                                              0   \n",
       "2                                              0   \n",
       "3                                              0   \n",
       "4                                              0   \n",
       "\n",
       "   Last Notable Activity_SMS Sent  \n",
       "0                               0  \n",
       "1                               0  \n",
       "2                               0  \n",
       "3                               0  \n",
       "4                               0  "
      ]
     },
     "execution_count": 120,
     "metadata": {},
     "output_type": "execute_result"
    }
   ],
   "source": [
    "leads.head()"
   ]
  },
  {
   "cell_type": "code",
   "execution_count": 121,
   "metadata": {
    "execution": {
     "iopub.execute_input": "2023-04-17T13:28:12.865987Z",
     "iopub.status.busy": "2023-04-17T13:28:12.865767Z",
     "iopub.status.idle": "2023-04-17T13:28:12.870857Z",
     "shell.execute_reply": "2023-04-17T13:28:12.870101Z",
     "shell.execute_reply.started": "2023-04-17T13:28:12.865958Z"
    }
   },
   "outputs": [
    {
     "data": {
      "text/plain": [
       "(8953, 54)"
      ]
     },
     "execution_count": 121,
     "metadata": {},
     "output_type": "execute_result"
    }
   ],
   "source": [
    "leads.shape"
   ]
  },
  {
   "cell_type": "markdown",
   "metadata": {},
   "source": [
    "<h4><font color = purple > 5.2 Train - Test Split of data</font></h4>"
   ]
  },
  {
   "cell_type": "code",
   "execution_count": 122,
   "metadata": {
    "execution": {
     "iopub.execute_input": "2023-04-17T13:28:12.872187Z",
     "iopub.status.busy": "2023-04-17T13:28:12.871981Z",
     "iopub.status.idle": "2023-04-17T13:28:13.017692Z",
     "shell.execute_reply": "2023-04-17T13:28:13.016515Z",
     "shell.execute_reply.started": "2023-04-17T13:28:12.872147Z"
    }
   },
   "outputs": [],
   "source": [
    "from sklearn.model_selection import train_test_split\n",
    "\n",
    "# Putting response variable to y\n",
    "y = leads['Converted']\n",
    "\n",
    "y.head()\n",
    "\n",
    "X=leads.drop('Converted', axis=1)"
   ]
  },
  {
   "cell_type": "code",
   "execution_count": 123,
   "metadata": {
    "execution": {
     "iopub.execute_input": "2023-04-17T13:28:13.018956Z",
     "iopub.status.busy": "2023-04-17T13:28:13.018723Z",
     "iopub.status.idle": "2023-04-17T13:28:13.027915Z",
     "shell.execute_reply": "2023-04-17T13:28:13.026683Z",
     "shell.execute_reply.started": "2023-04-17T13:28:13.018927Z"
    }
   },
   "outputs": [],
   "source": [
    "# Splitting the data into train and test :\n",
    "\n",
    "X_train, X_test, y_train, y_test = train_test_split(X, y, train_size=0.7, test_size=0.3, random_state=100)"
   ]
  },
  {
   "cell_type": "code",
   "execution_count": 124,
   "metadata": {
    "execution": {
     "iopub.execute_input": "2023-04-17T13:28:13.029379Z",
     "iopub.status.busy": "2023-04-17T13:28:13.029032Z",
     "iopub.status.idle": "2023-04-17T13:28:13.045017Z",
     "shell.execute_reply": "2023-04-17T13:28:13.044070Z",
     "shell.execute_reply.started": "2023-04-17T13:28:13.029351Z"
    }
   },
   "outputs": [
    {
     "name": "stdout",
     "output_type": "stream",
     "text": [
      "<class 'pandas.core.frame.DataFrame'>\n",
      "Int64Index: 6267 entries, 9196 to 5825\n",
      "Data columns (total 53 columns):\n",
      "TotalVisits                                      6267 non-null float64\n",
      "Total Time Spent on Website                      6267 non-null int64\n",
      "Page Views Per Visit                             6267 non-null float64\n",
      "Lead_Origin_Landing Page Submission              6267 non-null uint8\n",
      "Lead_Origin_Lead Add Form                        6267 non-null uint8\n",
      "Lead_Origin_Lead Import                          6267 non-null uint8\n",
      "Lead Source_Direct Traffic                       6267 non-null uint8\n",
      "Lead Source_Google                               6267 non-null uint8\n",
      "Lead Source_Olark Chat                           6267 non-null uint8\n",
      "Lead Source_Organic Search                       6267 non-null uint8\n",
      "Lead Source_Reference                            6267 non-null uint8\n",
      "Lead Source_Referral Sites                       6267 non-null uint8\n",
      "Lead Source_Social Media                         6267 non-null uint8\n",
      "Lead Source_Welingak Website                     6267 non-null uint8\n",
      "Do Not Email__1                                  6267 non-null uint8\n",
      "Last Activity_Converted to Lead                  6267 non-null uint8\n",
      "Last Activity_Email Bounced                      6267 non-null uint8\n",
      "Last Activity_Email Link Clicked                 6267 non-null uint8\n",
      "Last Activity_Email Opened                       6267 non-null uint8\n",
      "Last Activity_Form Submitted on Website          6267 non-null uint8\n",
      "Last Activity_Olark Chat Conversation            6267 non-null uint8\n",
      "Last Activity_Page Visited on Website            6267 non-null uint8\n",
      "Last Activity_SMS Sent                           6267 non-null uint8\n",
      "Specialize_Banking, Investment And Insurance     6267 non-null uint8\n",
      "Specialize_Business Administration               6267 non-null uint8\n",
      "Specialize_E-Business                            6267 non-null uint8\n",
      "Specialize_E-COMMERCE                            6267 non-null uint8\n",
      "Specialize_International Business                6267 non-null uint8\n",
      "Specialize_Management_Specializations            6267 non-null uint8\n",
      "Specialize_Media and Advertising                 6267 non-null uint8\n",
      "Specialize_Rural and Agribusiness                6267 non-null uint8\n",
      "Specialize_Services Excellence                   6267 non-null uint8\n",
      "Specialize_Travel and Tourism                    6267 non-null uint8\n",
      "Current Occupation_Businessman                   6267 non-null uint8\n",
      "Current Occupation_Housewife                     6267 non-null uint8\n",
      "Current Occupation_Other                         6267 non-null uint8\n",
      "Current Occupation_Student                       6267 non-null uint8\n",
      "Current Occupation_Unemployed                    6267 non-null uint8\n",
      "Current Occupation_Working Professional          6267 non-null uint8\n",
      "Tags_Busy                                        6267 non-null uint8\n",
      "Tags_Closed by Horizzon                          6267 non-null uint8\n",
      "Tags_Interested in other courses                 6267 non-null uint8\n",
      "Tags_Lost to EINS                                6267 non-null uint8\n",
      "Tags_Other_Tags                                  6267 non-null uint8\n",
      "Tags_Ringing                                     6267 non-null uint8\n",
      "Tags_Will revert after reading the email         6267 non-null uint8\n",
      "A free copy of Mastering The Interview__1        6267 non-null uint8\n",
      "Last Notable Activity_Email Link Clicked         6267 non-null uint8\n",
      "Last Notable Activity_Email Opened               6267 non-null uint8\n",
      "Last Notable Activity_Modified                   6267 non-null uint8\n",
      "Last Notable Activity_Olark Chat Conversation    6267 non-null uint8\n",
      "Last Notable Activity_Page Visited on Website    6267 non-null uint8\n",
      "Last Notable Activity_SMS Sent                   6267 non-null uint8\n",
      "dtypes: float64(2), int64(1), uint8(50)\n",
      "memory usage: 501.8 KB\n"
     ]
    }
   ],
   "source": [
    "X_train.info()"
   ]
  },
  {
   "cell_type": "markdown",
   "metadata": {},
   "source": [
    "\n",
    "<h4><font color = purple > 5.3 Scaling of Data</font></h4>"
   ]
  },
  {
   "cell_type": "code",
   "execution_count": 125,
   "metadata": {
    "execution": {
     "iopub.execute_input": "2023-04-17T13:28:13.046070Z",
     "iopub.status.busy": "2023-04-17T13:28:13.045889Z",
     "iopub.status.idle": "2023-04-17T13:28:13.633115Z",
     "shell.execute_reply": "2023-04-17T13:28:13.632193Z",
     "shell.execute_reply.started": "2023-04-17T13:28:13.046045Z"
    }
   },
   "outputs": [
    {
     "data": {
      "text/html": [
       "<div>\n",
       "<style scoped>\n",
       "    .dataframe tbody tr th:only-of-type {\n",
       "        vertical-align: middle;\n",
       "    }\n",
       "\n",
       "    .dataframe tbody tr th {\n",
       "        vertical-align: top;\n",
       "    }\n",
       "\n",
       "    .dataframe thead th {\n",
       "        text-align: right;\n",
       "    }\n",
       "</style>\n",
       "<table border=\"1\" class=\"dataframe\">\n",
       "  <thead>\n",
       "    <tr style=\"text-align: right;\">\n",
       "      <th></th>\n",
       "      <th>TotalVisits</th>\n",
       "      <th>Total Time Spent on Website</th>\n",
       "      <th>Page Views Per Visit</th>\n",
       "      <th>Lead_Origin_Landing Page Submission</th>\n",
       "      <th>Lead_Origin_Lead Add Form</th>\n",
       "      <th>Lead_Origin_Lead Import</th>\n",
       "      <th>Lead Source_Direct Traffic</th>\n",
       "      <th>Lead Source_Google</th>\n",
       "      <th>Lead Source_Olark Chat</th>\n",
       "      <th>Lead Source_Organic Search</th>\n",
       "      <th>Lead Source_Reference</th>\n",
       "      <th>Lead Source_Referral Sites</th>\n",
       "      <th>Lead Source_Social Media</th>\n",
       "      <th>Lead Source_Welingak Website</th>\n",
       "      <th>Do Not Email__1</th>\n",
       "      <th>Last Activity_Converted to Lead</th>\n",
       "      <th>Last Activity_Email Bounced</th>\n",
       "      <th>Last Activity_Email Link Clicked</th>\n",
       "      <th>Last Activity_Email Opened</th>\n",
       "      <th>Last Activity_Form Submitted on Website</th>\n",
       "      <th>Last Activity_Olark Chat Conversation</th>\n",
       "      <th>Last Activity_Page Visited on Website</th>\n",
       "      <th>Last Activity_SMS Sent</th>\n",
       "      <th>Specialize_Banking, Investment And Insurance</th>\n",
       "      <th>Specialize_Business Administration</th>\n",
       "      <th>Specialize_E-Business</th>\n",
       "      <th>Specialize_E-COMMERCE</th>\n",
       "      <th>Specialize_International Business</th>\n",
       "      <th>Specialize_Management_Specializations</th>\n",
       "      <th>Specialize_Media and Advertising</th>\n",
       "      <th>Specialize_Rural and Agribusiness</th>\n",
       "      <th>Specialize_Services Excellence</th>\n",
       "      <th>Specialize_Travel and Tourism</th>\n",
       "      <th>Current Occupation_Businessman</th>\n",
       "      <th>Current Occupation_Housewife</th>\n",
       "      <th>Current Occupation_Other</th>\n",
       "      <th>Current Occupation_Student</th>\n",
       "      <th>Current Occupation_Unemployed</th>\n",
       "      <th>Current Occupation_Working Professional</th>\n",
       "      <th>Tags_Busy</th>\n",
       "      <th>Tags_Closed by Horizzon</th>\n",
       "      <th>Tags_Interested in other courses</th>\n",
       "      <th>Tags_Lost to EINS</th>\n",
       "      <th>Tags_Other_Tags</th>\n",
       "      <th>Tags_Ringing</th>\n",
       "      <th>Tags_Will revert after reading the email</th>\n",
       "      <th>A free copy of Mastering The Interview__1</th>\n",
       "      <th>Last Notable Activity_Email Link Clicked</th>\n",
       "      <th>Last Notable Activity_Email Opened</th>\n",
       "      <th>Last Notable Activity_Modified</th>\n",
       "      <th>Last Notable Activity_Olark Chat Conversation</th>\n",
       "      <th>Last Notable Activity_Page Visited on Website</th>\n",
       "      <th>Last Notable Activity_SMS Sent</th>\n",
       "    </tr>\n",
       "  </thead>\n",
       "  <tbody>\n",
       "    <tr>\n",
       "      <th>9196</th>\n",
       "      <td>0.6689</td>\n",
       "      <td>1.8481</td>\n",
       "      <td>1.4558</td>\n",
       "      <td>1</td>\n",
       "      <td>0</td>\n",
       "      <td>0</td>\n",
       "      <td>0</td>\n",
       "      <td>1</td>\n",
       "      <td>0</td>\n",
       "      <td>0</td>\n",
       "      <td>0</td>\n",
       "      <td>0</td>\n",
       "      <td>0</td>\n",
       "      <td>0</td>\n",
       "      <td>0</td>\n",
       "      <td>0</td>\n",
       "      <td>0</td>\n",
       "      <td>0</td>\n",
       "      <td>0</td>\n",
       "      <td>0</td>\n",
       "      <td>0</td>\n",
       "      <td>0</td>\n",
       "      <td>1</td>\n",
       "      <td>0</td>\n",
       "      <td>0</td>\n",
       "      <td>0</td>\n",
       "      <td>0</td>\n",
       "      <td>0</td>\n",
       "      <td>1</td>\n",
       "      <td>0</td>\n",
       "      <td>0</td>\n",
       "      <td>0</td>\n",
       "      <td>0</td>\n",
       "      <td>0</td>\n",
       "      <td>0</td>\n",
       "      <td>0</td>\n",
       "      <td>0</td>\n",
       "      <td>1</td>\n",
       "      <td>0</td>\n",
       "      <td>0</td>\n",
       "      <td>0</td>\n",
       "      <td>0</td>\n",
       "      <td>0</td>\n",
       "      <td>0</td>\n",
       "      <td>1</td>\n",
       "      <td>0</td>\n",
       "      <td>0</td>\n",
       "      <td>0</td>\n",
       "      <td>0</td>\n",
       "      <td>0</td>\n",
       "      <td>0</td>\n",
       "      <td>0</td>\n",
       "      <td>1</td>\n",
       "    </tr>\n",
       "    <tr>\n",
       "      <th>4696</th>\n",
       "      <td>-0.0307</td>\n",
       "      <td>-0.0378</td>\n",
       "      <td>0.4000</td>\n",
       "      <td>1</td>\n",
       "      <td>0</td>\n",
       "      <td>0</td>\n",
       "      <td>1</td>\n",
       "      <td>0</td>\n",
       "      <td>0</td>\n",
       "      <td>0</td>\n",
       "      <td>0</td>\n",
       "      <td>0</td>\n",
       "      <td>0</td>\n",
       "      <td>0</td>\n",
       "      <td>0</td>\n",
       "      <td>0</td>\n",
       "      <td>0</td>\n",
       "      <td>0</td>\n",
       "      <td>0</td>\n",
       "      <td>0</td>\n",
       "      <td>0</td>\n",
       "      <td>0</td>\n",
       "      <td>1</td>\n",
       "      <td>0</td>\n",
       "      <td>0</td>\n",
       "      <td>0</td>\n",
       "      <td>0</td>\n",
       "      <td>0</td>\n",
       "      <td>0</td>\n",
       "      <td>1</td>\n",
       "      <td>0</td>\n",
       "      <td>0</td>\n",
       "      <td>0</td>\n",
       "      <td>0</td>\n",
       "      <td>0</td>\n",
       "      <td>0</td>\n",
       "      <td>0</td>\n",
       "      <td>1</td>\n",
       "      <td>0</td>\n",
       "      <td>0</td>\n",
       "      <td>0</td>\n",
       "      <td>0</td>\n",
       "      <td>0</td>\n",
       "      <td>0</td>\n",
       "      <td>1</td>\n",
       "      <td>0</td>\n",
       "      <td>0</td>\n",
       "      <td>0</td>\n",
       "      <td>0</td>\n",
       "      <td>0</td>\n",
       "      <td>0</td>\n",
       "      <td>0</td>\n",
       "      <td>1</td>\n",
       "    </tr>\n",
       "    <tr>\n",
       "      <th>3274</th>\n",
       "      <td>0.3191</td>\n",
       "      <td>-0.6421</td>\n",
       "      <td>-0.1280</td>\n",
       "      <td>1</td>\n",
       "      <td>0</td>\n",
       "      <td>0</td>\n",
       "      <td>0</td>\n",
       "      <td>1</td>\n",
       "      <td>0</td>\n",
       "      <td>0</td>\n",
       "      <td>0</td>\n",
       "      <td>0</td>\n",
       "      <td>0</td>\n",
       "      <td>0</td>\n",
       "      <td>0</td>\n",
       "      <td>0</td>\n",
       "      <td>0</td>\n",
       "      <td>0</td>\n",
       "      <td>0</td>\n",
       "      <td>0</td>\n",
       "      <td>0</td>\n",
       "      <td>0</td>\n",
       "      <td>1</td>\n",
       "      <td>0</td>\n",
       "      <td>0</td>\n",
       "      <td>0</td>\n",
       "      <td>0</td>\n",
       "      <td>0</td>\n",
       "      <td>1</td>\n",
       "      <td>0</td>\n",
       "      <td>0</td>\n",
       "      <td>0</td>\n",
       "      <td>0</td>\n",
       "      <td>0</td>\n",
       "      <td>0</td>\n",
       "      <td>0</td>\n",
       "      <td>0</td>\n",
       "      <td>0</td>\n",
       "      <td>0</td>\n",
       "      <td>0</td>\n",
       "      <td>0</td>\n",
       "      <td>0</td>\n",
       "      <td>0</td>\n",
       "      <td>0</td>\n",
       "      <td>0</td>\n",
       "      <td>0</td>\n",
       "      <td>0</td>\n",
       "      <td>0</td>\n",
       "      <td>0</td>\n",
       "      <td>0</td>\n",
       "      <td>0</td>\n",
       "      <td>0</td>\n",
       "      <td>1</td>\n",
       "    </tr>\n",
       "    <tr>\n",
       "      <th>2164</th>\n",
       "      <td>-0.3805</td>\n",
       "      <td>-0.1547</td>\n",
       "      <td>-0.1280</td>\n",
       "      <td>0</td>\n",
       "      <td>0</td>\n",
       "      <td>0</td>\n",
       "      <td>0</td>\n",
       "      <td>1</td>\n",
       "      <td>0</td>\n",
       "      <td>0</td>\n",
       "      <td>0</td>\n",
       "      <td>0</td>\n",
       "      <td>0</td>\n",
       "      <td>0</td>\n",
       "      <td>0</td>\n",
       "      <td>0</td>\n",
       "      <td>0</td>\n",
       "      <td>0</td>\n",
       "      <td>0</td>\n",
       "      <td>0</td>\n",
       "      <td>1</td>\n",
       "      <td>0</td>\n",
       "      <td>0</td>\n",
       "      <td>0</td>\n",
       "      <td>0</td>\n",
       "      <td>0</td>\n",
       "      <td>0</td>\n",
       "      <td>0</td>\n",
       "      <td>0</td>\n",
       "      <td>0</td>\n",
       "      <td>0</td>\n",
       "      <td>0</td>\n",
       "      <td>0</td>\n",
       "      <td>0</td>\n",
       "      <td>0</td>\n",
       "      <td>0</td>\n",
       "      <td>0</td>\n",
       "      <td>1</td>\n",
       "      <td>0</td>\n",
       "      <td>0</td>\n",
       "      <td>0</td>\n",
       "      <td>1</td>\n",
       "      <td>0</td>\n",
       "      <td>0</td>\n",
       "      <td>0</td>\n",
       "      <td>0</td>\n",
       "      <td>0</td>\n",
       "      <td>0</td>\n",
       "      <td>0</td>\n",
       "      <td>1</td>\n",
       "      <td>0</td>\n",
       "      <td>0</td>\n",
       "      <td>0</td>\n",
       "    </tr>\n",
       "    <tr>\n",
       "      <th>1667</th>\n",
       "      <td>0.3191</td>\n",
       "      <td>1.2584</td>\n",
       "      <td>-0.4817</td>\n",
       "      <td>0</td>\n",
       "      <td>0</td>\n",
       "      <td>0</td>\n",
       "      <td>0</td>\n",
       "      <td>1</td>\n",
       "      <td>0</td>\n",
       "      <td>0</td>\n",
       "      <td>0</td>\n",
       "      <td>0</td>\n",
       "      <td>0</td>\n",
       "      <td>0</td>\n",
       "      <td>0</td>\n",
       "      <td>0</td>\n",
       "      <td>0</td>\n",
       "      <td>0</td>\n",
       "      <td>1</td>\n",
       "      <td>0</td>\n",
       "      <td>0</td>\n",
       "      <td>0</td>\n",
       "      <td>0</td>\n",
       "      <td>0</td>\n",
       "      <td>0</td>\n",
       "      <td>0</td>\n",
       "      <td>0</td>\n",
       "      <td>0</td>\n",
       "      <td>1</td>\n",
       "      <td>0</td>\n",
       "      <td>0</td>\n",
       "      <td>0</td>\n",
       "      <td>0</td>\n",
       "      <td>0</td>\n",
       "      <td>0</td>\n",
       "      <td>0</td>\n",
       "      <td>0</td>\n",
       "      <td>1</td>\n",
       "      <td>0</td>\n",
       "      <td>0</td>\n",
       "      <td>0</td>\n",
       "      <td>0</td>\n",
       "      <td>0</td>\n",
       "      <td>0</td>\n",
       "      <td>0</td>\n",
       "      <td>1</td>\n",
       "      <td>0</td>\n",
       "      <td>0</td>\n",
       "      <td>1</td>\n",
       "      <td>0</td>\n",
       "      <td>0</td>\n",
       "      <td>0</td>\n",
       "      <td>0</td>\n",
       "    </tr>\n",
       "  </tbody>\n",
       "</table>\n",
       "</div>"
      ],
      "text/plain": [
       "      TotalVisits  Total Time Spent on Website  Page Views Per Visit  \\\n",
       "9196       0.6689                       1.8481                1.4558   \n",
       "4696      -0.0307                      -0.0378                0.4000   \n",
       "3274       0.3191                      -0.6421               -0.1280   \n",
       "2164      -0.3805                      -0.1547               -0.1280   \n",
       "1667       0.3191                       1.2584               -0.4817   \n",
       "\n",
       "      Lead_Origin_Landing Page Submission  Lead_Origin_Lead Add Form  \\\n",
       "9196                                    1                          0   \n",
       "4696                                    1                          0   \n",
       "3274                                    1                          0   \n",
       "2164                                    0                          0   \n",
       "1667                                    0                          0   \n",
       "\n",
       "      Lead_Origin_Lead Import  Lead Source_Direct Traffic  Lead Source_Google  \\\n",
       "9196                        0                           0                   1   \n",
       "4696                        0                           1                   0   \n",
       "3274                        0                           0                   1   \n",
       "2164                        0                           0                   1   \n",
       "1667                        0                           0                   1   \n",
       "\n",
       "      Lead Source_Olark Chat  Lead Source_Organic Search  \\\n",
       "9196                       0                           0   \n",
       "4696                       0                           0   \n",
       "3274                       0                           0   \n",
       "2164                       0                           0   \n",
       "1667                       0                           0   \n",
       "\n",
       "      Lead Source_Reference  Lead Source_Referral Sites  \\\n",
       "9196                      0                           0   \n",
       "4696                      0                           0   \n",
       "3274                      0                           0   \n",
       "2164                      0                           0   \n",
       "1667                      0                           0   \n",
       "\n",
       "      Lead Source_Social Media  Lead Source_Welingak Website  Do Not Email__1  \\\n",
       "9196                         0                             0                0   \n",
       "4696                         0                             0                0   \n",
       "3274                         0                             0                0   \n",
       "2164                         0                             0                0   \n",
       "1667                         0                             0                0   \n",
       "\n",
       "      Last Activity_Converted to Lead  Last Activity_Email Bounced  \\\n",
       "9196                                0                            0   \n",
       "4696                                0                            0   \n",
       "3274                                0                            0   \n",
       "2164                                0                            0   \n",
       "1667                                0                            0   \n",
       "\n",
       "      Last Activity_Email Link Clicked  Last Activity_Email Opened  \\\n",
       "9196                                 0                           0   \n",
       "4696                                 0                           0   \n",
       "3274                                 0                           0   \n",
       "2164                                 0                           0   \n",
       "1667                                 0                           1   \n",
       "\n",
       "      Last Activity_Form Submitted on Website  \\\n",
       "9196                                        0   \n",
       "4696                                        0   \n",
       "3274                                        0   \n",
       "2164                                        0   \n",
       "1667                                        0   \n",
       "\n",
       "      Last Activity_Olark Chat Conversation  \\\n",
       "9196                                      0   \n",
       "4696                                      0   \n",
       "3274                                      0   \n",
       "2164                                      1   \n",
       "1667                                      0   \n",
       "\n",
       "      Last Activity_Page Visited on Website  Last Activity_SMS Sent  \\\n",
       "9196                                      0                       1   \n",
       "4696                                      0                       1   \n",
       "3274                                      0                       1   \n",
       "2164                                      0                       0   \n",
       "1667                                      0                       0   \n",
       "\n",
       "      Specialize_Banking, Investment And Insurance  \\\n",
       "9196                                             0   \n",
       "4696                                             0   \n",
       "3274                                             0   \n",
       "2164                                             0   \n",
       "1667                                             0   \n",
       "\n",
       "      Specialize_Business Administration  Specialize_E-Business  \\\n",
       "9196                                   0                      0   \n",
       "4696                                   0                      0   \n",
       "3274                                   0                      0   \n",
       "2164                                   0                      0   \n",
       "1667                                   0                      0   \n",
       "\n",
       "      Specialize_E-COMMERCE  Specialize_International Business  \\\n",
       "9196                      0                                  0   \n",
       "4696                      0                                  0   \n",
       "3274                      0                                  0   \n",
       "2164                      0                                  0   \n",
       "1667                      0                                  0   \n",
       "\n",
       "      Specialize_Management_Specializations  Specialize_Media and Advertising  \\\n",
       "9196                                      1                                 0   \n",
       "4696                                      0                                 1   \n",
       "3274                                      1                                 0   \n",
       "2164                                      0                                 0   \n",
       "1667                                      1                                 0   \n",
       "\n",
       "      Specialize_Rural and Agribusiness  Specialize_Services Excellence  \\\n",
       "9196                                  0                               0   \n",
       "4696                                  0                               0   \n",
       "3274                                  0                               0   \n",
       "2164                                  0                               0   \n",
       "1667                                  0                               0   \n",
       "\n",
       "      Specialize_Travel and Tourism  Current Occupation_Businessman  \\\n",
       "9196                              0                               0   \n",
       "4696                              0                               0   \n",
       "3274                              0                               0   \n",
       "2164                              0                               0   \n",
       "1667                              0                               0   \n",
       "\n",
       "      Current Occupation_Housewife  Current Occupation_Other  \\\n",
       "9196                             0                         0   \n",
       "4696                             0                         0   \n",
       "3274                             0                         0   \n",
       "2164                             0                         0   \n",
       "1667                             0                         0   \n",
       "\n",
       "      Current Occupation_Student  Current Occupation_Unemployed  \\\n",
       "9196                           0                              1   \n",
       "4696                           0                              1   \n",
       "3274                           0                              0   \n",
       "2164                           0                              1   \n",
       "1667                           0                              1   \n",
       "\n",
       "      Current Occupation_Working Professional  Tags_Busy  \\\n",
       "9196                                        0          0   \n",
       "4696                                        0          0   \n",
       "3274                                        0          0   \n",
       "2164                                        0          0   \n",
       "1667                                        0          0   \n",
       "\n",
       "      Tags_Closed by Horizzon  Tags_Interested in other courses  \\\n",
       "9196                        0                                 0   \n",
       "4696                        0                                 0   \n",
       "3274                        0                                 0   \n",
       "2164                        0                                 1   \n",
       "1667                        0                                 0   \n",
       "\n",
       "      Tags_Lost to EINS  Tags_Other_Tags  Tags_Ringing  \\\n",
       "9196                  0                0             1   \n",
       "4696                  0                0             1   \n",
       "3274                  0                0             0   \n",
       "2164                  0                0             0   \n",
       "1667                  0                0             0   \n",
       "\n",
       "      Tags_Will revert after reading the email  \\\n",
       "9196                                         0   \n",
       "4696                                         0   \n",
       "3274                                         0   \n",
       "2164                                         0   \n",
       "1667                                         1   \n",
       "\n",
       "      A free copy of Mastering The Interview__1  \\\n",
       "9196                                          0   \n",
       "4696                                          0   \n",
       "3274                                          0   \n",
       "2164                                          0   \n",
       "1667                                          0   \n",
       "\n",
       "      Last Notable Activity_Email Link Clicked  \\\n",
       "9196                                         0   \n",
       "4696                                         0   \n",
       "3274                                         0   \n",
       "2164                                         0   \n",
       "1667                                         0   \n",
       "\n",
       "      Last Notable Activity_Email Opened  Last Notable Activity_Modified  \\\n",
       "9196                                   0                               0   \n",
       "4696                                   0                               0   \n",
       "3274                                   0                               0   \n",
       "2164                                   0                               1   \n",
       "1667                                   1                               0   \n",
       "\n",
       "      Last Notable Activity_Olark Chat Conversation  \\\n",
       "9196                                              0   \n",
       "4696                                              0   \n",
       "3274                                              0   \n",
       "2164                                              0   \n",
       "1667                                              0   \n",
       "\n",
       "      Last Notable Activity_Page Visited on Website  \\\n",
       "9196                                              0   \n",
       "4696                                              0   \n",
       "3274                                              0   \n",
       "2164                                              0   \n",
       "1667                                              0   \n",
       "\n",
       "      Last Notable Activity_SMS Sent  \n",
       "9196                               1  \n",
       "4696                               1  \n",
       "3274                               1  \n",
       "2164                               0  \n",
       "1667                               0  "
      ]
     },
     "execution_count": 125,
     "metadata": {},
     "output_type": "execute_result"
    }
   ],
   "source": [
    "#scaling numeric columns\n",
    "\n",
    "from sklearn.preprocessing import StandardScaler\n",
    "\n",
    "scaler = StandardScaler()\n",
    "\n",
    "\n",
    "num_cols=X_train.select_dtypes(include=['float64', 'int64']).columns\n",
    "\n",
    "X_train[num_cols] = scaler.fit_transform(X_train[num_cols])\n",
    "\n",
    "X_train.head()"
   ]
  },
  {
   "cell_type": "markdown",
   "metadata": {},
   "source": [
    "<h4><font color = purple > 5.3 Model Building using Stats Model & RFE</font></h4>"
   ]
  },
  {
   "cell_type": "code",
   "execution_count": 126,
   "metadata": {
    "execution": {
     "iopub.execute_input": "2023-04-17T13:28:13.634491Z",
     "iopub.status.busy": "2023-04-17T13:28:13.634291Z",
     "iopub.status.idle": "2023-04-17T13:28:13.988185Z",
     "shell.execute_reply": "2023-04-17T13:28:13.987005Z",
     "shell.execute_reply.started": "2023-04-17T13:28:13.634465Z"
    }
   },
   "outputs": [],
   "source": [
    "import statsmodels.api as sm"
   ]
  },
  {
   "cell_type": "code",
   "execution_count": 127,
   "metadata": {
    "execution": {
     "iopub.execute_input": "2023-04-17T13:28:13.989904Z",
     "iopub.status.busy": "2023-04-17T13:28:13.989536Z",
     "iopub.status.idle": "2023-04-17T13:28:14.035132Z",
     "shell.execute_reply": "2023-04-17T13:28:14.034206Z",
     "shell.execute_reply.started": "2023-04-17T13:28:13.989859Z"
    }
   },
   "outputs": [],
   "source": [
    "from sklearn.linear_model import LogisticRegression\n",
    "logreg = LogisticRegression()"
   ]
  },
  {
   "cell_type": "code",
   "execution_count": 128,
   "metadata": {
    "execution": {
     "iopub.execute_input": "2023-04-17T13:28:14.036421Z",
     "iopub.status.busy": "2023-04-17T13:28:14.036084Z",
     "iopub.status.idle": "2023-04-17T13:28:14.785539Z",
     "shell.execute_reply": "2023-04-17T13:28:14.784274Z",
     "shell.execute_reply.started": "2023-04-17T13:28:14.036395Z"
    }
   },
   "outputs": [],
   "source": [
    "from sklearn.feature_selection import RFE\n",
    "rfe = RFE(logreg, 20)            # running RFE with 20 variables as output\n",
    "rfe = rfe.fit(X_train, y_train)"
   ]
  },
  {
   "cell_type": "code",
   "execution_count": 129,
   "metadata": {
    "execution": {
     "iopub.execute_input": "2023-04-17T13:28:14.787284Z",
     "iopub.status.busy": "2023-04-17T13:28:14.787095Z",
     "iopub.status.idle": "2023-04-17T13:28:14.795173Z",
     "shell.execute_reply": "2023-04-17T13:28:14.793346Z",
     "shell.execute_reply.started": "2023-04-17T13:28:14.787256Z"
    }
   },
   "outputs": [
    {
     "data": {
      "text/plain": [
       "array([False,  True, False, False,  True, False,  True, False, False,\n",
       "       False, False, False, False,  True,  True, False, False, False,\n",
       "       False, False, False, False,  True, False, False, False, False,\n",
       "       False, False, False, False, False,  True, False, False, False,\n",
       "        True,  True,  True,  True,  True,  True,  True,  True,  True,\n",
       "        True, False,  True, False,  True,  True, False, False])"
      ]
     },
     "execution_count": 129,
     "metadata": {},
     "output_type": "execute_result"
    }
   ],
   "source": [
    "rfe.support_"
   ]
  },
  {
   "cell_type": "code",
   "execution_count": 130,
   "metadata": {
    "execution": {
     "iopub.execute_input": "2023-04-17T13:28:14.797976Z",
     "iopub.status.busy": "2023-04-17T13:28:14.797567Z",
     "iopub.status.idle": "2023-04-17T13:28:14.815387Z",
     "shell.execute_reply": "2023-04-17T13:28:14.813773Z",
     "shell.execute_reply.started": "2023-04-17T13:28:14.797922Z"
    }
   },
   "outputs": [
    {
     "data": {
      "text/plain": [
       "[('TotalVisits', False, 22),\n",
       " ('Total Time Spent on Website', True, 1),\n",
       " ('Page Views Per Visit', False, 20),\n",
       " ('Lead_Origin_Landing Page Submission', False, 15),\n",
       " ('Lead_Origin_Lead Add Form', True, 1),\n",
       " ('Lead_Origin_Lead Import', False, 32),\n",
       " ('Lead Source_Direct Traffic', True, 1),\n",
       " ('Lead Source_Google', False, 2),\n",
       " ('Lead Source_Olark Chat', False, 34),\n",
       " ('Lead Source_Organic Search', False, 3),\n",
       " ('Lead Source_Reference', False, 23),\n",
       " ('Lead Source_Referral Sites', False, 4),\n",
       " ('Lead Source_Social Media', False, 8),\n",
       " ('Lead Source_Welingak Website', True, 1),\n",
       " ('Do Not Email__1', True, 1),\n",
       " ('Last Activity_Converted to Lead', False, 10),\n",
       " ('Last Activity_Email Bounced', False, 11),\n",
       " ('Last Activity_Email Link Clicked', False, 31),\n",
       " ('Last Activity_Email Opened', False, 17),\n",
       " ('Last Activity_Form Submitted on Website', False, 25),\n",
       " ('Last Activity_Olark Chat Conversation', False, 6),\n",
       " ('Last Activity_Page Visited on Website', False, 9),\n",
       " ('Last Activity_SMS Sent', True, 1),\n",
       " ('Specialize_Banking, Investment And Insurance', False, 16),\n",
       " ('Specialize_Business Administration', False, 30),\n",
       " ('Specialize_E-Business', False, 27),\n",
       " ('Specialize_E-COMMERCE', False, 26),\n",
       " ('Specialize_International Business', False, 28),\n",
       " ('Specialize_Management_Specializations', False, 29),\n",
       " ('Specialize_Media and Advertising', False, 18),\n",
       " ('Specialize_Rural and Agribusiness', False, 33),\n",
       " ('Specialize_Services Excellence', False, 24),\n",
       " ('Specialize_Travel and Tourism', True, 1),\n",
       " ('Current Occupation_Businessman', False, 13),\n",
       " ('Current Occupation_Housewife', False, 7),\n",
       " ('Current Occupation_Other', False, 12),\n",
       " ('Current Occupation_Student', True, 1),\n",
       " ('Current Occupation_Unemployed', True, 1),\n",
       " ('Current Occupation_Working Professional', True, 1),\n",
       " ('Tags_Busy', True, 1),\n",
       " ('Tags_Closed by Horizzon', True, 1),\n",
       " ('Tags_Interested in other courses', True, 1),\n",
       " ('Tags_Lost to EINS', True, 1),\n",
       " ('Tags_Other_Tags', True, 1),\n",
       " ('Tags_Ringing', True, 1),\n",
       " ('Tags_Will revert after reading the email', True, 1),\n",
       " ('A free copy of Mastering The Interview__1', False, 19),\n",
       " ('Last Notable Activity_Email Link Clicked', True, 1),\n",
       " ('Last Notable Activity_Email Opened', False, 14),\n",
       " ('Last Notable Activity_Modified', True, 1),\n",
       " ('Last Notable Activity_Olark Chat Conversation', True, 1),\n",
       " ('Last Notable Activity_Page Visited on Website', False, 21),\n",
       " ('Last Notable Activity_SMS Sent', False, 5)]"
      ]
     },
     "execution_count": 130,
     "metadata": {},
     "output_type": "execute_result"
    }
   ],
   "source": [
    "list(zip(X_train.columns, rfe.support_, rfe.ranking_))"
   ]
  },
  {
   "cell_type": "code",
   "execution_count": 131,
   "metadata": {
    "execution": {
     "iopub.execute_input": "2023-04-17T13:28:14.817820Z",
     "iopub.status.busy": "2023-04-17T13:28:14.817418Z",
     "iopub.status.idle": "2023-04-17T13:28:14.827473Z",
     "shell.execute_reply": "2023-04-17T13:28:14.826363Z",
     "shell.execute_reply.started": "2023-04-17T13:28:14.817765Z"
    }
   },
   "outputs": [
    {
     "data": {
      "text/plain": [
       "Index(['Total Time Spent on Website', 'Lead_Origin_Lead Add Form',\n",
       "       'Lead Source_Direct Traffic', 'Lead Source_Welingak Website',\n",
       "       'Do Not Email__1', 'Last Activity_SMS Sent',\n",
       "       'Specialize_Travel and Tourism', 'Current Occupation_Student',\n",
       "       'Current Occupation_Unemployed',\n",
       "       'Current Occupation_Working Professional', 'Tags_Busy',\n",
       "       'Tags_Closed by Horizzon', 'Tags_Interested in other courses',\n",
       "       'Tags_Lost to EINS', 'Tags_Other_Tags', 'Tags_Ringing',\n",
       "       'Tags_Will revert after reading the email',\n",
       "       'Last Notable Activity_Email Link Clicked',\n",
       "       'Last Notable Activity_Modified',\n",
       "       'Last Notable Activity_Olark Chat Conversation'],\n",
       "      dtype='object')"
      ]
     },
     "execution_count": 131,
     "metadata": {},
     "output_type": "execute_result"
    }
   ],
   "source": [
    "#list of RFE supported columns\n",
    "col = X_train.columns[rfe.support_]\n",
    "col"
   ]
  },
  {
   "cell_type": "code",
   "execution_count": 132,
   "metadata": {
    "execution": {
     "iopub.execute_input": "2023-04-17T13:28:14.830251Z",
     "iopub.status.busy": "2023-04-17T13:28:14.829697Z",
     "iopub.status.idle": "2023-04-17T13:28:14.837701Z",
     "shell.execute_reply": "2023-04-17T13:28:14.836746Z",
     "shell.execute_reply.started": "2023-04-17T13:28:14.830198Z"
    }
   },
   "outputs": [
    {
     "data": {
      "text/plain": [
       "Index(['TotalVisits', 'Page Views Per Visit',\n",
       "       'Lead_Origin_Landing Page Submission', 'Lead_Origin_Lead Import',\n",
       "       'Lead Source_Google', 'Lead Source_Olark Chat',\n",
       "       'Lead Source_Organic Search', 'Lead Source_Reference',\n",
       "       'Lead Source_Referral Sites', 'Lead Source_Social Media',\n",
       "       'Last Activity_Converted to Lead', 'Last Activity_Email Bounced',\n",
       "       'Last Activity_Email Link Clicked', 'Last Activity_Email Opened',\n",
       "       'Last Activity_Form Submitted on Website',\n",
       "       'Last Activity_Olark Chat Conversation',\n",
       "       'Last Activity_Page Visited on Website',\n",
       "       'Specialize_Banking, Investment And Insurance',\n",
       "       'Specialize_Business Administration', 'Specialize_E-Business',\n",
       "       'Specialize_E-COMMERCE', 'Specialize_International Business',\n",
       "       'Specialize_Management_Specializations',\n",
       "       'Specialize_Media and Advertising', 'Specialize_Rural and Agribusiness',\n",
       "       'Specialize_Services Excellence', 'Current Occupation_Businessman',\n",
       "       'Current Occupation_Housewife', 'Current Occupation_Other',\n",
       "       'A free copy of Mastering The Interview__1',\n",
       "       'Last Notable Activity_Email Opened',\n",
       "       'Last Notable Activity_Page Visited on Website',\n",
       "       'Last Notable Activity_SMS Sent'],\n",
       "      dtype='object')"
      ]
     },
     "execution_count": 132,
     "metadata": {},
     "output_type": "execute_result"
    }
   ],
   "source": [
    "X_train.columns[~rfe.support_]"
   ]
  },
  {
   "cell_type": "code",
   "execution_count": 133,
   "metadata": {
    "execution": {
     "iopub.execute_input": "2023-04-17T13:28:14.840009Z",
     "iopub.status.busy": "2023-04-17T13:28:14.839608Z",
     "iopub.status.idle": "2023-04-17T13:28:15.011032Z",
     "shell.execute_reply": "2023-04-17T13:28:15.010205Z",
     "shell.execute_reply.started": "2023-04-17T13:28:14.839957Z"
    }
   },
   "outputs": [
    {
     "data": {
      "text/html": [
       "<table class=\"simpletable\">\n",
       "<caption>Generalized Linear Model Regression Results</caption>\n",
       "<tr>\n",
       "  <th>Dep. Variable:</th>      <td>Converted</td>    <th>  No. Observations:  </th>  <td>  6267</td>  \n",
       "</tr>\n",
       "<tr>\n",
       "  <th>Model:</th>                 <td>GLM</td>       <th>  Df Residuals:      </th>  <td>  6246</td>  \n",
       "</tr>\n",
       "<tr>\n",
       "  <th>Model Family:</th>       <td>Binomial</td>     <th>  Df Model:          </th>  <td>    20</td>  \n",
       "</tr>\n",
       "<tr>\n",
       "  <th>Link Function:</th>        <td>logit</td>      <th>  Scale:             </th> <td>  1.0000</td> \n",
       "</tr>\n",
       "<tr>\n",
       "  <th>Method:</th>               <td>IRLS</td>       <th>  Log-Likelihood:    </th> <td> -1106.0</td> \n",
       "</tr>\n",
       "<tr>\n",
       "  <th>Date:</th>           <td>Mon, 17 Apr 2023</td> <th>  Deviance:          </th> <td>  2212.0</td> \n",
       "</tr>\n",
       "<tr>\n",
       "  <th>Time:</th>               <td>06:28:14</td>     <th>  Pearson chi2:      </th> <td>9.52e+03</td> \n",
       "</tr>\n",
       "<tr>\n",
       "  <th>No. Iterations:</th>         <td>8</td>        <th>  Covariance Type:   </th> <td>nonrobust</td>\n",
       "</tr>\n",
       "</table>\n",
       "<table class=\"simpletable\">\n",
       "<tr>\n",
       "                        <td></td>                           <th>coef</th>     <th>std err</th>      <th>z</th>      <th>P>|z|</th>  <th>[0.025</th>    <th>0.975]</th>  \n",
       "</tr>\n",
       "<tr>\n",
       "  <th>const</th>                                         <td>   -1.8488</td> <td>    0.111</td> <td>  -16.725</td> <td> 0.000</td> <td>   -2.065</td> <td>   -1.632</td>\n",
       "</tr>\n",
       "<tr>\n",
       "  <th>Total Time Spent on Website</th>                   <td>    0.9050</td> <td>    0.057</td> <td>   15.846</td> <td> 0.000</td> <td>    0.793</td> <td>    1.017</td>\n",
       "</tr>\n",
       "<tr>\n",
       "  <th>Lead_Origin_Lead Add Form</th>                     <td>    1.3654</td> <td>    0.461</td> <td>    2.963</td> <td> 0.003</td> <td>    0.462</td> <td>    2.269</td>\n",
       "</tr>\n",
       "<tr>\n",
       "  <th>Lead Source_Direct Traffic</th>                    <td>   -0.7038</td> <td>    0.136</td> <td>   -5.170</td> <td> 0.000</td> <td>   -0.971</td> <td>   -0.437</td>\n",
       "</tr>\n",
       "<tr>\n",
       "  <th>Lead Source_Welingak Website</th>                  <td>    2.5581</td> <td>    1.119</td> <td>    2.286</td> <td> 0.022</td> <td>    0.365</td> <td>    4.751</td>\n",
       "</tr>\n",
       "<tr>\n",
       "  <th>Do Not Email__1</th>                               <td>   -1.0457</td> <td>    0.255</td> <td>   -4.107</td> <td> 0.000</td> <td>   -1.545</td> <td>   -0.547</td>\n",
       "</tr>\n",
       "<tr>\n",
       "  <th>Last Activity_SMS Sent</th>                        <td>    2.0560</td> <td>    0.126</td> <td>   16.303</td> <td> 0.000</td> <td>    1.809</td> <td>    2.303</td>\n",
       "</tr>\n",
       "<tr>\n",
       "  <th>Specialize_Travel and Tourism</th>                 <td>   -1.0308</td> <td>    0.477</td> <td>   -2.163</td> <td> 0.031</td> <td>   -1.965</td> <td>   -0.097</td>\n",
       "</tr>\n",
       "<tr>\n",
       "  <th>Current Occupation_Student</th>                    <td>    2.3556</td> <td>    0.591</td> <td>    3.987</td> <td> 0.000</td> <td>    1.198</td> <td>    3.514</td>\n",
       "</tr>\n",
       "<tr>\n",
       "  <th>Current Occupation_Unemployed</th>                 <td>    2.4615</td> <td>    0.156</td> <td>   15.818</td> <td> 0.000</td> <td>    2.156</td> <td>    2.766</td>\n",
       "</tr>\n",
       "<tr>\n",
       "  <th>Current Occupation_Working Professional</th>       <td>    3.0427</td> <td>    0.428</td> <td>    7.107</td> <td> 0.000</td> <td>    2.204</td> <td>    3.882</td>\n",
       "</tr>\n",
       "<tr>\n",
       "  <th>Tags_Busy</th>                                     <td>   -1.3058</td> <td>    0.257</td> <td>   -5.085</td> <td> 0.000</td> <td>   -1.809</td> <td>   -0.802</td>\n",
       "</tr>\n",
       "<tr>\n",
       "  <th>Tags_Closed by Horizzon</th>                       <td>    5.3722</td> <td>    1.032</td> <td>    5.205</td> <td> 0.000</td> <td>    3.349</td> <td>    7.395</td>\n",
       "</tr>\n",
       "<tr>\n",
       "  <th>Tags_Interested in other courses</th>              <td>   -3.9164</td> <td>    0.423</td> <td>   -9.261</td> <td> 0.000</td> <td>   -4.745</td> <td>   -3.088</td>\n",
       "</tr>\n",
       "<tr>\n",
       "  <th>Tags_Lost to EINS</th>                             <td>    5.0095</td> <td>    0.629</td> <td>    7.959</td> <td> 0.000</td> <td>    3.776</td> <td>    6.243</td>\n",
       "</tr>\n",
       "<tr>\n",
       "  <th>Tags_Other_Tags</th>                               <td>   -4.0806</td> <td>    0.243</td> <td>  -16.827</td> <td> 0.000</td> <td>   -4.556</td> <td>   -3.605</td>\n",
       "</tr>\n",
       "<tr>\n",
       "  <th>Tags_Ringing</th>                                  <td>   -5.2198</td> <td>    0.273</td> <td>  -19.095</td> <td> 0.000</td> <td>   -5.756</td> <td>   -4.684</td>\n",
       "</tr>\n",
       "<tr>\n",
       "  <th>Tags_Will revert after reading the email</th>      <td>    2.7076</td> <td>    0.220</td> <td>   12.290</td> <td> 0.000</td> <td>    2.276</td> <td>    3.139</td>\n",
       "</tr>\n",
       "<tr>\n",
       "  <th>Last Notable Activity_Email Link Clicked</th>      <td>   -1.2420</td> <td>    0.533</td> <td>   -2.331</td> <td> 0.020</td> <td>   -2.286</td> <td>   -0.198</td>\n",
       "</tr>\n",
       "<tr>\n",
       "  <th>Last Notable Activity_Modified</th>                <td>   -1.3937</td> <td>    0.132</td> <td>  -10.518</td> <td> 0.000</td> <td>   -1.653</td> <td>   -1.134</td>\n",
       "</tr>\n",
       "<tr>\n",
       "  <th>Last Notable Activity_Olark Chat Conversation</th> <td>   -2.1034</td> <td>    0.543</td> <td>   -3.874</td> <td> 0.000</td> <td>   -3.168</td> <td>   -1.039</td>\n",
       "</tr>\n",
       "</table>"
      ],
      "text/plain": [
       "<class 'statsmodels.iolib.summary.Summary'>\n",
       "\"\"\"\n",
       "                 Generalized Linear Model Regression Results                  \n",
       "==============================================================================\n",
       "Dep. Variable:              Converted   No. Observations:                 6267\n",
       "Model:                            GLM   Df Residuals:                     6246\n",
       "Model Family:                Binomial   Df Model:                           20\n",
       "Link Function:                  logit   Scale:                          1.0000\n",
       "Method:                          IRLS   Log-Likelihood:                -1106.0\n",
       "Date:                Mon, 17 Apr 2023   Deviance:                       2212.0\n",
       "Time:                        06:28:14   Pearson chi2:                 9.52e+03\n",
       "No. Iterations:                     8   Covariance Type:             nonrobust\n",
       "=================================================================================================================\n",
       "                                                    coef    std err          z      P>|z|      [0.025      0.975]\n",
       "-----------------------------------------------------------------------------------------------------------------\n",
       "const                                            -1.8488      0.111    -16.725      0.000      -2.065      -1.632\n",
       "Total Time Spent on Website                       0.9050      0.057     15.846      0.000       0.793       1.017\n",
       "Lead_Origin_Lead Add Form                         1.3654      0.461      2.963      0.003       0.462       2.269\n",
       "Lead Source_Direct Traffic                       -0.7038      0.136     -5.170      0.000      -0.971      -0.437\n",
       "Lead Source_Welingak Website                      2.5581      1.119      2.286      0.022       0.365       4.751\n",
       "Do Not Email__1                                  -1.0457      0.255     -4.107      0.000      -1.545      -0.547\n",
       "Last Activity_SMS Sent                            2.0560      0.126     16.303      0.000       1.809       2.303\n",
       "Specialize_Travel and Tourism                    -1.0308      0.477     -2.163      0.031      -1.965      -0.097\n",
       "Current Occupation_Student                        2.3556      0.591      3.987      0.000       1.198       3.514\n",
       "Current Occupation_Unemployed                     2.4615      0.156     15.818      0.000       2.156       2.766\n",
       "Current Occupation_Working Professional           3.0427      0.428      7.107      0.000       2.204       3.882\n",
       "Tags_Busy                                        -1.3058      0.257     -5.085      0.000      -1.809      -0.802\n",
       "Tags_Closed by Horizzon                           5.3722      1.032      5.205      0.000       3.349       7.395\n",
       "Tags_Interested in other courses                 -3.9164      0.423     -9.261      0.000      -4.745      -3.088\n",
       "Tags_Lost to EINS                                 5.0095      0.629      7.959      0.000       3.776       6.243\n",
       "Tags_Other_Tags                                  -4.0806      0.243    -16.827      0.000      -4.556      -3.605\n",
       "Tags_Ringing                                     -5.2198      0.273    -19.095      0.000      -5.756      -4.684\n",
       "Tags_Will revert after reading the email          2.7076      0.220     12.290      0.000       2.276       3.139\n",
       "Last Notable Activity_Email Link Clicked         -1.2420      0.533     -2.331      0.020      -2.286      -0.198\n",
       "Last Notable Activity_Modified                   -1.3937      0.132    -10.518      0.000      -1.653      -1.134\n",
       "Last Notable Activity_Olark Chat Conversation    -2.1034      0.543     -3.874      0.000      -3.168      -1.039\n",
       "=================================================================================================================\n",
       "\"\"\""
      ]
     },
     "execution_count": 133,
     "metadata": {},
     "output_type": "execute_result"
    }
   ],
   "source": [
    "#BUILDING MODEL #1\n",
    "\n",
    "X_train_sm = sm.add_constant(X_train[col])\n",
    "logm1 = sm.GLM(y_train,X_train_sm, family = sm.families.Binomial())\n",
    "res = logm1.fit()\n",
    "res.summary()"
   ]
  },
  {
   "cell_type": "code",
   "execution_count": 134,
   "metadata": {
    "execution": {
     "iopub.execute_input": "2023-04-17T13:28:15.013458Z",
     "iopub.status.busy": "2023-04-17T13:28:15.013116Z",
     "iopub.status.idle": "2023-04-17T13:28:15.290388Z",
     "shell.execute_reply": "2023-04-17T13:28:15.018632Z",
     "shell.execute_reply.started": "2023-04-17T13:28:15.013410Z"
    }
   },
   "outputs": [
    {
     "ename": "ValueError",
     "evalue": "labels ['Current Occupation_Housewife'] not contained in axis",
     "output_type": "error",
     "traceback": [
      "\u001b[0;31mValueError\u001b[0m\u001b[0;31m:\u001b[0m labels ['Current Occupation_Housewife'] not contained in axis\n"
     ]
    }
   ],
   "source": [
    "# # Dropping column with high P-value:\n",
    "# col = col.drop('Current Occupation_Housewife',1)"
   ]
  },
  {
   "cell_type": "code",
   "execution_count": 135,
   "metadata": {
    "execution": {
     "iopub.execute_input": "2023-04-17T13:29:45.831463Z",
     "iopub.status.busy": "2023-04-17T13:29:45.830965Z",
     "iopub.status.idle": "2023-04-17T13:29:45.978325Z",
     "shell.execute_reply": "2023-04-17T13:29:45.977430Z",
     "shell.execute_reply.started": "2023-04-17T13:29:45.831401Z"
    }
   },
   "outputs": [
    {
     "data": {
      "text/html": [
       "<table class=\"simpletable\">\n",
       "<caption>Generalized Linear Model Regression Results</caption>\n",
       "<tr>\n",
       "  <th>Dep. Variable:</th>      <td>Converted</td>    <th>  No. Observations:  </th>  <td>  6267</td>  \n",
       "</tr>\n",
       "<tr>\n",
       "  <th>Model:</th>                 <td>GLM</td>       <th>  Df Residuals:      </th>  <td>  6246</td>  \n",
       "</tr>\n",
       "<tr>\n",
       "  <th>Model Family:</th>       <td>Binomial</td>     <th>  Df Model:          </th>  <td>    20</td>  \n",
       "</tr>\n",
       "<tr>\n",
       "  <th>Link Function:</th>        <td>logit</td>      <th>  Scale:             </th> <td>  1.0000</td> \n",
       "</tr>\n",
       "<tr>\n",
       "  <th>Method:</th>               <td>IRLS</td>       <th>  Log-Likelihood:    </th> <td> -1106.0</td> \n",
       "</tr>\n",
       "<tr>\n",
       "  <th>Date:</th>           <td>Mon, 17 Apr 2023</td> <th>  Deviance:          </th> <td>  2212.0</td> \n",
       "</tr>\n",
       "<tr>\n",
       "  <th>Time:</th>               <td>06:29:45</td>     <th>  Pearson chi2:      </th> <td>9.52e+03</td> \n",
       "</tr>\n",
       "<tr>\n",
       "  <th>No. Iterations:</th>         <td>8</td>        <th>  Covariance Type:   </th> <td>nonrobust</td>\n",
       "</tr>\n",
       "</table>\n",
       "<table class=\"simpletable\">\n",
       "<tr>\n",
       "                        <td></td>                           <th>coef</th>     <th>std err</th>      <th>z</th>      <th>P>|z|</th>  <th>[0.025</th>    <th>0.975]</th>  \n",
       "</tr>\n",
       "<tr>\n",
       "  <th>const</th>                                         <td>   -1.8488</td> <td>    0.111</td> <td>  -16.725</td> <td> 0.000</td> <td>   -2.065</td> <td>   -1.632</td>\n",
       "</tr>\n",
       "<tr>\n",
       "  <th>Total Time Spent on Website</th>                   <td>    0.9050</td> <td>    0.057</td> <td>   15.846</td> <td> 0.000</td> <td>    0.793</td> <td>    1.017</td>\n",
       "</tr>\n",
       "<tr>\n",
       "  <th>Lead_Origin_Lead Add Form</th>                     <td>    1.3654</td> <td>    0.461</td> <td>    2.963</td> <td> 0.003</td> <td>    0.462</td> <td>    2.269</td>\n",
       "</tr>\n",
       "<tr>\n",
       "  <th>Lead Source_Direct Traffic</th>                    <td>   -0.7038</td> <td>    0.136</td> <td>   -5.170</td> <td> 0.000</td> <td>   -0.971</td> <td>   -0.437</td>\n",
       "</tr>\n",
       "<tr>\n",
       "  <th>Lead Source_Welingak Website</th>                  <td>    2.5581</td> <td>    1.119</td> <td>    2.286</td> <td> 0.022</td> <td>    0.365</td> <td>    4.751</td>\n",
       "</tr>\n",
       "<tr>\n",
       "  <th>Do Not Email__1</th>                               <td>   -1.0457</td> <td>    0.255</td> <td>   -4.107</td> <td> 0.000</td> <td>   -1.545</td> <td>   -0.547</td>\n",
       "</tr>\n",
       "<tr>\n",
       "  <th>Last Activity_SMS Sent</th>                        <td>    2.0560</td> <td>    0.126</td> <td>   16.303</td> <td> 0.000</td> <td>    1.809</td> <td>    2.303</td>\n",
       "</tr>\n",
       "<tr>\n",
       "  <th>Specialize_Travel and Tourism</th>                 <td>   -1.0308</td> <td>    0.477</td> <td>   -2.163</td> <td> 0.031</td> <td>   -1.965</td> <td>   -0.097</td>\n",
       "</tr>\n",
       "<tr>\n",
       "  <th>Current Occupation_Student</th>                    <td>    2.3556</td> <td>    0.591</td> <td>    3.987</td> <td> 0.000</td> <td>    1.198</td> <td>    3.514</td>\n",
       "</tr>\n",
       "<tr>\n",
       "  <th>Current Occupation_Unemployed</th>                 <td>    2.4615</td> <td>    0.156</td> <td>   15.818</td> <td> 0.000</td> <td>    2.156</td> <td>    2.766</td>\n",
       "</tr>\n",
       "<tr>\n",
       "  <th>Current Occupation_Working Professional</th>       <td>    3.0427</td> <td>    0.428</td> <td>    7.107</td> <td> 0.000</td> <td>    2.204</td> <td>    3.882</td>\n",
       "</tr>\n",
       "<tr>\n",
       "  <th>Tags_Busy</th>                                     <td>   -1.3058</td> <td>    0.257</td> <td>   -5.085</td> <td> 0.000</td> <td>   -1.809</td> <td>   -0.802</td>\n",
       "</tr>\n",
       "<tr>\n",
       "  <th>Tags_Closed by Horizzon</th>                       <td>    5.3722</td> <td>    1.032</td> <td>    5.205</td> <td> 0.000</td> <td>    3.349</td> <td>    7.395</td>\n",
       "</tr>\n",
       "<tr>\n",
       "  <th>Tags_Interested in other courses</th>              <td>   -3.9164</td> <td>    0.423</td> <td>   -9.261</td> <td> 0.000</td> <td>   -4.745</td> <td>   -3.088</td>\n",
       "</tr>\n",
       "<tr>\n",
       "  <th>Tags_Lost to EINS</th>                             <td>    5.0095</td> <td>    0.629</td> <td>    7.959</td> <td> 0.000</td> <td>    3.776</td> <td>    6.243</td>\n",
       "</tr>\n",
       "<tr>\n",
       "  <th>Tags_Other_Tags</th>                               <td>   -4.0806</td> <td>    0.243</td> <td>  -16.827</td> <td> 0.000</td> <td>   -4.556</td> <td>   -3.605</td>\n",
       "</tr>\n",
       "<tr>\n",
       "  <th>Tags_Ringing</th>                                  <td>   -5.2198</td> <td>    0.273</td> <td>  -19.095</td> <td> 0.000</td> <td>   -5.756</td> <td>   -4.684</td>\n",
       "</tr>\n",
       "<tr>\n",
       "  <th>Tags_Will revert after reading the email</th>      <td>    2.7076</td> <td>    0.220</td> <td>   12.290</td> <td> 0.000</td> <td>    2.276</td> <td>    3.139</td>\n",
       "</tr>\n",
       "<tr>\n",
       "  <th>Last Notable Activity_Email Link Clicked</th>      <td>   -1.2420</td> <td>    0.533</td> <td>   -2.331</td> <td> 0.020</td> <td>   -2.286</td> <td>   -0.198</td>\n",
       "</tr>\n",
       "<tr>\n",
       "  <th>Last Notable Activity_Modified</th>                <td>   -1.3937</td> <td>    0.132</td> <td>  -10.518</td> <td> 0.000</td> <td>   -1.653</td> <td>   -1.134</td>\n",
       "</tr>\n",
       "<tr>\n",
       "  <th>Last Notable Activity_Olark Chat Conversation</th> <td>   -2.1034</td> <td>    0.543</td> <td>   -3.874</td> <td> 0.000</td> <td>   -3.168</td> <td>   -1.039</td>\n",
       "</tr>\n",
       "</table>"
      ],
      "text/plain": [
       "<class 'statsmodels.iolib.summary.Summary'>\n",
       "\"\"\"\n",
       "                 Generalized Linear Model Regression Results                  \n",
       "==============================================================================\n",
       "Dep. Variable:              Converted   No. Observations:                 6267\n",
       "Model:                            GLM   Df Residuals:                     6246\n",
       "Model Family:                Binomial   Df Model:                           20\n",
       "Link Function:                  logit   Scale:                          1.0000\n",
       "Method:                          IRLS   Log-Likelihood:                -1106.0\n",
       "Date:                Mon, 17 Apr 2023   Deviance:                       2212.0\n",
       "Time:                        06:29:45   Pearson chi2:                 9.52e+03\n",
       "No. Iterations:                     8   Covariance Type:             nonrobust\n",
       "=================================================================================================================\n",
       "                                                    coef    std err          z      P>|z|      [0.025      0.975]\n",
       "-----------------------------------------------------------------------------------------------------------------\n",
       "const                                            -1.8488      0.111    -16.725      0.000      -2.065      -1.632\n",
       "Total Time Spent on Website                       0.9050      0.057     15.846      0.000       0.793       1.017\n",
       "Lead_Origin_Lead Add Form                         1.3654      0.461      2.963      0.003       0.462       2.269\n",
       "Lead Source_Direct Traffic                       -0.7038      0.136     -5.170      0.000      -0.971      -0.437\n",
       "Lead Source_Welingak Website                      2.5581      1.119      2.286      0.022       0.365       4.751\n",
       "Do Not Email__1                                  -1.0457      0.255     -4.107      0.000      -1.545      -0.547\n",
       "Last Activity_SMS Sent                            2.0560      0.126     16.303      0.000       1.809       2.303\n",
       "Specialize_Travel and Tourism                    -1.0308      0.477     -2.163      0.031      -1.965      -0.097\n",
       "Current Occupation_Student                        2.3556      0.591      3.987      0.000       1.198       3.514\n",
       "Current Occupation_Unemployed                     2.4615      0.156     15.818      0.000       2.156       2.766\n",
       "Current Occupation_Working Professional           3.0427      0.428      7.107      0.000       2.204       3.882\n",
       "Tags_Busy                                        -1.3058      0.257     -5.085      0.000      -1.809      -0.802\n",
       "Tags_Closed by Horizzon                           5.3722      1.032      5.205      0.000       3.349       7.395\n",
       "Tags_Interested in other courses                 -3.9164      0.423     -9.261      0.000      -4.745      -3.088\n",
       "Tags_Lost to EINS                                 5.0095      0.629      7.959      0.000       3.776       6.243\n",
       "Tags_Other_Tags                                  -4.0806      0.243    -16.827      0.000      -4.556      -3.605\n",
       "Tags_Ringing                                     -5.2198      0.273    -19.095      0.000      -5.756      -4.684\n",
       "Tags_Will revert after reading the email          2.7076      0.220     12.290      0.000       2.276       3.139\n",
       "Last Notable Activity_Email Link Clicked         -1.2420      0.533     -2.331      0.020      -2.286      -0.198\n",
       "Last Notable Activity_Modified                   -1.3937      0.132    -10.518      0.000      -1.653      -1.134\n",
       "Last Notable Activity_Olark Chat Conversation    -2.1034      0.543     -3.874      0.000      -3.168      -1.039\n",
       "=================================================================================================================\n",
       "\"\"\""
      ]
     },
     "execution_count": 135,
     "metadata": {},
     "output_type": "execute_result"
    }
   ],
   "source": [
    "#BUILDING MODEL #2\n",
    "\n",
    "X_train_sm = sm.add_constant(X_train[col])\n",
    "logm2 = sm.GLM(y_train,X_train_sm, family = sm.families.Binomial())\n",
    "res = logm2.fit()\n",
    "res.summary()"
   ]
  },
  {
   "cell_type": "markdown",
   "metadata": {},
   "source": [
    "<div class=\"alert alert-block alert-info\"><b>Inference</b>\n",
    "<br>Since all the variables have the p-values are less we can check the Variance Inflation Factor to see if there is any correlation between the variables\n",
    "\n",
    "</div>"
   ]
  },
  {
   "cell_type": "code",
   "execution_count": 136,
   "metadata": {
    "execution": {
     "iopub.execute_input": "2023-04-17T13:29:45.980623Z",
     "iopub.status.busy": "2023-04-17T13:29:45.980295Z",
     "iopub.status.idle": "2023-04-17T13:29:45.987088Z",
     "shell.execute_reply": "2023-04-17T13:29:45.986282Z",
     "shell.execute_reply.started": "2023-04-17T13:29:45.980575Z"
    }
   },
   "outputs": [],
   "source": [
    "# Check for the VIF values of the feature variables:\n",
    "\n",
    "from statsmodels.stats.outliers_influence import variance_inflation_factor"
   ]
  },
  {
   "cell_type": "code",
   "execution_count": 137,
   "metadata": {
    "execution": {
     "iopub.execute_input": "2023-04-17T13:29:45.989154Z",
     "iopub.status.busy": "2023-04-17T13:29:45.988671Z",
     "iopub.status.idle": "2023-04-17T13:29:46.296704Z",
     "shell.execute_reply": "2023-04-17T13:29:46.295775Z",
     "shell.execute_reply.started": "2023-04-17T13:29:45.989108Z"
    }
   },
   "outputs": [
    {
     "data": {
      "text/html": [
       "<div>\n",
       "<style scoped>\n",
       "    .dataframe tbody tr th:only-of-type {\n",
       "        vertical-align: middle;\n",
       "    }\n",
       "\n",
       "    .dataframe tbody tr th {\n",
       "        vertical-align: top;\n",
       "    }\n",
       "\n",
       "    .dataframe thead th {\n",
       "        text-align: right;\n",
       "    }\n",
       "</style>\n",
       "<table border=\"1\" class=\"dataframe\">\n",
       "  <thead>\n",
       "    <tr style=\"text-align: right;\">\n",
       "      <th></th>\n",
       "      <th>Features</th>\n",
       "      <th>VIF</th>\n",
       "    </tr>\n",
       "  </thead>\n",
       "  <tbody>\n",
       "    <tr>\n",
       "      <th>8</th>\n",
       "      <td>Current Occupation_Unemployed</td>\n",
       "      <td>8.1900</td>\n",
       "    </tr>\n",
       "    <tr>\n",
       "      <th>16</th>\n",
       "      <td>Tags_Will revert after reading the email</td>\n",
       "      <td>4.1600</td>\n",
       "    </tr>\n",
       "    <tr>\n",
       "      <th>14</th>\n",
       "      <td>Tags_Other_Tags</td>\n",
       "      <td>3.0700</td>\n",
       "    </tr>\n",
       "    <tr>\n",
       "      <th>15</th>\n",
       "      <td>Tags_Ringing</td>\n",
       "      <td>2.6500</td>\n",
       "    </tr>\n",
       "    <tr>\n",
       "      <th>9</th>\n",
       "      <td>Current Occupation_Working Professional</td>\n",
       "      <td>2.2000</td>\n",
       "    </tr>\n",
       "    <tr>\n",
       "      <th>1</th>\n",
       "      <td>Lead_Origin_Lead Add Form</td>\n",
       "      <td>1.8500</td>\n",
       "    </tr>\n",
       "    <tr>\n",
       "      <th>12</th>\n",
       "      <td>Tags_Interested in other courses</td>\n",
       "      <td>1.7100</td>\n",
       "    </tr>\n",
       "    <tr>\n",
       "      <th>5</th>\n",
       "      <td>Last Activity_SMS Sent</td>\n",
       "      <td>1.5800</td>\n",
       "    </tr>\n",
       "    <tr>\n",
       "      <th>11</th>\n",
       "      <td>Tags_Closed by Horizzon</td>\n",
       "      <td>1.5700</td>\n",
       "    </tr>\n",
       "    <tr>\n",
       "      <th>18</th>\n",
       "      <td>Last Notable Activity_Modified</td>\n",
       "      <td>1.4700</td>\n",
       "    </tr>\n",
       "    <tr>\n",
       "      <th>3</th>\n",
       "      <td>Lead Source_Welingak Website</td>\n",
       "      <td>1.4400</td>\n",
       "    </tr>\n",
       "    <tr>\n",
       "      <th>2</th>\n",
       "      <td>Lead Source_Direct Traffic</td>\n",
       "      <td>1.4200</td>\n",
       "    </tr>\n",
       "    <tr>\n",
       "      <th>7</th>\n",
       "      <td>Current Occupation_Student</td>\n",
       "      <td>1.3200</td>\n",
       "    </tr>\n",
       "    <tr>\n",
       "      <th>10</th>\n",
       "      <td>Tags_Busy</td>\n",
       "      <td>1.2700</td>\n",
       "    </tr>\n",
       "    <tr>\n",
       "      <th>0</th>\n",
       "      <td>Total Time Spent on Website</td>\n",
       "      <td>1.2300</td>\n",
       "    </tr>\n",
       "    <tr>\n",
       "      <th>13</th>\n",
       "      <td>Tags_Lost to EINS</td>\n",
       "      <td>1.1800</td>\n",
       "    </tr>\n",
       "    <tr>\n",
       "      <th>4</th>\n",
       "      <td>Do Not Email__1</td>\n",
       "      <td>1.1300</td>\n",
       "    </tr>\n",
       "    <tr>\n",
       "      <th>17</th>\n",
       "      <td>Last Notable Activity_Email Link Clicked</td>\n",
       "      <td>1.0300</td>\n",
       "    </tr>\n",
       "    <tr>\n",
       "      <th>6</th>\n",
       "      <td>Specialize_Travel and Tourism</td>\n",
       "      <td>1.0200</td>\n",
       "    </tr>\n",
       "    <tr>\n",
       "      <th>19</th>\n",
       "      <td>Last Notable Activity_Olark Chat Conversation</td>\n",
       "      <td>1.0200</td>\n",
       "    </tr>\n",
       "  </tbody>\n",
       "</table>\n",
       "</div>"
      ],
      "text/plain": [
       "                                         Features    VIF\n",
       "8                   Current Occupation_Unemployed 8.1900\n",
       "16       Tags_Will revert after reading the email 4.1600\n",
       "14                                Tags_Other_Tags 3.0700\n",
       "15                                   Tags_Ringing 2.6500\n",
       "9         Current Occupation_Working Professional 2.2000\n",
       "1                       Lead_Origin_Lead Add Form 1.8500\n",
       "12               Tags_Interested in other courses 1.7100\n",
       "5                          Last Activity_SMS Sent 1.5800\n",
       "11                        Tags_Closed by Horizzon 1.5700\n",
       "18                 Last Notable Activity_Modified 1.4700\n",
       "3                    Lead Source_Welingak Website 1.4400\n",
       "2                      Lead Source_Direct Traffic 1.4200\n",
       "7                      Current Occupation_Student 1.3200\n",
       "10                                      Tags_Busy 1.2700\n",
       "0                     Total Time Spent on Website 1.2300\n",
       "13                              Tags_Lost to EINS 1.1800\n",
       "4                                 Do Not Email__1 1.1300\n",
       "17       Last Notable Activity_Email Link Clicked 1.0300\n",
       "6                   Specialize_Travel and Tourism 1.0200\n",
       "19  Last Notable Activity_Olark Chat Conversation 1.0200"
      ]
     },
     "execution_count": 137,
     "metadata": {},
     "output_type": "execute_result"
    }
   ],
   "source": [
    "# Create a dataframe that will contain the names of all the feature variables and their respective VIFs :\n",
    "\n",
    "vif = pd.DataFrame()\n",
    "vif['Features'] = X_train[col].columns\n",
    "vif['VIF'] = [variance_inflation_factor(X_train[col].values, i) for i in range(X_train[col].shape[1])]\n",
    "vif['VIF'] = round(vif['VIF'], 2)\n",
    "vif = vif.sort_values(by = \"VIF\", ascending = False)\n",
    "vif"
   ]
  },
  {
   "cell_type": "code",
   "execution_count": 138,
   "metadata": {
    "execution": {
     "iopub.execute_input": "2023-04-17T13:29:46.298667Z",
     "iopub.status.busy": "2023-04-17T13:29:46.298171Z",
     "iopub.status.idle": "2023-04-17T13:29:46.303031Z",
     "shell.execute_reply": "2023-04-17T13:29:46.302150Z",
     "shell.execute_reply.started": "2023-04-17T13:29:46.298619Z"
    }
   },
   "outputs": [],
   "source": [
    "# drop the column with high VIF\n",
    "col = col.drop('Current Occupation_Unemployed',1)"
   ]
  },
  {
   "cell_type": "code",
   "execution_count": 139,
   "metadata": {
    "execution": {
     "iopub.execute_input": "2023-04-17T13:29:46.304821Z",
     "iopub.status.busy": "2023-04-17T13:29:46.304336Z",
     "iopub.status.idle": "2023-04-17T13:29:46.418303Z",
     "shell.execute_reply": "2023-04-17T13:29:46.417429Z",
     "shell.execute_reply.started": "2023-04-17T13:29:46.304776Z"
    }
   },
   "outputs": [
    {
     "data": {
      "text/html": [
       "<table class=\"simpletable\">\n",
       "<caption>Generalized Linear Model Regression Results</caption>\n",
       "<tr>\n",
       "  <th>Dep. Variable:</th>      <td>Converted</td>    <th>  No. Observations:  </th>  <td>  6267</td>  \n",
       "</tr>\n",
       "<tr>\n",
       "  <th>Model:</th>                 <td>GLM</td>       <th>  Df Residuals:      </th>  <td>  6247</td>  \n",
       "</tr>\n",
       "<tr>\n",
       "  <th>Model Family:</th>       <td>Binomial</td>     <th>  Df Model:          </th>  <td>    19</td>  \n",
       "</tr>\n",
       "<tr>\n",
       "  <th>Link Function:</th>        <td>logit</td>      <th>  Scale:             </th> <td>  1.0000</td> \n",
       "</tr>\n",
       "<tr>\n",
       "  <th>Method:</th>               <td>IRLS</td>       <th>  Log-Likelihood:    </th> <td> -1242.7</td> \n",
       "</tr>\n",
       "<tr>\n",
       "  <th>Date:</th>           <td>Mon, 17 Apr 2023</td> <th>  Deviance:          </th> <td>  2485.5</td> \n",
       "</tr>\n",
       "<tr>\n",
       "  <th>Time:</th>               <td>06:29:46</td>     <th>  Pearson chi2:      </th> <td>8.31e+03</td> \n",
       "</tr>\n",
       "<tr>\n",
       "  <th>No. Iterations:</th>         <td>8</td>        <th>  Covariance Type:   </th> <td>nonrobust</td>\n",
       "</tr>\n",
       "</table>\n",
       "<table class=\"simpletable\">\n",
       "<tr>\n",
       "                        <td></td>                           <th>coef</th>     <th>std err</th>      <th>z</th>      <th>P>|z|</th>  <th>[0.025</th>    <th>0.975]</th>  \n",
       "</tr>\n",
       "<tr>\n",
       "  <th>const</th>                                         <td>   -1.0735</td> <td>    0.086</td> <td>  -12.455</td> <td> 0.000</td> <td>   -1.242</td> <td>   -0.905</td>\n",
       "</tr>\n",
       "<tr>\n",
       "  <th>Total Time Spent on Website</th>                   <td>    0.8810</td> <td>    0.053</td> <td>   16.566</td> <td> 0.000</td> <td>    0.777</td> <td>    0.985</td>\n",
       "</tr>\n",
       "<tr>\n",
       "  <th>Lead_Origin_Lead Add Form</th>                     <td>    1.7027</td> <td>    0.447</td> <td>    3.808</td> <td> 0.000</td> <td>    0.826</td> <td>    2.579</td>\n",
       "</tr>\n",
       "<tr>\n",
       "  <th>Lead Source_Direct Traffic</th>                    <td>   -0.8100</td> <td>    0.129</td> <td>   -6.283</td> <td> 0.000</td> <td>   -1.063</td> <td>   -0.557</td>\n",
       "</tr>\n",
       "<tr>\n",
       "  <th>Lead Source_Welingak Website</th>                  <td>    3.9252</td> <td>    1.111</td> <td>    3.534</td> <td> 0.000</td> <td>    1.748</td> <td>    6.102</td>\n",
       "</tr>\n",
       "<tr>\n",
       "  <th>Do Not Email__1</th>                               <td>   -0.8589</td> <td>    0.242</td> <td>   -3.546</td> <td> 0.000</td> <td>   -1.334</td> <td>   -0.384</td>\n",
       "</tr>\n",
       "<tr>\n",
       "  <th>Last Activity_SMS Sent</th>                        <td>    1.9609</td> <td>    0.115</td> <td>   17.074</td> <td> 0.000</td> <td>    1.736</td> <td>    2.186</td>\n",
       "</tr>\n",
       "<tr>\n",
       "  <th>Specialize_Travel and Tourism</th>                 <td>   -1.2178</td> <td>    0.452</td> <td>   -2.696</td> <td> 0.007</td> <td>   -2.103</td> <td>   -0.333</td>\n",
       "</tr>\n",
       "<tr>\n",
       "  <th>Current Occupation_Student</th>                    <td>    0.0894</td> <td>    0.600</td> <td>    0.149</td> <td> 0.881</td> <td>   -1.086</td> <td>    1.265</td>\n",
       "</tr>\n",
       "<tr>\n",
       "  <th>Current Occupation_Working Professional</th>       <td>    0.9658</td> <td>    0.413</td> <td>    2.336</td> <td> 0.019</td> <td>    0.156</td> <td>    1.776</td>\n",
       "</tr>\n",
       "<tr>\n",
       "  <th>Tags_Busy</th>                                     <td>    0.5088</td> <td>    0.226</td> <td>    2.250</td> <td> 0.024</td> <td>    0.066</td> <td>    0.952</td>\n",
       "</tr>\n",
       "<tr>\n",
       "  <th>Tags_Closed by Horizzon</th>                       <td>    7.0347</td> <td>    1.021</td> <td>    6.893</td> <td> 0.000</td> <td>    5.034</td> <td>    9.035</td>\n",
       "</tr>\n",
       "<tr>\n",
       "  <th>Tags_Interested in other courses</th>              <td>   -2.1507</td> <td>    0.405</td> <td>   -5.315</td> <td> 0.000</td> <td>   -2.944</td> <td>   -1.358</td>\n",
       "</tr>\n",
       "<tr>\n",
       "  <th>Tags_Lost to EINS</th>                             <td>    5.8875</td> <td>    0.611</td> <td>    9.636</td> <td> 0.000</td> <td>    4.690</td> <td>    7.085</td>\n",
       "</tr>\n",
       "<tr>\n",
       "  <th>Tags_Other_Tags</th>                               <td>   -2.2984</td> <td>    0.210</td> <td>  -10.922</td> <td> 0.000</td> <td>   -2.711</td> <td>   -1.886</td>\n",
       "</tr>\n",
       "<tr>\n",
       "  <th>Tags_Ringing</th>                                  <td>   -3.4334</td> <td>    0.240</td> <td>  -14.314</td> <td> 0.000</td> <td>   -3.904</td> <td>   -2.963</td>\n",
       "</tr>\n",
       "<tr>\n",
       "  <th>Tags_Will revert after reading the email</th>      <td>    4.4010</td> <td>    0.196</td> <td>   22.409</td> <td> 0.000</td> <td>    4.016</td> <td>    4.786</td>\n",
       "</tr>\n",
       "<tr>\n",
       "  <th>Last Notable Activity_Email Link Clicked</th>      <td>   -1.2919</td> <td>    0.511</td> <td>   -2.527</td> <td> 0.012</td> <td>   -2.294</td> <td>   -0.290</td>\n",
       "</tr>\n",
       "<tr>\n",
       "  <th>Last Notable Activity_Modified</th>                <td>   -1.6116</td> <td>    0.126</td> <td>  -12.772</td> <td> 0.000</td> <td>   -1.859</td> <td>   -1.364</td>\n",
       "</tr>\n",
       "<tr>\n",
       "  <th>Last Notable Activity_Olark Chat Conversation</th> <td>   -1.7832</td> <td>    0.489</td> <td>   -3.647</td> <td> 0.000</td> <td>   -2.741</td> <td>   -0.825</td>\n",
       "</tr>\n",
       "</table>"
      ],
      "text/plain": [
       "<class 'statsmodels.iolib.summary.Summary'>\n",
       "\"\"\"\n",
       "                 Generalized Linear Model Regression Results                  \n",
       "==============================================================================\n",
       "Dep. Variable:              Converted   No. Observations:                 6267\n",
       "Model:                            GLM   Df Residuals:                     6247\n",
       "Model Family:                Binomial   Df Model:                           19\n",
       "Link Function:                  logit   Scale:                          1.0000\n",
       "Method:                          IRLS   Log-Likelihood:                -1242.7\n",
       "Date:                Mon, 17 Apr 2023   Deviance:                       2485.5\n",
       "Time:                        06:29:46   Pearson chi2:                 8.31e+03\n",
       "No. Iterations:                     8   Covariance Type:             nonrobust\n",
       "=================================================================================================================\n",
       "                                                    coef    std err          z      P>|z|      [0.025      0.975]\n",
       "-----------------------------------------------------------------------------------------------------------------\n",
       "const                                            -1.0735      0.086    -12.455      0.000      -1.242      -0.905\n",
       "Total Time Spent on Website                       0.8810      0.053     16.566      0.000       0.777       0.985\n",
       "Lead_Origin_Lead Add Form                         1.7027      0.447      3.808      0.000       0.826       2.579\n",
       "Lead Source_Direct Traffic                       -0.8100      0.129     -6.283      0.000      -1.063      -0.557\n",
       "Lead Source_Welingak Website                      3.9252      1.111      3.534      0.000       1.748       6.102\n",
       "Do Not Email__1                                  -0.8589      0.242     -3.546      0.000      -1.334      -0.384\n",
       "Last Activity_SMS Sent                            1.9609      0.115     17.074      0.000       1.736       2.186\n",
       "Specialize_Travel and Tourism                    -1.2178      0.452     -2.696      0.007      -2.103      -0.333\n",
       "Current Occupation_Student                        0.0894      0.600      0.149      0.881      -1.086       1.265\n",
       "Current Occupation_Working Professional           0.9658      0.413      2.336      0.019       0.156       1.776\n",
       "Tags_Busy                                         0.5088      0.226      2.250      0.024       0.066       0.952\n",
       "Tags_Closed by Horizzon                           7.0347      1.021      6.893      0.000       5.034       9.035\n",
       "Tags_Interested in other courses                 -2.1507      0.405     -5.315      0.000      -2.944      -1.358\n",
       "Tags_Lost to EINS                                 5.8875      0.611      9.636      0.000       4.690       7.085\n",
       "Tags_Other_Tags                                  -2.2984      0.210    -10.922      0.000      -2.711      -1.886\n",
       "Tags_Ringing                                     -3.4334      0.240    -14.314      0.000      -3.904      -2.963\n",
       "Tags_Will revert after reading the email          4.4010      0.196     22.409      0.000       4.016       4.786\n",
       "Last Notable Activity_Email Link Clicked         -1.2919      0.511     -2.527      0.012      -2.294      -0.290\n",
       "Last Notable Activity_Modified                   -1.6116      0.126    -12.772      0.000      -1.859      -1.364\n",
       "Last Notable Activity_Olark Chat Conversation    -1.7832      0.489     -3.647      0.000      -2.741      -0.825\n",
       "=================================================================================================================\n",
       "\"\"\""
      ]
     },
     "execution_count": 139,
     "metadata": {},
     "output_type": "execute_result"
    }
   ],
   "source": [
    "#BUILDING MODEL #3\n",
    "\n",
    "X_train_sm = sm.add_constant(X_train[col])\n",
    "logm3 = sm.GLM(y_train,X_train_sm, family = sm.families.Binomial())\n",
    "res = logm3.fit()\n",
    "res.summary()"
   ]
  },
  {
   "cell_type": "code",
   "execution_count": 140,
   "metadata": {
    "execution": {
     "iopub.execute_input": "2023-04-17T13:29:46.420246Z",
     "iopub.status.busy": "2023-04-17T13:29:46.419822Z",
     "iopub.status.idle": "2023-04-17T13:29:46.424603Z",
     "shell.execute_reply": "2023-04-17T13:29:46.423736Z",
     "shell.execute_reply.started": "2023-04-17T13:29:46.420200Z"
    }
   },
   "outputs": [],
   "source": [
    "# p-value of variable Current Occupation_Student is high, so we can drop it.\n",
    "# dropping column with high p-value\n",
    "col = col.drop('Current Occupation_Student',1)"
   ]
  },
  {
   "cell_type": "code",
   "execution_count": 141,
   "metadata": {
    "execution": {
     "iopub.execute_input": "2023-04-17T13:29:46.426403Z",
     "iopub.status.busy": "2023-04-17T13:29:46.425976Z",
     "iopub.status.idle": "2023-04-17T13:29:46.544304Z",
     "shell.execute_reply": "2023-04-17T13:29:46.543469Z",
     "shell.execute_reply.started": "2023-04-17T13:29:46.426359Z"
    }
   },
   "outputs": [
    {
     "data": {
      "text/html": [
       "<table class=\"simpletable\">\n",
       "<caption>Generalized Linear Model Regression Results</caption>\n",
       "<tr>\n",
       "  <th>Dep. Variable:</th>      <td>Converted</td>    <th>  No. Observations:  </th>  <td>  6267</td>  \n",
       "</tr>\n",
       "<tr>\n",
       "  <th>Model:</th>                 <td>GLM</td>       <th>  Df Residuals:      </th>  <td>  6248</td>  \n",
       "</tr>\n",
       "<tr>\n",
       "  <th>Model Family:</th>       <td>Binomial</td>     <th>  Df Model:          </th>  <td>    18</td>  \n",
       "</tr>\n",
       "<tr>\n",
       "  <th>Link Function:</th>        <td>logit</td>      <th>  Scale:             </th> <td>  1.0000</td> \n",
       "</tr>\n",
       "<tr>\n",
       "  <th>Method:</th>               <td>IRLS</td>       <th>  Log-Likelihood:    </th> <td> -1242.7</td> \n",
       "</tr>\n",
       "<tr>\n",
       "  <th>Date:</th>           <td>Mon, 17 Apr 2023</td> <th>  Deviance:          </th> <td>  2485.5</td> \n",
       "</tr>\n",
       "<tr>\n",
       "  <th>Time:</th>               <td>06:29:46</td>     <th>  Pearson chi2:      </th> <td>8.31e+03</td> \n",
       "</tr>\n",
       "<tr>\n",
       "  <th>No. Iterations:</th>         <td>8</td>        <th>  Covariance Type:   </th> <td>nonrobust</td>\n",
       "</tr>\n",
       "</table>\n",
       "<table class=\"simpletable\">\n",
       "<tr>\n",
       "                        <td></td>                           <th>coef</th>     <th>std err</th>      <th>z</th>      <th>P>|z|</th>  <th>[0.025</th>    <th>0.975]</th>  \n",
       "</tr>\n",
       "<tr>\n",
       "  <th>const</th>                                         <td>   -1.0733</td> <td>    0.086</td> <td>  -12.455</td> <td> 0.000</td> <td>   -1.242</td> <td>   -0.904</td>\n",
       "</tr>\n",
       "<tr>\n",
       "  <th>Total Time Spent on Website</th>                   <td>    0.8810</td> <td>    0.053</td> <td>   16.566</td> <td> 0.000</td> <td>    0.777</td> <td>    0.985</td>\n",
       "</tr>\n",
       "<tr>\n",
       "  <th>Lead_Origin_Lead Add Form</th>                     <td>    1.7037</td> <td>    0.447</td> <td>    3.813</td> <td> 0.000</td> <td>    0.828</td> <td>    2.579</td>\n",
       "</tr>\n",
       "<tr>\n",
       "  <th>Lead Source_Direct Traffic</th>                    <td>   -0.8097</td> <td>    0.129</td> <td>   -6.281</td> <td> 0.000</td> <td>   -1.062</td> <td>   -0.557</td>\n",
       "</tr>\n",
       "<tr>\n",
       "  <th>Lead Source_Welingak Website</th>                  <td>    3.9240</td> <td>    1.111</td> <td>    3.533</td> <td> 0.000</td> <td>    1.747</td> <td>    6.101</td>\n",
       "</tr>\n",
       "<tr>\n",
       "  <th>Do Not Email__1</th>                               <td>   -0.8589</td> <td>    0.242</td> <td>   -3.546</td> <td> 0.000</td> <td>   -1.334</td> <td>   -0.384</td>\n",
       "</tr>\n",
       "<tr>\n",
       "  <th>Last Activity_SMS Sent</th>                        <td>    1.9603</td> <td>    0.115</td> <td>   17.080</td> <td> 0.000</td> <td>    1.735</td> <td>    2.185</td>\n",
       "</tr>\n",
       "<tr>\n",
       "  <th>Specialize_Travel and Tourism</th>                 <td>   -1.2190</td> <td>    0.452</td> <td>   -2.699</td> <td> 0.007</td> <td>   -2.104</td> <td>   -0.334</td>\n",
       "</tr>\n",
       "<tr>\n",
       "  <th>Current Occupation_Working Professional</th>       <td>    0.9632</td> <td>    0.413</td> <td>    2.332</td> <td> 0.020</td> <td>    0.154</td> <td>    1.773</td>\n",
       "</tr>\n",
       "<tr>\n",
       "  <th>Tags_Busy</th>                                     <td>    0.5095</td> <td>    0.226</td> <td>    2.255</td> <td> 0.024</td> <td>    0.067</td> <td>    0.952</td>\n",
       "</tr>\n",
       "<tr>\n",
       "  <th>Tags_Closed by Horizzon</th>                       <td>    7.0355</td> <td>    1.021</td> <td>    6.894</td> <td> 0.000</td> <td>    5.035</td> <td>    9.036</td>\n",
       "</tr>\n",
       "<tr>\n",
       "  <th>Tags_Interested in other courses</th>              <td>   -2.1505</td> <td>    0.405</td> <td>   -5.315</td> <td> 0.000</td> <td>   -2.944</td> <td>   -1.357</td>\n",
       "</tr>\n",
       "<tr>\n",
       "  <th>Tags_Lost to EINS</th>                             <td>    5.8876</td> <td>    0.611</td> <td>    9.636</td> <td> 0.000</td> <td>    4.690</td> <td>    7.085</td>\n",
       "</tr>\n",
       "<tr>\n",
       "  <th>Tags_Other_Tags</th>                               <td>   -2.2939</td> <td>    0.208</td> <td>  -11.017</td> <td> 0.000</td> <td>   -2.702</td> <td>   -1.886</td>\n",
       "</tr>\n",
       "<tr>\n",
       "  <th>Tags_Ringing</th>                                  <td>   -3.4332</td> <td>    0.240</td> <td>  -14.313</td> <td> 0.000</td> <td>   -3.903</td> <td>   -2.963</td>\n",
       "</tr>\n",
       "<tr>\n",
       "  <th>Tags_Will revert after reading the email</th>      <td>    4.4043</td> <td>    0.195</td> <td>   22.555</td> <td> 0.000</td> <td>    4.022</td> <td>    4.787</td>\n",
       "</tr>\n",
       "<tr>\n",
       "  <th>Last Notable Activity_Email Link Clicked</th>      <td>   -1.2899</td> <td>    0.510</td> <td>   -2.527</td> <td> 0.012</td> <td>   -2.290</td> <td>   -0.289</td>\n",
       "</tr>\n",
       "<tr>\n",
       "  <th>Last Notable Activity_Modified</th>                <td>   -1.6116</td> <td>    0.126</td> <td>  -12.772</td> <td> 0.000</td> <td>   -1.859</td> <td>   -1.364</td>\n",
       "</tr>\n",
       "<tr>\n",
       "  <th>Last Notable Activity_Olark Chat Conversation</th> <td>   -1.7827</td> <td>    0.489</td> <td>   -3.645</td> <td> 0.000</td> <td>   -2.741</td> <td>   -0.824</td>\n",
       "</tr>\n",
       "</table>"
      ],
      "text/plain": [
       "<class 'statsmodels.iolib.summary.Summary'>\n",
       "\"\"\"\n",
       "                 Generalized Linear Model Regression Results                  \n",
       "==============================================================================\n",
       "Dep. Variable:              Converted   No. Observations:                 6267\n",
       "Model:                            GLM   Df Residuals:                     6248\n",
       "Model Family:                Binomial   Df Model:                           18\n",
       "Link Function:                  logit   Scale:                          1.0000\n",
       "Method:                          IRLS   Log-Likelihood:                -1242.7\n",
       "Date:                Mon, 17 Apr 2023   Deviance:                       2485.5\n",
       "Time:                        06:29:46   Pearson chi2:                 8.31e+03\n",
       "No. Iterations:                     8   Covariance Type:             nonrobust\n",
       "=================================================================================================================\n",
       "                                                    coef    std err          z      P>|z|      [0.025      0.975]\n",
       "-----------------------------------------------------------------------------------------------------------------\n",
       "const                                            -1.0733      0.086    -12.455      0.000      -1.242      -0.904\n",
       "Total Time Spent on Website                       0.8810      0.053     16.566      0.000       0.777       0.985\n",
       "Lead_Origin_Lead Add Form                         1.7037      0.447      3.813      0.000       0.828       2.579\n",
       "Lead Source_Direct Traffic                       -0.8097      0.129     -6.281      0.000      -1.062      -0.557\n",
       "Lead Source_Welingak Website                      3.9240      1.111      3.533      0.000       1.747       6.101\n",
       "Do Not Email__1                                  -0.8589      0.242     -3.546      0.000      -1.334      -0.384\n",
       "Last Activity_SMS Sent                            1.9603      0.115     17.080      0.000       1.735       2.185\n",
       "Specialize_Travel and Tourism                    -1.2190      0.452     -2.699      0.007      -2.104      -0.334\n",
       "Current Occupation_Working Professional           0.9632      0.413      2.332      0.020       0.154       1.773\n",
       "Tags_Busy                                         0.5095      0.226      2.255      0.024       0.067       0.952\n",
       "Tags_Closed by Horizzon                           7.0355      1.021      6.894      0.000       5.035       9.036\n",
       "Tags_Interested in other courses                 -2.1505      0.405     -5.315      0.000      -2.944      -1.357\n",
       "Tags_Lost to EINS                                 5.8876      0.611      9.636      0.000       4.690       7.085\n",
       "Tags_Other_Tags                                  -2.2939      0.208    -11.017      0.000      -2.702      -1.886\n",
       "Tags_Ringing                                     -3.4332      0.240    -14.313      0.000      -3.903      -2.963\n",
       "Tags_Will revert after reading the email          4.4043      0.195     22.555      0.000       4.022       4.787\n",
       "Last Notable Activity_Email Link Clicked         -1.2899      0.510     -2.527      0.012      -2.290      -0.289\n",
       "Last Notable Activity_Modified                   -1.6116      0.126    -12.772      0.000      -1.859      -1.364\n",
       "Last Notable Activity_Olark Chat Conversation    -1.7827      0.489     -3.645      0.000      -2.741      -0.824\n",
       "=================================================================================================================\n",
       "\"\"\""
      ]
     },
     "execution_count": 141,
     "metadata": {},
     "output_type": "execute_result"
    }
   ],
   "source": [
    "#BUILDING MODEL #4\n",
    "\n",
    "X_train_sm = sm.add_constant(X_train[col])\n",
    "logm4 = sm.GLM(y_train,X_train_sm, family = sm.families.Binomial())\n",
    "res = logm4.fit()\n",
    "res.summary()"
   ]
  },
  {
   "cell_type": "code",
   "execution_count": 142,
   "metadata": {
    "execution": {
     "iopub.execute_input": "2023-04-17T13:29:46.546025Z",
     "iopub.status.busy": "2023-04-17T13:29:46.545714Z",
     "iopub.status.idle": "2023-04-17T13:29:46.797192Z",
     "shell.execute_reply": "2023-04-17T13:29:46.796163Z",
     "shell.execute_reply.started": "2023-04-17T13:29:46.545979Z"
    }
   },
   "outputs": [
    {
     "data": {
      "text/html": [
       "<div>\n",
       "<style scoped>\n",
       "    .dataframe tbody tr th:only-of-type {\n",
       "        vertical-align: middle;\n",
       "    }\n",
       "\n",
       "    .dataframe tbody tr th {\n",
       "        vertical-align: top;\n",
       "    }\n",
       "\n",
       "    .dataframe thead th {\n",
       "        text-align: right;\n",
       "    }\n",
       "</style>\n",
       "<table border=\"1\" class=\"dataframe\">\n",
       "  <thead>\n",
       "    <tr style=\"text-align: right;\">\n",
       "      <th></th>\n",
       "      <th>Features</th>\n",
       "      <th>VIF</th>\n",
       "    </tr>\n",
       "  </thead>\n",
       "  <tbody>\n",
       "    <tr>\n",
       "      <th>1</th>\n",
       "      <td>Lead_Origin_Lead Add Form</td>\n",
       "      <td>1.8500</td>\n",
       "    </tr>\n",
       "    <tr>\n",
       "      <th>14</th>\n",
       "      <td>Tags_Will revert after reading the email</td>\n",
       "      <td>1.7800</td>\n",
       "    </tr>\n",
       "    <tr>\n",
       "      <th>5</th>\n",
       "      <td>Last Activity_SMS Sent</td>\n",
       "      <td>1.5100</td>\n",
       "    </tr>\n",
       "    <tr>\n",
       "      <th>16</th>\n",
       "      <td>Last Notable Activity_Modified</td>\n",
       "      <td>1.4600</td>\n",
       "    </tr>\n",
       "    <tr>\n",
       "      <th>2</th>\n",
       "      <td>Lead Source_Direct Traffic</td>\n",
       "      <td>1.4200</td>\n",
       "    </tr>\n",
       "    <tr>\n",
       "      <th>3</th>\n",
       "      <td>Lead Source_Welingak Website</td>\n",
       "      <td>1.3500</td>\n",
       "    </tr>\n",
       "    <tr>\n",
       "      <th>7</th>\n",
       "      <td>Current Occupation_Working Professional</td>\n",
       "      <td>1.3100</td>\n",
       "    </tr>\n",
       "    <tr>\n",
       "      <th>12</th>\n",
       "      <td>Tags_Other_Tags</td>\n",
       "      <td>1.2600</td>\n",
       "    </tr>\n",
       "    <tr>\n",
       "      <th>9</th>\n",
       "      <td>Tags_Closed by Horizzon</td>\n",
       "      <td>1.2500</td>\n",
       "    </tr>\n",
       "    <tr>\n",
       "      <th>0</th>\n",
       "      <td>Total Time Spent on Website</td>\n",
       "      <td>1.2300</td>\n",
       "    </tr>\n",
       "    <tr>\n",
       "      <th>13</th>\n",
       "      <td>Tags_Ringing</td>\n",
       "      <td>1.1700</td>\n",
       "    </tr>\n",
       "    <tr>\n",
       "      <th>4</th>\n",
       "      <td>Do Not Email__1</td>\n",
       "      <td>1.1300</td>\n",
       "    </tr>\n",
       "    <tr>\n",
       "      <th>10</th>\n",
       "      <td>Tags_Interested in other courses</td>\n",
       "      <td>1.1200</td>\n",
       "    </tr>\n",
       "    <tr>\n",
       "      <th>11</th>\n",
       "      <td>Tags_Lost to EINS</td>\n",
       "      <td>1.0700</td>\n",
       "    </tr>\n",
       "    <tr>\n",
       "      <th>8</th>\n",
       "      <td>Tags_Busy</td>\n",
       "      <td>1.0500</td>\n",
       "    </tr>\n",
       "    <tr>\n",
       "      <th>15</th>\n",
       "      <td>Last Notable Activity_Email Link Clicked</td>\n",
       "      <td>1.0300</td>\n",
       "    </tr>\n",
       "    <tr>\n",
       "      <th>6</th>\n",
       "      <td>Specialize_Travel and Tourism</td>\n",
       "      <td>1.0200</td>\n",
       "    </tr>\n",
       "    <tr>\n",
       "      <th>17</th>\n",
       "      <td>Last Notable Activity_Olark Chat Conversation</td>\n",
       "      <td>1.0100</td>\n",
       "    </tr>\n",
       "  </tbody>\n",
       "</table>\n",
       "</div>"
      ],
      "text/plain": [
       "                                         Features    VIF\n",
       "1                       Lead_Origin_Lead Add Form 1.8500\n",
       "14       Tags_Will revert after reading the email 1.7800\n",
       "5                          Last Activity_SMS Sent 1.5100\n",
       "16                 Last Notable Activity_Modified 1.4600\n",
       "2                      Lead Source_Direct Traffic 1.4200\n",
       "3                    Lead Source_Welingak Website 1.3500\n",
       "7         Current Occupation_Working Professional 1.3100\n",
       "12                                Tags_Other_Tags 1.2600\n",
       "9                         Tags_Closed by Horizzon 1.2500\n",
       "0                     Total Time Spent on Website 1.2300\n",
       "13                                   Tags_Ringing 1.1700\n",
       "4                                 Do Not Email__1 1.1300\n",
       "10               Tags_Interested in other courses 1.1200\n",
       "11                              Tags_Lost to EINS 1.0700\n",
       "8                                       Tags_Busy 1.0500\n",
       "15       Last Notable Activity_Email Link Clicked 1.0300\n",
       "6                   Specialize_Travel and Tourism 1.0200\n",
       "17  Last Notable Activity_Olark Chat Conversation 1.0100"
      ]
     },
     "execution_count": 142,
     "metadata": {},
     "output_type": "execute_result"
    }
   ],
   "source": [
    "#Since 'All' the p-values are less we can check the Variance Inflation Factor to see if there is any correlation between the variables\n",
    "vif = pd.DataFrame()\n",
    "vif['Features'] = X_train[col].columns\n",
    "vif['VIF'] = [variance_inflation_factor(X_train[col].values, i) for i in range(X_train[col].shape[1])]\n",
    "vif['VIF'] = round(vif['VIF'], 2)\n",
    "vif = vif.sort_values(by = \"VIF\", ascending = False)\n",
    "vif"
   ]
  },
  {
   "cell_type": "markdown",
   "metadata": {},
   "source": [
    "<div class=\"alert alert-block alert-info\"><b>Inference</b>\n",
    "<br>Since all the variables seem to be in order now, with proper P - value and VIF, we can move to derive the Probabilities, Lead Score, Predictions on Train Data.\n",
    "\n",
    "</div>"
   ]
  },
  {
   "cell_type": "code",
   "execution_count": 143,
   "metadata": {
    "execution": {
     "iopub.execute_input": "2023-04-17T13:29:46.799241Z",
     "iopub.status.busy": "2023-04-17T13:29:46.798689Z",
     "iopub.status.idle": "2023-04-17T13:29:46.808656Z",
     "shell.execute_reply": "2023-04-17T13:29:46.807665Z",
     "shell.execute_reply.started": "2023-04-17T13:29:46.799192Z"
    }
   },
   "outputs": [
    {
     "data": {
      "text/plain": [
       "9196   0.2854\n",
       "4696   0.0326\n",
       "3274   0.5796\n",
       "2164   0.0069\n",
       "1667   0.9883\n",
       "7024   0.1368\n",
       "8018   0.0260\n",
       "778    0.2144\n",
       "6942   0.0032\n",
       "4440   0.1020\n",
       "dtype: float64"
      ]
     },
     "execution_count": 143,
     "metadata": {},
     "output_type": "execute_result"
    }
   ],
   "source": [
    "# Getting the Predicted values on the train set :\n",
    "\n",
    "y_train_pred = res.predict(X_train_sm)\n",
    "y_train_pred[:10]"
   ]
  },
  {
   "cell_type": "code",
   "execution_count": 144,
   "metadata": {
    "execution": {
     "iopub.execute_input": "2023-04-17T13:29:46.810765Z",
     "iopub.status.busy": "2023-04-17T13:29:46.810230Z",
     "iopub.status.idle": "2023-04-17T13:29:46.817770Z",
     "shell.execute_reply": "2023-04-17T13:29:46.816794Z",
     "shell.execute_reply.started": "2023-04-17T13:29:46.810716Z"
    }
   },
   "outputs": [
    {
     "data": {
      "text/plain": [
       "array([0.28537602, 0.03263269, 0.57962838, 0.00688341, 0.9883378 ,\n",
       "       0.13684916, 0.02597225, 0.21442806, 0.0031813 , 0.10198848])"
      ]
     },
     "execution_count": 144,
     "metadata": {},
     "output_type": "execute_result"
    }
   ],
   "source": [
    "y_train_pred = y_train_pred.values.reshape(-1)\n",
    "y_train_pred[:10]"
   ]
  },
  {
   "cell_type": "code",
   "execution_count": 145,
   "metadata": {
    "execution": {
     "iopub.execute_input": "2023-04-17T13:29:46.819837Z",
     "iopub.status.busy": "2023-04-17T13:29:46.819166Z",
     "iopub.status.idle": "2023-04-17T13:29:46.837403Z",
     "shell.execute_reply": "2023-04-17T13:29:46.836258Z",
     "shell.execute_reply.started": "2023-04-17T13:29:46.819789Z"
    }
   },
   "outputs": [
    {
     "data": {
      "text/html": [
       "<div>\n",
       "<style scoped>\n",
       "    .dataframe tbody tr th:only-of-type {\n",
       "        vertical-align: middle;\n",
       "    }\n",
       "\n",
       "    .dataframe tbody tr th {\n",
       "        vertical-align: top;\n",
       "    }\n",
       "\n",
       "    .dataframe thead th {\n",
       "        text-align: right;\n",
       "    }\n",
       "</style>\n",
       "<table border=\"1\" class=\"dataframe\">\n",
       "  <thead>\n",
       "    <tr style=\"text-align: right;\">\n",
       "      <th></th>\n",
       "      <th>Converted</th>\n",
       "      <th>Converted_prob</th>\n",
       "      <th>Prospect ID</th>\n",
       "    </tr>\n",
       "  </thead>\n",
       "  <tbody>\n",
       "    <tr>\n",
       "      <th>0</th>\n",
       "      <td>1</td>\n",
       "      <td>0.2854</td>\n",
       "      <td>9196</td>\n",
       "    </tr>\n",
       "    <tr>\n",
       "      <th>1</th>\n",
       "      <td>0</td>\n",
       "      <td>0.0326</td>\n",
       "      <td>4696</td>\n",
       "    </tr>\n",
       "    <tr>\n",
       "      <th>2</th>\n",
       "      <td>0</td>\n",
       "      <td>0.5796</td>\n",
       "      <td>3274</td>\n",
       "    </tr>\n",
       "    <tr>\n",
       "      <th>3</th>\n",
       "      <td>0</td>\n",
       "      <td>0.0069</td>\n",
       "      <td>2164</td>\n",
       "    </tr>\n",
       "    <tr>\n",
       "      <th>4</th>\n",
       "      <td>1</td>\n",
       "      <td>0.9883</td>\n",
       "      <td>1667</td>\n",
       "    </tr>\n",
       "  </tbody>\n",
       "</table>\n",
       "</div>"
      ],
      "text/plain": [
       "   Converted  Converted_prob  Prospect ID\n",
       "0          1          0.2854         9196\n",
       "1          0          0.0326         4696\n",
       "2          0          0.5796         3274\n",
       "3          0          0.0069         2164\n",
       "4          1          0.9883         1667"
      ]
     },
     "execution_count": 145,
     "metadata": {},
     "output_type": "execute_result"
    }
   ],
   "source": [
    "y_train_pred_final = pd.DataFrame({'Converted':y_train.values, 'Converted_prob':y_train_pred})\n",
    "y_train_pred_final['Prospect ID'] = y_train.index\n",
    "y_train_pred_final.head()"
   ]
  },
  {
   "cell_type": "code",
   "execution_count": 146,
   "metadata": {
    "execution": {
     "iopub.execute_input": "2023-04-17T13:29:46.839365Z",
     "iopub.status.busy": "2023-04-17T13:29:46.838816Z",
     "iopub.status.idle": "2023-04-17T13:29:46.863248Z",
     "shell.execute_reply": "2023-04-17T13:29:46.862102Z",
     "shell.execute_reply.started": "2023-04-17T13:29:46.839316Z"
    }
   },
   "outputs": [
    {
     "data": {
      "text/html": [
       "<div>\n",
       "<style scoped>\n",
       "    .dataframe tbody tr th:only-of-type {\n",
       "        vertical-align: middle;\n",
       "    }\n",
       "\n",
       "    .dataframe tbody tr th {\n",
       "        vertical-align: top;\n",
       "    }\n",
       "\n",
       "    .dataframe thead th {\n",
       "        text-align: right;\n",
       "    }\n",
       "</style>\n",
       "<table border=\"1\" class=\"dataframe\">\n",
       "  <thead>\n",
       "    <tr style=\"text-align: right;\">\n",
       "      <th></th>\n",
       "      <th>Converted</th>\n",
       "      <th>Converted_prob</th>\n",
       "      <th>Prospect ID</th>\n",
       "      <th>Predicted</th>\n",
       "    </tr>\n",
       "  </thead>\n",
       "  <tbody>\n",
       "    <tr>\n",
       "      <th>0</th>\n",
       "      <td>1</td>\n",
       "      <td>0.2854</td>\n",
       "      <td>9196</td>\n",
       "      <td>0</td>\n",
       "    </tr>\n",
       "    <tr>\n",
       "      <th>1</th>\n",
       "      <td>0</td>\n",
       "      <td>0.0326</td>\n",
       "      <td>4696</td>\n",
       "      <td>0</td>\n",
       "    </tr>\n",
       "    <tr>\n",
       "      <th>2</th>\n",
       "      <td>0</td>\n",
       "      <td>0.5796</td>\n",
       "      <td>3274</td>\n",
       "      <td>1</td>\n",
       "    </tr>\n",
       "    <tr>\n",
       "      <th>3</th>\n",
       "      <td>0</td>\n",
       "      <td>0.0069</td>\n",
       "      <td>2164</td>\n",
       "      <td>0</td>\n",
       "    </tr>\n",
       "    <tr>\n",
       "      <th>4</th>\n",
       "      <td>1</td>\n",
       "      <td>0.9883</td>\n",
       "      <td>1667</td>\n",
       "      <td>1</td>\n",
       "    </tr>\n",
       "  </tbody>\n",
       "</table>\n",
       "</div>"
      ],
      "text/plain": [
       "   Converted  Converted_prob  Prospect ID  Predicted\n",
       "0          1          0.2854         9196          0\n",
       "1          0          0.0326         4696          0\n",
       "2          0          0.5796         3274          1\n",
       "3          0          0.0069         2164          0\n",
       "4          1          0.9883         1667          1"
      ]
     },
     "execution_count": 146,
     "metadata": {},
     "output_type": "execute_result"
    }
   ],
   "source": [
    "y_train_pred_final['Predicted'] = y_train_pred_final.Converted_prob.map(lambda x: 1 if x > 0.5 else 0)\n",
    "\n",
    "# Let's see the head\n",
    "y_train_pred_final.head()"
   ]
  },
  {
   "cell_type": "markdown",
   "metadata": {},
   "source": [
    "<h4><font color = purple > 5.4 Confusion Matrix</font></h4>"
   ]
  },
  {
   "cell_type": "code",
   "execution_count": 147,
   "metadata": {
    "execution": {
     "iopub.execute_input": "2023-04-17T13:29:46.865199Z",
     "iopub.status.busy": "2023-04-17T13:29:46.864661Z",
     "iopub.status.idle": "2023-04-17T13:29:46.889535Z",
     "shell.execute_reply": "2023-04-17T13:29:46.888517Z",
     "shell.execute_reply.started": "2023-04-17T13:29:46.865150Z"
    }
   },
   "outputs": [
    {
     "name": "stdout",
     "output_type": "stream",
     "text": [
      "[[3704  178]\n",
      " [ 272 2113]]\n"
     ]
    }
   ],
   "source": [
    "from sklearn import metrics\n",
    "\n",
    "# Confusion matrix \n",
    "confusion = metrics.confusion_matrix(y_train_pred_final.Converted, y_train_pred_final.Predicted )\n",
    "print(confusion)"
   ]
  },
  {
   "cell_type": "code",
   "execution_count": 148,
   "metadata": {
    "execution": {
     "iopub.execute_input": "2023-04-17T13:29:46.891586Z",
     "iopub.status.busy": "2023-04-17T13:29:46.890944Z",
     "iopub.status.idle": "2023-04-17T13:29:46.898282Z",
     "shell.execute_reply": "2023-04-17T13:29:46.897270Z",
     "shell.execute_reply.started": "2023-04-17T13:29:46.891535Z"
    }
   },
   "outputs": [
    {
     "name": "stdout",
     "output_type": "stream",
     "text": [
      "0.9281953087601723\n"
     ]
    }
   ],
   "source": [
    "# Let's check the overall accuracy.\n",
    "print(metrics.accuracy_score(y_train_pred_final.Converted, y_train_pred_final.Predicted))"
   ]
  },
  {
   "cell_type": "code",
   "execution_count": 149,
   "metadata": {
    "execution": {
     "iopub.execute_input": "2023-04-17T13:29:46.900225Z",
     "iopub.status.busy": "2023-04-17T13:29:46.899676Z",
     "iopub.status.idle": "2023-04-17T13:29:46.912378Z",
     "shell.execute_reply": "2023-04-17T13:29:46.911348Z",
     "shell.execute_reply.started": "2023-04-17T13:29:46.900176Z"
    }
   },
   "outputs": [],
   "source": [
    "TP = confusion[1,1] # true positive \n",
    "TN = confusion[0,0] # true negatives\n",
    "FP = confusion[0,1] # false positives\n",
    "FN = confusion[1,0] # false negatives"
   ]
  },
  {
   "cell_type": "code",
   "execution_count": 150,
   "metadata": {
    "execution": {
     "iopub.execute_input": "2023-04-17T13:29:46.914425Z",
     "iopub.status.busy": "2023-04-17T13:29:46.913848Z",
     "iopub.status.idle": "2023-04-17T13:29:46.922031Z",
     "shell.execute_reply": "2023-04-17T13:29:46.920975Z",
     "shell.execute_reply.started": "2023-04-17T13:29:46.914376Z"
    }
   },
   "outputs": [
    {
     "data": {
      "text/plain": [
       "0.8859538784067086"
      ]
     },
     "execution_count": 150,
     "metadata": {},
     "output_type": "execute_result"
    }
   ],
   "source": [
    "# Let's see the sensitivity of our logistic regression model\n",
    "TP / float(TP+FN)"
   ]
  },
  {
   "cell_type": "code",
   "execution_count": 151,
   "metadata": {
    "execution": {
     "iopub.execute_input": "2023-04-17T13:29:46.923708Z",
     "iopub.status.busy": "2023-04-17T13:29:46.923433Z",
     "iopub.status.idle": "2023-04-17T13:29:46.928085Z",
     "shell.execute_reply": "2023-04-17T13:29:46.927551Z",
     "shell.execute_reply.started": "2023-04-17T13:29:46.923677Z"
    }
   },
   "outputs": [
    {
     "data": {
      "text/plain": [
       "0.9541473467284904"
      ]
     },
     "execution_count": 151,
     "metadata": {},
     "output_type": "execute_result"
    }
   ],
   "source": [
    "# Let us calculate specificity\n",
    "TN / float(TN+FP)"
   ]
  },
  {
   "cell_type": "code",
   "execution_count": 152,
   "metadata": {
    "execution": {
     "iopub.execute_input": "2023-04-17T13:29:46.929430Z",
     "iopub.status.busy": "2023-04-17T13:29:46.929164Z",
     "iopub.status.idle": "2023-04-17T13:29:46.936217Z",
     "shell.execute_reply": "2023-04-17T13:29:46.935613Z",
     "shell.execute_reply.started": "2023-04-17T13:29:46.929404Z"
    }
   },
   "outputs": [
    {
     "name": "stdout",
     "output_type": "stream",
     "text": [
      "0.04585265327150953\n"
     ]
    }
   ],
   "source": [
    "# Calculate False Postive Rate - predicting conversion when customer does not have convert\n",
    "print(FP/ float(TN+FP))"
   ]
  },
  {
   "cell_type": "code",
   "execution_count": 153,
   "metadata": {
    "execution": {
     "iopub.execute_input": "2023-04-17T13:29:46.937510Z",
     "iopub.status.busy": "2023-04-17T13:29:46.937313Z",
     "iopub.status.idle": "2023-04-17T13:29:46.943344Z",
     "shell.execute_reply": "2023-04-17T13:29:46.942695Z",
     "shell.execute_reply.started": "2023-04-17T13:29:46.937483Z"
    }
   },
   "outputs": [
    {
     "name": "stdout",
     "output_type": "stream",
     "text": [
      "0.9223046704495853\n"
     ]
    }
   ],
   "source": [
    "# positive predictive value \n",
    "print (TP / float(TP+FP))"
   ]
  },
  {
   "cell_type": "code",
   "execution_count": 154,
   "metadata": {
    "execution": {
     "iopub.execute_input": "2023-04-17T13:29:46.944953Z",
     "iopub.status.busy": "2023-04-17T13:29:46.944603Z",
     "iopub.status.idle": "2023-04-17T13:29:46.953005Z",
     "shell.execute_reply": "2023-04-17T13:29:46.952471Z",
     "shell.execute_reply.started": "2023-04-17T13:29:46.944906Z"
    }
   },
   "outputs": [
    {
     "name": "stdout",
     "output_type": "stream",
     "text": [
      "0.93158953722334\n"
     ]
    }
   ],
   "source": [
    "# Negative predictive value\n",
    "print (TN / float(TN+ FN))"
   ]
  },
  {
   "cell_type": "markdown",
   "metadata": {},
   "source": [
    "<h4><font color = purple > 5.5 Plotting ROC CURVE</font></h4>"
   ]
  },
  {
   "cell_type": "code",
   "execution_count": 155,
   "metadata": {
    "execution": {
     "iopub.execute_input": "2023-04-17T13:29:46.954454Z",
     "iopub.status.busy": "2023-04-17T13:29:46.954266Z",
     "iopub.status.idle": "2023-04-17T13:29:46.962128Z",
     "shell.execute_reply": "2023-04-17T13:29:46.961629Z",
     "shell.execute_reply.started": "2023-04-17T13:29:46.954429Z"
    }
   },
   "outputs": [],
   "source": [
    "def draw_roc( actual, probs ):\n",
    "    fpr, tpr, thresholds = metrics.roc_curve( actual, probs,\n",
    "                                              drop_intermediate = False )\n",
    "    auc_score = metrics.roc_auc_score( actual, probs )\n",
    "    plt.figure(figsize=(5, 5))\n",
    "    plt.plot( fpr, tpr, label='ROC curve (area = %0.2f)' % auc_score )\n",
    "    plt.plot([0, 1], [0, 1], 'k--')\n",
    "    plt.xlim([0.0, 1.0])\n",
    "    plt.ylim([0.0, 1.05])\n",
    "    plt.xlabel('False Positive Rate or [1 - True Negative Rate]')\n",
    "    plt.ylabel('True Positive Rate')\n",
    "    plt.title('Receiver operating characteristic example')\n",
    "    plt.legend(loc=\"lower right\")\n",
    "    plt.show()\n",
    "\n",
    "    return None"
   ]
  },
  {
   "cell_type": "code",
   "execution_count": 156,
   "metadata": {
    "execution": {
     "iopub.execute_input": "2023-04-17T13:29:46.963410Z",
     "iopub.status.busy": "2023-04-17T13:29:46.963118Z",
     "iopub.status.idle": "2023-04-17T13:29:46.972009Z",
     "shell.execute_reply": "2023-04-17T13:29:46.971495Z",
     "shell.execute_reply.started": "2023-04-17T13:29:46.963383Z"
    }
   },
   "outputs": [],
   "source": [
    "fpr, tpr, thresholds = metrics.roc_curve( y_train_pred_final.Converted, \n",
    "                                         y_train_pred_final.Converted_prob, \n",
    "                                         drop_intermediate = False )"
   ]
  },
  {
   "cell_type": "code",
   "execution_count": 157,
   "metadata": {
    "execution": {
     "iopub.execute_input": "2023-04-17T13:29:46.973296Z",
     "iopub.status.busy": "2023-04-17T13:29:46.973027Z",
     "iopub.status.idle": "2023-04-17T13:29:47.136515Z",
     "shell.execute_reply": "2023-04-17T13:29:47.135673Z",
     "shell.execute_reply.started": "2023-04-17T13:29:46.973270Z"
    }
   },
   "outputs": [
    {
     "data": {
      "image/png": "[encoded data removed]",
      "text/plain": [
       "<Figure size 360x360 with 1 Axes>"
      ]
     },
     "metadata": {
      "needs_background": "light"
     },
     "output_type": "display_data"
    }
   ],
   "source": [
    "draw_roc(y_train_pred_final.Converted, y_train_pred_final.Converted_prob)"
   ]
  },
  {
   "cell_type": "markdown",
   "metadata": {},
   "source": [
    "\n",
    "<div class=\"alert alert-block alert-info\"><b>Inference</b>\n",
    "<br>The ROC Curve should be a value close to 1. We are getting a good value of 0.97 indicating a good predictive model.\n",
    "</div>"
   ]
  },
  {
   "cell_type": "markdown",
   "metadata": {},
   "source": [
    "<h4><font color = purple > 5.6 Finding Optimal Cutoff Point</font></h4>\n"
   ]
  },
  {
   "cell_type": "markdown",
   "metadata": {},
   "source": [
    "<b>Above we had chosen an arbitrary cut-off value of 0.5. We need to determine the best cut-off value and the below section deals with that:</b>"
   ]
  },
  {
   "cell_type": "code",
   "execution_count": 158,
   "metadata": {
    "execution": {
     "iopub.execute_input": "2023-04-17T13:29:47.137852Z",
     "iopub.status.busy": "2023-04-17T13:29:47.137626Z",
     "iopub.status.idle": "2023-04-17T13:29:47.187904Z",
     "shell.execute_reply": "2023-04-17T13:29:47.187086Z",
     "shell.execute_reply.started": "2023-04-17T13:29:47.137825Z"
    }
   },
   "outputs": [
    {
     "data": {
      "text/html": [
       "<div>\n",
       "<style scoped>\n",
       "    .dataframe tbody tr th:only-of-type {\n",
       "        vertical-align: middle;\n",
       "    }\n",
       "\n",
       "    .dataframe tbody tr th {\n",
       "        vertical-align: top;\n",
       "    }\n",
       "\n",
       "    .dataframe thead th {\n",
       "        text-align: right;\n",
       "    }\n",
       "</style>\n",
       "<table border=\"1\" class=\"dataframe\">\n",
       "  <thead>\n",
       "    <tr style=\"text-align: right;\">\n",
       "      <th></th>\n",
       "      <th>Converted</th>\n",
       "      <th>Converted_prob</th>\n",
       "      <th>Prospect ID</th>\n",
       "      <th>Predicted</th>\n",
       "      <th>0.0</th>\n",
       "      <th>0.1</th>\n",
       "      <th>0.2</th>\n",
       "      <th>0.3</th>\n",
       "      <th>0.4</th>\n",
       "      <th>0.5</th>\n",
       "      <th>0.6</th>\n",
       "      <th>0.7</th>\n",
       "      <th>0.8</th>\n",
       "      <th>0.9</th>\n",
       "    </tr>\n",
       "  </thead>\n",
       "  <tbody>\n",
       "    <tr>\n",
       "      <th>0</th>\n",
       "      <td>1</td>\n",
       "      <td>0.2854</td>\n",
       "      <td>9196</td>\n",
       "      <td>0</td>\n",
       "      <td>1</td>\n",
       "      <td>1</td>\n",
       "      <td>1</td>\n",
       "      <td>0</td>\n",
       "      <td>0</td>\n",
       "      <td>0</td>\n",
       "      <td>0</td>\n",
       "      <td>0</td>\n",
       "      <td>0</td>\n",
       "      <td>0</td>\n",
       "    </tr>\n",
       "    <tr>\n",
       "      <th>1</th>\n",
       "      <td>0</td>\n",
       "      <td>0.0326</td>\n",
       "      <td>4696</td>\n",
       "      <td>0</td>\n",
       "      <td>1</td>\n",
       "      <td>0</td>\n",
       "      <td>0</td>\n",
       "      <td>0</td>\n",
       "      <td>0</td>\n",
       "      <td>0</td>\n",
       "      <td>0</td>\n",
       "      <td>0</td>\n",
       "      <td>0</td>\n",
       "      <td>0</td>\n",
       "    </tr>\n",
       "    <tr>\n",
       "      <th>2</th>\n",
       "      <td>0</td>\n",
       "      <td>0.5796</td>\n",
       "      <td>3274</td>\n",
       "      <td>1</td>\n",
       "      <td>1</td>\n",
       "      <td>1</td>\n",
       "      <td>1</td>\n",
       "      <td>1</td>\n",
       "      <td>1</td>\n",
       "      <td>1</td>\n",
       "      <td>0</td>\n",
       "      <td>0</td>\n",
       "      <td>0</td>\n",
       "      <td>0</td>\n",
       "    </tr>\n",
       "    <tr>\n",
       "      <th>3</th>\n",
       "      <td>0</td>\n",
       "      <td>0.0069</td>\n",
       "      <td>2164</td>\n",
       "      <td>0</td>\n",
       "      <td>1</td>\n",
       "      <td>0</td>\n",
       "      <td>0</td>\n",
       "      <td>0</td>\n",
       "      <td>0</td>\n",
       "      <td>0</td>\n",
       "      <td>0</td>\n",
       "      <td>0</td>\n",
       "      <td>0</td>\n",
       "      <td>0</td>\n",
       "    </tr>\n",
       "    <tr>\n",
       "      <th>4</th>\n",
       "      <td>1</td>\n",
       "      <td>0.9883</td>\n",
       "      <td>1667</td>\n",
       "      <td>1</td>\n",
       "      <td>1</td>\n",
       "      <td>1</td>\n",
       "      <td>1</td>\n",
       "      <td>1</td>\n",
       "      <td>1</td>\n",
       "      <td>1</td>\n",
       "      <td>1</td>\n",
       "      <td>1</td>\n",
       "      <td>1</td>\n",
       "      <td>1</td>\n",
       "    </tr>\n",
       "  </tbody>\n",
       "</table>\n",
       "</div>"
      ],
      "text/plain": [
       "   Converted  Converted_prob  Prospect ID  Predicted  0.0  0.1  0.2  0.3  0.4  \\\n",
       "0          1          0.2854         9196          0    1    1    1    0    0   \n",
       "1          0          0.0326         4696          0    1    0    0    0    0   \n",
       "2          0          0.5796         3274          1    1    1    1    1    1   \n",
       "3          0          0.0069         2164          0    1    0    0    0    0   \n",
       "4          1          0.9883         1667          1    1    1    1    1    1   \n",
       "\n",
       "   0.5  0.6  0.7  0.8  0.9  \n",
       "0    0    0    0    0    0  \n",
       "1    0    0    0    0    0  \n",
       "2    1    0    0    0    0  \n",
       "3    0    0    0    0    0  \n",
       "4    1    1    1    1    1  "
      ]
     },
     "execution_count": 158,
     "metadata": {},
     "output_type": "execute_result"
    }
   ],
   "source": [
    "# Let's create columns with different probability cutoffs \n",
    "numbers = [float(x)/10 for x in range(10)]\n",
    "for i in numbers:\n",
    "    y_train_pred_final[i]= y_train_pred_final.Converted_prob.map(lambda x: 1 if x > i else 0)\n",
    "y_train_pred_final.head()"
   ]
  },
  {
   "cell_type": "code",
   "execution_count": 159,
   "metadata": {
    "execution": {
     "iopub.execute_input": "2023-04-17T13:29:47.189085Z",
     "iopub.status.busy": "2023-04-17T13:29:47.188890Z",
     "iopub.status.idle": "2023-04-17T13:29:47.286250Z",
     "shell.execute_reply": "2023-04-17T13:29:47.285580Z",
     "shell.execute_reply.started": "2023-04-17T13:29:47.189058Z"
    }
   },
   "outputs": [
    {
     "data": {
      "text/html": [
       "<div>\n",
       "<style scoped>\n",
       "    .dataframe tbody tr th:only-of-type {\n",
       "        vertical-align: middle;\n",
       "    }\n",
       "\n",
       "    .dataframe tbody tr th {\n",
       "        vertical-align: top;\n",
       "    }\n",
       "\n",
       "    .dataframe thead th {\n",
       "        text-align: right;\n",
       "    }\n",
       "</style>\n",
       "<table border=\"1\" class=\"dataframe\">\n",
       "  <thead>\n",
       "    <tr style=\"text-align: right;\">\n",
       "      <th></th>\n",
       "      <th>prob</th>\n",
       "      <th>accuracy</th>\n",
       "      <th>sensi</th>\n",
       "      <th>speci</th>\n",
       "    </tr>\n",
       "  </thead>\n",
       "  <tbody>\n",
       "    <tr>\n",
       "      <th>0.0000</th>\n",
       "      <td>0.0000</td>\n",
       "      <td>0.3806</td>\n",
       "      <td>1.0000</td>\n",
       "      <td>0.0000</td>\n",
       "    </tr>\n",
       "    <tr>\n",
       "      <th>0.1000</th>\n",
       "      <td>0.1000</td>\n",
       "      <td>0.8273</td>\n",
       "      <td>0.9748</td>\n",
       "      <td>0.7367</td>\n",
       "    </tr>\n",
       "    <tr>\n",
       "      <th>0.2000</th>\n",
       "      <td>0.2000</td>\n",
       "      <td>0.8988</td>\n",
       "      <td>0.9329</td>\n",
       "      <td>0.8779</td>\n",
       "    </tr>\n",
       "    <tr>\n",
       "      <th>0.3000</th>\n",
       "      <td>0.3000</td>\n",
       "      <td>0.9237</td>\n",
       "      <td>0.9191</td>\n",
       "      <td>0.9266</td>\n",
       "    </tr>\n",
       "    <tr>\n",
       "      <th>0.4000</th>\n",
       "      <td>0.4000</td>\n",
       "      <td>0.9277</td>\n",
       "      <td>0.9010</td>\n",
       "      <td>0.9441</td>\n",
       "    </tr>\n",
       "    <tr>\n",
       "      <th>0.5000</th>\n",
       "      <td>0.5000</td>\n",
       "      <td>0.9282</td>\n",
       "      <td>0.8860</td>\n",
       "      <td>0.9541</td>\n",
       "    </tr>\n",
       "    <tr>\n",
       "      <th>0.6000</th>\n",
       "      <td>0.6000</td>\n",
       "      <td>0.9178</td>\n",
       "      <td>0.8352</td>\n",
       "      <td>0.9686</td>\n",
       "    </tr>\n",
       "    <tr>\n",
       "      <th>0.7000</th>\n",
       "      <td>0.7000</td>\n",
       "      <td>0.9172</td>\n",
       "      <td>0.8138</td>\n",
       "      <td>0.9807</td>\n",
       "    </tr>\n",
       "    <tr>\n",
       "      <th>0.8000</th>\n",
       "      <td>0.8000</td>\n",
       "      <td>0.9057</td>\n",
       "      <td>0.7753</td>\n",
       "      <td>0.9858</td>\n",
       "    </tr>\n",
       "    <tr>\n",
       "      <th>0.9000</th>\n",
       "      <td>0.9000</td>\n",
       "      <td>0.8880</td>\n",
       "      <td>0.7208</td>\n",
       "      <td>0.9907</td>\n",
       "    </tr>\n",
       "  </tbody>\n",
       "</table>\n",
       "</div>"
      ],
      "text/plain": [
       "         prob  accuracy  sensi  speci\n",
       "0.0000 0.0000    0.3806 1.0000 0.0000\n",
       "0.1000 0.1000    0.8273 0.9748 0.7367\n",
       "0.2000 0.2000    0.8988 0.9329 0.8779\n",
       "0.3000 0.3000    0.9237 0.9191 0.9266\n",
       "0.4000 0.4000    0.9277 0.9010 0.9441\n",
       "0.5000 0.5000    0.9282 0.8860 0.9541\n",
       "0.6000 0.6000    0.9178 0.8352 0.9686\n",
       "0.7000 0.7000    0.9172 0.8138 0.9807\n",
       "0.8000 0.8000    0.9057 0.7753 0.9858\n",
       "0.9000 0.9000    0.8880 0.7208 0.9907"
      ]
     },
     "execution_count": 159,
     "metadata": {},
     "output_type": "execute_result"
    }
   ],
   "source": [
    "# Now let's calculate accuracy sensitivity and specificity for various probability cutoffs.\n",
    "cutoff_df = pd.DataFrame( columns = ['prob','accuracy','sensi','speci'])\n",
    "from sklearn.metrics import confusion_matrix\n",
    "\n",
    "# TP = confusion[1,1] # true positive \n",
    "# TN = confusion[0,0] # true negatives\n",
    "# FP = confusion[0,1] # false positives\n",
    "# FN = confusion[1,0] # false negatives\n",
    "\n",
    "num = [0.0,0.1,0.2,0.3,0.4,0.5,0.6,0.7,0.8,0.9]\n",
    "for i in num:\n",
    "    cm1 = metrics.confusion_matrix(y_train_pred_final.Converted, y_train_pred_final[i] )\n",
    "    total1=sum(sum(cm1))\n",
    "    accuracy = (cm1[0,0]+cm1[1,1])/total1\n",
    "    \n",
    "    speci = cm1[0,0]/(cm1[0,0]+cm1[0,1])\n",
    "    sensi = cm1[1,1]/(cm1[1,0]+cm1[1,1])\n",
    "    cutoff_df.loc[i] =[ i ,accuracy,sensi,speci]\n",
    "cutoff_df"
   ]
  },
  {
   "cell_type": "code",
   "execution_count": 160,
   "metadata": {
    "execution": {
     "iopub.execute_input": "2023-04-17T13:29:47.287434Z",
     "iopub.status.busy": "2023-04-17T13:29:47.287245Z",
     "iopub.status.idle": "2023-04-17T13:29:47.446689Z",
     "shell.execute_reply": "2023-04-17T13:29:47.446047Z",
     "shell.execute_reply.started": "2023-04-17T13:29:47.287408Z"
    },
    "scrolled": true
   },
   "outputs": [
    {
     "data": {
      "image/png": "[encoded data removed]",
      "text/plain": [
       "<Figure size 432x288 with 1 Axes>"
      ]
     },
     "metadata": {
      "needs_background": "light"
     },
     "output_type": "display_data"
    }
   ],
   "source": [
    "# Let's plot accuracy sensitivity and specificity for various probabilities.\n",
    "cutoff_df.plot.line(x='prob', y=['accuracy','sensi','speci'])\n",
    "plt.show()"
   ]
  },
  {
   "cell_type": "markdown",
   "metadata": {},
   "source": [
    "<div class=\"alert alert-block alert-info\"><b>Inference</b>\n",
    "<br>From the curve above, 0.3 is the optimum point to take as a cutoff probability\n",
    "</div>"
   ]
  },
  {
   "cell_type": "code",
   "execution_count": 161,
   "metadata": {
    "execution": {
     "iopub.execute_input": "2023-04-17T13:29:47.448286Z",
     "iopub.status.busy": "2023-04-17T13:29:47.447950Z",
     "iopub.status.idle": "2023-04-17T13:29:47.455533Z",
     "shell.execute_reply": "2023-04-17T13:29:47.454919Z",
     "shell.execute_reply.started": "2023-04-17T13:29:47.448244Z"
    }
   },
   "outputs": [],
   "source": [
    "#Final prediction using the optimal cutoff of probability\n",
    "\n",
    "y_train_pred_final['final_Predicted'] = y_train_pred_final.Converted_prob.map( lambda x: 1 if x > 0.3 else 0)\n",
    "\n"
   ]
  },
  {
   "cell_type": "code",
   "execution_count": 162,
   "metadata": {
    "execution": {
     "iopub.execute_input": "2023-04-17T13:29:47.456940Z",
     "iopub.status.busy": "2023-04-17T13:29:47.456618Z",
     "iopub.status.idle": "2023-04-17T13:29:47.489239Z",
     "shell.execute_reply": "2023-04-17T13:29:47.488563Z",
     "shell.execute_reply.started": "2023-04-17T13:29:47.456913Z"
    }
   },
   "outputs": [
    {
     "data": {
      "text/html": [
       "<div>\n",
       "<style scoped>\n",
       "    .dataframe tbody tr th:only-of-type {\n",
       "        vertical-align: middle;\n",
       "    }\n",
       "\n",
       "    .dataframe tbody tr th {\n",
       "        vertical-align: top;\n",
       "    }\n",
       "\n",
       "    .dataframe thead th {\n",
       "        text-align: right;\n",
       "    }\n",
       "</style>\n",
       "<table border=\"1\" class=\"dataframe\">\n",
       "  <thead>\n",
       "    <tr style=\"text-align: right;\">\n",
       "      <th></th>\n",
       "      <th>Converted</th>\n",
       "      <th>Converted_prob</th>\n",
       "      <th>Prospect ID</th>\n",
       "      <th>Predicted</th>\n",
       "      <th>0.0</th>\n",
       "      <th>0.1</th>\n",
       "      <th>0.2</th>\n",
       "      <th>0.3</th>\n",
       "      <th>0.4</th>\n",
       "      <th>0.5</th>\n",
       "      <th>0.6</th>\n",
       "      <th>0.7</th>\n",
       "      <th>0.8</th>\n",
       "      <th>0.9</th>\n",
       "      <th>final_Predicted</th>\n",
       "    </tr>\n",
       "  </thead>\n",
       "  <tbody>\n",
       "    <tr>\n",
       "      <th>0</th>\n",
       "      <td>1</td>\n",
       "      <td>0.2854</td>\n",
       "      <td>9196</td>\n",
       "      <td>0</td>\n",
       "      <td>1</td>\n",
       "      <td>1</td>\n",
       "      <td>1</td>\n",
       "      <td>0</td>\n",
       "      <td>0</td>\n",
       "      <td>0</td>\n",
       "      <td>0</td>\n",
       "      <td>0</td>\n",
       "      <td>0</td>\n",
       "      <td>0</td>\n",
       "      <td>0</td>\n",
       "    </tr>\n",
       "    <tr>\n",
       "      <th>1</th>\n",
       "      <td>0</td>\n",
       "      <td>0.0326</td>\n",
       "      <td>4696</td>\n",
       "      <td>0</td>\n",
       "      <td>1</td>\n",
       "      <td>0</td>\n",
       "      <td>0</td>\n",
       "      <td>0</td>\n",
       "      <td>0</td>\n",
       "      <td>0</td>\n",
       "      <td>0</td>\n",
       "      <td>0</td>\n",
       "      <td>0</td>\n",
       "      <td>0</td>\n",
       "      <td>0</td>\n",
       "    </tr>\n",
       "    <tr>\n",
       "      <th>2</th>\n",
       "      <td>0</td>\n",
       "      <td>0.5796</td>\n",
       "      <td>3274</td>\n",
       "      <td>1</td>\n",
       "      <td>1</td>\n",
       "      <td>1</td>\n",
       "      <td>1</td>\n",
       "      <td>1</td>\n",
       "      <td>1</td>\n",
       "      <td>1</td>\n",
       "      <td>0</td>\n",
       "      <td>0</td>\n",
       "      <td>0</td>\n",
       "      <td>0</td>\n",
       "      <td>1</td>\n",
       "    </tr>\n",
       "    <tr>\n",
       "      <th>3</th>\n",
       "      <td>0</td>\n",
       "      <td>0.0069</td>\n",
       "      <td>2164</td>\n",
       "      <td>0</td>\n",
       "      <td>1</td>\n",
       "      <td>0</td>\n",
       "      <td>0</td>\n",
       "      <td>0</td>\n",
       "      <td>0</td>\n",
       "      <td>0</td>\n",
       "      <td>0</td>\n",
       "      <td>0</td>\n",
       "      <td>0</td>\n",
       "      <td>0</td>\n",
       "      <td>0</td>\n",
       "    </tr>\n",
       "    <tr>\n",
       "      <th>4</th>\n",
       "      <td>1</td>\n",
       "      <td>0.9883</td>\n",
       "      <td>1667</td>\n",
       "      <td>1</td>\n",
       "      <td>1</td>\n",
       "      <td>1</td>\n",
       "      <td>1</td>\n",
       "      <td>1</td>\n",
       "      <td>1</td>\n",
       "      <td>1</td>\n",
       "      <td>1</td>\n",
       "      <td>1</td>\n",
       "      <td>1</td>\n",
       "      <td>1</td>\n",
       "      <td>1</td>\n",
       "    </tr>\n",
       "    <tr>\n",
       "      <th>5</th>\n",
       "      <td>0</td>\n",
       "      <td>0.1368</td>\n",
       "      <td>7024</td>\n",
       "      <td>0</td>\n",
       "      <td>1</td>\n",
       "      <td>1</td>\n",
       "      <td>0</td>\n",
       "      <td>0</td>\n",
       "      <td>0</td>\n",
       "      <td>0</td>\n",
       "      <td>0</td>\n",
       "      <td>0</td>\n",
       "      <td>0</td>\n",
       "      <td>0</td>\n",
       "      <td>0</td>\n",
       "    </tr>\n",
       "    <tr>\n",
       "      <th>6</th>\n",
       "      <td>0</td>\n",
       "      <td>0.0260</td>\n",
       "      <td>8018</td>\n",
       "      <td>0</td>\n",
       "      <td>1</td>\n",
       "      <td>0</td>\n",
       "      <td>0</td>\n",
       "      <td>0</td>\n",
       "      <td>0</td>\n",
       "      <td>0</td>\n",
       "      <td>0</td>\n",
       "      <td>0</td>\n",
       "      <td>0</td>\n",
       "      <td>0</td>\n",
       "      <td>0</td>\n",
       "    </tr>\n",
       "    <tr>\n",
       "      <th>7</th>\n",
       "      <td>0</td>\n",
       "      <td>0.2144</td>\n",
       "      <td>778</td>\n",
       "      <td>0</td>\n",
       "      <td>1</td>\n",
       "      <td>1</td>\n",
       "      <td>1</td>\n",
       "      <td>0</td>\n",
       "      <td>0</td>\n",
       "      <td>0</td>\n",
       "      <td>0</td>\n",
       "      <td>0</td>\n",
       "      <td>0</td>\n",
       "      <td>0</td>\n",
       "      <td>0</td>\n",
       "    </tr>\n",
       "    <tr>\n",
       "      <th>8</th>\n",
       "      <td>0</td>\n",
       "      <td>0.0032</td>\n",
       "      <td>6942</td>\n",
       "      <td>0</td>\n",
       "      <td>1</td>\n",
       "      <td>0</td>\n",
       "      <td>0</td>\n",
       "      <td>0</td>\n",
       "      <td>0</td>\n",
       "      <td>0</td>\n",
       "      <td>0</td>\n",
       "      <td>0</td>\n",
       "      <td>0</td>\n",
       "      <td>0</td>\n",
       "      <td>0</td>\n",
       "    </tr>\n",
       "    <tr>\n",
       "      <th>9</th>\n",
       "      <td>0</td>\n",
       "      <td>0.1020</td>\n",
       "      <td>4440</td>\n",
       "      <td>0</td>\n",
       "      <td>1</td>\n",
       "      <td>1</td>\n",
       "      <td>0</td>\n",
       "      <td>0</td>\n",
       "      <td>0</td>\n",
       "      <td>0</td>\n",
       "      <td>0</td>\n",
       "      <td>0</td>\n",
       "      <td>0</td>\n",
       "      <td>0</td>\n",
       "      <td>0</td>\n",
       "    </tr>\n",
       "    <tr>\n",
       "      <th>10</th>\n",
       "      <td>1</td>\n",
       "      <td>0.1368</td>\n",
       "      <td>4393</td>\n",
       "      <td>0</td>\n",
       "      <td>1</td>\n",
       "      <td>1</td>\n",
       "      <td>0</td>\n",
       "      <td>0</td>\n",
       "      <td>0</td>\n",
       "      <td>0</td>\n",
       "      <td>0</td>\n",
       "      <td>0</td>\n",
       "      <td>0</td>\n",
       "      <td>0</td>\n",
       "      <td>0</td>\n",
       "    </tr>\n",
       "    <tr>\n",
       "      <th>11</th>\n",
       "      <td>0</td>\n",
       "      <td>0.2292</td>\n",
       "      <td>989</td>\n",
       "      <td>0</td>\n",
       "      <td>1</td>\n",
       "      <td>1</td>\n",
       "      <td>1</td>\n",
       "      <td>0</td>\n",
       "      <td>0</td>\n",
       "      <td>0</td>\n",
       "      <td>0</td>\n",
       "      <td>0</td>\n",
       "      <td>0</td>\n",
       "      <td>0</td>\n",
       "      <td>0</td>\n",
       "    </tr>\n",
       "    <tr>\n",
       "      <th>12</th>\n",
       "      <td>1</td>\n",
       "      <td>0.8123</td>\n",
       "      <td>7177</td>\n",
       "      <td>1</td>\n",
       "      <td>1</td>\n",
       "      <td>1</td>\n",
       "      <td>1</td>\n",
       "      <td>1</td>\n",
       "      <td>1</td>\n",
       "      <td>1</td>\n",
       "      <td>1</td>\n",
       "      <td>1</td>\n",
       "      <td>1</td>\n",
       "      <td>0</td>\n",
       "      <td>1</td>\n",
       "    </tr>\n",
       "    <tr>\n",
       "      <th>13</th>\n",
       "      <td>0</td>\n",
       "      <td>0.0032</td>\n",
       "      <td>8898</td>\n",
       "      <td>0</td>\n",
       "      <td>1</td>\n",
       "      <td>0</td>\n",
       "      <td>0</td>\n",
       "      <td>0</td>\n",
       "      <td>0</td>\n",
       "      <td>0</td>\n",
       "      <td>0</td>\n",
       "      <td>0</td>\n",
       "      <td>0</td>\n",
       "      <td>0</td>\n",
       "      <td>0</td>\n",
       "    </tr>\n",
       "    <tr>\n",
       "      <th>14</th>\n",
       "      <td>1</td>\n",
       "      <td>0.9978</td>\n",
       "      <td>2714</td>\n",
       "      <td>1</td>\n",
       "      <td>1</td>\n",
       "      <td>1</td>\n",
       "      <td>1</td>\n",
       "      <td>1</td>\n",
       "      <td>1</td>\n",
       "      <td>1</td>\n",
       "      <td>1</td>\n",
       "      <td>1</td>\n",
       "      <td>1</td>\n",
       "      <td>1</td>\n",
       "      <td>1</td>\n",
       "    </tr>\n",
       "    <tr>\n",
       "      <th>15</th>\n",
       "      <td>1</td>\n",
       "      <td>0.9616</td>\n",
       "      <td>4881</td>\n",
       "      <td>1</td>\n",
       "      <td>1</td>\n",
       "      <td>1</td>\n",
       "      <td>1</td>\n",
       "      <td>1</td>\n",
       "      <td>1</td>\n",
       "      <td>1</td>\n",
       "      <td>1</td>\n",
       "      <td>1</td>\n",
       "      <td>1</td>\n",
       "      <td>1</td>\n",
       "      <td>1</td>\n",
       "    </tr>\n",
       "    <tr>\n",
       "      <th>16</th>\n",
       "      <td>1</td>\n",
       "      <td>0.8878</td>\n",
       "      <td>2900</td>\n",
       "      <td>1</td>\n",
       "      <td>1</td>\n",
       "      <td>1</td>\n",
       "      <td>1</td>\n",
       "      <td>1</td>\n",
       "      <td>1</td>\n",
       "      <td>1</td>\n",
       "      <td>1</td>\n",
       "      <td>1</td>\n",
       "      <td>1</td>\n",
       "      <td>0</td>\n",
       "      <td>1</td>\n",
       "    </tr>\n",
       "    <tr>\n",
       "      <th>17</th>\n",
       "      <td>1</td>\n",
       "      <td>0.9284</td>\n",
       "      <td>1067</td>\n",
       "      <td>1</td>\n",
       "      <td>1</td>\n",
       "      <td>1</td>\n",
       "      <td>1</td>\n",
       "      <td>1</td>\n",
       "      <td>1</td>\n",
       "      <td>1</td>\n",
       "      <td>1</td>\n",
       "      <td>1</td>\n",
       "      <td>1</td>\n",
       "      <td>1</td>\n",
       "      <td>1</td>\n",
       "    </tr>\n",
       "    <tr>\n",
       "      <th>18</th>\n",
       "      <td>0</td>\n",
       "      <td>0.0025</td>\n",
       "      <td>8752</td>\n",
       "      <td>0</td>\n",
       "      <td>1</td>\n",
       "      <td>0</td>\n",
       "      <td>0</td>\n",
       "      <td>0</td>\n",
       "      <td>0</td>\n",
       "      <td>0</td>\n",
       "      <td>0</td>\n",
       "      <td>0</td>\n",
       "      <td>0</td>\n",
       "      <td>0</td>\n",
       "      <td>0</td>\n",
       "    </tr>\n",
       "    <tr>\n",
       "      <th>19</th>\n",
       "      <td>0</td>\n",
       "      <td>0.0007</td>\n",
       "      <td>6948</td>\n",
       "      <td>0</td>\n",
       "      <td>1</td>\n",
       "      <td>0</td>\n",
       "      <td>0</td>\n",
       "      <td>0</td>\n",
       "      <td>0</td>\n",
       "      <td>0</td>\n",
       "      <td>0</td>\n",
       "      <td>0</td>\n",
       "      <td>0</td>\n",
       "      <td>0</td>\n",
       "      <td>0</td>\n",
       "    </tr>\n",
       "    <tr>\n",
       "      <th>20</th>\n",
       "      <td>0</td>\n",
       "      <td>0.0054</td>\n",
       "      <td>509</td>\n",
       "      <td>0</td>\n",
       "      <td>1</td>\n",
       "      <td>0</td>\n",
       "      <td>0</td>\n",
       "      <td>0</td>\n",
       "      <td>0</td>\n",
       "      <td>0</td>\n",
       "      <td>0</td>\n",
       "      <td>0</td>\n",
       "      <td>0</td>\n",
       "      <td>0</td>\n",
       "      <td>0</td>\n",
       "    </tr>\n",
       "    <tr>\n",
       "      <th>21</th>\n",
       "      <td>1</td>\n",
       "      <td>0.9771</td>\n",
       "      <td>2197</td>\n",
       "      <td>1</td>\n",
       "      <td>1</td>\n",
       "      <td>1</td>\n",
       "      <td>1</td>\n",
       "      <td>1</td>\n",
       "      <td>1</td>\n",
       "      <td>1</td>\n",
       "      <td>1</td>\n",
       "      <td>1</td>\n",
       "      <td>1</td>\n",
       "      <td>1</td>\n",
       "      <td>1</td>\n",
       "    </tr>\n",
       "    <tr>\n",
       "      <th>22</th>\n",
       "      <td>0</td>\n",
       "      <td>0.1368</td>\n",
       "      <td>3129</td>\n",
       "      <td>0</td>\n",
       "      <td>1</td>\n",
       "      <td>1</td>\n",
       "      <td>0</td>\n",
       "      <td>0</td>\n",
       "      <td>0</td>\n",
       "      <td>0</td>\n",
       "      <td>0</td>\n",
       "      <td>0</td>\n",
       "      <td>0</td>\n",
       "      <td>0</td>\n",
       "      <td>0</td>\n",
       "    </tr>\n",
       "    <tr>\n",
       "      <th>23</th>\n",
       "      <td>0</td>\n",
       "      <td>0.0128</td>\n",
       "      <td>7976</td>\n",
       "      <td>0</td>\n",
       "      <td>1</td>\n",
       "      <td>0</td>\n",
       "      <td>0</td>\n",
       "      <td>0</td>\n",
       "      <td>0</td>\n",
       "      <td>0</td>\n",
       "      <td>0</td>\n",
       "      <td>0</td>\n",
       "      <td>0</td>\n",
       "      <td>0</td>\n",
       "      <td>0</td>\n",
       "    </tr>\n",
       "    <tr>\n",
       "      <th>24</th>\n",
       "      <td>1</td>\n",
       "      <td>0.9968</td>\n",
       "      <td>6999</td>\n",
       "      <td>1</td>\n",
       "      <td>1</td>\n",
       "      <td>1</td>\n",
       "      <td>1</td>\n",
       "      <td>1</td>\n",
       "      <td>1</td>\n",
       "      <td>1</td>\n",
       "      <td>1</td>\n",
       "      <td>1</td>\n",
       "      <td>1</td>\n",
       "      <td>1</td>\n",
       "      <td>1</td>\n",
       "    </tr>\n",
       "    <tr>\n",
       "      <th>25</th>\n",
       "      <td>1</td>\n",
       "      <td>0.9836</td>\n",
       "      <td>1010</td>\n",
       "      <td>1</td>\n",
       "      <td>1</td>\n",
       "      <td>1</td>\n",
       "      <td>1</td>\n",
       "      <td>1</td>\n",
       "      <td>1</td>\n",
       "      <td>1</td>\n",
       "      <td>1</td>\n",
       "      <td>1</td>\n",
       "      <td>1</td>\n",
       "      <td>1</td>\n",
       "      <td>1</td>\n",
       "    </tr>\n",
       "    <tr>\n",
       "      <th>26</th>\n",
       "      <td>0</td>\n",
       "      <td>0.0030</td>\n",
       "      <td>5627</td>\n",
       "      <td>0</td>\n",
       "      <td>1</td>\n",
       "      <td>0</td>\n",
       "      <td>0</td>\n",
       "      <td>0</td>\n",
       "      <td>0</td>\n",
       "      <td>0</td>\n",
       "      <td>0</td>\n",
       "      <td>0</td>\n",
       "      <td>0</td>\n",
       "      <td>0</td>\n",
       "      <td>0</td>\n",
       "    </tr>\n",
       "    <tr>\n",
       "      <th>27</th>\n",
       "      <td>0</td>\n",
       "      <td>0.0260</td>\n",
       "      <td>7572</td>\n",
       "      <td>0</td>\n",
       "      <td>1</td>\n",
       "      <td>0</td>\n",
       "      <td>0</td>\n",
       "      <td>0</td>\n",
       "      <td>0</td>\n",
       "      <td>0</td>\n",
       "      <td>0</td>\n",
       "      <td>0</td>\n",
       "      <td>0</td>\n",
       "      <td>0</td>\n",
       "      <td>0</td>\n",
       "    </tr>\n",
       "    <tr>\n",
       "      <th>28</th>\n",
       "      <td>0</td>\n",
       "      <td>0.0481</td>\n",
       "      <td>6549</td>\n",
       "      <td>0</td>\n",
       "      <td>1</td>\n",
       "      <td>0</td>\n",
       "      <td>0</td>\n",
       "      <td>0</td>\n",
       "      <td>0</td>\n",
       "      <td>0</td>\n",
       "      <td>0</td>\n",
       "      <td>0</td>\n",
       "      <td>0</td>\n",
       "      <td>0</td>\n",
       "      <td>0</td>\n",
       "    </tr>\n",
       "    <tr>\n",
       "      <th>29</th>\n",
       "      <td>0</td>\n",
       "      <td>0.0157</td>\n",
       "      <td>3889</td>\n",
       "      <td>0</td>\n",
       "      <td>1</td>\n",
       "      <td>0</td>\n",
       "      <td>0</td>\n",
       "      <td>0</td>\n",
       "      <td>0</td>\n",
       "      <td>0</td>\n",
       "      <td>0</td>\n",
       "      <td>0</td>\n",
       "      <td>0</td>\n",
       "      <td>0</td>\n",
       "      <td>0</td>\n",
       "    </tr>\n",
       "  </tbody>\n",
       "</table>\n",
       "</div>"
      ],
      "text/plain": [
       "    Converted  Converted_prob  Prospect ID  Predicted  0.0  0.1  0.2  0.3  \\\n",
       "0           1          0.2854         9196          0    1    1    1    0   \n",
       "1           0          0.0326         4696          0    1    0    0    0   \n",
       "2           0          0.5796         3274          1    1    1    1    1   \n",
       "3           0          0.0069         2164          0    1    0    0    0   \n",
       "4           1          0.9883         1667          1    1    1    1    1   \n",
       "5           0          0.1368         7024          0    1    1    0    0   \n",
       "6           0          0.0260         8018          0    1    0    0    0   \n",
       "7           0          0.2144          778          0    1    1    1    0   \n",
       "8           0          0.0032         6942          0    1    0    0    0   \n",
       "9           0          0.1020         4440          0    1    1    0    0   \n",
       "10          1          0.1368         4393          0    1    1    0    0   \n",
       "11          0          0.2292          989          0    1    1    1    0   \n",
       "12          1          0.8123         7177          1    1    1    1    1   \n",
       "13          0          0.0032         8898          0    1    0    0    0   \n",
       "14          1          0.9978         2714          1    1    1    1    1   \n",
       "15          1          0.9616         4881          1    1    1    1    1   \n",
       "16          1          0.8878         2900          1    1    1    1    1   \n",
       "17          1          0.9284         1067          1    1    1    1    1   \n",
       "18          0          0.0025         8752          0    1    0    0    0   \n",
       "19          0          0.0007         6948          0    1    0    0    0   \n",
       "20          0          0.0054          509          0    1    0    0    0   \n",
       "21          1          0.9771         2197          1    1    1    1    1   \n",
       "22          0          0.1368         3129          0    1    1    0    0   \n",
       "23          0          0.0128         7976          0    1    0    0    0   \n",
       "24          1          0.9968         6999          1    1    1    1    1   \n",
       "25          1          0.9836         1010          1    1    1    1    1   \n",
       "26          0          0.0030         5627          0    1    0    0    0   \n",
       "27          0          0.0260         7572          0    1    0    0    0   \n",
       "28          0          0.0481         6549          0    1    0    0    0   \n",
       "29          0          0.0157         3889          0    1    0    0    0   \n",
       "\n",
       "    0.4  0.5  0.6  0.7  0.8  0.9  final_Predicted  \n",
       "0     0    0    0    0    0    0                0  \n",
       "1     0    0    0    0    0    0                0  \n",
       "2     1    1    0    0    0    0                1  \n",
       "3     0    0    0    0    0    0                0  \n",
       "4     1    1    1    1    1    1                1  \n",
       "5     0    0    0    0    0    0                0  \n",
       "6     0    0    0    0    0    0                0  \n",
       "7     0    0    0    0    0    0                0  \n",
       "8     0    0    0    0    0    0                0  \n",
       "9     0    0    0    0    0    0                0  \n",
       "10    0    0    0    0    0    0                0  \n",
       "11    0    0    0    0    0    0                0  \n",
       "12    1    1    1    1    1    0                1  \n",
       "13    0    0    0    0    0    0                0  \n",
       "14    1    1    1    1    1    1                1  \n",
       "15    1    1    1    1    1    1                1  \n",
       "16    1    1    1    1    1    0                1  \n",
       "17    1    1    1    1    1    1                1  \n",
       "18    0    0    0    0    0    0                0  \n",
       "19    0    0    0    0    0    0                0  \n",
       "20    0    0    0    0    0    0                0  \n",
       "21    1    1    1    1    1    1                1  \n",
       "22    0    0    0    0    0    0                0  \n",
       "23    0    0    0    0    0    0                0  \n",
       "24    1    1    1    1    1    1                1  \n",
       "25    1    1    1    1    1    1                1  \n",
       "26    0    0    0    0    0    0                0  \n",
       "27    0    0    0    0    0    0                0  \n",
       "28    0    0    0    0    0    0                0  \n",
       "29    0    0    0    0    0    0                0  "
      ]
     },
     "execution_count": 162,
     "metadata": {},
     "output_type": "execute_result"
    }
   ],
   "source": [
    "y_train_pred_final.head(30)"
   ]
  },
  {
   "cell_type": "code",
   "execution_count": 163,
   "metadata": {
    "execution": {
     "iopub.execute_input": "2023-04-17T13:29:47.490695Z",
     "iopub.status.busy": "2023-04-17T13:29:47.490383Z",
     "iopub.status.idle": "2023-04-17T13:29:47.509376Z",
     "shell.execute_reply": "2023-04-17T13:29:47.508714Z",
     "shell.execute_reply.started": "2023-04-17T13:29:47.490668Z"
    }
   },
   "outputs": [
    {
     "data": {
      "text/html": [
       "<div>\n",
       "<style scoped>\n",
       "    .dataframe tbody tr th:only-of-type {\n",
       "        vertical-align: middle;\n",
       "    }\n",
       "\n",
       "    .dataframe tbody tr th {\n",
       "        vertical-align: top;\n",
       "    }\n",
       "\n",
       "    .dataframe thead th {\n",
       "        text-align: right;\n",
       "    }\n",
       "</style>\n",
       "<table border=\"1\" class=\"dataframe\">\n",
       "  <thead>\n",
       "    <tr style=\"text-align: right;\">\n",
       "      <th></th>\n",
       "      <th>Converted</th>\n",
       "      <th>Converted_prob</th>\n",
       "      <th>Prospect ID</th>\n",
       "      <th>final_Predicted</th>\n",
       "      <th>Lead_Score</th>\n",
       "    </tr>\n",
       "  </thead>\n",
       "  <tbody>\n",
       "    <tr>\n",
       "      <th>0</th>\n",
       "      <td>1</td>\n",
       "      <td>0.2854</td>\n",
       "      <td>9196</td>\n",
       "      <td>0</td>\n",
       "      <td>29</td>\n",
       "    </tr>\n",
       "    <tr>\n",
       "      <th>1</th>\n",
       "      <td>0</td>\n",
       "      <td>0.0326</td>\n",
       "      <td>4696</td>\n",
       "      <td>0</td>\n",
       "      <td>3</td>\n",
       "    </tr>\n",
       "    <tr>\n",
       "      <th>2</th>\n",
       "      <td>0</td>\n",
       "      <td>0.5796</td>\n",
       "      <td>3274</td>\n",
       "      <td>1</td>\n",
       "      <td>58</td>\n",
       "    </tr>\n",
       "    <tr>\n",
       "      <th>3</th>\n",
       "      <td>0</td>\n",
       "      <td>0.0069</td>\n",
       "      <td>2164</td>\n",
       "      <td>0</td>\n",
       "      <td>1</td>\n",
       "    </tr>\n",
       "    <tr>\n",
       "      <th>4</th>\n",
       "      <td>1</td>\n",
       "      <td>0.9883</td>\n",
       "      <td>1667</td>\n",
       "      <td>1</td>\n",
       "      <td>99</td>\n",
       "    </tr>\n",
       "  </tbody>\n",
       "</table>\n",
       "</div>"
      ],
      "text/plain": [
       "   Converted  Converted_prob  Prospect ID  final_Predicted  Lead_Score\n",
       "0          1          0.2854         9196                0          29\n",
       "1          0          0.0326         4696                0           3\n",
       "2          0          0.5796         3274                1          58\n",
       "3          0          0.0069         2164                0           1\n",
       "4          1          0.9883         1667                1          99"
      ]
     },
     "execution_count": 163,
     "metadata": {},
     "output_type": "execute_result"
    }
   ],
   "source": [
    "y_train_pred_final['Lead_Score'] = y_train_pred_final.Converted_prob.map( lambda x: round(x*100))\n",
    "\n",
    "y_train_pred_final[['Converted','Converted_prob','Prospect ID','final_Predicted','Lead_Score']].head()"
   ]
  },
  {
   "cell_type": "code",
   "execution_count": 164,
   "metadata": {
    "execution": {
     "iopub.execute_input": "2023-04-17T13:29:47.510835Z",
     "iopub.status.busy": "2023-04-17T13:29:47.510616Z",
     "iopub.status.idle": "2023-04-17T13:29:47.516351Z",
     "shell.execute_reply": "2023-04-17T13:29:47.515755Z",
     "shell.execute_reply.started": "2023-04-17T13:29:47.510810Z"
    }
   },
   "outputs": [
    {
     "data": {
      "text/plain": [
       "0.9237274613052497"
      ]
     },
     "execution_count": 164,
     "metadata": {},
     "output_type": "execute_result"
    }
   ],
   "source": [
    "# Let's check the overall accuracy.\n",
    "metrics.accuracy_score(y_train_pred_final.Converted, y_train_pred_final.final_Predicted)"
   ]
  },
  {
   "cell_type": "code",
   "execution_count": 165,
   "metadata": {
    "execution": {
     "iopub.execute_input": "2023-04-17T13:29:47.517958Z",
     "iopub.status.busy": "2023-04-17T13:29:47.517704Z",
     "iopub.status.idle": "2023-04-17T13:29:47.531756Z",
     "shell.execute_reply": "2023-04-17T13:29:47.531086Z",
     "shell.execute_reply.started": "2023-04-17T13:29:47.517932Z"
    }
   },
   "outputs": [
    {
     "data": {
      "text/plain": [
       "array([[3597,  285],\n",
       "       [ 193, 2192]])"
      ]
     },
     "execution_count": 165,
     "metadata": {},
     "output_type": "execute_result"
    }
   ],
   "source": [
    "confusion2 = metrics.confusion_matrix(y_train_pred_final.Converted, y_train_pred_final.final_Predicted )\n",
    "confusion2"
   ]
  },
  {
   "cell_type": "code",
   "execution_count": 166,
   "metadata": {
    "execution": {
     "iopub.execute_input": "2023-04-17T13:29:47.533040Z",
     "iopub.status.busy": "2023-04-17T13:29:47.532726Z",
     "iopub.status.idle": "2023-04-17T13:29:47.536143Z",
     "shell.execute_reply": "2023-04-17T13:29:47.535619Z",
     "shell.execute_reply.started": "2023-04-17T13:29:47.533014Z"
    }
   },
   "outputs": [],
   "source": [
    "TP = confusion2[1,1] # true positive \n",
    "TN = confusion2[0,0] # true negatives\n",
    "FP = confusion2[0,1] # false positives\n",
    "FN = confusion2[1,0] # false negatives"
   ]
  },
  {
   "cell_type": "code",
   "execution_count": 167,
   "metadata": {
    "execution": {
     "iopub.execute_input": "2023-04-17T13:29:47.537436Z",
     "iopub.status.busy": "2023-04-17T13:29:47.537135Z",
     "iopub.status.idle": "2023-04-17T13:29:47.545213Z",
     "shell.execute_reply": "2023-04-17T13:29:47.544708Z",
     "shell.execute_reply.started": "2023-04-17T13:29:47.537410Z"
    }
   },
   "outputs": [
    {
     "data": {
      "text/plain": [
       "0.919077568134172"
      ]
     },
     "execution_count": 167,
     "metadata": {},
     "output_type": "execute_result"
    }
   ],
   "source": [
    "# Let's see the sensitivity of our logistic regression model\n",
    "TP / float(TP+FN)"
   ]
  },
  {
   "cell_type": "code",
   "execution_count": 168,
   "metadata": {
    "execution": {
     "iopub.execute_input": "2023-04-17T13:29:47.546436Z",
     "iopub.status.busy": "2023-04-17T13:29:47.546217Z",
     "iopub.status.idle": "2023-04-17T13:29:47.553152Z",
     "shell.execute_reply": "2023-04-17T13:29:47.552663Z",
     "shell.execute_reply.started": "2023-04-17T13:29:47.546410Z"
    }
   },
   "outputs": [
    {
     "data": {
      "text/plain": [
       "0.9265842349304482"
      ]
     },
     "execution_count": 168,
     "metadata": {},
     "output_type": "execute_result"
    }
   ],
   "source": [
    "# Let us calculate specificity\n",
    "TN / float(TN+FP)"
   ]
  },
  {
   "cell_type": "markdown",
   "metadata": {},
   "source": [
    "<div class=\"alert alert-block alert-info\"><b>Inference</b>\n",
    "<br>So as we can see above the model seems to be performing well. The ROC curve has a value of 0.97, which is very good. We have the following values for the Train Data:\n",
    "    <li>Accuracy : 92.88%</li><li>Sensitivity : 91.82%</li><li>Specificity : 93.53%</li>\n",
    "\n",
    "</div>"
   ]
  },
  {
   "cell_type": "markdown",
   "metadata": {},
   "source": [
    "#### Some of the other Stats are derived below, indicating the False Positive Rate, Positive Predictive Value,Negative Predictive Values, Precision & Recall.\n",
    "<h4><font color = purple > 5.7 Other Stats</font></h4>"
   ]
  },
  {
   "cell_type": "code",
   "execution_count": 169,
   "metadata": {
    "execution": {
     "iopub.execute_input": "2023-04-17T13:29:47.554534Z",
     "iopub.status.busy": "2023-04-17T13:29:47.554211Z",
     "iopub.status.idle": "2023-04-17T13:29:47.561438Z",
     "shell.execute_reply": "2023-04-17T13:29:47.560958Z",
     "shell.execute_reply.started": "2023-04-17T13:29:47.554506Z"
    }
   },
   "outputs": [
    {
     "name": "stdout",
     "output_type": "stream",
     "text": [
      "0.07341576506955177\n"
     ]
    }
   ],
   "source": [
    "# Calculate False Postive Rate - predicting conversion when customer does not have convert\n",
    "print(FP/ float(TN+FP))"
   ]
  },
  {
   "cell_type": "code",
   "execution_count": 170,
   "metadata": {
    "execution": {
     "iopub.execute_input": "2023-04-17T13:29:47.562855Z",
     "iopub.status.busy": "2023-04-17T13:29:47.562568Z",
     "iopub.status.idle": "2023-04-17T13:29:47.570514Z",
     "shell.execute_reply": "2023-04-17T13:29:47.570010Z",
     "shell.execute_reply.started": "2023-04-17T13:29:47.562829Z"
    }
   },
   "outputs": [
    {
     "name": "stdout",
     "output_type": "stream",
     "text": [
      "0.8849414614452967\n"
     ]
    }
   ],
   "source": [
    "# Positive predictive value \n",
    "print (TP / float(TP+FP))"
   ]
  },
  {
   "cell_type": "code",
   "execution_count": 171,
   "metadata": {
    "execution": {
     "iopub.execute_input": "2023-04-17T13:29:47.571601Z",
     "iopub.status.busy": "2023-04-17T13:29:47.571410Z",
     "iopub.status.idle": "2023-04-17T13:29:47.578974Z",
     "shell.execute_reply": "2023-04-17T13:29:47.578314Z",
     "shell.execute_reply.started": "2023-04-17T13:29:47.571575Z"
    }
   },
   "outputs": [
    {
     "name": "stdout",
     "output_type": "stream",
     "text": [
      "0.9490765171503958\n"
     ]
    }
   ],
   "source": [
    "# Negative predictive value\n",
    "print (TN / float(TN+ FN))"
   ]
  },
  {
   "cell_type": "code",
   "execution_count": 172,
   "metadata": {
    "execution": {
     "iopub.execute_input": "2023-04-17T13:29:47.580133Z",
     "iopub.status.busy": "2023-04-17T13:29:47.579938Z",
     "iopub.status.idle": "2023-04-17T13:29:47.595578Z",
     "shell.execute_reply": "2023-04-17T13:29:47.595061Z",
     "shell.execute_reply.started": "2023-04-17T13:29:47.580107Z"
    }
   },
   "outputs": [
    {
     "data": {
      "text/plain": [
       "array([[3597,  285],\n",
       "       [ 193, 2192]])"
      ]
     },
     "execution_count": 172,
     "metadata": {},
     "output_type": "execute_result"
    }
   ],
   "source": [
    "#Looking at the confusion matrix again\n",
    "\n",
    "confusion3 = metrics.confusion_matrix(y_train_pred_final.Converted, y_train_pred_final.final_Predicted )\n",
    "confusion3"
   ]
  },
  {
   "cell_type": "code",
   "execution_count": 173,
   "metadata": {
    "execution": {
     "iopub.execute_input": "2023-04-17T13:29:47.596809Z",
     "iopub.status.busy": "2023-04-17T13:29:47.596569Z",
     "iopub.status.idle": "2023-04-17T13:29:47.601403Z",
     "shell.execute_reply": "2023-04-17T13:29:47.600943Z",
     "shell.execute_reply.started": "2023-04-17T13:29:47.596784Z"
    }
   },
   "outputs": [
    {
     "data": {
      "text/plain": [
       "0.8849414614452967"
      ]
     },
     "execution_count": 173,
     "metadata": {},
     "output_type": "execute_result"
    }
   ],
   "source": [
    "##### Precision\n",
    "TP / TP + FP\n",
    "\n",
    "confusion3[1,1]/(confusion3[0,1]+confusion3[1,1])"
   ]
  },
  {
   "cell_type": "code",
   "execution_count": 174,
   "metadata": {
    "execution": {
     "iopub.execute_input": "2023-04-17T13:29:47.602506Z",
     "iopub.status.busy": "2023-04-17T13:29:47.602302Z",
     "iopub.status.idle": "2023-04-17T13:29:47.609618Z",
     "shell.execute_reply": "2023-04-17T13:29:47.609141Z",
     "shell.execute_reply.started": "2023-04-17T13:29:47.602480Z"
    }
   },
   "outputs": [
    {
     "data": {
      "text/plain": [
       "0.919077568134172"
      ]
     },
     "execution_count": 174,
     "metadata": {},
     "output_type": "execute_result"
    }
   ],
   "source": [
    "##### Recall\n",
    "TP / TP + FN\n",
    "\n",
    "confusion3[1,1]/(confusion3[1,0]+confusion3[1,1])"
   ]
  },
  {
   "cell_type": "code",
   "execution_count": 175,
   "metadata": {
    "execution": {
     "iopub.execute_input": "2023-04-17T13:29:47.610950Z",
     "iopub.status.busy": "2023-04-17T13:29:47.610710Z",
     "iopub.status.idle": "2023-04-17T13:29:47.618400Z",
     "shell.execute_reply": "2023-04-17T13:29:47.617656Z",
     "shell.execute_reply.started": "2023-04-17T13:29:47.610923Z"
    }
   },
   "outputs": [],
   "source": [
    "from sklearn.metrics import precision_score, recall_score"
   ]
  },
  {
   "cell_type": "code",
   "execution_count": 176,
   "metadata": {
    "execution": {
     "iopub.execute_input": "2023-04-17T13:29:47.619518Z",
     "iopub.status.busy": "2023-04-17T13:29:47.619338Z",
     "iopub.status.idle": "2023-04-17T13:29:47.628608Z",
     "shell.execute_reply": "2023-04-17T13:29:47.627914Z",
     "shell.execute_reply.started": "2023-04-17T13:29:47.619494Z"
    }
   },
   "outputs": [
    {
     "data": {
      "text/plain": [
       "0.8849414614452967"
      ]
     },
     "execution_count": 176,
     "metadata": {},
     "output_type": "execute_result"
    }
   ],
   "source": [
    "precision_score(y_train_pred_final.Converted , y_train_pred_final.final_Predicted)"
   ]
  },
  {
   "cell_type": "code",
   "execution_count": 177,
   "metadata": {
    "execution": {
     "iopub.execute_input": "2023-04-17T13:29:47.629814Z",
     "iopub.status.busy": "2023-04-17T13:29:47.629629Z",
     "iopub.status.idle": "2023-04-17T13:29:47.636842Z",
     "shell.execute_reply": "2023-04-17T13:29:47.636326Z",
     "shell.execute_reply.started": "2023-04-17T13:29:47.629789Z"
    }
   },
   "outputs": [
    {
     "data": {
      "text/plain": [
       "0.919077568134172"
      ]
     },
     "execution_count": 177,
     "metadata": {},
     "output_type": "execute_result"
    }
   ],
   "source": [
    "recall_score(y_train_pred_final.Converted, y_train_pred_final.final_Predicted)"
   ]
  },
  {
   "cell_type": "code",
   "execution_count": 178,
   "metadata": {
    "execution": {
     "iopub.execute_input": "2023-04-17T13:29:47.638126Z",
     "iopub.status.busy": "2023-04-17T13:29:47.637851Z",
     "iopub.status.idle": "2023-04-17T13:29:47.641540Z",
     "shell.execute_reply": "2023-04-17T13:29:47.640807Z",
     "shell.execute_reply.started": "2023-04-17T13:29:47.638100Z"
    }
   },
   "outputs": [],
   "source": [
    "from sklearn.metrics import precision_recall_curve"
   ]
  },
  {
   "cell_type": "code",
   "execution_count": 179,
   "metadata": {
    "execution": {
     "iopub.execute_input": "2023-04-17T13:29:47.642776Z",
     "iopub.status.busy": "2023-04-17T13:29:47.642536Z",
     "iopub.status.idle": "2023-04-17T13:29:47.651193Z",
     "shell.execute_reply": "2023-04-17T13:29:47.650619Z",
     "shell.execute_reply.started": "2023-04-17T13:29:47.642750Z"
    }
   },
   "outputs": [],
   "source": [
    "y_train_pred_final.Converted, y_train_pred_final.final_Predicted\n",
    "p, r, thresholds = precision_recall_curve(y_train_pred_final.Converted, y_train_pred_final.Converted_prob)"
   ]
  },
  {
   "cell_type": "code",
   "execution_count": 180,
   "metadata": {
    "execution": {
     "iopub.execute_input": "2023-04-17T13:29:47.652596Z",
     "iopub.status.busy": "2023-04-17T13:29:47.652155Z",
     "iopub.status.idle": "2023-04-17T13:29:47.777428Z",
     "shell.execute_reply": "2023-04-17T13:29:47.776822Z",
     "shell.execute_reply.started": "2023-04-17T13:29:47.652568Z"
    }
   },
   "outputs": [
    {
     "data": {
      "image/png": "[encoded data removed]",
      "text/plain": [
       "<Figure size 432x288 with 1 Axes>"
      ]
     },
     "metadata": {
      "needs_background": "light"
     },
     "output_type": "display_data"
    }
   ],
   "source": [
    "plt.plot(thresholds, p[:-1], \"g-\")\n",
    "plt.plot(thresholds, r[:-1], \"r-\")\n",
    "plt.show()"
   ]
  },
  {
   "cell_type": "markdown",
   "metadata": {},
   "source": [
    "## <a id=\"32\">6. Prediction on Test Set</a>\n",
    "<h4><font color = purple > 6.1 Scaling the test data</font></h4>"
   ]
  },
  {
   "cell_type": "code",
   "execution_count": 181,
   "metadata": {
    "execution": {
     "iopub.execute_input": "2023-04-17T13:29:47.778796Z",
     "iopub.status.busy": "2023-04-17T13:29:47.778586Z",
     "iopub.status.idle": "2023-04-17T13:29:48.310130Z",
     "shell.execute_reply": "2023-04-17T13:29:48.309366Z",
     "shell.execute_reply.started": "2023-04-17T13:29:47.778770Z"
    }
   },
   "outputs": [
    {
     "data": {
      "text/html": [
       "<div>\n",
       "<style scoped>\n",
       "    .dataframe tbody tr th:only-of-type {\n",
       "        vertical-align: middle;\n",
       "    }\n",
       "\n",
       "    .dataframe tbody tr th {\n",
       "        vertical-align: top;\n",
       "    }\n",
       "\n",
       "    .dataframe thead th {\n",
       "        text-align: right;\n",
       "    }\n",
       "</style>\n",
       "<table border=\"1\" class=\"dataframe\">\n",
       "  <thead>\n",
       "    <tr style=\"text-align: right;\">\n",
       "      <th></th>\n",
       "      <th>TotalVisits</th>\n",
       "      <th>Total Time Spent on Website</th>\n",
       "      <th>Page Views Per Visit</th>\n",
       "      <th>Lead_Origin_Landing Page Submission</th>\n",
       "      <th>Lead_Origin_Lead Add Form</th>\n",
       "      <th>Lead_Origin_Lead Import</th>\n",
       "      <th>Lead Source_Direct Traffic</th>\n",
       "      <th>Lead Source_Google</th>\n",
       "      <th>Lead Source_Olark Chat</th>\n",
       "      <th>Lead Source_Organic Search</th>\n",
       "      <th>Lead Source_Reference</th>\n",
       "      <th>Lead Source_Referral Sites</th>\n",
       "      <th>Lead Source_Social Media</th>\n",
       "      <th>Lead Source_Welingak Website</th>\n",
       "      <th>Do Not Email__1</th>\n",
       "      <th>Last Activity_Converted to Lead</th>\n",
       "      <th>Last Activity_Email Bounced</th>\n",
       "      <th>Last Activity_Email Link Clicked</th>\n",
       "      <th>Last Activity_Email Opened</th>\n",
       "      <th>Last Activity_Form Submitted on Website</th>\n",
       "      <th>Last Activity_Olark Chat Conversation</th>\n",
       "      <th>Last Activity_Page Visited on Website</th>\n",
       "      <th>Last Activity_SMS Sent</th>\n",
       "      <th>Specialize_Banking, Investment And Insurance</th>\n",
       "      <th>Specialize_Business Administration</th>\n",
       "      <th>Specialize_E-Business</th>\n",
       "      <th>Specialize_E-COMMERCE</th>\n",
       "      <th>Specialize_International Business</th>\n",
       "      <th>Specialize_Management_Specializations</th>\n",
       "      <th>Specialize_Media and Advertising</th>\n",
       "      <th>Specialize_Rural and Agribusiness</th>\n",
       "      <th>Specialize_Services Excellence</th>\n",
       "      <th>Specialize_Travel and Tourism</th>\n",
       "      <th>Current Occupation_Businessman</th>\n",
       "      <th>Current Occupation_Housewife</th>\n",
       "      <th>Current Occupation_Other</th>\n",
       "      <th>Current Occupation_Student</th>\n",
       "      <th>Current Occupation_Unemployed</th>\n",
       "      <th>Current Occupation_Working Professional</th>\n",
       "      <th>Tags_Busy</th>\n",
       "      <th>Tags_Closed by Horizzon</th>\n",
       "      <th>Tags_Interested in other courses</th>\n",
       "      <th>Tags_Lost to EINS</th>\n",
       "      <th>Tags_Other_Tags</th>\n",
       "      <th>Tags_Ringing</th>\n",
       "      <th>Tags_Will revert after reading the email</th>\n",
       "      <th>A free copy of Mastering The Interview__1</th>\n",
       "      <th>Last Notable Activity_Email Link Clicked</th>\n",
       "      <th>Last Notable Activity_Email Opened</th>\n",
       "      <th>Last Notable Activity_Modified</th>\n",
       "      <th>Last Notable Activity_Olark Chat Conversation</th>\n",
       "      <th>Last Notable Activity_Page Visited on Website</th>\n",
       "      <th>Last Notable Activity_SMS Sent</th>\n",
       "    </tr>\n",
       "  </thead>\n",
       "  <tbody>\n",
       "    <tr>\n",
       "      <th>7681</th>\n",
       "      <td>0.6689</td>\n",
       "      <td>-0.3044</td>\n",
       "      <td>0.1360</td>\n",
       "      <td>1</td>\n",
       "      <td>0</td>\n",
       "      <td>0</td>\n",
       "      <td>1</td>\n",
       "      <td>0</td>\n",
       "      <td>0</td>\n",
       "      <td>0</td>\n",
       "      <td>0</td>\n",
       "      <td>0</td>\n",
       "      <td>0</td>\n",
       "      <td>0</td>\n",
       "      <td>0</td>\n",
       "      <td>0</td>\n",
       "      <td>0</td>\n",
       "      <td>0</td>\n",
       "      <td>0</td>\n",
       "      <td>0</td>\n",
       "      <td>0</td>\n",
       "      <td>0</td>\n",
       "      <td>1</td>\n",
       "      <td>0</td>\n",
       "      <td>0</td>\n",
       "      <td>0</td>\n",
       "      <td>0</td>\n",
       "      <td>0</td>\n",
       "      <td>1</td>\n",
       "      <td>0</td>\n",
       "      <td>0</td>\n",
       "      <td>0</td>\n",
       "      <td>0</td>\n",
       "      <td>0</td>\n",
       "      <td>0</td>\n",
       "      <td>0</td>\n",
       "      <td>0</td>\n",
       "      <td>1</td>\n",
       "      <td>0</td>\n",
       "      <td>0</td>\n",
       "      <td>0</td>\n",
       "      <td>0</td>\n",
       "      <td>0</td>\n",
       "      <td>0</td>\n",
       "      <td>1</td>\n",
       "      <td>0</td>\n",
       "      <td>1</td>\n",
       "      <td>0</td>\n",
       "      <td>0</td>\n",
       "      <td>0</td>\n",
       "      <td>0</td>\n",
       "      <td>0</td>\n",
       "      <td>1</td>\n",
       "    </tr>\n",
       "    <tr>\n",
       "      <th>984</th>\n",
       "      <td>-0.0307</td>\n",
       "      <td>-0.5381</td>\n",
       "      <td>0.4000</td>\n",
       "      <td>1</td>\n",
       "      <td>0</td>\n",
       "      <td>0</td>\n",
       "      <td>0</td>\n",
       "      <td>0</td>\n",
       "      <td>0</td>\n",
       "      <td>1</td>\n",
       "      <td>0</td>\n",
       "      <td>0</td>\n",
       "      <td>0</td>\n",
       "      <td>0</td>\n",
       "      <td>0</td>\n",
       "      <td>0</td>\n",
       "      <td>0</td>\n",
       "      <td>0</td>\n",
       "      <td>0</td>\n",
       "      <td>0</td>\n",
       "      <td>0</td>\n",
       "      <td>0</td>\n",
       "      <td>1</td>\n",
       "      <td>0</td>\n",
       "      <td>0</td>\n",
       "      <td>0</td>\n",
       "      <td>0</td>\n",
       "      <td>0</td>\n",
       "      <td>1</td>\n",
       "      <td>0</td>\n",
       "      <td>0</td>\n",
       "      <td>0</td>\n",
       "      <td>0</td>\n",
       "      <td>0</td>\n",
       "      <td>0</td>\n",
       "      <td>0</td>\n",
       "      <td>0</td>\n",
       "      <td>1</td>\n",
       "      <td>0</td>\n",
       "      <td>0</td>\n",
       "      <td>0</td>\n",
       "      <td>0</td>\n",
       "      <td>0</td>\n",
       "      <td>1</td>\n",
       "      <td>0</td>\n",
       "      <td>0</td>\n",
       "      <td>1</td>\n",
       "      <td>0</td>\n",
       "      <td>0</td>\n",
       "      <td>1</td>\n",
       "      <td>0</td>\n",
       "      <td>0</td>\n",
       "      <td>0</td>\n",
       "    </tr>\n",
       "    <tr>\n",
       "      <th>8135</th>\n",
       "      <td>-0.3805</td>\n",
       "      <td>0.7947</td>\n",
       "      <td>-0.1280</td>\n",
       "      <td>1</td>\n",
       "      <td>0</td>\n",
       "      <td>0</td>\n",
       "      <td>1</td>\n",
       "      <td>0</td>\n",
       "      <td>0</td>\n",
       "      <td>0</td>\n",
       "      <td>0</td>\n",
       "      <td>0</td>\n",
       "      <td>0</td>\n",
       "      <td>0</td>\n",
       "      <td>1</td>\n",
       "      <td>0</td>\n",
       "      <td>0</td>\n",
       "      <td>0</td>\n",
       "      <td>0</td>\n",
       "      <td>0</td>\n",
       "      <td>0</td>\n",
       "      <td>0</td>\n",
       "      <td>1</td>\n",
       "      <td>0</td>\n",
       "      <td>1</td>\n",
       "      <td>0</td>\n",
       "      <td>0</td>\n",
       "      <td>0</td>\n",
       "      <td>0</td>\n",
       "      <td>0</td>\n",
       "      <td>0</td>\n",
       "      <td>0</td>\n",
       "      <td>0</td>\n",
       "      <td>0</td>\n",
       "      <td>0</td>\n",
       "      <td>0</td>\n",
       "      <td>0</td>\n",
       "      <td>0</td>\n",
       "      <td>0</td>\n",
       "      <td>0</td>\n",
       "      <td>0</td>\n",
       "      <td>0</td>\n",
       "      <td>0</td>\n",
       "      <td>0</td>\n",
       "      <td>0</td>\n",
       "      <td>0</td>\n",
       "      <td>1</td>\n",
       "      <td>0</td>\n",
       "      <td>0</td>\n",
       "      <td>0</td>\n",
       "      <td>0</td>\n",
       "      <td>0</td>\n",
       "      <td>1</td>\n",
       "    </tr>\n",
       "    <tr>\n",
       "      <th>6915</th>\n",
       "      <td>0.3191</td>\n",
       "      <td>-0.6148</td>\n",
       "      <td>-0.1280</td>\n",
       "      <td>1</td>\n",
       "      <td>0</td>\n",
       "      <td>0</td>\n",
       "      <td>0</td>\n",
       "      <td>1</td>\n",
       "      <td>0</td>\n",
       "      <td>0</td>\n",
       "      <td>0</td>\n",
       "      <td>0</td>\n",
       "      <td>0</td>\n",
       "      <td>0</td>\n",
       "      <td>0</td>\n",
       "      <td>0</td>\n",
       "      <td>0</td>\n",
       "      <td>0</td>\n",
       "      <td>1</td>\n",
       "      <td>0</td>\n",
       "      <td>0</td>\n",
       "      <td>0</td>\n",
       "      <td>0</td>\n",
       "      <td>0</td>\n",
       "      <td>0</td>\n",
       "      <td>0</td>\n",
       "      <td>0</td>\n",
       "      <td>0</td>\n",
       "      <td>1</td>\n",
       "      <td>0</td>\n",
       "      <td>0</td>\n",
       "      <td>0</td>\n",
       "      <td>0</td>\n",
       "      <td>0</td>\n",
       "      <td>0</td>\n",
       "      <td>0</td>\n",
       "      <td>0</td>\n",
       "      <td>1</td>\n",
       "      <td>0</td>\n",
       "      <td>0</td>\n",
       "      <td>0</td>\n",
       "      <td>0</td>\n",
       "      <td>0</td>\n",
       "      <td>0</td>\n",
       "      <td>1</td>\n",
       "      <td>0</td>\n",
       "      <td>1</td>\n",
       "      <td>0</td>\n",
       "      <td>1</td>\n",
       "      <td>0</td>\n",
       "      <td>0</td>\n",
       "      <td>0</td>\n",
       "      <td>0</td>\n",
       "    </tr>\n",
       "    <tr>\n",
       "      <th>2712</th>\n",
       "      <td>-0.0307</td>\n",
       "      <td>-0.4121</td>\n",
       "      <td>0.4000</td>\n",
       "      <td>0</td>\n",
       "      <td>0</td>\n",
       "      <td>0</td>\n",
       "      <td>0</td>\n",
       "      <td>1</td>\n",
       "      <td>0</td>\n",
       "      <td>0</td>\n",
       "      <td>0</td>\n",
       "      <td>0</td>\n",
       "      <td>0</td>\n",
       "      <td>0</td>\n",
       "      <td>0</td>\n",
       "      <td>0</td>\n",
       "      <td>0</td>\n",
       "      <td>0</td>\n",
       "      <td>1</td>\n",
       "      <td>0</td>\n",
       "      <td>0</td>\n",
       "      <td>0</td>\n",
       "      <td>0</td>\n",
       "      <td>0</td>\n",
       "      <td>0</td>\n",
       "      <td>0</td>\n",
       "      <td>0</td>\n",
       "      <td>0</td>\n",
       "      <td>0</td>\n",
       "      <td>0</td>\n",
       "      <td>0</td>\n",
       "      <td>0</td>\n",
       "      <td>0</td>\n",
       "      <td>0</td>\n",
       "      <td>0</td>\n",
       "      <td>0</td>\n",
       "      <td>0</td>\n",
       "      <td>1</td>\n",
       "      <td>0</td>\n",
       "      <td>0</td>\n",
       "      <td>0</td>\n",
       "      <td>0</td>\n",
       "      <td>0</td>\n",
       "      <td>0</td>\n",
       "      <td>0</td>\n",
       "      <td>1</td>\n",
       "      <td>0</td>\n",
       "      <td>0</td>\n",
       "      <td>1</td>\n",
       "      <td>0</td>\n",
       "      <td>0</td>\n",
       "      <td>0</td>\n",
       "      <td>0</td>\n",
       "    </tr>\n",
       "  </tbody>\n",
       "</table>\n",
       "</div>"
      ],
      "text/plain": [
       "      TotalVisits  Total Time Spent on Website  Page Views Per Visit  \\\n",
       "7681       0.6689                      -0.3044                0.1360   \n",
       "984       -0.0307                      -0.5381                0.4000   \n",
       "8135      -0.3805                       0.7947               -0.1280   \n",
       "6915       0.3191                      -0.6148               -0.1280   \n",
       "2712      -0.0307                      -0.4121                0.4000   \n",
       "\n",
       "      Lead_Origin_Landing Page Submission  Lead_Origin_Lead Add Form  \\\n",
       "7681                                    1                          0   \n",
       "984                                     1                          0   \n",
       "8135                                    1                          0   \n",
       "6915                                    1                          0   \n",
       "2712                                    0                          0   \n",
       "\n",
       "      Lead_Origin_Lead Import  Lead Source_Direct Traffic  Lead Source_Google  \\\n",
       "7681                        0                           1                   0   \n",
       "984                         0                           0                   0   \n",
       "8135                        0                           1                   0   \n",
       "6915                        0                           0                   1   \n",
       "2712                        0                           0                   1   \n",
       "\n",
       "      Lead Source_Olark Chat  Lead Source_Organic Search  \\\n",
       "7681                       0                           0   \n",
       "984                        0                           1   \n",
       "8135                       0                           0   \n",
       "6915                       0                           0   \n",
       "2712                       0                           0   \n",
       "\n",
       "      Lead Source_Reference  Lead Source_Referral Sites  \\\n",
       "7681                      0                           0   \n",
       "984                       0                           0   \n",
       "8135                      0                           0   \n",
       "6915                      0                           0   \n",
       "2712                      0                           0   \n",
       "\n",
       "      Lead Source_Social Media  Lead Source_Welingak Website  Do Not Email__1  \\\n",
       "7681                         0                             0                0   \n",
       "984                          0                             0                0   \n",
       "8135                         0                             0                1   \n",
       "6915                         0                             0                0   \n",
       "2712                         0                             0                0   \n",
       "\n",
       "      Last Activity_Converted to Lead  Last Activity_Email Bounced  \\\n",
       "7681                                0                            0   \n",
       "984                                 0                            0   \n",
       "8135                                0                            0   \n",
       "6915                                0                            0   \n",
       "2712                                0                            0   \n",
       "\n",
       "      Last Activity_Email Link Clicked  Last Activity_Email Opened  \\\n",
       "7681                                 0                           0   \n",
       "984                                  0                           0   \n",
       "8135                                 0                           0   \n",
       "6915                                 0                           1   \n",
       "2712                                 0                           1   \n",
       "\n",
       "      Last Activity_Form Submitted on Website  \\\n",
       "7681                                        0   \n",
       "984                                         0   \n",
       "8135                                        0   \n",
       "6915                                        0   \n",
       "2712                                        0   \n",
       "\n",
       "      Last Activity_Olark Chat Conversation  \\\n",
       "7681                                      0   \n",
       "984                                       0   \n",
       "8135                                      0   \n",
       "6915                                      0   \n",
       "2712                                      0   \n",
       "\n",
       "      Last Activity_Page Visited on Website  Last Activity_SMS Sent  \\\n",
       "7681                                      0                       1   \n",
       "984                                       0                       1   \n",
       "8135                                      0                       1   \n",
       "6915                                      0                       0   \n",
       "2712                                      0                       0   \n",
       "\n",
       "      Specialize_Banking, Investment And Insurance  \\\n",
       "7681                                             0   \n",
       "984                                              0   \n",
       "8135                                             0   \n",
       "6915                                             0   \n",
       "2712                                             0   \n",
       "\n",
       "      Specialize_Business Administration  Specialize_E-Business  \\\n",
       "7681                                   0                      0   \n",
       "984                                    0                      0   \n",
       "8135                                   1                      0   \n",
       "6915                                   0                      0   \n",
       "2712                                   0                      0   \n",
       "\n",
       "      Specialize_E-COMMERCE  Specialize_International Business  \\\n",
       "7681                      0                                  0   \n",
       "984                       0                                  0   \n",
       "8135                      0                                  0   \n",
       "6915                      0                                  0   \n",
       "2712                      0                                  0   \n",
       "\n",
       "      Specialize_Management_Specializations  Specialize_Media and Advertising  \\\n",
       "7681                                      1                                 0   \n",
       "984                                       1                                 0   \n",
       "8135                                      0                                 0   \n",
       "6915                                      1                                 0   \n",
       "2712                                      0                                 0   \n",
       "\n",
       "      Specialize_Rural and Agribusiness  Specialize_Services Excellence  \\\n",
       "7681                                  0                               0   \n",
       "984                                   0                               0   \n",
       "8135                                  0                               0   \n",
       "6915                                  0                               0   \n",
       "2712                                  0                               0   \n",
       "\n",
       "      Specialize_Travel and Tourism  Current Occupation_Businessman  \\\n",
       "7681                              0                               0   \n",
       "984                               0                               0   \n",
       "8135                              0                               0   \n",
       "6915                              0                               0   \n",
       "2712                              0                               0   \n",
       "\n",
       "      Current Occupation_Housewife  Current Occupation_Other  \\\n",
       "7681                             0                         0   \n",
       "984                              0                         0   \n",
       "8135                             0                         0   \n",
       "6915                             0                         0   \n",
       "2712                             0                         0   \n",
       "\n",
       "      Current Occupation_Student  Current Occupation_Unemployed  \\\n",
       "7681                           0                              1   \n",
       "984                            0                              1   \n",
       "8135                           0                              0   \n",
       "6915                           0                              1   \n",
       "2712                           0                              1   \n",
       "\n",
       "      Current Occupation_Working Professional  Tags_Busy  \\\n",
       "7681                                        0          0   \n",
       "984                                         0          0   \n",
       "8135                                        0          0   \n",
       "6915                                        0          0   \n",
       "2712                                        0          0   \n",
       "\n",
       "      Tags_Closed by Horizzon  Tags_Interested in other courses  \\\n",
       "7681                        0                                 0   \n",
       "984                         0                                 0   \n",
       "8135                        0                                 0   \n",
       "6915                        0                                 0   \n",
       "2712                        0                                 0   \n",
       "\n",
       "      Tags_Lost to EINS  Tags_Other_Tags  Tags_Ringing  \\\n",
       "7681                  0                0             1   \n",
       "984                   0                1             0   \n",
       "8135                  0                0             0   \n",
       "6915                  0                0             1   \n",
       "2712                  0                0             0   \n",
       "\n",
       "      Tags_Will revert after reading the email  \\\n",
       "7681                                         0   \n",
       "984                                          0   \n",
       "8135                                         0   \n",
       "6915                                         0   \n",
       "2712                                         1   \n",
       "\n",
       "      A free copy of Mastering The Interview__1  \\\n",
       "7681                                          1   \n",
       "984                                           1   \n",
       "8135                                          1   \n",
       "6915                                          1   \n",
       "2712                                          0   \n",
       "\n",
       "      Last Notable Activity_Email Link Clicked  \\\n",
       "7681                                         0   \n",
       "984                                          0   \n",
       "8135                                         0   \n",
       "6915                                         0   \n",
       "2712                                         0   \n",
       "\n",
       "      Last Notable Activity_Email Opened  Last Notable Activity_Modified  \\\n",
       "7681                                   0                               0   \n",
       "984                                    0                               1   \n",
       "8135                                   0                               0   \n",
       "6915                                   1                               0   \n",
       "2712                                   1                               0   \n",
       "\n",
       "      Last Notable Activity_Olark Chat Conversation  \\\n",
       "7681                                              0   \n",
       "984                                               0   \n",
       "8135                                              0   \n",
       "6915                                              0   \n",
       "2712                                              0   \n",
       "\n",
       "      Last Notable Activity_Page Visited on Website  \\\n",
       "7681                                              0   \n",
       "984                                               0   \n",
       "8135                                              0   \n",
       "6915                                              0   \n",
       "2712                                              0   \n",
       "\n",
       "      Last Notable Activity_SMS Sent  \n",
       "7681                               1  \n",
       "984                                0  \n",
       "8135                               1  \n",
       "6915                               0  \n",
       "2712                               0  "
      ]
     },
     "execution_count": 181,
     "metadata": {},
     "output_type": "execute_result"
    }
   ],
   "source": [
    "#scaling test set\n",
    "\n",
    "num_cols=X_test.select_dtypes(include=['float64', 'int64']).columns\n",
    "\n",
    "X_test[num_cols] = scaler.transform(X_test[num_cols])\n",
    "\n",
    "X_test.head()"
   ]
  },
  {
   "cell_type": "code",
   "execution_count": 182,
   "metadata": {
    "execution": {
     "iopub.execute_input": "2023-04-17T13:29:48.311648Z",
     "iopub.status.busy": "2023-04-17T13:29:48.311406Z",
     "iopub.status.idle": "2023-04-17T13:29:48.332269Z",
     "shell.execute_reply": "2023-04-17T13:29:48.331596Z",
     "shell.execute_reply.started": "2023-04-17T13:29:48.311620Z"
    }
   },
   "outputs": [
    {
     "data": {
      "text/html": [
       "<div>\n",
       "<style scoped>\n",
       "    .dataframe tbody tr th:only-of-type {\n",
       "        vertical-align: middle;\n",
       "    }\n",
       "\n",
       "    .dataframe tbody tr th {\n",
       "        vertical-align: top;\n",
       "    }\n",
       "\n",
       "    .dataframe thead th {\n",
       "        text-align: right;\n",
       "    }\n",
       "</style>\n",
       "<table border=\"1\" class=\"dataframe\">\n",
       "  <thead>\n",
       "    <tr style=\"text-align: right;\">\n",
       "      <th></th>\n",
       "      <th>Total Time Spent on Website</th>\n",
       "      <th>Lead_Origin_Lead Add Form</th>\n",
       "      <th>Lead Source_Direct Traffic</th>\n",
       "      <th>Lead Source_Welingak Website</th>\n",
       "      <th>Do Not Email__1</th>\n",
       "      <th>Last Activity_SMS Sent</th>\n",
       "      <th>Specialize_Travel and Tourism</th>\n",
       "      <th>Current Occupation_Working Professional</th>\n",
       "      <th>Tags_Busy</th>\n",
       "      <th>Tags_Closed by Horizzon</th>\n",
       "      <th>Tags_Interested in other courses</th>\n",
       "      <th>Tags_Lost to EINS</th>\n",
       "      <th>Tags_Other_Tags</th>\n",
       "      <th>Tags_Ringing</th>\n",
       "      <th>Tags_Will revert after reading the email</th>\n",
       "      <th>Last Notable Activity_Email Link Clicked</th>\n",
       "      <th>Last Notable Activity_Modified</th>\n",
       "      <th>Last Notable Activity_Olark Chat Conversation</th>\n",
       "    </tr>\n",
       "  </thead>\n",
       "  <tbody>\n",
       "    <tr>\n",
       "      <th>7681</th>\n",
       "      <td>-0.3044</td>\n",
       "      <td>0</td>\n",
       "      <td>1</td>\n",
       "      <td>0</td>\n",
       "      <td>0</td>\n",
       "      <td>1</td>\n",
       "      <td>0</td>\n",
       "      <td>0</td>\n",
       "      <td>0</td>\n",
       "      <td>0</td>\n",
       "      <td>0</td>\n",
       "      <td>0</td>\n",
       "      <td>0</td>\n",
       "      <td>1</td>\n",
       "      <td>0</td>\n",
       "      <td>0</td>\n",
       "      <td>0</td>\n",
       "      <td>0</td>\n",
       "    </tr>\n",
       "    <tr>\n",
       "      <th>984</th>\n",
       "      <td>-0.5381</td>\n",
       "      <td>0</td>\n",
       "      <td>0</td>\n",
       "      <td>0</td>\n",
       "      <td>0</td>\n",
       "      <td>1</td>\n",
       "      <td>0</td>\n",
       "      <td>0</td>\n",
       "      <td>0</td>\n",
       "      <td>0</td>\n",
       "      <td>0</td>\n",
       "      <td>0</td>\n",
       "      <td>1</td>\n",
       "      <td>0</td>\n",
       "      <td>0</td>\n",
       "      <td>0</td>\n",
       "      <td>1</td>\n",
       "      <td>0</td>\n",
       "    </tr>\n",
       "    <tr>\n",
       "      <th>8135</th>\n",
       "      <td>0.7947</td>\n",
       "      <td>0</td>\n",
       "      <td>1</td>\n",
       "      <td>0</td>\n",
       "      <td>1</td>\n",
       "      <td>1</td>\n",
       "      <td>0</td>\n",
       "      <td>0</td>\n",
       "      <td>0</td>\n",
       "      <td>0</td>\n",
       "      <td>0</td>\n",
       "      <td>0</td>\n",
       "      <td>0</td>\n",
       "      <td>0</td>\n",
       "      <td>0</td>\n",
       "      <td>0</td>\n",
       "      <td>0</td>\n",
       "      <td>0</td>\n",
       "    </tr>\n",
       "    <tr>\n",
       "      <th>6915</th>\n",
       "      <td>-0.6148</td>\n",
       "      <td>0</td>\n",
       "      <td>0</td>\n",
       "      <td>0</td>\n",
       "      <td>0</td>\n",
       "      <td>0</td>\n",
       "      <td>0</td>\n",
       "      <td>0</td>\n",
       "      <td>0</td>\n",
       "      <td>0</td>\n",
       "      <td>0</td>\n",
       "      <td>0</td>\n",
       "      <td>0</td>\n",
       "      <td>1</td>\n",
       "      <td>0</td>\n",
       "      <td>0</td>\n",
       "      <td>0</td>\n",
       "      <td>0</td>\n",
       "    </tr>\n",
       "    <tr>\n",
       "      <th>2712</th>\n",
       "      <td>-0.4121</td>\n",
       "      <td>0</td>\n",
       "      <td>0</td>\n",
       "      <td>0</td>\n",
       "      <td>0</td>\n",
       "      <td>0</td>\n",
       "      <td>0</td>\n",
       "      <td>0</td>\n",
       "      <td>0</td>\n",
       "      <td>0</td>\n",
       "      <td>0</td>\n",
       "      <td>0</td>\n",
       "      <td>0</td>\n",
       "      <td>0</td>\n",
       "      <td>1</td>\n",
       "      <td>0</td>\n",
       "      <td>0</td>\n",
       "      <td>0</td>\n",
       "    </tr>\n",
       "  </tbody>\n",
       "</table>\n",
       "</div>"
      ],
      "text/plain": [
       "      Total Time Spent on Website  Lead_Origin_Lead Add Form  \\\n",
       "7681                      -0.3044                          0   \n",
       "984                       -0.5381                          0   \n",
       "8135                       0.7947                          0   \n",
       "6915                      -0.6148                          0   \n",
       "2712                      -0.4121                          0   \n",
       "\n",
       "      Lead Source_Direct Traffic  Lead Source_Welingak Website  \\\n",
       "7681                           1                             0   \n",
       "984                            0                             0   \n",
       "8135                           1                             0   \n",
       "6915                           0                             0   \n",
       "2712                           0                             0   \n",
       "\n",
       "      Do Not Email__1  Last Activity_SMS Sent  Specialize_Travel and Tourism  \\\n",
       "7681                0                       1                              0   \n",
       "984                 0                       1                              0   \n",
       "8135                1                       1                              0   \n",
       "6915                0                       0                              0   \n",
       "2712                0                       0                              0   \n",
       "\n",
       "      Current Occupation_Working Professional  Tags_Busy  \\\n",
       "7681                                        0          0   \n",
       "984                                         0          0   \n",
       "8135                                        0          0   \n",
       "6915                                        0          0   \n",
       "2712                                        0          0   \n",
       "\n",
       "      Tags_Closed by Horizzon  Tags_Interested in other courses  \\\n",
       "7681                        0                                 0   \n",
       "984                         0                                 0   \n",
       "8135                        0                                 0   \n",
       "6915                        0                                 0   \n",
       "2712                        0                                 0   \n",
       "\n",
       "      Tags_Lost to EINS  Tags_Other_Tags  Tags_Ringing  \\\n",
       "7681                  0                0             1   \n",
       "984                   0                1             0   \n",
       "8135                  0                0             0   \n",
       "6915                  0                0             1   \n",
       "2712                  0                0             0   \n",
       "\n",
       "      Tags_Will revert after reading the email  \\\n",
       "7681                                         0   \n",
       "984                                          0   \n",
       "8135                                         0   \n",
       "6915                                         0   \n",
       "2712                                         1   \n",
       "\n",
       "      Last Notable Activity_Email Link Clicked  \\\n",
       "7681                                         0   \n",
       "984                                          0   \n",
       "8135                                         0   \n",
       "6915                                         0   \n",
       "2712                                         0   \n",
       "\n",
       "      Last Notable Activity_Modified  \\\n",
       "7681                               0   \n",
       "984                                1   \n",
       "8135                               0   \n",
       "6915                               0   \n",
       "2712                               0   \n",
       "\n",
       "      Last Notable Activity_Olark Chat Conversation  \n",
       "7681                                              0  \n",
       "984                                               0  \n",
       "8135                                              0  \n",
       "6915                                              0  \n",
       "2712                                              0  "
      ]
     },
     "execution_count": 182,
     "metadata": {},
     "output_type": "execute_result"
    }
   ],
   "source": [
    "X_test = X_test[col]\n",
    "X_test.head()"
   ]
  },
  {
   "cell_type": "code",
   "execution_count": 183,
   "metadata": {
    "execution": {
     "iopub.execute_input": "2023-04-17T13:29:48.333604Z",
     "iopub.status.busy": "2023-04-17T13:29:48.333403Z",
     "iopub.status.idle": "2023-04-17T13:29:48.343500Z",
     "shell.execute_reply": "2023-04-17T13:29:48.342659Z",
     "shell.execute_reply.started": "2023-04-17T13:29:48.333579Z"
    }
   },
   "outputs": [],
   "source": [
    "X_test_sm = sm.add_constant(X_test)"
   ]
  },
  {
   "cell_type": "code",
   "execution_count": 184,
   "metadata": {
    "execution": {
     "iopub.execute_input": "2023-04-17T13:29:48.344952Z",
     "iopub.status.busy": "2023-04-17T13:29:48.344679Z",
     "iopub.status.idle": "2023-04-17T13:29:48.360425Z",
     "shell.execute_reply": "2023-04-17T13:29:48.359372Z",
     "shell.execute_reply.started": "2023-04-17T13:29:48.344926Z"
    }
   },
   "outputs": [],
   "source": [
    "y_test_pred = res.predict(X_test_sm)"
   ]
  },
  {
   "cell_type": "code",
   "execution_count": 185,
   "metadata": {
    "execution": {
     "iopub.execute_input": "2023-04-17T13:29:48.362180Z",
     "iopub.status.busy": "2023-04-17T13:29:48.361875Z",
     "iopub.status.idle": "2023-04-17T13:29:48.369990Z",
     "shell.execute_reply": "2023-04-17T13:29:48.368981Z",
     "shell.execute_reply.started": "2023-04-17T13:29:48.362137Z"
    }
   },
   "outputs": [
    {
     "data": {
      "text/plain": [
       "7681   0.0260\n",
       "984    0.0295\n",
       "8135   0.4796\n",
       "6915   0.0064\n",
       "2712   0.9511\n",
       "244    0.0026\n",
       "4698   0.0170\n",
       "8287   0.0307\n",
       "6791   0.9802\n",
       "8970   0.0061\n",
       "dtype: float64"
      ]
     },
     "execution_count": 185,
     "metadata": {},
     "output_type": "execute_result"
    }
   ],
   "source": [
    "y_test_pred[:10]"
   ]
  },
  {
   "cell_type": "code",
   "execution_count": 186,
   "metadata": {
    "execution": {
     "iopub.execute_input": "2023-04-17T13:29:48.371813Z",
     "iopub.status.busy": "2023-04-17T13:29:48.371511Z",
     "iopub.status.idle": "2023-04-17T13:29:48.377064Z",
     "shell.execute_reply": "2023-04-17T13:29:48.375954Z",
     "shell.execute_reply.started": "2023-04-17T13:29:48.371769Z"
    }
   },
   "outputs": [],
   "source": [
    "# Converting y_pred to a dataframe which is an array\n",
    "y_pred_1 = pd.DataFrame(y_test_pred)"
   ]
  },
  {
   "cell_type": "code",
   "execution_count": 187,
   "metadata": {
    "execution": {
     "iopub.execute_input": "2023-04-17T13:29:48.378912Z",
     "iopub.status.busy": "2023-04-17T13:29:48.378600Z",
     "iopub.status.idle": "2023-04-17T13:29:48.393579Z",
     "shell.execute_reply": "2023-04-17T13:29:48.392192Z",
     "shell.execute_reply.started": "2023-04-17T13:29:48.378856Z"
    }
   },
   "outputs": [
    {
     "data": {
      "text/html": [
       "<div>\n",
       "<style scoped>\n",
       "    .dataframe tbody tr th:only-of-type {\n",
       "        vertical-align: middle;\n",
       "    }\n",
       "\n",
       "    .dataframe tbody tr th {\n",
       "        vertical-align: top;\n",
       "    }\n",
       "\n",
       "    .dataframe thead th {\n",
       "        text-align: right;\n",
       "    }\n",
       "</style>\n",
       "<table border=\"1\" class=\"dataframe\">\n",
       "  <thead>\n",
       "    <tr style=\"text-align: right;\">\n",
       "      <th></th>\n",
       "      <th>0</th>\n",
       "    </tr>\n",
       "  </thead>\n",
       "  <tbody>\n",
       "    <tr>\n",
       "      <th>7681</th>\n",
       "      <td>0.0260</td>\n",
       "    </tr>\n",
       "    <tr>\n",
       "      <th>984</th>\n",
       "      <td>0.0295</td>\n",
       "    </tr>\n",
       "    <tr>\n",
       "      <th>8135</th>\n",
       "      <td>0.4796</td>\n",
       "    </tr>\n",
       "    <tr>\n",
       "      <th>6915</th>\n",
       "      <td>0.0064</td>\n",
       "    </tr>\n",
       "    <tr>\n",
       "      <th>2712</th>\n",
       "      <td>0.9511</td>\n",
       "    </tr>\n",
       "  </tbody>\n",
       "</table>\n",
       "</div>"
      ],
      "text/plain": [
       "          0\n",
       "7681 0.0260\n",
       "984  0.0295\n",
       "8135 0.4796\n",
       "6915 0.0064\n",
       "2712 0.9511"
      ]
     },
     "execution_count": 187,
     "metadata": {},
     "output_type": "execute_result"
    }
   ],
   "source": [
    "# Let's see the head\n",
    "y_pred_1.head()"
   ]
  },
  {
   "cell_type": "code",
   "execution_count": 188,
   "metadata": {
    "execution": {
     "iopub.execute_input": "2023-04-17T13:29:48.395333Z",
     "iopub.status.busy": "2023-04-17T13:29:48.395026Z",
     "iopub.status.idle": "2023-04-17T13:29:48.405953Z",
     "shell.execute_reply": "2023-04-17T13:29:48.404981Z",
     "shell.execute_reply.started": "2023-04-17T13:29:48.395289Z"
    }
   },
   "outputs": [],
   "source": [
    "# Converting y_test to dataframe\n",
    "y_test_df = pd.DataFrame(y_test)"
   ]
  },
  {
   "cell_type": "code",
   "execution_count": 189,
   "metadata": {
    "execution": {
     "iopub.execute_input": "2023-04-17T13:29:48.407874Z",
     "iopub.status.busy": "2023-04-17T13:29:48.407560Z",
     "iopub.status.idle": "2023-04-17T13:29:48.417657Z",
     "shell.execute_reply": "2023-04-17T13:29:48.416684Z",
     "shell.execute_reply.started": "2023-04-17T13:29:48.407821Z"
    }
   },
   "outputs": [],
   "source": [
    "# Putting CustID to index\n",
    "y_test_df['Prospect ID'] = y_test_df.index"
   ]
  },
  {
   "cell_type": "code",
   "execution_count": 190,
   "metadata": {
    "execution": {
     "iopub.execute_input": "2023-04-17T13:29:48.419504Z",
     "iopub.status.busy": "2023-04-17T13:29:48.419200Z",
     "iopub.status.idle": "2023-04-17T13:29:48.425341Z",
     "shell.execute_reply": "2023-04-17T13:29:48.424389Z",
     "shell.execute_reply.started": "2023-04-17T13:29:48.419460Z"
    }
   },
   "outputs": [],
   "source": [
    "# Removing index for both dataframes to append them side by side \n",
    "y_pred_1.reset_index(drop=True, inplace=True)\n",
    "y_test_df.reset_index(drop=True, inplace=True)"
   ]
  },
  {
   "cell_type": "code",
   "execution_count": 191,
   "metadata": {
    "execution": {
     "iopub.execute_input": "2023-04-17T13:29:48.427094Z",
     "iopub.status.busy": "2023-04-17T13:29:48.426780Z",
     "iopub.status.idle": "2023-04-17T13:29:48.435493Z",
     "shell.execute_reply": "2023-04-17T13:29:48.434519Z",
     "shell.execute_reply.started": "2023-04-17T13:29:48.427051Z"
    }
   },
   "outputs": [],
   "source": [
    "# Appending y_test_df and y_pred_1\n",
    "y_pred_final = pd.concat([y_test_df, y_pred_1],axis=1)"
   ]
  },
  {
   "cell_type": "code",
   "execution_count": 192,
   "metadata": {
    "execution": {
     "iopub.execute_input": "2023-04-17T13:29:48.437252Z",
     "iopub.status.busy": "2023-04-17T13:29:48.436858Z",
     "iopub.status.idle": "2023-04-17T13:29:48.453999Z",
     "shell.execute_reply": "2023-04-17T13:29:48.452668Z",
     "shell.execute_reply.started": "2023-04-17T13:29:48.437201Z"
    }
   },
   "outputs": [
    {
     "data": {
      "text/html": [
       "<div>\n",
       "<style scoped>\n",
       "    .dataframe tbody tr th:only-of-type {\n",
       "        vertical-align: middle;\n",
       "    }\n",
       "\n",
       "    .dataframe tbody tr th {\n",
       "        vertical-align: top;\n",
       "    }\n",
       "\n",
       "    .dataframe thead th {\n",
       "        text-align: right;\n",
       "    }\n",
       "</style>\n",
       "<table border=\"1\" class=\"dataframe\">\n",
       "  <thead>\n",
       "    <tr style=\"text-align: right;\">\n",
       "      <th></th>\n",
       "      <th>Converted</th>\n",
       "      <th>Prospect ID</th>\n",
       "      <th>0</th>\n",
       "    </tr>\n",
       "  </thead>\n",
       "  <tbody>\n",
       "    <tr>\n",
       "      <th>0</th>\n",
       "      <td>0</td>\n",
       "      <td>7681</td>\n",
       "      <td>0.0260</td>\n",
       "    </tr>\n",
       "    <tr>\n",
       "      <th>1</th>\n",
       "      <td>0</td>\n",
       "      <td>984</td>\n",
       "      <td>0.0295</td>\n",
       "    </tr>\n",
       "    <tr>\n",
       "      <th>2</th>\n",
       "      <td>0</td>\n",
       "      <td>8135</td>\n",
       "      <td>0.4796</td>\n",
       "    </tr>\n",
       "    <tr>\n",
       "      <th>3</th>\n",
       "      <td>0</td>\n",
       "      <td>6915</td>\n",
       "      <td>0.0064</td>\n",
       "    </tr>\n",
       "    <tr>\n",
       "      <th>4</th>\n",
       "      <td>1</td>\n",
       "      <td>2712</td>\n",
       "      <td>0.9511</td>\n",
       "    </tr>\n",
       "  </tbody>\n",
       "</table>\n",
       "</div>"
      ],
      "text/plain": [
       "   Converted  Prospect ID      0\n",
       "0          0         7681 0.0260\n",
       "1          0          984 0.0295\n",
       "2          0         8135 0.4796\n",
       "3          0         6915 0.0064\n",
       "4          1         2712 0.9511"
      ]
     },
     "execution_count": 192,
     "metadata": {},
     "output_type": "execute_result"
    }
   ],
   "source": [
    "y_pred_final.head()"
   ]
  },
  {
   "cell_type": "code",
   "execution_count": 193,
   "metadata": {
    "execution": {
     "iopub.execute_input": "2023-04-17T13:29:48.455972Z",
     "iopub.status.busy": "2023-04-17T13:29:48.455502Z",
     "iopub.status.idle": "2023-04-17T13:29:48.462280Z",
     "shell.execute_reply": "2023-04-17T13:29:48.461047Z",
     "shell.execute_reply.started": "2023-04-17T13:29:48.455925Z"
    }
   },
   "outputs": [],
   "source": [
    "# Renaming the column \n",
    "y_pred_final= y_pred_final.rename(columns={ 0 : 'Converted_prob'})"
   ]
  },
  {
   "cell_type": "code",
   "execution_count": 194,
   "metadata": {
    "execution": {
     "iopub.execute_input": "2023-04-17T13:29:48.463940Z",
     "iopub.status.busy": "2023-04-17T13:29:48.463595Z",
     "iopub.status.idle": "2023-04-17T13:29:48.475237Z",
     "shell.execute_reply": "2023-04-17T13:29:48.474503Z",
     "shell.execute_reply.started": "2023-04-17T13:29:48.463895Z"
    }
   },
   "outputs": [
    {
     "data": {
      "text/html": [
       "<div>\n",
       "<style scoped>\n",
       "    .dataframe tbody tr th:only-of-type {\n",
       "        vertical-align: middle;\n",
       "    }\n",
       "\n",
       "    .dataframe tbody tr th {\n",
       "        vertical-align: top;\n",
       "    }\n",
       "\n",
       "    .dataframe thead th {\n",
       "        text-align: right;\n",
       "    }\n",
       "</style>\n",
       "<table border=\"1\" class=\"dataframe\">\n",
       "  <thead>\n",
       "    <tr style=\"text-align: right;\">\n",
       "      <th></th>\n",
       "      <th>Converted</th>\n",
       "      <th>Prospect ID</th>\n",
       "      <th>Converted_prob</th>\n",
       "    </tr>\n",
       "  </thead>\n",
       "  <tbody>\n",
       "    <tr>\n",
       "      <th>0</th>\n",
       "      <td>0</td>\n",
       "      <td>7681</td>\n",
       "      <td>0.0260</td>\n",
       "    </tr>\n",
       "    <tr>\n",
       "      <th>1</th>\n",
       "      <td>0</td>\n",
       "      <td>984</td>\n",
       "      <td>0.0295</td>\n",
       "    </tr>\n",
       "    <tr>\n",
       "      <th>2</th>\n",
       "      <td>0</td>\n",
       "      <td>8135</td>\n",
       "      <td>0.4796</td>\n",
       "    </tr>\n",
       "    <tr>\n",
       "      <th>3</th>\n",
       "      <td>0</td>\n",
       "      <td>6915</td>\n",
       "      <td>0.0064</td>\n",
       "    </tr>\n",
       "    <tr>\n",
       "      <th>4</th>\n",
       "      <td>1</td>\n",
       "      <td>2712</td>\n",
       "      <td>0.9511</td>\n",
       "    </tr>\n",
       "  </tbody>\n",
       "</table>\n",
       "</div>"
      ],
      "text/plain": [
       "   Converted  Prospect ID  Converted_prob\n",
       "0          0         7681          0.0260\n",
       "1          0          984          0.0295\n",
       "2          0         8135          0.4796\n",
       "3          0         6915          0.0064\n",
       "4          1         2712          0.9511"
      ]
     },
     "execution_count": 194,
     "metadata": {},
     "output_type": "execute_result"
    }
   ],
   "source": [
    "y_pred_final.head()"
   ]
  },
  {
   "cell_type": "code",
   "execution_count": 195,
   "metadata": {
    "execution": {
     "iopub.execute_input": "2023-04-17T13:29:48.476700Z",
     "iopub.status.busy": "2023-04-17T13:29:48.476313Z",
     "iopub.status.idle": "2023-04-17T13:29:48.590646Z",
     "shell.execute_reply": "2023-04-17T13:29:48.589640Z",
     "shell.execute_reply.started": "2023-04-17T13:29:48.476656Z"
    }
   },
   "outputs": [],
   "source": [
    "# Rearranging the columns\n",
    "y_pred_final = y_pred_final[['Prospect ID','Converted','Converted_prob']]\n",
    "y_pred_final['Lead_Score'] = y_pred_final.Converted_prob.map( lambda x: round(x*100))"
   ]
  },
  {
   "cell_type": "code",
   "execution_count": 196,
   "metadata": {
    "execution": {
     "iopub.execute_input": "2023-04-17T13:29:48.591907Z",
     "iopub.status.busy": "2023-04-17T13:29:48.591719Z",
     "iopub.status.idle": "2023-04-17T13:29:48.610627Z",
     "shell.execute_reply": "2023-04-17T13:29:48.609918Z",
     "shell.execute_reply.started": "2023-04-17T13:29:48.591881Z"
    }
   },
   "outputs": [
    {
     "data": {
      "text/html": [
       "<div>\n",
       "<style scoped>\n",
       "    .dataframe tbody tr th:only-of-type {\n",
       "        vertical-align: middle;\n",
       "    }\n",
       "\n",
       "    .dataframe tbody tr th {\n",
       "        vertical-align: top;\n",
       "    }\n",
       "\n",
       "    .dataframe thead th {\n",
       "        text-align: right;\n",
       "    }\n",
       "</style>\n",
       "<table border=\"1\" class=\"dataframe\">\n",
       "  <thead>\n",
       "    <tr style=\"text-align: right;\">\n",
       "      <th></th>\n",
       "      <th>Prospect ID</th>\n",
       "      <th>Converted</th>\n",
       "      <th>Converted_prob</th>\n",
       "      <th>Lead_Score</th>\n",
       "    </tr>\n",
       "  </thead>\n",
       "  <tbody>\n",
       "    <tr>\n",
       "      <th>0</th>\n",
       "      <td>7681</td>\n",
       "      <td>0</td>\n",
       "      <td>0.0260</td>\n",
       "      <td>3</td>\n",
       "    </tr>\n",
       "    <tr>\n",
       "      <th>1</th>\n",
       "      <td>984</td>\n",
       "      <td>0</td>\n",
       "      <td>0.0295</td>\n",
       "      <td>3</td>\n",
       "    </tr>\n",
       "    <tr>\n",
       "      <th>2</th>\n",
       "      <td>8135</td>\n",
       "      <td>0</td>\n",
       "      <td>0.4796</td>\n",
       "      <td>48</td>\n",
       "    </tr>\n",
       "    <tr>\n",
       "      <th>3</th>\n",
       "      <td>6915</td>\n",
       "      <td>0</td>\n",
       "      <td>0.0064</td>\n",
       "      <td>1</td>\n",
       "    </tr>\n",
       "    <tr>\n",
       "      <th>4</th>\n",
       "      <td>2712</td>\n",
       "      <td>1</td>\n",
       "      <td>0.9511</td>\n",
       "      <td>95</td>\n",
       "    </tr>\n",
       "  </tbody>\n",
       "</table>\n",
       "</div>"
      ],
      "text/plain": [
       "   Prospect ID  Converted  Converted_prob  Lead_Score\n",
       "0         7681          0          0.0260           3\n",
       "1          984          0          0.0295           3\n",
       "2         8135          0          0.4796          48\n",
       "3         6915          0          0.0064           1\n",
       "4         2712          1          0.9511          95"
      ]
     },
     "execution_count": 196,
     "metadata": {},
     "output_type": "execute_result"
    }
   ],
   "source": [
    "# Let's see the head of y_pred_final\n",
    "y_pred_final.head()"
   ]
  },
  {
   "cell_type": "code",
   "execution_count": 197,
   "metadata": {
    "execution": {
     "iopub.execute_input": "2023-04-17T13:29:48.611596Z",
     "iopub.status.busy": "2023-04-17T13:29:48.611427Z",
     "iopub.status.idle": "2023-04-17T13:29:48.624028Z",
     "shell.execute_reply": "2023-04-17T13:29:48.623176Z",
     "shell.execute_reply.started": "2023-04-17T13:29:48.611573Z"
    }
   },
   "outputs": [],
   "source": [
    "y_pred_final['final_Predicted'] = y_pred_final.Converted_prob.map(lambda x: 1 if x > 0.3 else 0)"
   ]
  },
  {
   "cell_type": "code",
   "execution_count": 198,
   "metadata": {
    "execution": {
     "iopub.execute_input": "2023-04-17T13:29:48.625341Z",
     "iopub.status.busy": "2023-04-17T13:29:48.625150Z",
     "iopub.status.idle": "2023-04-17T13:29:48.647014Z",
     "shell.execute_reply": "2023-04-17T13:29:48.646268Z",
     "shell.execute_reply.started": "2023-04-17T13:29:48.625317Z"
    }
   },
   "outputs": [
    {
     "data": {
      "text/html": [
       "<div>\n",
       "<style scoped>\n",
       "    .dataframe tbody tr th:only-of-type {\n",
       "        vertical-align: middle;\n",
       "    }\n",
       "\n",
       "    .dataframe tbody tr th {\n",
       "        vertical-align: top;\n",
       "    }\n",
       "\n",
       "    .dataframe thead th {\n",
       "        text-align: right;\n",
       "    }\n",
       "</style>\n",
       "<table border=\"1\" class=\"dataframe\">\n",
       "  <thead>\n",
       "    <tr style=\"text-align: right;\">\n",
       "      <th></th>\n",
       "      <th>Prospect ID</th>\n",
       "      <th>Converted</th>\n",
       "      <th>Converted_prob</th>\n",
       "      <th>Lead_Score</th>\n",
       "      <th>final_Predicted</th>\n",
       "    </tr>\n",
       "  </thead>\n",
       "  <tbody>\n",
       "    <tr>\n",
       "      <th>0</th>\n",
       "      <td>7681</td>\n",
       "      <td>0</td>\n",
       "      <td>0.0260</td>\n",
       "      <td>3</td>\n",
       "      <td>0</td>\n",
       "    </tr>\n",
       "    <tr>\n",
       "      <th>1</th>\n",
       "      <td>984</td>\n",
       "      <td>0</td>\n",
       "      <td>0.0295</td>\n",
       "      <td>3</td>\n",
       "      <td>0</td>\n",
       "    </tr>\n",
       "    <tr>\n",
       "      <th>2</th>\n",
       "      <td>8135</td>\n",
       "      <td>0</td>\n",
       "      <td>0.4796</td>\n",
       "      <td>48</td>\n",
       "      <td>1</td>\n",
       "    </tr>\n",
       "    <tr>\n",
       "      <th>3</th>\n",
       "      <td>6915</td>\n",
       "      <td>0</td>\n",
       "      <td>0.0064</td>\n",
       "      <td>1</td>\n",
       "      <td>0</td>\n",
       "    </tr>\n",
       "    <tr>\n",
       "      <th>4</th>\n",
       "      <td>2712</td>\n",
       "      <td>1</td>\n",
       "      <td>0.9511</td>\n",
       "      <td>95</td>\n",
       "      <td>1</td>\n",
       "    </tr>\n",
       "  </tbody>\n",
       "</table>\n",
       "</div>"
      ],
      "text/plain": [
       "   Prospect ID  Converted  Converted_prob  Lead_Score  final_Predicted\n",
       "0         7681          0          0.0260           3                0\n",
       "1          984          0          0.0295           3                0\n",
       "2         8135          0          0.4796          48                1\n",
       "3         6915          0          0.0064           1                0\n",
       "4         2712          1          0.9511          95                1"
      ]
     },
     "execution_count": 198,
     "metadata": {},
     "output_type": "execute_result"
    }
   ],
   "source": [
    "y_pred_final.head()"
   ]
  },
  {
   "cell_type": "code",
   "execution_count": 199,
   "metadata": {
    "execution": {
     "iopub.execute_input": "2023-04-17T13:29:48.648537Z",
     "iopub.status.busy": "2023-04-17T13:29:48.648323Z",
     "iopub.status.idle": "2023-04-17T13:29:48.656292Z",
     "shell.execute_reply": "2023-04-17T13:29:48.655658Z",
     "shell.execute_reply.started": "2023-04-17T13:29:48.648497Z"
    }
   },
   "outputs": [
    {
     "data": {
      "text/plain": [
       "0.9281459419210722"
      ]
     },
     "execution_count": 199,
     "metadata": {},
     "output_type": "execute_result"
    }
   ],
   "source": [
    "# Let's check the overall accuracy.\n",
    "metrics.accuracy_score(y_pred_final.Converted, y_pred_final.final_Predicted)"
   ]
  },
  {
   "cell_type": "code",
   "execution_count": 200,
   "metadata": {
    "execution": {
     "iopub.execute_input": "2023-04-17T13:29:48.657418Z",
     "iopub.status.busy": "2023-04-17T13:29:48.657245Z",
     "iopub.status.idle": "2023-04-17T13:29:48.672683Z",
     "shell.execute_reply": "2023-04-17T13:29:48.672002Z",
     "shell.execute_reply.started": "2023-04-17T13:29:48.657394Z"
    }
   },
   "outputs": [
    {
     "data": {
      "text/plain": [
       "array([[1565,  111],\n",
       "       [  82,  928]])"
      ]
     },
     "execution_count": 200,
     "metadata": {},
     "output_type": "execute_result"
    }
   ],
   "source": [
    "confusion4 = metrics.confusion_matrix(y_pred_final.Converted, y_pred_final.final_Predicted )\n",
    "confusion4"
   ]
  },
  {
   "cell_type": "code",
   "execution_count": 201,
   "metadata": {
    "execution": {
     "iopub.execute_input": "2023-04-17T13:29:48.673674Z",
     "iopub.status.busy": "2023-04-17T13:29:48.673507Z",
     "iopub.status.idle": "2023-04-17T13:29:48.682379Z",
     "shell.execute_reply": "2023-04-17T13:29:48.681288Z",
     "shell.execute_reply.started": "2023-04-17T13:29:48.673651Z"
    }
   },
   "outputs": [],
   "source": [
    "TP = confusion4[1,1] # true positive \n",
    "TN = confusion4[0,0] # true negatives\n",
    "FP = confusion4[0,1] # false positives\n",
    "FN = confusion4[1,0] # false negatives"
   ]
  },
  {
   "cell_type": "code",
   "execution_count": 202,
   "metadata": {
    "execution": {
     "iopub.execute_input": "2023-04-17T13:29:48.683334Z",
     "iopub.status.busy": "2023-04-17T13:29:48.683164Z",
     "iopub.status.idle": "2023-04-17T13:29:48.695851Z",
     "shell.execute_reply": "2023-04-17T13:29:48.695002Z",
     "shell.execute_reply.started": "2023-04-17T13:29:48.683310Z"
    }
   },
   "outputs": [
    {
     "data": {
      "text/plain": [
       "0.9188118811881189"
      ]
     },
     "execution_count": 202,
     "metadata": {},
     "output_type": "execute_result"
    }
   ],
   "source": [
    "# Let's see the sensitivity of our logistic regression model\n",
    "TP / float(TP+FN)"
   ]
  },
  {
   "cell_type": "code",
   "execution_count": 203,
   "metadata": {
    "execution": {
     "iopub.execute_input": "2023-04-17T13:29:48.696816Z",
     "iopub.status.busy": "2023-04-17T13:29:48.696648Z",
     "iopub.status.idle": "2023-04-17T13:29:48.706732Z",
     "shell.execute_reply": "2023-04-17T13:29:48.705854Z",
     "shell.execute_reply.started": "2023-04-17T13:29:48.696793Z"
    }
   },
   "outputs": [
    {
     "data": {
      "text/plain": [
       "0.9337708830548926"
      ]
     },
     "execution_count": 203,
     "metadata": {},
     "output_type": "execute_result"
    }
   ],
   "source": [
    "# Let us calculate specificity\n",
    "TN / float(TN+FP)"
   ]
  },
  {
   "cell_type": "code",
   "execution_count": 204,
   "metadata": {
    "execution": {
     "iopub.execute_input": "2023-04-17T13:29:48.708025Z",
     "iopub.status.busy": "2023-04-17T13:29:48.707820Z",
     "iopub.status.idle": "2023-04-17T13:29:48.721930Z",
     "shell.execute_reply": "2023-04-17T13:29:48.721141Z",
     "shell.execute_reply.started": "2023-04-17T13:29:48.707985Z"
    }
   },
   "outputs": [
    {
     "data": {
      "text/plain": [
       "0.8931665062560153"
      ]
     },
     "execution_count": 204,
     "metadata": {},
     "output_type": "execute_result"
    }
   ],
   "source": [
    "# Precision\n",
    "precision_score(y_pred_final.Converted , y_pred_final.final_Predicted)"
   ]
  },
  {
   "cell_type": "code",
   "execution_count": 205,
   "metadata": {
    "execution": {
     "iopub.execute_input": "2023-04-17T13:29:48.723128Z",
     "iopub.status.busy": "2023-04-17T13:29:48.722934Z",
     "iopub.status.idle": "2023-04-17T13:29:48.734829Z",
     "shell.execute_reply": "2023-04-17T13:29:48.734117Z",
     "shell.execute_reply.started": "2023-04-17T13:29:48.723103Z"
    }
   },
   "outputs": [
    {
     "data": {
      "text/plain": [
       "0.9188118811881189"
      ]
     },
     "execution_count": 205,
     "metadata": {},
     "output_type": "execute_result"
    }
   ],
   "source": [
    "# recall\n",
    "recall_score(y_pred_final.Converted, y_pred_final.final_Predicted)"
   ]
  },
  {
   "cell_type": "markdown",
   "metadata": {},
   "source": [
    "<div class=\"alert alert-block alert-info\"><b>Inference</b>\n",
    "<br>After running the model on the Test Data these are the figures we obtain:\n",
    "<li> Accuracy : 92.88% </li>\n",
    "<li> Sensitivity : 91.696% </li>\n",
    "<li> Specificity : 92.76% </li>\n",
    "\n",
    "</div>"
   ]
  },
  {
   "cell_type": "markdown",
   "metadata": {},
   "source": [
    "<div class=\"alert alert-block alert-info\"><b>Final Observation:</b>\n",
    "Let us compare the values obtained for Train & Test:<br><br>\n",
    "    <b> Train Data: </b>       \n",
    "    <li>Accuracy : 92.88%</li><li>Sensitivity : 91.82%</li><li>Specificity : 93.53%</li>    \n",
    "    <br> <b>Test Data :</b>\n",
    "<li> Accuracy : 92.88% </li>\n",
    "<li> Sensitivity : 91.696% </li>\n",
    "<li> Specificity : 92.76% </li>\n",
    "\n",
    "</div>"
   ]
  },
  {
   "cell_type": "markdown",
   "metadata": {},
   "source": [
    "### The Model seems to predict the Conversion Rate in both train and test sets very well and we should be able to give the CEO confidence in making good calls based on this model."
   ]
  },
  {
   "cell_type": "markdown",
   "metadata": {
    "execution": {
     "iopub.execute_input": "2023-04-17T13:29:48.735837Z",
     "iopub.status.busy": "2023-04-17T13:29:48.735669Z",
     "iopub.status.idle": "2023-04-17T13:29:48.927678Z",
     "shell.execute_reply": "2023-04-17T13:29:48.746469Z",
     "shell.execute_reply.started": "2023-04-17T13:29:48.735814Z"
    }
   },
   "source": [
    "\n",
    "\n",
    "In seasons when the company hires interns and has high manpower and aims to make the lead conversion more aggressive, the company may contact all the leads which have a conversion probability (value = 1) under a cut off 0.3 .\n",
    "From business knowledge perspective, to achieve maximum conversion, phone calls must be done to the all the people with a lead score from 40 to 100 and primarily if: \n",
    "<li>They spend a lot of time in the website and this can be done by making the website interesting and thus bringing them back to the site. \n",
    "<li>They are seen coming back to the website repeatedly \n",
    "<li>Their last activity is through SMS or through Olark chat conversation \n",
    "<li>They are working professionals \n",
    "\n",
    "\n",
    "Similarly, whne the company reaches its target for a quarter before a deadline and wants to focus on some new work, they need to minimize the rate of useless phojne calls.\n",
    "In this case, they can choose a higher threshold value for Conversion Probability and may contact all the leads which have a conversion probabilty (value = 1 highlighted in yellow color) under column 0.7. However, the flipside here would be that, we may miss out on those leads that are actually converted but then the model wrongly predicted them as not converted.\n",
    "From the business perspective, the company need to focus more on hot leads with probability score higher than 90 and other methods like automated emails and SMS. This way manual calling won’t be required unless it is an emergency. The above strategy can be used but with the customers that have a very high chance of buying the course."
   ]
  },
  {
   "cell_type": "markdown",
   "metadata": {},
   "source": [
    "## <a id=\"32\">7. Final Inference</a>\n",
    "<div class=\"alert alert-block alert-info\">\n",
    " <b>Top Three Variables</b><br><i>\n",
    "Based on the coefficient values from the final model, the following are the top three variables that contribute most towards the probability of a lead getting converted :\n",
    "<li>Tags_Closed by Horizzon</li>\n",
    "<li>Tags_Lost to EINS</li>\n",
    "<li>Tags_Will revert after reading the email</li>\n",
    "    <br> There is a high conversion rate on leads closed by Horizzon or lost to EINS, but the total number of leads acquired throughthese channels, are pretty low. Company should focus on reaching more prospects here. Also prospects who have committed to revert after reading the email, are more likely to convert to actually paying customers. So the company can follow up on them in a more diligent way.<br> <br> \n",
    "     <b> Other Observations and Suggestions</b><br><i>From the EDAsteps , we have also observed that :    \n",
    "    <li>There is a very high conversion rate of leads coming through Welingak website, but again the number of leads acquired here is low. Company needs to promote more here</li>\n",
    "    <li>A huge portion of leads come from the Unemployed section with  a not so great converison rate. Company can think of providing discounts or scholarships to lure them</li>\n",
    "    <li>Working professionals have a good chance of converison. Company can tryto increase the revenue form this channel as well</li>\n",
    "    <li>Almost everyone opting for the courses are doing so, for better job prospects and many of them ar eunemployed too. So good job placement aid will facilitate the conversion</li>\n",
    "    <li>People spending more time on the website, are more likely to get converted. So the website should be made more engaging and informative.</li>\n",
    "    <li>SMS and emails are the most successfu ways of communication and should be prioritised</li>\n",
    "    </i>      \n",
    "<br><b>Business Strategies:</b><i>\n",
    "    <br> In seasons when the company hires interns and has high manpower and aims to make the lead conversion more aggressive, the company may contact all the leads which have a conversion probability (value = 1) under a cut off 0.3 .\n",
    "From business knowledge perspective, to achieve maximum conversion, phone calls must be done to the all the people with a lead score from 40 to 100 and primarily if: \n",
    "<li>They spend a lot of time in the website and this can be done by making the website interesting and thus bringing them back to the site. \n",
    "<li>They are seen coming back to the website repeatedly \n",
    "<li>Their last activity is through SMS or through Olark chat conversation \n",
    "<li>They are working professionals <br>\n",
    " <br> Similarly, whne the company reaches its target for a quarter before a deadline and wants to focus on some new work, they need to minimize the rate of useless phojne calls.\n",
    "In this case, they can choose a higher threshold value for Conversion Probability and may contact all the leads which have a conversion probabilty (value = 1 highlighted in yellow color) under column 0.7. However, the flipside here would be that, we may miss out on those leads that are actually converted but then the model wrongly predicted them as not converted.\n",
    "From the business perspective, the company need to focus more on hot leads with probability score higher than 90 and other methods like automated emails and SMS. This way manual calling won’t be required unless it is an emergency. The above strategy can be used but with the customers that have a very high chance of buying the course.<br>  \n"
   ]
  },
  {
   "cell_type": "code",
   "execution_count": null,
   "metadata": {},
   "outputs": [],
   "source": []
  }
 ],
 "metadata": {
  "kernelspec": {
   "display_name": "Python3",
   "language": "python",
   "name": "Python3"
  },
  "language_info": {
   "codemirror_mode": {
    "name": "ipython",
    "version": 3
   },
   "file_extension": ".py",
   "mimetype": "text/x-python",
   "name": "python",
   "nbconvert_exporter": "python",
   "pygments_lexer": "ipython3",
   "version": "3.5.2"
  }
 },
 "nbformat": 4,
 "nbformat_minor": 4
}
